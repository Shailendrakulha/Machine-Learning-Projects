{
 "cells": [
  {
   "cell_type": "code",
   "execution_count": 320,
   "id": "22820646",
   "metadata": {},
   "outputs": [],
   "source": [
    "import os\n",
    "import numpy as np\n",
    "import pandas as pd\n",
    "import matplotlib.pyplot as plt\n",
    "import seaborn as sns"
   ]
  },
  {
   "cell_type": "code",
   "execution_count": 321,
   "id": "27fae444",
   "metadata": {},
   "outputs": [
    {
     "data": {
      "text/plain": [
       "'E:\\\\NewDataForML'"
      ]
     },
     "execution_count": 321,
     "metadata": {},
     "output_type": "execute_result"
    }
   ],
   "source": [
    "os.getcwd()"
   ]
  },
  {
   "cell_type": "code",
   "execution_count": 322,
   "id": "eb4797c3",
   "metadata": {},
   "outputs": [],
   "source": [
    "os.chdir(\"E:\\\\NewDataForML\")"
   ]
  },
  {
   "cell_type": "code",
   "execution_count": 323,
   "id": "f78e8bba",
   "metadata": {},
   "outputs": [
    {
     "data": {
      "text/plain": [
       "['car data.csv']"
      ]
     },
     "execution_count": 323,
     "metadata": {},
     "output_type": "execute_result"
    }
   ],
   "source": [
    "os.listdir()"
   ]
  },
  {
   "cell_type": "code",
   "execution_count": 324,
   "id": "7e62e258",
   "metadata": {},
   "outputs": [],
   "source": [
    "df=pd.read_csv(\"car data.csv\")"
   ]
  },
  {
   "cell_type": "code",
   "execution_count": 325,
   "id": "d63d6752",
   "metadata": {},
   "outputs": [
    {
     "data": {
      "text/html": [
       "<div>\n",
       "<style scoped>\n",
       "    .dataframe tbody tr th:only-of-type {\n",
       "        vertical-align: middle;\n",
       "    }\n",
       "\n",
       "    .dataframe tbody tr th {\n",
       "        vertical-align: top;\n",
       "    }\n",
       "\n",
       "    .dataframe thead th {\n",
       "        text-align: right;\n",
       "    }\n",
       "</style>\n",
       "<table border=\"1\" class=\"dataframe\">\n",
       "  <thead>\n",
       "    <tr style=\"text-align: right;\">\n",
       "      <th></th>\n",
       "      <th>Car_Name</th>\n",
       "      <th>Year</th>\n",
       "      <th>Selling_Price</th>\n",
       "      <th>Present_Price</th>\n",
       "      <th>Kms_Driven</th>\n",
       "      <th>Fuel_Type</th>\n",
       "      <th>Seller_Type</th>\n",
       "      <th>Transmission</th>\n",
       "      <th>Owner</th>\n",
       "    </tr>\n",
       "  </thead>\n",
       "  <tbody>\n",
       "    <tr>\n",
       "      <th>0</th>\n",
       "      <td>ritz</td>\n",
       "      <td>2014</td>\n",
       "      <td>3.35</td>\n",
       "      <td>5.59</td>\n",
       "      <td>27000</td>\n",
       "      <td>Petrol</td>\n",
       "      <td>Dealer</td>\n",
       "      <td>Manual</td>\n",
       "      <td>0</td>\n",
       "    </tr>\n",
       "    <tr>\n",
       "      <th>1</th>\n",
       "      <td>sx4</td>\n",
       "      <td>2013</td>\n",
       "      <td>4.75</td>\n",
       "      <td>9.54</td>\n",
       "      <td>43000</td>\n",
       "      <td>Diesel</td>\n",
       "      <td>Dealer</td>\n",
       "      <td>Manual</td>\n",
       "      <td>0</td>\n",
       "    </tr>\n",
       "    <tr>\n",
       "      <th>2</th>\n",
       "      <td>ciaz</td>\n",
       "      <td>2017</td>\n",
       "      <td>7.25</td>\n",
       "      <td>9.85</td>\n",
       "      <td>6900</td>\n",
       "      <td>Petrol</td>\n",
       "      <td>Dealer</td>\n",
       "      <td>Manual</td>\n",
       "      <td>0</td>\n",
       "    </tr>\n",
       "    <tr>\n",
       "      <th>3</th>\n",
       "      <td>wagon r</td>\n",
       "      <td>2011</td>\n",
       "      <td>2.85</td>\n",
       "      <td>4.15</td>\n",
       "      <td>5200</td>\n",
       "      <td>Petrol</td>\n",
       "      <td>Dealer</td>\n",
       "      <td>Manual</td>\n",
       "      <td>0</td>\n",
       "    </tr>\n",
       "    <tr>\n",
       "      <th>4</th>\n",
       "      <td>swift</td>\n",
       "      <td>2014</td>\n",
       "      <td>4.60</td>\n",
       "      <td>6.87</td>\n",
       "      <td>42450</td>\n",
       "      <td>Diesel</td>\n",
       "      <td>Dealer</td>\n",
       "      <td>Manual</td>\n",
       "      <td>0</td>\n",
       "    </tr>\n",
       "    <tr>\n",
       "      <th>...</th>\n",
       "      <td>...</td>\n",
       "      <td>...</td>\n",
       "      <td>...</td>\n",
       "      <td>...</td>\n",
       "      <td>...</td>\n",
       "      <td>...</td>\n",
       "      <td>...</td>\n",
       "      <td>...</td>\n",
       "      <td>...</td>\n",
       "    </tr>\n",
       "    <tr>\n",
       "      <th>296</th>\n",
       "      <td>city</td>\n",
       "      <td>2016</td>\n",
       "      <td>9.50</td>\n",
       "      <td>11.60</td>\n",
       "      <td>33988</td>\n",
       "      <td>Diesel</td>\n",
       "      <td>Dealer</td>\n",
       "      <td>Manual</td>\n",
       "      <td>0</td>\n",
       "    </tr>\n",
       "    <tr>\n",
       "      <th>297</th>\n",
       "      <td>brio</td>\n",
       "      <td>2015</td>\n",
       "      <td>4.00</td>\n",
       "      <td>5.90</td>\n",
       "      <td>60000</td>\n",
       "      <td>Petrol</td>\n",
       "      <td>Dealer</td>\n",
       "      <td>Manual</td>\n",
       "      <td>0</td>\n",
       "    </tr>\n",
       "    <tr>\n",
       "      <th>298</th>\n",
       "      <td>city</td>\n",
       "      <td>2009</td>\n",
       "      <td>3.35</td>\n",
       "      <td>11.00</td>\n",
       "      <td>87934</td>\n",
       "      <td>Petrol</td>\n",
       "      <td>Dealer</td>\n",
       "      <td>Manual</td>\n",
       "      <td>0</td>\n",
       "    </tr>\n",
       "    <tr>\n",
       "      <th>299</th>\n",
       "      <td>city</td>\n",
       "      <td>2017</td>\n",
       "      <td>11.50</td>\n",
       "      <td>12.50</td>\n",
       "      <td>9000</td>\n",
       "      <td>Diesel</td>\n",
       "      <td>Dealer</td>\n",
       "      <td>Manual</td>\n",
       "      <td>0</td>\n",
       "    </tr>\n",
       "    <tr>\n",
       "      <th>300</th>\n",
       "      <td>brio</td>\n",
       "      <td>2016</td>\n",
       "      <td>5.30</td>\n",
       "      <td>5.90</td>\n",
       "      <td>5464</td>\n",
       "      <td>Petrol</td>\n",
       "      <td>Dealer</td>\n",
       "      <td>Manual</td>\n",
       "      <td>0</td>\n",
       "    </tr>\n",
       "  </tbody>\n",
       "</table>\n",
       "<p>301 rows × 9 columns</p>\n",
       "</div>"
      ],
      "text/plain": [
       "    Car_Name  Year  Selling_Price  Present_Price  Kms_Driven Fuel_Type  \\\n",
       "0       ritz  2014           3.35           5.59       27000    Petrol   \n",
       "1        sx4  2013           4.75           9.54       43000    Diesel   \n",
       "2       ciaz  2017           7.25           9.85        6900    Petrol   \n",
       "3    wagon r  2011           2.85           4.15        5200    Petrol   \n",
       "4      swift  2014           4.60           6.87       42450    Diesel   \n",
       "..       ...   ...            ...            ...         ...       ...   \n",
       "296     city  2016           9.50          11.60       33988    Diesel   \n",
       "297     brio  2015           4.00           5.90       60000    Petrol   \n",
       "298     city  2009           3.35          11.00       87934    Petrol   \n",
       "299     city  2017          11.50          12.50        9000    Diesel   \n",
       "300     brio  2016           5.30           5.90        5464    Petrol   \n",
       "\n",
       "    Seller_Type Transmission  Owner  \n",
       "0        Dealer       Manual      0  \n",
       "1        Dealer       Manual      0  \n",
       "2        Dealer       Manual      0  \n",
       "3        Dealer       Manual      0  \n",
       "4        Dealer       Manual      0  \n",
       "..          ...          ...    ...  \n",
       "296      Dealer       Manual      0  \n",
       "297      Dealer       Manual      0  \n",
       "298      Dealer       Manual      0  \n",
       "299      Dealer       Manual      0  \n",
       "300      Dealer       Manual      0  \n",
       "\n",
       "[301 rows x 9 columns]"
      ]
     },
     "execution_count": 325,
     "metadata": {},
     "output_type": "execute_result"
    }
   ],
   "source": [
    "df"
   ]
  },
  {
   "cell_type": "code",
   "execution_count": 326,
   "id": "3527c0c1",
   "metadata": {},
   "outputs": [
    {
     "data": {
      "text/plain": [
       "(301, 9)"
      ]
     },
     "execution_count": 326,
     "metadata": {},
     "output_type": "execute_result"
    }
   ],
   "source": [
    "df.shape"
   ]
  },
  {
   "cell_type": "code",
   "execution_count": 327,
   "id": "b95108ee",
   "metadata": {},
   "outputs": [
    {
     "data": {
      "text/plain": [
       "Car_Name         0\n",
       "Year             0\n",
       "Selling_Price    0\n",
       "Present_Price    0\n",
       "Kms_Driven       0\n",
       "Fuel_Type        0\n",
       "Seller_Type      0\n",
       "Transmission     0\n",
       "Owner            0\n",
       "dtype: int64"
      ]
     },
     "execution_count": 327,
     "metadata": {},
     "output_type": "execute_result"
    }
   ],
   "source": [
    "df.isnull().sum()"
   ]
  },
  {
   "cell_type": "code",
   "execution_count": 328,
   "id": "39e9c9f5",
   "metadata": {},
   "outputs": [
    {
     "name": "stdout",
     "output_type": "stream",
     "text": [
      "<class 'pandas.core.frame.DataFrame'>\n",
      "RangeIndex: 301 entries, 0 to 300\n",
      "Data columns (total 9 columns):\n",
      " #   Column         Non-Null Count  Dtype  \n",
      "---  ------         --------------  -----  \n",
      " 0   Car_Name       301 non-null    object \n",
      " 1   Year           301 non-null    int64  \n",
      " 2   Selling_Price  301 non-null    float64\n",
      " 3   Present_Price  301 non-null    float64\n",
      " 4   Kms_Driven     301 non-null    int64  \n",
      " 5   Fuel_Type      301 non-null    object \n",
      " 6   Seller_Type    301 non-null    object \n",
      " 7   Transmission   301 non-null    object \n",
      " 8   Owner          301 non-null    int64  \n",
      "dtypes: float64(2), int64(3), object(4)\n",
      "memory usage: 21.3+ KB\n"
     ]
    }
   ],
   "source": [
    "df.info()"
   ]
  },
  {
   "cell_type": "code",
   "execution_count": 329,
   "id": "370abc92",
   "metadata": {},
   "outputs": [],
   "source": [
    "df.drop(columns=['Car_Name'],inplace=True) # droping car_name as it is a identifier"
   ]
  },
  {
   "cell_type": "code",
   "execution_count": 330,
   "id": "a6b18d8a",
   "metadata": {},
   "outputs": [
    {
     "data": {
      "text/plain": [
       "(301, 8)"
      ]
     },
     "execution_count": 330,
     "metadata": {},
     "output_type": "execute_result"
    }
   ],
   "source": [
    "df.shape"
   ]
  },
  {
   "cell_type": "markdown",
   "id": "7028e489",
   "metadata": {},
   "source": [
    "### EDA\n",
    "\n",
    "* Univariate Analysis"
   ]
  },
  {
   "cell_type": "code",
   "execution_count": 331,
   "id": "aa78ad41",
   "metadata": {},
   "outputs": [],
   "source": [
    "def univariate_cat(x):\n",
    "    missing=x.isnull().sum()\n",
    "    unique_cnt=x.nunique()\n",
    "    unique_cat=list(x.unique())\n",
    "    print(f\"Total missing values : {missing}\\n\")\n",
    "    print(f\"Total count of unique categories: {unique_cnt}\\n\")\n",
    "    print(f\"Unique categories :\\n{unique_cat}\")"
   ]
  },
  {
   "cell_type": "code",
   "execution_count": 332,
   "id": "93072e80",
   "metadata": {},
   "outputs": [
    {
     "name": "stdout",
     "output_type": "stream",
     "text": [
      "Total missing values : 0\n",
      "\n",
      "Total count of unique categories: 3\n",
      "\n",
      "Unique categories :\n",
      "['Petrol', 'Diesel', 'CNG']\n"
     ]
    }
   ],
   "source": [
    "univariate_cat(df['Fuel_Type'])"
   ]
  },
  {
   "cell_type": "code",
   "execution_count": 333,
   "id": "e58416bd",
   "metadata": {},
   "outputs": [
    {
     "name": "stdout",
     "output_type": "stream",
     "text": [
      "Total missing values : 0\n",
      "\n",
      "Total count of unique categories: 2\n",
      "\n",
      "Unique categories :\n",
      "['Dealer', 'Individual']\n"
     ]
    }
   ],
   "source": [
    "univariate_cat(df['Seller_Type'])"
   ]
  },
  {
   "cell_type": "code",
   "execution_count": 334,
   "id": "9dcbdd81",
   "metadata": {},
   "outputs": [
    {
     "name": "stdout",
     "output_type": "stream",
     "text": [
      "Total missing values : 0\n",
      "\n",
      "Total count of unique categories: 2\n",
      "\n",
      "Unique categories :\n",
      "['Manual', 'Automatic']\n"
     ]
    }
   ],
   "source": [
    "univariate_cat(df['Transmission'])"
   ]
  },
  {
   "cell_type": "markdown",
   "id": "c9559456",
   "metadata": {},
   "source": [
    "* As we can observe there are no missing values in Object type variables therefore no need to do Missing Value Treatment"
   ]
  },
  {
   "cell_type": "markdown",
   "id": "cdea6674",
   "metadata": {},
   "source": [
    "### Outlier checking\n",
    "\n",
    "* we are now checking for outlier in numerical type variables "
   ]
  },
  {
   "cell_type": "code",
   "execution_count": 335,
   "id": "9090688c",
   "metadata": {},
   "outputs": [],
   "source": [
    "def univariate_num(data,x):\n",
    "    missing=x.isnull().sum()\n",
    "    min1=round(x.min(), 2)\n",
    "    max1=round(x.max(), 2)\n",
    "    mean=round(x.mean(), 2)\n",
    "    var=round(x.var(), 2)\n",
    "    std=round(x.std(),2)\n",
    "    range1=round(max1-min1, 2)\n",
    "    q1=round(x.quantile(.25), 2)\n",
    "    q2=round(x.quantile(.5),2)\n",
    "    q3=round(x.quantile(.75), 2)\n",
    "    skew=round( x.skew(), 2)\n",
    "    kurt=round(x.kurt(), 2)\n",
    "    myvalue={\"missing\":missing, \"min\":min1, \"max\":max1, \"mean\":mean,\n",
    "             \"var\":var,\"std\":std, \"range\":range1,\"q1\":q1, \"q2\":q2,\"q3\":q3,\n",
    "            \"skewness\":skew, \"kurtosis\":kurt}\n",
    "    sns.histplot(x)\n",
    "    plt.show()\n",
    "    sns.boxplot(data=df, y=x)\n",
    "    plt.show()\n",
    "    return myvalue"
   ]
  },
  {
   "cell_type": "code",
   "execution_count": 336,
   "id": "fda5f394",
   "metadata": {},
   "outputs": [
    {
     "data": {
      "image/png": "[encoded data removed]",
      "text/plain": [
       "<Figure size 432x288 with 1 Axes>"
      ]
     },
     "metadata": {
      "needs_background": "light"
     },
     "output_type": "display_data"
    },
    {
     "data": {
      "image/png": "[encoded data removed]",
      "text/plain": [
       "<Figure size 432x288 with 1 Axes>"
      ]
     },
     "metadata": {
      "needs_background": "light"
     },
     "output_type": "display_data"
    },
    {
     "data": {
      "text/plain": [
       "{'missing': 0,\n",
       " 'min': 500,\n",
       " 'max': 500000,\n",
       " 'mean': 36947.21,\n",
       " 'var': 1512189738.06,\n",
       " 'std': 38886.88,\n",
       " 'range': 499500,\n",
       " 'q1': 15000.0,\n",
       " 'q2': 32000.0,\n",
       " 'q3': 48767.0,\n",
       " 'skewness': 6.44,\n",
       " 'kurtosis': 68.56}"
      ]
     },
     "execution_count": 336,
     "metadata": {},
     "output_type": "execute_result"
    }
   ],
   "source": [
    "univariate_num(df,df[\"Kms_Driven\"])"
   ]
  },
  {
   "cell_type": "code",
   "execution_count": 337,
   "id": "bb1a746a",
   "metadata": {},
   "outputs": [
    {
     "data": {
      "text/html": [
       "<div>\n",
       "<style scoped>\n",
       "    .dataframe tbody tr th:only-of-type {\n",
       "        vertical-align: middle;\n",
       "    }\n",
       "\n",
       "    .dataframe tbody tr th {\n",
       "        vertical-align: top;\n",
       "    }\n",
       "\n",
       "    .dataframe thead th {\n",
       "        text-align: right;\n",
       "    }\n",
       "</style>\n",
       "<table border=\"1\" class=\"dataframe\">\n",
       "  <thead>\n",
       "    <tr style=\"text-align: right;\">\n",
       "      <th></th>\n",
       "      <th>Year</th>\n",
       "      <th>Selling_Price</th>\n",
       "      <th>Present_Price</th>\n",
       "      <th>Kms_Driven</th>\n",
       "      <th>Owner</th>\n",
       "    </tr>\n",
       "  </thead>\n",
       "  <tbody>\n",
       "    <tr>\n",
       "      <th>count</th>\n",
       "      <td>301.000000</td>\n",
       "      <td>301.000000</td>\n",
       "      <td>301.000000</td>\n",
       "      <td>301.000000</td>\n",
       "      <td>301.000000</td>\n",
       "    </tr>\n",
       "    <tr>\n",
       "      <th>mean</th>\n",
       "      <td>2013.627907</td>\n",
       "      <td>4.661296</td>\n",
       "      <td>7.628472</td>\n",
       "      <td>36947.205980</td>\n",
       "      <td>0.043189</td>\n",
       "    </tr>\n",
       "    <tr>\n",
       "      <th>std</th>\n",
       "      <td>2.891554</td>\n",
       "      <td>5.082812</td>\n",
       "      <td>8.644115</td>\n",
       "      <td>38886.883882</td>\n",
       "      <td>0.247915</td>\n",
       "    </tr>\n",
       "    <tr>\n",
       "      <th>min</th>\n",
       "      <td>2003.000000</td>\n",
       "      <td>0.100000</td>\n",
       "      <td>0.320000</td>\n",
       "      <td>500.000000</td>\n",
       "      <td>0.000000</td>\n",
       "    </tr>\n",
       "    <tr>\n",
       "      <th>25%</th>\n",
       "      <td>2012.000000</td>\n",
       "      <td>0.900000</td>\n",
       "      <td>1.200000</td>\n",
       "      <td>15000.000000</td>\n",
       "      <td>0.000000</td>\n",
       "    </tr>\n",
       "    <tr>\n",
       "      <th>50%</th>\n",
       "      <td>2014.000000</td>\n",
       "      <td>3.600000</td>\n",
       "      <td>6.400000</td>\n",
       "      <td>32000.000000</td>\n",
       "      <td>0.000000</td>\n",
       "    </tr>\n",
       "    <tr>\n",
       "      <th>75%</th>\n",
       "      <td>2016.000000</td>\n",
       "      <td>6.000000</td>\n",
       "      <td>9.900000</td>\n",
       "      <td>48767.000000</td>\n",
       "      <td>0.000000</td>\n",
       "    </tr>\n",
       "    <tr>\n",
       "      <th>max</th>\n",
       "      <td>2018.000000</td>\n",
       "      <td>35.000000</td>\n",
       "      <td>92.600000</td>\n",
       "      <td>500000.000000</td>\n",
       "      <td>3.000000</td>\n",
       "    </tr>\n",
       "  </tbody>\n",
       "</table>\n",
       "</div>"
      ],
      "text/plain": [
       "              Year  Selling_Price  Present_Price     Kms_Driven       Owner\n",
       "count   301.000000     301.000000     301.000000     301.000000  301.000000\n",
       "mean   2013.627907       4.661296       7.628472   36947.205980    0.043189\n",
       "std       2.891554       5.082812       8.644115   38886.883882    0.247915\n",
       "min    2003.000000       0.100000       0.320000     500.000000    0.000000\n",
       "25%    2012.000000       0.900000       1.200000   15000.000000    0.000000\n",
       "50%    2014.000000       3.600000       6.400000   32000.000000    0.000000\n",
       "75%    2016.000000       6.000000       9.900000   48767.000000    0.000000\n",
       "max    2018.000000      35.000000      92.600000  500000.000000    3.000000"
      ]
     },
     "execution_count": 337,
     "metadata": {},
     "output_type": "execute_result"
    }
   ],
   "source": [
    "df.describe()"
   ]
  },
  {
   "cell_type": "code",
   "execution_count": 338,
   "id": "37a253b5",
   "metadata": {},
   "outputs": [
    {
     "data": {
      "image/png": "[encoded data removed]",
      "text/plain": [
       "<Figure size 432x288 with 1 Axes>"
      ]
     },
     "metadata": {
      "needs_background": "light"
     },
     "output_type": "display_data"
    },
    {
     "data": {
      "image/png": "[encoded data removed]",
      "text/plain": [
       "<Figure size 432x288 with 1 Axes>"
      ]
     },
     "metadata": {
      "needs_background": "light"
     },
     "output_type": "display_data"
    },
    {
     "data": {
      "text/plain": [
       "{'missing': 0,\n",
       " 'min': 0.1,\n",
       " 'max': 35.0,\n",
       " 'mean': 4.66,\n",
       " 'var': 25.83,\n",
       " 'std': 5.08,\n",
       " 'range': 34.9,\n",
       " 'q1': 0.9,\n",
       " 'q2': 3.6,\n",
       " 'q3': 6.0,\n",
       " 'skewness': 2.49,\n",
       " 'kurtosis': 8.9}"
      ]
     },
     "execution_count": 338,
     "metadata": {},
     "output_type": "execute_result"
    }
   ],
   "source": [
    "univariate_num(df,df[\"Selling_Price\"])"
   ]
  },
  {
   "cell_type": "code",
   "execution_count": 339,
   "id": "fb122ff2",
   "metadata": {},
   "outputs": [
    {
     "data": {
      "image/png": "[encoded data removed]",
      "text/plain": [
       "<Figure size 432x288 with 1 Axes>"
      ]
     },
     "metadata": {
      "needs_background": "light"
     },
     "output_type": "display_data"
    },
    {
     "data": {
      "image/png": "[encoded data removed]",
      "text/plain": [
       "<Figure size 432x288 with 1 Axes>"
      ]
     },
     "metadata": {
      "needs_background": "light"
     },
     "output_type": "display_data"
    },
    {
     "data": {
      "text/plain": [
       "{'missing': 0,\n",
       " 'min': 0.32,\n",
       " 'max': 92.6,\n",
       " 'mean': 7.63,\n",
       " 'var': 74.72,\n",
       " 'std': 8.64,\n",
       " 'range': 92.28,\n",
       " 'q1': 1.2,\n",
       " 'q2': 6.4,\n",
       " 'q3': 9.9,\n",
       " 'skewness': 4.08,\n",
       " 'kurtosis': 31.7}"
      ]
     },
     "execution_count": 339,
     "metadata": {},
     "output_type": "execute_result"
    }
   ],
   "source": [
    "univariate_num(df,df[\"Present_Price\"])"
   ]
  },
  {
   "cell_type": "markdown",
   "id": "95bd3706",
   "metadata": {},
   "source": [
    "* As it is Observed from BoxPlot that there are outlier in 'Selling_Price','Present_Price','Kms_Driven' variable \n",
    "* therfore we need to perform outlier Treatments"
   ]
  },
  {
   "cell_type": "code",
   "execution_count": 340,
   "id": "64230dbe",
   "metadata": {},
   "outputs": [],
   "source": [
    "f=df.describe(percentiles=[.01,.02,.03, .04,.05,.25,.5,.75, .9,.95,.96,.97,.98,.99]).T"
   ]
  },
  {
   "cell_type": "code",
   "execution_count": 341,
   "id": "597386b4",
   "metadata": {},
   "outputs": [
    {
     "data": {
      "text/html": [
       "<div>\n",
       "<style scoped>\n",
       "    .dataframe tbody tr th:only-of-type {\n",
       "        vertical-align: middle;\n",
       "    }\n",
       "\n",
       "    .dataframe tbody tr th {\n",
       "        vertical-align: top;\n",
       "    }\n",
       "\n",
       "    .dataframe thead th {\n",
       "        text-align: right;\n",
       "    }\n",
       "</style>\n",
       "<table border=\"1\" class=\"dataframe\">\n",
       "  <thead>\n",
       "    <tr style=\"text-align: right;\">\n",
       "      <th></th>\n",
       "      <th>count</th>\n",
       "      <th>mean</th>\n",
       "      <th>std</th>\n",
       "      <th>min</th>\n",
       "      <th>1%</th>\n",
       "      <th>2%</th>\n",
       "      <th>3%</th>\n",
       "      <th>4%</th>\n",
       "      <th>5%</th>\n",
       "      <th>25%</th>\n",
       "      <th>50%</th>\n",
       "      <th>75%</th>\n",
       "      <th>90%</th>\n",
       "      <th>95%</th>\n",
       "      <th>96%</th>\n",
       "      <th>97%</th>\n",
       "      <th>98%</th>\n",
       "      <th>99%</th>\n",
       "      <th>max</th>\n",
       "    </tr>\n",
       "  </thead>\n",
       "  <tbody>\n",
       "    <tr>\n",
       "      <th>Year</th>\n",
       "      <td>301.0</td>\n",
       "      <td>2013.627907</td>\n",
       "      <td>2.891554</td>\n",
       "      <td>2003.00</td>\n",
       "      <td>2005.00</td>\n",
       "      <td>2005.00</td>\n",
       "      <td>2006.00</td>\n",
       "      <td>2007.00</td>\n",
       "      <td>2008.00</td>\n",
       "      <td>2012.0</td>\n",
       "      <td>2014.0</td>\n",
       "      <td>2016.0</td>\n",
       "      <td>2017.00</td>\n",
       "      <td>2017.00</td>\n",
       "      <td>2017.00</td>\n",
       "      <td>2017.00</td>\n",
       "      <td>2017.00</td>\n",
       "      <td>2017.00</td>\n",
       "      <td>2018.0</td>\n",
       "    </tr>\n",
       "    <tr>\n",
       "      <th>Selling_Price</th>\n",
       "      <td>301.0</td>\n",
       "      <td>4.661296</td>\n",
       "      <td>5.082812</td>\n",
       "      <td>0.10</td>\n",
       "      <td>0.16</td>\n",
       "      <td>0.20</td>\n",
       "      <td>0.20</td>\n",
       "      <td>0.25</td>\n",
       "      <td>0.25</td>\n",
       "      <td>0.9</td>\n",
       "      <td>3.6</td>\n",
       "      <td>6.0</td>\n",
       "      <td>9.50</td>\n",
       "      <td>14.50</td>\n",
       "      <td>16.00</td>\n",
       "      <td>18.75</td>\n",
       "      <td>20.75</td>\n",
       "      <td>23.00</td>\n",
       "      <td>35.0</td>\n",
       "    </tr>\n",
       "    <tr>\n",
       "      <th>Present_Price</th>\n",
       "      <td>301.0</td>\n",
       "      <td>7.628472</td>\n",
       "      <td>8.644115</td>\n",
       "      <td>0.32</td>\n",
       "      <td>0.51</td>\n",
       "      <td>0.51</td>\n",
       "      <td>0.52</td>\n",
       "      <td>0.52</td>\n",
       "      <td>0.54</td>\n",
       "      <td>1.2</td>\n",
       "      <td>6.4</td>\n",
       "      <td>9.9</td>\n",
       "      <td>14.79</td>\n",
       "      <td>22.78</td>\n",
       "      <td>23.73</td>\n",
       "      <td>30.61</td>\n",
       "      <td>30.61</td>\n",
       "      <td>35.96</td>\n",
       "      <td>92.6</td>\n",
       "    </tr>\n",
       "    <tr>\n",
       "      <th>Kms_Driven</th>\n",
       "      <td>301.0</td>\n",
       "      <td>36947.205980</td>\n",
       "      <td>38886.883882</td>\n",
       "      <td>500.00</td>\n",
       "      <td>1200.00</td>\n",
       "      <td>1400.00</td>\n",
       "      <td>2135.00</td>\n",
       "      <td>3000.00</td>\n",
       "      <td>3500.00</td>\n",
       "      <td>15000.0</td>\n",
       "      <td>32000.0</td>\n",
       "      <td>48767.0</td>\n",
       "      <td>65000.00</td>\n",
       "      <td>80000.00</td>\n",
       "      <td>88000.00</td>\n",
       "      <td>90000.00</td>\n",
       "      <td>127000.00</td>\n",
       "      <td>142000.00</td>\n",
       "      <td>500000.0</td>\n",
       "    </tr>\n",
       "    <tr>\n",
       "      <th>Owner</th>\n",
       "      <td>301.0</td>\n",
       "      <td>0.043189</td>\n",
       "      <td>0.247915</td>\n",
       "      <td>0.00</td>\n",
       "      <td>0.00</td>\n",
       "      <td>0.00</td>\n",
       "      <td>0.00</td>\n",
       "      <td>0.00</td>\n",
       "      <td>0.00</td>\n",
       "      <td>0.0</td>\n",
       "      <td>0.0</td>\n",
       "      <td>0.0</td>\n",
       "      <td>0.00</td>\n",
       "      <td>0.00</td>\n",
       "      <td>0.00</td>\n",
       "      <td>1.00</td>\n",
       "      <td>1.00</td>\n",
       "      <td>1.00</td>\n",
       "      <td>3.0</td>\n",
       "    </tr>\n",
       "  </tbody>\n",
       "</table>\n",
       "</div>"
      ],
      "text/plain": [
       "               count          mean           std      min       1%       2%  \\\n",
       "Year           301.0   2013.627907      2.891554  2003.00  2005.00  2005.00   \n",
       "Selling_Price  301.0      4.661296      5.082812     0.10     0.16     0.20   \n",
       "Present_Price  301.0      7.628472      8.644115     0.32     0.51     0.51   \n",
       "Kms_Driven     301.0  36947.205980  38886.883882   500.00  1200.00  1400.00   \n",
       "Owner          301.0      0.043189      0.247915     0.00     0.00     0.00   \n",
       "\n",
       "                    3%       4%       5%      25%      50%      75%       90%  \\\n",
       "Year           2006.00  2007.00  2008.00   2012.0   2014.0   2016.0   2017.00   \n",
       "Selling_Price     0.20     0.25     0.25      0.9      3.6      6.0      9.50   \n",
       "Present_Price     0.52     0.52     0.54      1.2      6.4      9.9     14.79   \n",
       "Kms_Driven     2135.00  3000.00  3500.00  15000.0  32000.0  48767.0  65000.00   \n",
       "Owner             0.00     0.00     0.00      0.0      0.0      0.0      0.00   \n",
       "\n",
       "                    95%       96%       97%        98%        99%       max  \n",
       "Year            2017.00   2017.00   2017.00    2017.00    2017.00    2018.0  \n",
       "Selling_Price     14.50     16.00     18.75      20.75      23.00      35.0  \n",
       "Present_Price     22.78     23.73     30.61      30.61      35.96      92.6  \n",
       "Kms_Driven     80000.00  88000.00  90000.00  127000.00  142000.00  500000.0  \n",
       "Owner              0.00      0.00      1.00       1.00       1.00       3.0  "
      ]
     },
     "execution_count": 341,
     "metadata": {},
     "output_type": "execute_result"
    }
   ],
   "source": [
    "f"
   ]
  },
  {
   "cell_type": "markdown",
   "id": "7eb858e0",
   "metadata": {},
   "source": [
    "* It is also evident from describe function that there are outliers in the numerical variables, since there is sudden changes in 99% percentile value and max values of numerical variables"
   ]
  },
  {
   "cell_type": "markdown",
   "id": "ccea8fe4",
   "metadata": {},
   "source": [
    "### Creating two subdata Set one with Outlier(ie out) and another without outlier(ie not_out)"
   ]
  },
  {
   "cell_type": "code",
   "execution_count": 342,
   "id": "402ba04e",
   "metadata": {},
   "outputs": [
    {
     "data": {
      "text/plain": [
       "['Selling_Price', 'Present_Price', 'Kms_Driven']"
      ]
     },
     "execution_count": 342,
     "metadata": {},
     "output_type": "execute_result"
    }
   ],
   "source": [
    "out=['Selling_Price','Present_Price','Kms_Driven']\n",
    "out"
   ]
  },
  {
   "cell_type": "code",
   "execution_count": 343,
   "id": "41af44ce",
   "metadata": {},
   "outputs": [
    {
     "data": {
      "text/html": [
       "<div>\n",
       "<style scoped>\n",
       "    .dataframe tbody tr th:only-of-type {\n",
       "        vertical-align: middle;\n",
       "    }\n",
       "\n",
       "    .dataframe tbody tr th {\n",
       "        vertical-align: top;\n",
       "    }\n",
       "\n",
       "    .dataframe thead th {\n",
       "        text-align: right;\n",
       "    }\n",
       "</style>\n",
       "<table border=\"1\" class=\"dataframe\">\n",
       "  <thead>\n",
       "    <tr style=\"text-align: right;\">\n",
       "      <th></th>\n",
       "      <th>Selling_Price</th>\n",
       "      <th>Present_Price</th>\n",
       "      <th>Kms_Driven</th>\n",
       "    </tr>\n",
       "  </thead>\n",
       "  <tbody>\n",
       "    <tr>\n",
       "      <th>0</th>\n",
       "      <td>3.35</td>\n",
       "      <td>5.59</td>\n",
       "      <td>27000</td>\n",
       "    </tr>\n",
       "    <tr>\n",
       "      <th>1</th>\n",
       "      <td>4.75</td>\n",
       "      <td>9.54</td>\n",
       "      <td>43000</td>\n",
       "    </tr>\n",
       "    <tr>\n",
       "      <th>2</th>\n",
       "      <td>7.25</td>\n",
       "      <td>9.85</td>\n",
       "      <td>6900</td>\n",
       "    </tr>\n",
       "    <tr>\n",
       "      <th>3</th>\n",
       "      <td>2.85</td>\n",
       "      <td>4.15</td>\n",
       "      <td>5200</td>\n",
       "    </tr>\n",
       "    <tr>\n",
       "      <th>4</th>\n",
       "      <td>4.60</td>\n",
       "      <td>6.87</td>\n",
       "      <td>42450</td>\n",
       "    </tr>\n",
       "    <tr>\n",
       "      <th>...</th>\n",
       "      <td>...</td>\n",
       "      <td>...</td>\n",
       "      <td>...</td>\n",
       "    </tr>\n",
       "    <tr>\n",
       "      <th>296</th>\n",
       "      <td>9.50</td>\n",
       "      <td>11.60</td>\n",
       "      <td>33988</td>\n",
       "    </tr>\n",
       "    <tr>\n",
       "      <th>297</th>\n",
       "      <td>4.00</td>\n",
       "      <td>5.90</td>\n",
       "      <td>60000</td>\n",
       "    </tr>\n",
       "    <tr>\n",
       "      <th>298</th>\n",
       "      <td>3.35</td>\n",
       "      <td>11.00</td>\n",
       "      <td>87934</td>\n",
       "    </tr>\n",
       "    <tr>\n",
       "      <th>299</th>\n",
       "      <td>11.50</td>\n",
       "      <td>12.50</td>\n",
       "      <td>9000</td>\n",
       "    </tr>\n",
       "    <tr>\n",
       "      <th>300</th>\n",
       "      <td>5.30</td>\n",
       "      <td>5.90</td>\n",
       "      <td>5464</td>\n",
       "    </tr>\n",
       "  </tbody>\n",
       "</table>\n",
       "<p>301 rows × 3 columns</p>\n",
       "</div>"
      ],
      "text/plain": [
       "     Selling_Price  Present_Price  Kms_Driven\n",
       "0             3.35           5.59       27000\n",
       "1             4.75           9.54       43000\n",
       "2             7.25           9.85        6900\n",
       "3             2.85           4.15        5200\n",
       "4             4.60           6.87       42450\n",
       "..             ...            ...         ...\n",
       "296           9.50          11.60       33988\n",
       "297           4.00           5.90       60000\n",
       "298           3.35          11.00       87934\n",
       "299          11.50          12.50        9000\n",
       "300           5.30           5.90        5464\n",
       "\n",
       "[301 rows x 3 columns]"
      ]
     },
     "execution_count": 343,
     "metadata": {},
     "output_type": "execute_result"
    }
   ],
   "source": [
    "df_out=df[out]\n",
    "df_out"
   ]
  },
  {
   "cell_type": "code",
   "execution_count": 344,
   "id": "430b8d13",
   "metadata": {},
   "outputs": [
    {
     "data": {
      "text/plain": [
       "['Year', 'Fuel_Type', 'Transmission', 'Owner', 'Seller_Type']"
      ]
     },
     "execution_count": 344,
     "metadata": {},
     "output_type": "execute_result"
    }
   ],
   "source": [
    "not_out=['Year',\"Fuel_Type\",'Transmission','Owner','Seller_Type']\n",
    "not_out"
   ]
  },
  {
   "cell_type": "code",
   "execution_count": 345,
   "id": "bf804b57",
   "metadata": {},
   "outputs": [],
   "source": [
    "df_not_out=df[not_out]"
   ]
  },
  {
   "cell_type": "code",
   "execution_count": 346,
   "id": "8d7e55a4",
   "metadata": {},
   "outputs": [
    {
     "data": {
      "text/html": [
       "<div>\n",
       "<style scoped>\n",
       "    .dataframe tbody tr th:only-of-type {\n",
       "        vertical-align: middle;\n",
       "    }\n",
       "\n",
       "    .dataframe tbody tr th {\n",
       "        vertical-align: top;\n",
       "    }\n",
       "\n",
       "    .dataframe thead th {\n",
       "        text-align: right;\n",
       "    }\n",
       "</style>\n",
       "<table border=\"1\" class=\"dataframe\">\n",
       "  <thead>\n",
       "    <tr style=\"text-align: right;\">\n",
       "      <th></th>\n",
       "      <th>Year</th>\n",
       "      <th>Fuel_Type</th>\n",
       "      <th>Transmission</th>\n",
       "      <th>Owner</th>\n",
       "      <th>Seller_Type</th>\n",
       "    </tr>\n",
       "  </thead>\n",
       "  <tbody>\n",
       "    <tr>\n",
       "      <th>0</th>\n",
       "      <td>2014</td>\n",
       "      <td>Petrol</td>\n",
       "      <td>Manual</td>\n",
       "      <td>0</td>\n",
       "      <td>Dealer</td>\n",
       "    </tr>\n",
       "    <tr>\n",
       "      <th>1</th>\n",
       "      <td>2013</td>\n",
       "      <td>Diesel</td>\n",
       "      <td>Manual</td>\n",
       "      <td>0</td>\n",
       "      <td>Dealer</td>\n",
       "    </tr>\n",
       "    <tr>\n",
       "      <th>2</th>\n",
       "      <td>2017</td>\n",
       "      <td>Petrol</td>\n",
       "      <td>Manual</td>\n",
       "      <td>0</td>\n",
       "      <td>Dealer</td>\n",
       "    </tr>\n",
       "    <tr>\n",
       "      <th>3</th>\n",
       "      <td>2011</td>\n",
       "      <td>Petrol</td>\n",
       "      <td>Manual</td>\n",
       "      <td>0</td>\n",
       "      <td>Dealer</td>\n",
       "    </tr>\n",
       "    <tr>\n",
       "      <th>4</th>\n",
       "      <td>2014</td>\n",
       "      <td>Diesel</td>\n",
       "      <td>Manual</td>\n",
       "      <td>0</td>\n",
       "      <td>Dealer</td>\n",
       "    </tr>\n",
       "    <tr>\n",
       "      <th>...</th>\n",
       "      <td>...</td>\n",
       "      <td>...</td>\n",
       "      <td>...</td>\n",
       "      <td>...</td>\n",
       "      <td>...</td>\n",
       "    </tr>\n",
       "    <tr>\n",
       "      <th>296</th>\n",
       "      <td>2016</td>\n",
       "      <td>Diesel</td>\n",
       "      <td>Manual</td>\n",
       "      <td>0</td>\n",
       "      <td>Dealer</td>\n",
       "    </tr>\n",
       "    <tr>\n",
       "      <th>297</th>\n",
       "      <td>2015</td>\n",
       "      <td>Petrol</td>\n",
       "      <td>Manual</td>\n",
       "      <td>0</td>\n",
       "      <td>Dealer</td>\n",
       "    </tr>\n",
       "    <tr>\n",
       "      <th>298</th>\n",
       "      <td>2009</td>\n",
       "      <td>Petrol</td>\n",
       "      <td>Manual</td>\n",
       "      <td>0</td>\n",
       "      <td>Dealer</td>\n",
       "    </tr>\n",
       "    <tr>\n",
       "      <th>299</th>\n",
       "      <td>2017</td>\n",
       "      <td>Diesel</td>\n",
       "      <td>Manual</td>\n",
       "      <td>0</td>\n",
       "      <td>Dealer</td>\n",
       "    </tr>\n",
       "    <tr>\n",
       "      <th>300</th>\n",
       "      <td>2016</td>\n",
       "      <td>Petrol</td>\n",
       "      <td>Manual</td>\n",
       "      <td>0</td>\n",
       "      <td>Dealer</td>\n",
       "    </tr>\n",
       "  </tbody>\n",
       "</table>\n",
       "<p>301 rows × 5 columns</p>\n",
       "</div>"
      ],
      "text/plain": [
       "     Year Fuel_Type Transmission  Owner Seller_Type\n",
       "0    2014    Petrol       Manual      0      Dealer\n",
       "1    2013    Diesel       Manual      0      Dealer\n",
       "2    2017    Petrol       Manual      0      Dealer\n",
       "3    2011    Petrol       Manual      0      Dealer\n",
       "4    2014    Diesel       Manual      0      Dealer\n",
       "..    ...       ...          ...    ...         ...\n",
       "296  2016    Diesel       Manual      0      Dealer\n",
       "297  2015    Petrol       Manual      0      Dealer\n",
       "298  2009    Petrol       Manual      0      Dealer\n",
       "299  2017    Diesel       Manual      0      Dealer\n",
       "300  2016    Petrol       Manual      0      Dealer\n",
       "\n",
       "[301 rows x 5 columns]"
      ]
     },
     "execution_count": 346,
     "metadata": {},
     "output_type": "execute_result"
    }
   ],
   "source": [
    "df_not_out"
   ]
  },
  {
   "cell_type": "markdown",
   "id": "bc07377c",
   "metadata": {},
   "source": [
    "### Capping of outliers using following functions"
   ]
  },
  {
   "cell_type": "code",
   "execution_count": 347,
   "id": "a825d6ad",
   "metadata": {},
   "outputs": [],
   "source": [
    "def outliers_percentile(x):\n",
    "    x=x.clip(upper=x.quantile(.99))\n",
    "#     x=x.clip(lower=x.quantile(.01))\n",
    "    return x"
   ]
  },
  {
   "cell_type": "code",
   "execution_count": 348,
   "id": "86a0900b",
   "metadata": {},
   "outputs": [],
   "source": [
    "df_out1=df_out.apply(outliers_percentile) # appling outliers function on out subset"
   ]
  },
  {
   "cell_type": "markdown",
   "id": "7f98c046",
   "metadata": {},
   "source": [
    "### checking if outlier are gone or not"
   ]
  },
  {
   "cell_type": "code",
   "execution_count": 349,
   "id": "b6d5ebdb",
   "metadata": {},
   "outputs": [
    {
     "data": {
      "text/html": [
       "<div>\n",
       "<style scoped>\n",
       "    .dataframe tbody tr th:only-of-type {\n",
       "        vertical-align: middle;\n",
       "    }\n",
       "\n",
       "    .dataframe tbody tr th {\n",
       "        vertical-align: top;\n",
       "    }\n",
       "\n",
       "    .dataframe thead th {\n",
       "        text-align: right;\n",
       "    }\n",
       "</style>\n",
       "<table border=\"1\" class=\"dataframe\">\n",
       "  <thead>\n",
       "    <tr style=\"text-align: right;\">\n",
       "      <th></th>\n",
       "      <th>count</th>\n",
       "      <th>mean</th>\n",
       "      <th>std</th>\n",
       "      <th>min</th>\n",
       "      <th>1%</th>\n",
       "      <th>2%</th>\n",
       "      <th>3%</th>\n",
       "      <th>4%</th>\n",
       "      <th>5%</th>\n",
       "      <th>25%</th>\n",
       "      <th>50%</th>\n",
       "      <th>75%</th>\n",
       "      <th>90%</th>\n",
       "      <th>95%</th>\n",
       "      <th>96%</th>\n",
       "      <th>97%</th>\n",
       "      <th>98%</th>\n",
       "      <th>99%</th>\n",
       "      <th>max</th>\n",
       "    </tr>\n",
       "  </thead>\n",
       "  <tbody>\n",
       "    <tr>\n",
       "      <th>Selling_Price</th>\n",
       "      <td>301.0</td>\n",
       "      <td>4.586545</td>\n",
       "      <td>4.718516</td>\n",
       "      <td>0.10</td>\n",
       "      <td>0.16</td>\n",
       "      <td>0.20</td>\n",
       "      <td>0.20</td>\n",
       "      <td>0.25</td>\n",
       "      <td>0.25</td>\n",
       "      <td>0.9</td>\n",
       "      <td>3.6</td>\n",
       "      <td>6.0</td>\n",
       "      <td>9.50</td>\n",
       "      <td>14.50</td>\n",
       "      <td>16.00</td>\n",
       "      <td>18.75</td>\n",
       "      <td>20.75</td>\n",
       "      <td>23.00</td>\n",
       "      <td>23.00</td>\n",
       "    </tr>\n",
       "    <tr>\n",
       "      <th>Present_Price</th>\n",
       "      <td>301.0</td>\n",
       "      <td>7.439402</td>\n",
       "      <td>7.296712</td>\n",
       "      <td>0.32</td>\n",
       "      <td>0.51</td>\n",
       "      <td>0.51</td>\n",
       "      <td>0.52</td>\n",
       "      <td>0.52</td>\n",
       "      <td>0.54</td>\n",
       "      <td>1.2</td>\n",
       "      <td>6.4</td>\n",
       "      <td>9.9</td>\n",
       "      <td>14.79</td>\n",
       "      <td>22.78</td>\n",
       "      <td>23.73</td>\n",
       "      <td>30.61</td>\n",
       "      <td>30.61</td>\n",
       "      <td>35.96</td>\n",
       "      <td>35.96</td>\n",
       "    </tr>\n",
       "    <tr>\n",
       "      <th>Kms_Driven</th>\n",
       "      <td>301.0</td>\n",
       "      <td>35338.647841</td>\n",
       "      <td>26764.442955</td>\n",
       "      <td>500.00</td>\n",
       "      <td>1200.00</td>\n",
       "      <td>1400.00</td>\n",
       "      <td>2135.00</td>\n",
       "      <td>3000.00</td>\n",
       "      <td>3500.00</td>\n",
       "      <td>15000.0</td>\n",
       "      <td>32000.0</td>\n",
       "      <td>48767.0</td>\n",
       "      <td>65000.00</td>\n",
       "      <td>80000.00</td>\n",
       "      <td>88000.00</td>\n",
       "      <td>90000.00</td>\n",
       "      <td>127000.00</td>\n",
       "      <td>142000.00</td>\n",
       "      <td>142000.00</td>\n",
       "    </tr>\n",
       "  </tbody>\n",
       "</table>\n",
       "</div>"
      ],
      "text/plain": [
       "               count          mean           std     min       1%       2%  \\\n",
       "Selling_Price  301.0      4.586545      4.718516    0.10     0.16     0.20   \n",
       "Present_Price  301.0      7.439402      7.296712    0.32     0.51     0.51   \n",
       "Kms_Driven     301.0  35338.647841  26764.442955  500.00  1200.00  1400.00   \n",
       "\n",
       "                    3%       4%       5%      25%      50%      75%       90%  \\\n",
       "Selling_Price     0.20     0.25     0.25      0.9      3.6      6.0      9.50   \n",
       "Present_Price     0.52     0.52     0.54      1.2      6.4      9.9     14.79   \n",
       "Kms_Driven     2135.00  3000.00  3500.00  15000.0  32000.0  48767.0  65000.00   \n",
       "\n",
       "                    95%       96%       97%        98%        99%        max  \n",
       "Selling_Price     14.50     16.00     18.75      20.75      23.00      23.00  \n",
       "Present_Price     22.78     23.73     30.61      30.61      35.96      35.96  \n",
       "Kms_Driven     80000.00  88000.00  90000.00  127000.00  142000.00  142000.00  "
      ]
     },
     "execution_count": 349,
     "metadata": {},
     "output_type": "execute_result"
    }
   ],
   "source": [
    "# numerical variables without outliers\n",
    "df_out1.describe(percentiles=[.01,.02,.03, .04,.05,.25,.5,.75, .9,.95,.96,.97,.98,.99]).T"
   ]
  },
  {
   "cell_type": "markdown",
   "id": "6cd5bf01",
   "metadata": {},
   "source": [
    "#### check there is no sudden change in  99% percentile and max value therefore outlier are gone"
   ]
  },
  {
   "cell_type": "code",
   "execution_count": 350,
   "id": "93470e2d",
   "metadata": {},
   "outputs": [],
   "source": [
    "df2=pd.concat([df_out,df_not_out],axis=1) # concatenating the out and not_out subsets"
   ]
  },
  {
   "cell_type": "code",
   "execution_count": 351,
   "id": "bc8dc237",
   "metadata": {},
   "outputs": [
    {
     "data": {
      "text/html": [
       "<div>\n",
       "<style scoped>\n",
       "    .dataframe tbody tr th:only-of-type {\n",
       "        vertical-align: middle;\n",
       "    }\n",
       "\n",
       "    .dataframe tbody tr th {\n",
       "        vertical-align: top;\n",
       "    }\n",
       "\n",
       "    .dataframe thead th {\n",
       "        text-align: right;\n",
       "    }\n",
       "</style>\n",
       "<table border=\"1\" class=\"dataframe\">\n",
       "  <thead>\n",
       "    <tr style=\"text-align: right;\">\n",
       "      <th></th>\n",
       "      <th>Selling_Price</th>\n",
       "      <th>Present_Price</th>\n",
       "      <th>Kms_Driven</th>\n",
       "      <th>Year</th>\n",
       "      <th>Fuel_Type</th>\n",
       "      <th>Transmission</th>\n",
       "      <th>Owner</th>\n",
       "      <th>Seller_Type</th>\n",
       "    </tr>\n",
       "  </thead>\n",
       "  <tbody>\n",
       "    <tr>\n",
       "      <th>0</th>\n",
       "      <td>3.35</td>\n",
       "      <td>5.59</td>\n",
       "      <td>27000</td>\n",
       "      <td>2014</td>\n",
       "      <td>Petrol</td>\n",
       "      <td>Manual</td>\n",
       "      <td>0</td>\n",
       "      <td>Dealer</td>\n",
       "    </tr>\n",
       "    <tr>\n",
       "      <th>1</th>\n",
       "      <td>4.75</td>\n",
       "      <td>9.54</td>\n",
       "      <td>43000</td>\n",
       "      <td>2013</td>\n",
       "      <td>Diesel</td>\n",
       "      <td>Manual</td>\n",
       "      <td>0</td>\n",
       "      <td>Dealer</td>\n",
       "    </tr>\n",
       "    <tr>\n",
       "      <th>2</th>\n",
       "      <td>7.25</td>\n",
       "      <td>9.85</td>\n",
       "      <td>6900</td>\n",
       "      <td>2017</td>\n",
       "      <td>Petrol</td>\n",
       "      <td>Manual</td>\n",
       "      <td>0</td>\n",
       "      <td>Dealer</td>\n",
       "    </tr>\n",
       "    <tr>\n",
       "      <th>3</th>\n",
       "      <td>2.85</td>\n",
       "      <td>4.15</td>\n",
       "      <td>5200</td>\n",
       "      <td>2011</td>\n",
       "      <td>Petrol</td>\n",
       "      <td>Manual</td>\n",
       "      <td>0</td>\n",
       "      <td>Dealer</td>\n",
       "    </tr>\n",
       "    <tr>\n",
       "      <th>4</th>\n",
       "      <td>4.60</td>\n",
       "      <td>6.87</td>\n",
       "      <td>42450</td>\n",
       "      <td>2014</td>\n",
       "      <td>Diesel</td>\n",
       "      <td>Manual</td>\n",
       "      <td>0</td>\n",
       "      <td>Dealer</td>\n",
       "    </tr>\n",
       "    <tr>\n",
       "      <th>...</th>\n",
       "      <td>...</td>\n",
       "      <td>...</td>\n",
       "      <td>...</td>\n",
       "      <td>...</td>\n",
       "      <td>...</td>\n",
       "      <td>...</td>\n",
       "      <td>...</td>\n",
       "      <td>...</td>\n",
       "    </tr>\n",
       "    <tr>\n",
       "      <th>296</th>\n",
       "      <td>9.50</td>\n",
       "      <td>11.60</td>\n",
       "      <td>33988</td>\n",
       "      <td>2016</td>\n",
       "      <td>Diesel</td>\n",
       "      <td>Manual</td>\n",
       "      <td>0</td>\n",
       "      <td>Dealer</td>\n",
       "    </tr>\n",
       "    <tr>\n",
       "      <th>297</th>\n",
       "      <td>4.00</td>\n",
       "      <td>5.90</td>\n",
       "      <td>60000</td>\n",
       "      <td>2015</td>\n",
       "      <td>Petrol</td>\n",
       "      <td>Manual</td>\n",
       "      <td>0</td>\n",
       "      <td>Dealer</td>\n",
       "    </tr>\n",
       "    <tr>\n",
       "      <th>298</th>\n",
       "      <td>3.35</td>\n",
       "      <td>11.00</td>\n",
       "      <td>87934</td>\n",
       "      <td>2009</td>\n",
       "      <td>Petrol</td>\n",
       "      <td>Manual</td>\n",
       "      <td>0</td>\n",
       "      <td>Dealer</td>\n",
       "    </tr>\n",
       "    <tr>\n",
       "      <th>299</th>\n",
       "      <td>11.50</td>\n",
       "      <td>12.50</td>\n",
       "      <td>9000</td>\n",
       "      <td>2017</td>\n",
       "      <td>Diesel</td>\n",
       "      <td>Manual</td>\n",
       "      <td>0</td>\n",
       "      <td>Dealer</td>\n",
       "    </tr>\n",
       "    <tr>\n",
       "      <th>300</th>\n",
       "      <td>5.30</td>\n",
       "      <td>5.90</td>\n",
       "      <td>5464</td>\n",
       "      <td>2016</td>\n",
       "      <td>Petrol</td>\n",
       "      <td>Manual</td>\n",
       "      <td>0</td>\n",
       "      <td>Dealer</td>\n",
       "    </tr>\n",
       "  </tbody>\n",
       "</table>\n",
       "<p>301 rows × 8 columns</p>\n",
       "</div>"
      ],
      "text/plain": [
       "     Selling_Price  Present_Price  Kms_Driven  Year Fuel_Type Transmission  \\\n",
       "0             3.35           5.59       27000  2014    Petrol       Manual   \n",
       "1             4.75           9.54       43000  2013    Diesel       Manual   \n",
       "2             7.25           9.85        6900  2017    Petrol       Manual   \n",
       "3             2.85           4.15        5200  2011    Petrol       Manual   \n",
       "4             4.60           6.87       42450  2014    Diesel       Manual   \n",
       "..             ...            ...         ...   ...       ...          ...   \n",
       "296           9.50          11.60       33988  2016    Diesel       Manual   \n",
       "297           4.00           5.90       60000  2015    Petrol       Manual   \n",
       "298           3.35          11.00       87934  2009    Petrol       Manual   \n",
       "299          11.50          12.50        9000  2017    Diesel       Manual   \n",
       "300           5.30           5.90        5464  2016    Petrol       Manual   \n",
       "\n",
       "     Owner Seller_Type  \n",
       "0        0      Dealer  \n",
       "1        0      Dealer  \n",
       "2        0      Dealer  \n",
       "3        0      Dealer  \n",
       "4        0      Dealer  \n",
       "..     ...         ...  \n",
       "296      0      Dealer  \n",
       "297      0      Dealer  \n",
       "298      0      Dealer  \n",
       "299      0      Dealer  \n",
       "300      0      Dealer  \n",
       "\n",
       "[301 rows x 8 columns]"
      ]
     },
     "execution_count": 351,
     "metadata": {},
     "output_type": "execute_result"
    }
   ],
   "source": [
    "df2"
   ]
  },
  {
   "cell_type": "markdown",
   "id": "3e8603fa",
   "metadata": {},
   "source": [
    "### Dummy Creation"
   ]
  },
  {
   "cell_type": "code",
   "execution_count": 352,
   "id": "c26468e7",
   "metadata": {},
   "outputs": [
    {
     "data": {
      "text/plain": [
       "Dealer        195\n",
       "Individual    106\n",
       "Name: Seller_Type, dtype: int64"
      ]
     },
     "execution_count": 352,
     "metadata": {},
     "output_type": "execute_result"
    }
   ],
   "source": [
    "df2[\"Seller_Type\"].value_counts()"
   ]
  },
  {
   "cell_type": "markdown",
   "id": "8ec53d79",
   "metadata": {},
   "source": [
    "#### Converting Non-numerical variable to Numerical type using Dummies"
   ]
  },
  {
   "cell_type": "code",
   "execution_count": 353,
   "id": "63b061a0",
   "metadata": {},
   "outputs": [],
   "source": [
    "df2_dum=pd.get_dummies(df2,columns=['Seller_Type','Fuel_Type','Transmission'],drop_first=True) # droping the first to avoid high collinerity"
   ]
  },
  {
   "cell_type": "code",
   "execution_count": 354,
   "id": "1b138192",
   "metadata": {},
   "outputs": [
    {
     "data": {
      "text/html": [
       "<div>\n",
       "<style scoped>\n",
       "    .dataframe tbody tr th:only-of-type {\n",
       "        vertical-align: middle;\n",
       "    }\n",
       "\n",
       "    .dataframe tbody tr th {\n",
       "        vertical-align: top;\n",
       "    }\n",
       "\n",
       "    .dataframe thead th {\n",
       "        text-align: right;\n",
       "    }\n",
       "</style>\n",
       "<table border=\"1\" class=\"dataframe\">\n",
       "  <thead>\n",
       "    <tr style=\"text-align: right;\">\n",
       "      <th></th>\n",
       "      <th>Selling_Price</th>\n",
       "      <th>Present_Price</th>\n",
       "      <th>Kms_Driven</th>\n",
       "      <th>Year</th>\n",
       "      <th>Owner</th>\n",
       "      <th>Seller_Type_Individual</th>\n",
       "      <th>Fuel_Type_Diesel</th>\n",
       "      <th>Fuel_Type_Petrol</th>\n",
       "      <th>Transmission_Manual</th>\n",
       "    </tr>\n",
       "  </thead>\n",
       "  <tbody>\n",
       "    <tr>\n",
       "      <th>0</th>\n",
       "      <td>3.35</td>\n",
       "      <td>5.59</td>\n",
       "      <td>27000</td>\n",
       "      <td>2014</td>\n",
       "      <td>0</td>\n",
       "      <td>0</td>\n",
       "      <td>0</td>\n",
       "      <td>1</td>\n",
       "      <td>1</td>\n",
       "    </tr>\n",
       "    <tr>\n",
       "      <th>1</th>\n",
       "      <td>4.75</td>\n",
       "      <td>9.54</td>\n",
       "      <td>43000</td>\n",
       "      <td>2013</td>\n",
       "      <td>0</td>\n",
       "      <td>0</td>\n",
       "      <td>1</td>\n",
       "      <td>0</td>\n",
       "      <td>1</td>\n",
       "    </tr>\n",
       "    <tr>\n",
       "      <th>2</th>\n",
       "      <td>7.25</td>\n",
       "      <td>9.85</td>\n",
       "      <td>6900</td>\n",
       "      <td>2017</td>\n",
       "      <td>0</td>\n",
       "      <td>0</td>\n",
       "      <td>0</td>\n",
       "      <td>1</td>\n",
       "      <td>1</td>\n",
       "    </tr>\n",
       "    <tr>\n",
       "      <th>3</th>\n",
       "      <td>2.85</td>\n",
       "      <td>4.15</td>\n",
       "      <td>5200</td>\n",
       "      <td>2011</td>\n",
       "      <td>0</td>\n",
       "      <td>0</td>\n",
       "      <td>0</td>\n",
       "      <td>1</td>\n",
       "      <td>1</td>\n",
       "    </tr>\n",
       "    <tr>\n",
       "      <th>4</th>\n",
       "      <td>4.60</td>\n",
       "      <td>6.87</td>\n",
       "      <td>42450</td>\n",
       "      <td>2014</td>\n",
       "      <td>0</td>\n",
       "      <td>0</td>\n",
       "      <td>1</td>\n",
       "      <td>0</td>\n",
       "      <td>1</td>\n",
       "    </tr>\n",
       "    <tr>\n",
       "      <th>...</th>\n",
       "      <td>...</td>\n",
       "      <td>...</td>\n",
       "      <td>...</td>\n",
       "      <td>...</td>\n",
       "      <td>...</td>\n",
       "      <td>...</td>\n",
       "      <td>...</td>\n",
       "      <td>...</td>\n",
       "      <td>...</td>\n",
       "    </tr>\n",
       "    <tr>\n",
       "      <th>296</th>\n",
       "      <td>9.50</td>\n",
       "      <td>11.60</td>\n",
       "      <td>33988</td>\n",
       "      <td>2016</td>\n",
       "      <td>0</td>\n",
       "      <td>0</td>\n",
       "      <td>1</td>\n",
       "      <td>0</td>\n",
       "      <td>1</td>\n",
       "    </tr>\n",
       "    <tr>\n",
       "      <th>297</th>\n",
       "      <td>4.00</td>\n",
       "      <td>5.90</td>\n",
       "      <td>60000</td>\n",
       "      <td>2015</td>\n",
       "      <td>0</td>\n",
       "      <td>0</td>\n",
       "      <td>0</td>\n",
       "      <td>1</td>\n",
       "      <td>1</td>\n",
       "    </tr>\n",
       "    <tr>\n",
       "      <th>298</th>\n",
       "      <td>3.35</td>\n",
       "      <td>11.00</td>\n",
       "      <td>87934</td>\n",
       "      <td>2009</td>\n",
       "      <td>0</td>\n",
       "      <td>0</td>\n",
       "      <td>0</td>\n",
       "      <td>1</td>\n",
       "      <td>1</td>\n",
       "    </tr>\n",
       "    <tr>\n",
       "      <th>299</th>\n",
       "      <td>11.50</td>\n",
       "      <td>12.50</td>\n",
       "      <td>9000</td>\n",
       "      <td>2017</td>\n",
       "      <td>0</td>\n",
       "      <td>0</td>\n",
       "      <td>1</td>\n",
       "      <td>0</td>\n",
       "      <td>1</td>\n",
       "    </tr>\n",
       "    <tr>\n",
       "      <th>300</th>\n",
       "      <td>5.30</td>\n",
       "      <td>5.90</td>\n",
       "      <td>5464</td>\n",
       "      <td>2016</td>\n",
       "      <td>0</td>\n",
       "      <td>0</td>\n",
       "      <td>0</td>\n",
       "      <td>1</td>\n",
       "      <td>1</td>\n",
       "    </tr>\n",
       "  </tbody>\n",
       "</table>\n",
       "<p>301 rows × 9 columns</p>\n",
       "</div>"
      ],
      "text/plain": [
       "     Selling_Price  Present_Price  Kms_Driven  Year  Owner  \\\n",
       "0             3.35           5.59       27000  2014      0   \n",
       "1             4.75           9.54       43000  2013      0   \n",
       "2             7.25           9.85        6900  2017      0   \n",
       "3             2.85           4.15        5200  2011      0   \n",
       "4             4.60           6.87       42450  2014      0   \n",
       "..             ...            ...         ...   ...    ...   \n",
       "296           9.50          11.60       33988  2016      0   \n",
       "297           4.00           5.90       60000  2015      0   \n",
       "298           3.35          11.00       87934  2009      0   \n",
       "299          11.50          12.50        9000  2017      0   \n",
       "300           5.30           5.90        5464  2016      0   \n",
       "\n",
       "     Seller_Type_Individual  Fuel_Type_Diesel  Fuel_Type_Petrol  \\\n",
       "0                         0                 0                 1   \n",
       "1                         0                 1                 0   \n",
       "2                         0                 0                 1   \n",
       "3                         0                 0                 1   \n",
       "4                         0                 1                 0   \n",
       "..                      ...               ...               ...   \n",
       "296                       0                 1                 0   \n",
       "297                       0                 0                 1   \n",
       "298                       0                 0                 1   \n",
       "299                       0                 1                 0   \n",
       "300                       0                 0                 1   \n",
       "\n",
       "     Transmission_Manual  \n",
       "0                      1  \n",
       "1                      1  \n",
       "2                      1  \n",
       "3                      1  \n",
       "4                      1  \n",
       "..                   ...  \n",
       "296                    1  \n",
       "297                    1  \n",
       "298                    1  \n",
       "299                    1  \n",
       "300                    1  \n",
       "\n",
       "[301 rows x 9 columns]"
      ]
     },
     "execution_count": 354,
     "metadata": {},
     "output_type": "execute_result"
    }
   ],
   "source": [
    "df2_dum"
   ]
  },
  {
   "cell_type": "markdown",
   "id": "dd2a9182",
   "metadata": {},
   "source": [
    "#### In order to get  Age of Car using current year and Year columns"
   ]
  },
  {
   "cell_type": "code",
   "execution_count": 355,
   "id": "6d85b420",
   "metadata": {},
   "outputs": [
    {
     "data": {
      "text/plain": [
       "Timestamp('2022-09-23 18:39:37.861485')"
      ]
     },
     "execution_count": 355,
     "metadata": {},
     "output_type": "execute_result"
    }
   ],
   "source": [
    "# to get current date and time use the following code\n",
    "pd.to_datetime('today')"
   ]
  },
  {
   "cell_type": "code",
   "execution_count": 356,
   "id": "c97ec12d",
   "metadata": {},
   "outputs": [],
   "source": [
    "# In order to get Age of car we are subtacting Car manufacturing Year from current Year and saving in another column as Year_old\n",
    "df2_dum['year_old']=pd.to_datetime(\"today\").year-df2_dum[\"Year\"]"
   ]
  },
  {
   "cell_type": "code",
   "execution_count": 357,
   "id": "5227c515",
   "metadata": {},
   "outputs": [],
   "source": [
    "df2_dum.drop(columns=['Year'],inplace=True) # since there is age variable therfore there is no need of year of manufacturing"
   ]
  },
  {
   "cell_type": "code",
   "execution_count": 358,
   "id": "aa9132b5",
   "metadata": {},
   "outputs": [
    {
     "data": {
      "text/html": [
       "<div>\n",
       "<style scoped>\n",
       "    .dataframe tbody tr th:only-of-type {\n",
       "        vertical-align: middle;\n",
       "    }\n",
       "\n",
       "    .dataframe tbody tr th {\n",
       "        vertical-align: top;\n",
       "    }\n",
       "\n",
       "    .dataframe thead th {\n",
       "        text-align: right;\n",
       "    }\n",
       "</style>\n",
       "<table border=\"1\" class=\"dataframe\">\n",
       "  <thead>\n",
       "    <tr style=\"text-align: right;\">\n",
       "      <th></th>\n",
       "      <th>Selling_Price</th>\n",
       "      <th>Present_Price</th>\n",
       "      <th>Kms_Driven</th>\n",
       "      <th>Owner</th>\n",
       "      <th>Seller_Type_Individual</th>\n",
       "      <th>Fuel_Type_Diesel</th>\n",
       "      <th>Fuel_Type_Petrol</th>\n",
       "      <th>Transmission_Manual</th>\n",
       "      <th>year_old</th>\n",
       "    </tr>\n",
       "  </thead>\n",
       "  <tbody>\n",
       "    <tr>\n",
       "      <th>0</th>\n",
       "      <td>3.35</td>\n",
       "      <td>5.59</td>\n",
       "      <td>27000</td>\n",
       "      <td>0</td>\n",
       "      <td>0</td>\n",
       "      <td>0</td>\n",
       "      <td>1</td>\n",
       "      <td>1</td>\n",
       "      <td>8</td>\n",
       "    </tr>\n",
       "    <tr>\n",
       "      <th>1</th>\n",
       "      <td>4.75</td>\n",
       "      <td>9.54</td>\n",
       "      <td>43000</td>\n",
       "      <td>0</td>\n",
       "      <td>0</td>\n",
       "      <td>1</td>\n",
       "      <td>0</td>\n",
       "      <td>1</td>\n",
       "      <td>9</td>\n",
       "    </tr>\n",
       "    <tr>\n",
       "      <th>2</th>\n",
       "      <td>7.25</td>\n",
       "      <td>9.85</td>\n",
       "      <td>6900</td>\n",
       "      <td>0</td>\n",
       "      <td>0</td>\n",
       "      <td>0</td>\n",
       "      <td>1</td>\n",
       "      <td>1</td>\n",
       "      <td>5</td>\n",
       "    </tr>\n",
       "    <tr>\n",
       "      <th>3</th>\n",
       "      <td>2.85</td>\n",
       "      <td>4.15</td>\n",
       "      <td>5200</td>\n",
       "      <td>0</td>\n",
       "      <td>0</td>\n",
       "      <td>0</td>\n",
       "      <td>1</td>\n",
       "      <td>1</td>\n",
       "      <td>11</td>\n",
       "    </tr>\n",
       "    <tr>\n",
       "      <th>4</th>\n",
       "      <td>4.60</td>\n",
       "      <td>6.87</td>\n",
       "      <td>42450</td>\n",
       "      <td>0</td>\n",
       "      <td>0</td>\n",
       "      <td>1</td>\n",
       "      <td>0</td>\n",
       "      <td>1</td>\n",
       "      <td>8</td>\n",
       "    </tr>\n",
       "    <tr>\n",
       "      <th>...</th>\n",
       "      <td>...</td>\n",
       "      <td>...</td>\n",
       "      <td>...</td>\n",
       "      <td>...</td>\n",
       "      <td>...</td>\n",
       "      <td>...</td>\n",
       "      <td>...</td>\n",
       "      <td>...</td>\n",
       "      <td>...</td>\n",
       "    </tr>\n",
       "    <tr>\n",
       "      <th>296</th>\n",
       "      <td>9.50</td>\n",
       "      <td>11.60</td>\n",
       "      <td>33988</td>\n",
       "      <td>0</td>\n",
       "      <td>0</td>\n",
       "      <td>1</td>\n",
       "      <td>0</td>\n",
       "      <td>1</td>\n",
       "      <td>6</td>\n",
       "    </tr>\n",
       "    <tr>\n",
       "      <th>297</th>\n",
       "      <td>4.00</td>\n",
       "      <td>5.90</td>\n",
       "      <td>60000</td>\n",
       "      <td>0</td>\n",
       "      <td>0</td>\n",
       "      <td>0</td>\n",
       "      <td>1</td>\n",
       "      <td>1</td>\n",
       "      <td>7</td>\n",
       "    </tr>\n",
       "    <tr>\n",
       "      <th>298</th>\n",
       "      <td>3.35</td>\n",
       "      <td>11.00</td>\n",
       "      <td>87934</td>\n",
       "      <td>0</td>\n",
       "      <td>0</td>\n",
       "      <td>0</td>\n",
       "      <td>1</td>\n",
       "      <td>1</td>\n",
       "      <td>13</td>\n",
       "    </tr>\n",
       "    <tr>\n",
       "      <th>299</th>\n",
       "      <td>11.50</td>\n",
       "      <td>12.50</td>\n",
       "      <td>9000</td>\n",
       "      <td>0</td>\n",
       "      <td>0</td>\n",
       "      <td>1</td>\n",
       "      <td>0</td>\n",
       "      <td>1</td>\n",
       "      <td>5</td>\n",
       "    </tr>\n",
       "    <tr>\n",
       "      <th>300</th>\n",
       "      <td>5.30</td>\n",
       "      <td>5.90</td>\n",
       "      <td>5464</td>\n",
       "      <td>0</td>\n",
       "      <td>0</td>\n",
       "      <td>0</td>\n",
       "      <td>1</td>\n",
       "      <td>1</td>\n",
       "      <td>6</td>\n",
       "    </tr>\n",
       "  </tbody>\n",
       "</table>\n",
       "<p>301 rows × 9 columns</p>\n",
       "</div>"
      ],
      "text/plain": [
       "     Selling_Price  Present_Price  Kms_Driven  Owner  Seller_Type_Individual  \\\n",
       "0             3.35           5.59       27000      0                       0   \n",
       "1             4.75           9.54       43000      0                       0   \n",
       "2             7.25           9.85        6900      0                       0   \n",
       "3             2.85           4.15        5200      0                       0   \n",
       "4             4.60           6.87       42450      0                       0   \n",
       "..             ...            ...         ...    ...                     ...   \n",
       "296           9.50          11.60       33988      0                       0   \n",
       "297           4.00           5.90       60000      0                       0   \n",
       "298           3.35          11.00       87934      0                       0   \n",
       "299          11.50          12.50        9000      0                       0   \n",
       "300           5.30           5.90        5464      0                       0   \n",
       "\n",
       "     Fuel_Type_Diesel  Fuel_Type_Petrol  Transmission_Manual  year_old  \n",
       "0                   0                 1                    1         8  \n",
       "1                   1                 0                    1         9  \n",
       "2                   0                 1                    1         5  \n",
       "3                   0                 1                    1        11  \n",
       "4                   1                 0                    1         8  \n",
       "..                ...               ...                  ...       ...  \n",
       "296                 1                 0                    1         6  \n",
       "297                 0                 1                    1         7  \n",
       "298                 0                 1                    1        13  \n",
       "299                 1                 0                    1         5  \n",
       "300                 0                 1                    1         6  \n",
       "\n",
       "[301 rows x 9 columns]"
      ]
     },
     "execution_count": 358,
     "metadata": {},
     "output_type": "execute_result"
    }
   ],
   "source": [
    "df2_dum"
   ]
  },
  {
   "cell_type": "markdown",
   "id": "62f101dd",
   "metadata": {},
   "source": [
    "# collinearity\n",
    "* checking  numerical data for correlation"
   ]
  },
  {
   "cell_type": "code",
   "execution_count": 359,
   "id": "51b7b4aa",
   "metadata": {},
   "outputs": [
    {
     "data": {
      "image/png": "[encoded data removed]",
      "text/plain": [
       "<Figure size 576x432 with 2 Axes>"
      ]
     },
     "metadata": {
      "needs_background": "light"
     },
     "output_type": "display_data"
    }
   ],
   "source": [
    "cr=df2_dum.corr()\n",
    "plt.figure(figsize=(8,6))\n",
    "sns.heatmap(cr,annot=True,cmap='coolwarm')\n",
    "plt.show()"
   ]
  },
  {
   "cell_type": "code",
   "execution_count": 380,
   "id": "8dfbe70f",
   "metadata": {},
   "outputs": [
    {
     "data": {
      "image/png": "[encoded data removed]",
      "text/plain": [
       "<Figure size 576x432 with 2 Axes>"
      ]
     },
     "metadata": {
      "needs_background": "light"
     },
     "output_type": "display_data"
    }
   ],
   "source": [
    "cr1=cr[abs(cr)>0.7]\n",
    "plt.figure(figsize=(8,6))\n",
    "sns.heatmap(cr1,annot=True,cmap='coolwarm')\n",
    "plt.show()"
   ]
  },
  {
   "cell_type": "markdown",
   "id": "3bc6c81c",
   "metadata": {},
   "source": [
    "### There is no strong correlation between the two numeric variable expecting selling_price and present_price"
   ]
  },
  {
   "cell_type": "code",
   "execution_count": 360,
   "id": "c848c774",
   "metadata": {},
   "outputs": [
    {
     "data": {
      "text/plain": [
       "Index(['Selling_Price', 'Present_Price', 'Kms_Driven', 'Owner',\n",
       "       'Seller_Type_Individual', 'Fuel_Type_Diesel', 'Fuel_Type_Petrol',\n",
       "       'Transmission_Manual', 'year_old'],\n",
       "      dtype='object')"
      ]
     },
     "execution_count": 360,
     "metadata": {},
     "output_type": "execute_result"
    }
   ],
   "source": [
    "df2_dum.columns"
   ]
  },
  {
   "cell_type": "code",
   "execution_count": 381,
   "id": "d0b84784",
   "metadata": {},
   "outputs": [
    {
     "name": "stdout",
     "output_type": "stream",
     "text": [
      "                  feature        VIF\n",
      "0           Selling_Price  14.818614\n",
      "1           Present_Price  11.465307\n",
      "2              Kms_Driven   2.939083\n",
      "3                   Owner   1.098160\n",
      "4  Seller_Type_Individual   2.355717\n",
      "5        Fuel_Type_Diesel   8.479080\n",
      "6        Fuel_Type_Petrol  23.072107\n",
      "7     Transmission_Manual   8.743340\n",
      "8                year_old  16.515333\n"
     ]
    }
   ],
   "source": [
    "from statsmodels.stats.outliers_influence import variance_inflation_factor\n",
    "\n",
    "X = df2_dum[['Selling_Price', 'Present_Price', 'Kms_Driven', 'Owner',\n",
    "       'Seller_Type_Individual', 'Fuel_Type_Diesel', 'Fuel_Type_Petrol',\n",
    "       'Transmission_Manual', 'year_old']]\n",
    "\n",
    "# VIF dataframe\n",
    "vif_data = pd.DataFrame()\n",
    "vif_data['feature'] = X.columns\n",
    "\n",
    "# calculating VIF for each feature\n",
    "vif_data['VIF'] = [variance_inflation_factor(X.values,i)\n",
    "                      for i in range(len(X.columns))]\n",
    "print(vif_data)"
   ]
  },
  {
   "cell_type": "code",
   "execution_count": 383,
   "id": "96a3e771",
   "metadata": {},
   "outputs": [
    {
     "data": {
      "text/html": [
       "<div>\n",
       "<style scoped>\n",
       "    .dataframe tbody tr th:only-of-type {\n",
       "        vertical-align: middle;\n",
       "    }\n",
       "\n",
       "    .dataframe tbody tr th {\n",
       "        vertical-align: top;\n",
       "    }\n",
       "\n",
       "    .dataframe thead th {\n",
       "        text-align: right;\n",
       "    }\n",
       "</style>\n",
       "<table border=\"1\" class=\"dataframe\">\n",
       "  <thead>\n",
       "    <tr style=\"text-align: right;\">\n",
       "      <th></th>\n",
       "      <th>feature</th>\n",
       "      <th>VIF</th>\n",
       "    </tr>\n",
       "  </thead>\n",
       "  <tbody>\n",
       "    <tr>\n",
       "      <th>2</th>\n",
       "      <td>year_old</td>\n",
       "      <td>2.934520</td>\n",
       "    </tr>\n",
       "    <tr>\n",
       "      <th>1</th>\n",
       "      <td>Kms_Driven</td>\n",
       "      <td>2.566379</td>\n",
       "    </tr>\n",
       "    <tr>\n",
       "      <th>0</th>\n",
       "      <td>Present_Price</td>\n",
       "      <td>1.723893</td>\n",
       "    </tr>\n",
       "  </tbody>\n",
       "</table>\n",
       "</div>"
      ],
      "text/plain": [
       "         feature       VIF\n",
       "2       year_old  2.934520\n",
       "1     Kms_Driven  2.566379\n",
       "0  Present_Price  1.723893"
      ]
     },
     "execution_count": 383,
     "metadata": {},
     "output_type": "execute_result"
    }
   ],
   "source": [
    "from statsmodels.stats.outliers_influence import variance_inflation_factor\n",
    "\n",
    "X = df2_dum[['Present_Price', 'Kms_Driven', 'year_old']]\n",
    "\n",
    "# VIF dataframe\n",
    "vif_data = pd.DataFrame()\n",
    "vif_data['feature'] = X.columns\n",
    "\n",
    "# calculating VIF for each feature\n",
    "vif_data['VIF'] = [variance_inflation_factor(X.values,i)\n",
    "                      for i in range(len(X.columns))]\n",
    "\n",
    "vif_data.sort_values(by=[\"VIF\"], ascending=False)"
   ]
  },
  {
   "cell_type": "markdown",
   "id": "1403356a",
   "metadata": {},
   "source": [
    "#### avoiding variable that are having high VIF i.e having high correlation between two variable"
   ]
  },
  {
   "cell_type": "markdown",
   "id": "7d1d5824",
   "metadata": {},
   "source": [
    "### Normality Test"
   ]
  },
  {
   "cell_type": "code",
   "execution_count": 363,
   "id": "e7dbcba9",
   "metadata": {},
   "outputs": [
    {
     "data": {
      "text/plain": [
       "ShapiroResult(statistic=0.7606580257415771, pvalue=1.2634042444437403e-20)"
      ]
     },
     "execution_count": 363,
     "metadata": {},
     "output_type": "execute_result"
    }
   ],
   "source": [
    "from scipy.stats import shapiro\n",
    "shapiro(df2_dum[\"Selling_Price\"])"
   ]
  },
  {
   "cell_type": "code",
   "execution_count": 384,
   "id": "0f036d27",
   "metadata": {},
   "outputs": [
    {
     "name": "stdout",
     "output_type": "stream",
     "text": [
      "ShapiroResult(statistic=0.9417944550514221, pvalue=1.6305882200029487e-09)\n"
     ]
    },
    {
     "data": {
      "image/png": "[encoded data removed]",
      "text/plain": [
       "<Figure size 432x288 with 1 Axes>"
      ]
     },
     "metadata": {
      "needs_background": "light"
     },
     "output_type": "display_data"
    }
   ],
   "source": [
    "print(shapiro(np.sqrt(df2_dum[\"Selling_Price\"])))\n",
    "\n",
    "sns.histplot(np.sqrt(df2_dum[\"Selling_Price\"]))\n",
    "plt.show()"
   ]
  },
  {
   "cell_type": "markdown",
   "id": "b279f5a1",
   "metadata": {},
   "source": [
    "#### As it is observed that p value is less than Alpha values therefore the data is not normally distributed"
   ]
  },
  {
   "cell_type": "markdown",
   "id": "af523142",
   "metadata": {},
   "source": [
    "### Model development\n",
    "* Seperate x, y\n",
    "* Split into Train and Test\n",
    "* run model on Train Data and validate on train and test ( MSE, RMSE, MAE, MAPE)\n"
   ]
  },
  {
   "cell_type": "markdown",
   "id": "191f0e0c",
   "metadata": {},
   "source": [
    "x=df2_dum.drop(columns=['Selling_Price']) # it is equivalent to selecting all columns except Target variable ie (Selling_Price)\n",
    "y=df2_dum['Selling_Price']                # it is selecting Target variable "
   ]
  },
  {
   "cell_type": "code",
   "execution_count": 393,
   "id": "cc0c69bd",
   "metadata": {},
   "outputs": [],
   "source": [
    "x=df2_dum[['Present_Price', 'Kms_Driven', 'year_old']]\n",
    "y=df2_dum['Selling_Price']                # it is selecting Target variable "
   ]
  },
  {
   "cell_type": "code",
   "execution_count": 394,
   "id": "bd03ade7",
   "metadata": {},
   "outputs": [],
   "source": [
    "from sklearn.model_selection import train_test_split  # Train test split\n",
    "from sklearn.linear_model import LinearRegression     # Model development\n",
    "from sklearn import metrics                            # Model evaluate"
   ]
  },
  {
   "cell_type": "markdown",
   "id": "fe2c0a36",
   "metadata": {},
   "source": [
    "#### test size is specify train:test=75:25, and fixing the data in set of train data and test data using random_state=fixed value"
   ]
  },
  {
   "cell_type": "code",
   "execution_count": 395,
   "id": "12184812",
   "metadata": {},
   "outputs": [],
   "source": [
    "x_train, x_test, y_train, y_test=train_test_split(x,y, test_size=.25, \n",
    "                                                  random_state=0)"
   ]
  },
  {
   "cell_type": "markdown",
   "id": "1d548220",
   "metadata": {},
   "source": [
    "### Model: Linear Regression"
   ]
  },
  {
   "cell_type": "code",
   "execution_count": 396,
   "id": "5bd1a55d",
   "metadata": {},
   "outputs": [
    {
     "data": {
      "text/plain": [
       "LinearRegression()"
      ]
     },
     "execution_count": 396,
     "metadata": {},
     "output_type": "execute_result"
    }
   ],
   "source": [
    "reg=LinearRegression() # what we have Called ie linearRegression , making it an object reg\n",
    "\n",
    "# Model made using this code\n",
    "\n",
    "reg.fit(x_train, y_train) "
   ]
  },
  {
   "cell_type": "markdown",
   "id": "e2065ce6",
   "metadata": {},
   "source": [
    "#### getting weight for each variable using reg.coef_"
   ]
  },
  {
   "cell_type": "code",
   "execution_count": 402,
   "id": "2ace0ee2",
   "metadata": {},
   "outputs": [
    {
     "data": {
      "text/plain": [
       "array([ 4.87402680e-01, -1.70484906e-07, -4.43047790e-01])"
      ]
     },
     "execution_count": 402,
     "metadata": {},
     "output_type": "execute_result"
    }
   ],
   "source": [
    "reg.coef_ # these are m values we call them weights here"
   ]
  },
  {
   "cell_type": "code",
   "execution_count": 403,
   "id": "59cba070",
   "metadata": {},
   "outputs": [
    {
     "data": {
      "text/plain": [
       "4.528571912426832"
      ]
     },
     "execution_count": 403,
     "metadata": {},
     "output_type": "execute_result"
    }
   ],
   "source": [
    "reg.intercept_ # this is c values "
   ]
  },
  {
   "cell_type": "code",
   "execution_count": 404,
   "id": "d6a13c79",
   "metadata": {},
   "outputs": [
    {
     "data": {
      "text/plain": [
       "Index(['Present_Price', 'Kms_Driven', 'year_old'], dtype='object')"
      ]
     },
     "execution_count": 404,
     "metadata": {},
     "output_type": "execute_result"
    }
   ],
   "source": [
    "X.columns"
   ]
  },
  {
   "cell_type": "code",
   "execution_count": 405,
   "id": "762e5145",
   "metadata": {},
   "outputs": [
    {
     "name": "stdout",
     "output_type": "stream",
     "text": [
      "Train R^2 :  0.8468316996170313\n"
     ]
    }
   ],
   "source": [
    "# R^2 : How much % of Variance can be explained  by this model/ variables\n",
    "print(\"Train R^2 : \", reg.score(x_train, y_train))"
   ]
  },
  {
   "cell_type": "code",
   "execution_count": 406,
   "id": "f85785d9",
   "metadata": {},
   "outputs": [
    {
     "name": "stdout",
     "output_type": "stream",
     "text": [
      "Test R^2 :  0.8380664677229962\n"
     ]
    }
   ],
   "source": [
    "print(\"Test R^2 : \", reg.score(x_test, y_test))"
   ]
  },
  {
   "cell_type": "markdown",
   "id": "8b65f8f6",
   "metadata": {},
   "source": [
    "#### So R^2 for Train Data is 85.53% and Test Data is 83.38% "
   ]
  },
  {
   "cell_type": "code",
   "execution_count": null,
   "id": "01c0c93c",
   "metadata": {},
   "outputs": [],
   "source": []
  },
  {
   "cell_type": "code",
   "execution_count": 374,
   "id": "2e27260e",
   "metadata": {},
   "outputs": [
    {
     "data": {
      "text/plain": [
       "array([ 5.99835804,  0.05661793,  4.20122543,  7.51836182, 11.94672668,\n",
       "        4.77912446,  3.40159124,  2.13818616,  3.84515048,  4.6735247 ,\n",
       "        1.89325974,  2.33323248,  5.08809911,  6.26946275,  7.12202924,\n",
       "       13.59482968,  6.01064062,  4.27221231,  0.16170449,  3.20016716,\n",
       "        3.55061745,  4.64788495,  5.11655578,  8.49509656, -1.31877423,\n",
       "        2.72189879,  0.02584576,  1.56506641,  0.57840636,  6.08755301,\n",
       "        2.51157451,  5.80129285,  1.46245612,  6.19983876,  3.63111817,\n",
       "        2.59990597,  5.62055771,  5.24652903, -1.31297775,  7.79708657,\n",
       "        7.54719603, 18.5042001 ,  4.20466684,  4.89630388,  4.90498337,\n",
       "        8.49283542,  0.81872081,  2.4395234 ,  5.35718089,  5.61807532,\n",
       "        6.84996059,  4.02734798,  5.11245682, 18.94622498,  2.59832046,\n",
       "        2.13928671,  0.92199995,  1.80452246,  3.39279534,  2.66291584,\n",
       "        3.66138983,  5.32254528,  2.25324586, 19.97090916,  4.29289858,\n",
       "        5.71589576,  7.79709642,  7.82894446,  2.5616867 ,  2.43078468,\n",
       "        3.79126364,  2.91353918,  2.57506424,  5.11505518, -0.31254204,\n",
       "        5.4738145 ])"
      ]
     },
     "execution_count": 374,
     "metadata": {},
     "output_type": "execute_result"
    }
   ],
   "source": [
    "pred_test=reg.predict(x_test)\n",
    "pred_test"
   ]
  },
  {
   "cell_type": "code",
   "execution_count": 375,
   "id": "b68275d1",
   "metadata": {},
   "outputs": [
    {
     "data": {
      "text/plain": [
       "array([ 1.36521823e+00,  8.49397954e+00, -2.79970957e+00,  2.85708435e+00,\n",
       "        2.13109583e+00,  1.13970357e+01,  4.20183117e+00,  5.07525615e+00,\n",
       "        5.55808967e+00,  1.25199774e+00,  4.67416879e+00,  7.68393824e+00,\n",
       "        4.89650970e-01,  4.74502946e+00,  1.78706294e+00,  4.67521488e+00,\n",
       "        7.62010073e+00,  1.40068298e+00,  4.66757478e+00,  3.71651417e-01,\n",
       "        1.41174007e+00,  1.13987130e-01,  3.09297267e+00,  1.95779721e+00,\n",
       "        3.39867049e+00,  3.90206481e+00,  1.37182540e+00,  4.74596583e+00,\n",
       "        9.49088126e-01,  2.77614388e+00,  5.73015985e+00,  2.69654757e+00,\n",
       "        6.00268512e+00,  2.33404724e+00,  8.49708970e+00,  4.02692177e+00,\n",
       "        2.56422508e+00,  1.38286305e+00,  5.82617444e+00,  7.98119903e+00,\n",
       "        2.70611741e+00,  6.26070906e+00,  9.60488612e+00,  1.83273448e+00,\n",
       "        1.13546566e+00,  2.73683903e+00,  5.09599310e+00,  6.47880538e+00,\n",
       "        1.69416661e+00,  6.67920683e+00,  4.96374443e+00,  4.73543815e+00,\n",
       "        3.02793957e+00,  4.29571482e+00,  4.02745897e+00,  4.32540892e+00,\n",
       "        1.42404952e+01,  8.94899940e-01,  5.17331838e+00,  9.16932463e+00,\n",
       "        1.88743988e+00, -2.21036505e+00,  1.01599863e+00,  4.30044713e+00,\n",
       "        5.70196329e+00,  7.84261652e-01,  5.18067944e+00,  1.26968855e+00,\n",
       "       -7.31012223e-02,  1.67688082e+00,  2.56122639e+00, -3.84914064e-01,\n",
       "        2.68089061e+00,  3.00399247e+00,  2.55009308e+00,  5.96378575e+00,\n",
       "        8.15892601e-01,  3.09440659e+00,  8.49051205e+00,  3.31030138e+00,\n",
       "        6.44855716e+00,  9.12378993e+00,  1.63398140e+01,  7.11307302e+00,\n",
       "        8.04432086e+00,  3.02911591e+00,  2.09571421e+00,  4.43321888e+01,\n",
       "        4.06761863e+00, -1.29903548e+00,  4.29179622e+00,  2.91608959e+00,\n",
       "        2.26992383e+00,  2.56117524e+00,  1.49996391e+01,  2.95912242e+00,\n",
       "        6.89233685e+00,  1.24969619e+00,  4.51725143e+00,  1.84978922e+01,\n",
       "       -2.73479766e+00,  4.66945011e+00,  2.73549796e+00,  4.03080654e+00,\n",
       "        6.29805430e+00,  4.90485040e+00,  2.14082108e+00,  2.29176823e+00,\n",
       "       -1.84348708e+00,  4.46596521e+00,  2.32435205e+00,  2.15276263e+00,\n",
       "        5.57164730e+00,  9.60403386e+00,  4.67354175e+00,  1.63398140e+01,\n",
       "        5.78638659e+00,  5.78150634e-01,  4.92822264e+00,  1.23439977e+00,\n",
       "        2.54668195e+00,  3.70416748e+00,  9.41376275e+00,  8.05168581e+00,\n",
       "        9.15638298e+00,  4.29268410e+00,  4.24734961e+00,  4.39503590e+00,\n",
       "        1.20598294e+01,  6.83499592e+00,  5.18070160e+00,  8.98166402e+00,\n",
       "        4.11538871e+00,  2.25679762e+00,  4.19950030e+00,  2.66288331e+00,\n",
       "        2.77807958e+00, -3.37514870e-01,  2.27544130e+00,  1.03257628e+01,\n",
       "        3.36440284e-01,  2.79583881e+00,  3.58160960e+00,  1.82383885e+00,\n",
       "        5.13702929e+00,  8.40433210e+00, -1.50589021e+00,  5.38174271e+00,\n",
       "        6.33695638e+00,  1.88798443e+00,  3.52358403e+00,  5.01700569e-01,\n",
       "        3.84973896e-01,  1.12056950e+00,  8.04903920e+00,  8.49371870e+00,\n",
       "        1.83171157e+00,  8.05165171e+00,  8.81656934e+00,  1.46859297e+01,\n",
       "        3.41514686e+00,  6.47778247e+00,  1.46628628e+00,  3.18022779e+00,\n",
       "        3.41901906e+00,  8.23991988e+00,  1.68804804e+00,  6.89236071e+00,\n",
       "        4.36396640e+00,  5.18363252e+00,  2.48344079e+00,  4.39004138e+00,\n",
       "       -5.38302843e-01,  1.80094389e+00,  2.57868221e+00,  2.77576881e+00,\n",
       "        1.50023169e+01,  7.12202924e+00,  4.83223232e+00,  8.63372377e+00,\n",
       "        3.70120093e+00,  1.54375224e+01,  4.38986169e+00,  2.73686184e+00,\n",
       "        1.12964528e+00,  7.66640878e-01, -3.29572115e-01,  2.13307161e+00,\n",
       "        5.11437324e+00,  4.20062499e+00,  2.02920505e+00,  4.62818676e+00,\n",
       "        2.25901392e+00, -1.39172752e+00,  7.60602517e+00,  6.29655880e+00,\n",
       "        1.82676751e+00,  5.96242187e+00,  2.14401306e+00,  9.17085491e+00,\n",
       "       -5.45052203e-01,  5.57335215e+00,  2.14073584e+00,  6.55012200e+00,\n",
       "        9.60215836e+00,  2.08377590e+00,  2.13339738e+00,  8.05011735e+00,\n",
       "        1.77158659e+00,  4.10032753e+00, -1.04327741e-02,  8.53861906e-01,\n",
       "        3.48191523e+00,  4.26692728e+00,  6.78545968e+00,  4.45357422e+00,\n",
       "        8.05220067e+00,  8.62850096e+00,  5.76764636e+00,  1.57723927e+00,\n",
       "        5.35676167e+00, -1.75994669e+00,  2.35091569e+00, -5.48553124e-01,\n",
       "        1.29379166e+00])"
      ]
     },
     "execution_count": 375,
     "metadata": {},
     "output_type": "execute_result"
    }
   ],
   "source": [
    "pred_train=reg.predict(x_train)\n",
    "pred_train"
   ]
  },
  {
   "cell_type": "code",
   "execution_count": 376,
   "id": "19c7a1dc",
   "metadata": {},
   "outputs": [
    {
     "data": {
      "text/plain": [
       "146    0.55\n",
       "260    9.15\n",
       "37     0.35\n",
       "273    2.25\n",
       "164    0.45\n",
       "       ... \n",
       "251    5.00\n",
       "192    0.20\n",
       "117    1.10\n",
       "47     1.05\n",
       "172    0.40\n",
       "Name: Selling_Price, Length: 225, dtype: float64"
      ]
     },
     "execution_count": 376,
     "metadata": {},
     "output_type": "execute_result"
    }
   ],
   "source": [
    "\n",
    "y_train"
   ]
  },
  {
   "cell_type": "code",
   "execution_count": 377,
   "id": "68464e7b",
   "metadata": {},
   "outputs": [
    {
     "data": {
      "text/plain": [
       "223     8.25\n",
       "150     0.50\n",
       "226     5.25\n",
       "296     9.50\n",
       "52     18.00\n",
       "       ...  \n",
       "46      2.65\n",
       "158     0.48\n",
       "230     6.15\n",
       "179     0.31\n",
       "27      6.00\n",
       "Name: Selling_Price, Length: 76, dtype: float64"
      ]
     },
     "execution_count": 377,
     "metadata": {},
     "output_type": "execute_result"
    }
   ],
   "source": [
    "y_test"
   ]
  },
  {
   "cell_type": "code",
   "execution_count": null,
   "id": "a213eb18",
   "metadata": {},
   "outputs": [],
   "source": []
  },
  {
   "cell_type": "code",
   "execution_count": 378,
   "id": "5d76e2f6",
   "metadata": {},
   "outputs": [
    {
     "name": "stdout",
     "output_type": "stream",
     "text": [
      "Train MSE 3.5957748796325055\n",
      "Train rmse 1.8962528522410995\n",
      "Train MAE 1.2627466686987732\n",
      "Train MAPE 1.2324570747302817\n"
     ]
    }
   ],
   "source": [
    "print(\"Train MSE\", np.mean((pred_train-y_train)**(2)))\n",
    "print(\"Train rmse\", np.sqrt(np.mean((pred_train-y_train)**(2))))\n",
    "print(\"Train MAE\",  np.mean(np.abs(pred_train-y_train)))\n",
    "print(\"Train MAPE\",  np.mean(np.abs((pred_train-y_train)/y_train)))"
   ]
  },
  {
   "cell_type": "code",
   "execution_count": 379,
   "id": "fc884c2b",
   "metadata": {},
   "outputs": [
    {
     "name": "stdout",
     "output_type": "stream",
     "text": [
      "Test MSE 5.17632482166074\n",
      "Test rmse 2.275153801759507\n",
      "Test MAE 1.3678567755024733\n",
      "Test MAPE 0.7671083525540452\n"
     ]
    }
   ],
   "source": [
    "print(\"Test MSE\", np.mean((pred_test-y_test)**(2)))\n",
    "print(\"Test rmse\", np.sqrt(np.mean((pred_test-y_test)**(2))))\n",
    "print(\"Test MAE\",  np.mean(np.abs(pred_test-y_test)))\n",
    "print(\"Test MAPE\",  np.mean(np.abs((pred_test-y_test)/y_test)))"
   ]
  },
  {
   "cell_type": "markdown",
   "id": "4a43746b",
   "metadata": {},
   "source": [
    "## it is just statistical learning"
   ]
  },
  {
   "cell_type": "code",
   "execution_count": null,
   "id": "f4bc7d15",
   "metadata": {},
   "outputs": [],
   "source": []
  }
 ],
 "metadata": {
  "kernelspec": {
   "display_name": "Python 3 (ipykernel)",
   "language": "python",
   "name": "python3"
  },
  "language_info": {
   "codemirror_mode": {
    "name": "ipython",
    "version": 3
   },
   "file_extension": ".py",
   "mimetype": "text/x-python",
   "name": "python",
   "nbconvert_exporter": "python",
   "pygments_lexer": "ipython3",
   "version": "3.9.12"
  }
 },
 "nbformat": 4,
 "nbformat_minor": 5
}
