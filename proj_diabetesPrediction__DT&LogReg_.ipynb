{
 "cells": [
  {
   "cell_type": "code",
   "execution_count": 1,
   "id": "9f5e70c4",
   "metadata": {},
   "outputs": [],
   "source": [
    "import os \n",
    "import pandas as pd\n",
    "import numpy as np\n",
    "import seaborn as sns\n",
    "import matplotlib.pyplot as plt\n",
    "\n",
    "from sklearn import metrics # for  model evaluation\n",
    "from sklearn.model_selection import train_test_split, GridSearchCV\n",
    "from sklearn.tree import DecisionTreeClassifier\n",
    "\n",
    "from sklearn.model_selection import train_test_split\n",
    "from sklearn.linear_model import LogisticRegression"
   ]
  },
  {
   "cell_type": "code",
   "execution_count": 2,
   "id": "53ff73ed",
   "metadata": {},
   "outputs": [],
   "source": [
    "os.chdir('E:\\MLData')"
   ]
  },
  {
   "cell_type": "code",
   "execution_count": 3,
   "id": "75388a52",
   "metadata": {},
   "outputs": [
    {
     "data": {
      "text/plain": [
       "['2. Linear Regression (1).pdf',\n",
       " 'bootstrap.html',\n",
       " 'corr.xlsx',\n",
       " 'Covid_Data',\n",
       " 'date.py',\n",
       " 'DecisionTreeTheory.ipynb',\n",
       " 'diabetes.csv',\n",
       " 'DiabeticData.zip',\n",
       " 'drinks.csv',\n",
       " 'naiveByesData',\n",
       " 'nycDataSet',\n",
       " 'outlier.xlsx',\n",
       " 'tempCodeRunnerFile.py',\n",
       " 'WebScraping.html',\n",
       " 'WebScrapingPyt.py']"
      ]
     },
     "execution_count": 3,
     "metadata": {},
     "output_type": "execute_result"
    }
   ],
   "source": [
    "os.listdir()"
   ]
  },
  {
   "cell_type": "code",
   "execution_count": 4,
   "id": "a3d728c9",
   "metadata": {},
   "outputs": [],
   "source": [
    "df=pd.read_csv(\"diabetes.csv\")"
   ]
  },
  {
   "cell_type": "code",
   "execution_count": 5,
   "id": "8abaef90",
   "metadata": {},
   "outputs": [
    {
     "data": {
      "text/html": [
       "<div>\n",
       "<style scoped>\n",
       "    .dataframe tbody tr th:only-of-type {\n",
       "        vertical-align: middle;\n",
       "    }\n",
       "\n",
       "    .dataframe tbody tr th {\n",
       "        vertical-align: top;\n",
       "    }\n",
       "\n",
       "    .dataframe thead th {\n",
       "        text-align: right;\n",
       "    }\n",
       "</style>\n",
       "<table border=\"1\" class=\"dataframe\">\n",
       "  <thead>\n",
       "    <tr style=\"text-align: right;\">\n",
       "      <th></th>\n",
       "      <th>Pregnancies</th>\n",
       "      <th>Glucose</th>\n",
       "      <th>BloodPressure</th>\n",
       "      <th>SkinThickness</th>\n",
       "      <th>Insulin</th>\n",
       "      <th>BMI</th>\n",
       "      <th>DiabetesPedigreeFunction</th>\n",
       "      <th>Age</th>\n",
       "      <th>Outcome</th>\n",
       "    </tr>\n",
       "  </thead>\n",
       "  <tbody>\n",
       "    <tr>\n",
       "      <th>0</th>\n",
       "      <td>6</td>\n",
       "      <td>148</td>\n",
       "      <td>72</td>\n",
       "      <td>35</td>\n",
       "      <td>0</td>\n",
       "      <td>33.6</td>\n",
       "      <td>0.627</td>\n",
       "      <td>50</td>\n",
       "      <td>1</td>\n",
       "    </tr>\n",
       "    <tr>\n",
       "      <th>1</th>\n",
       "      <td>1</td>\n",
       "      <td>85</td>\n",
       "      <td>66</td>\n",
       "      <td>29</td>\n",
       "      <td>0</td>\n",
       "      <td>26.6</td>\n",
       "      <td>0.351</td>\n",
       "      <td>31</td>\n",
       "      <td>0</td>\n",
       "    </tr>\n",
       "    <tr>\n",
       "      <th>2</th>\n",
       "      <td>8</td>\n",
       "      <td>183</td>\n",
       "      <td>64</td>\n",
       "      <td>0</td>\n",
       "      <td>0</td>\n",
       "      <td>23.3</td>\n",
       "      <td>0.672</td>\n",
       "      <td>32</td>\n",
       "      <td>1</td>\n",
       "    </tr>\n",
       "    <tr>\n",
       "      <th>3</th>\n",
       "      <td>1</td>\n",
       "      <td>89</td>\n",
       "      <td>66</td>\n",
       "      <td>23</td>\n",
       "      <td>94</td>\n",
       "      <td>28.1</td>\n",
       "      <td>0.167</td>\n",
       "      <td>21</td>\n",
       "      <td>0</td>\n",
       "    </tr>\n",
       "    <tr>\n",
       "      <th>4</th>\n",
       "      <td>0</td>\n",
       "      <td>137</td>\n",
       "      <td>40</td>\n",
       "      <td>35</td>\n",
       "      <td>168</td>\n",
       "      <td>43.1</td>\n",
       "      <td>2.288</td>\n",
       "      <td>33</td>\n",
       "      <td>1</td>\n",
       "    </tr>\n",
       "  </tbody>\n",
       "</table>\n",
       "</div>"
      ],
      "text/plain": [
       "   Pregnancies  Glucose  BloodPressure  SkinThickness  Insulin   BMI  \\\n",
       "0            6      148             72             35        0  33.6   \n",
       "1            1       85             66             29        0  26.6   \n",
       "2            8      183             64              0        0  23.3   \n",
       "3            1       89             66             23       94  28.1   \n",
       "4            0      137             40             35      168  43.1   \n",
       "\n",
       "   DiabetesPedigreeFunction  Age  Outcome  \n",
       "0                     0.627   50        1  \n",
       "1                     0.351   31        0  \n",
       "2                     0.672   32        1  \n",
       "3                     0.167   21        0  \n",
       "4                     2.288   33        1  "
      ]
     },
     "execution_count": 5,
     "metadata": {},
     "output_type": "execute_result"
    }
   ],
   "source": [
    "df.head()"
   ]
  },
  {
   "cell_type": "code",
   "execution_count": 6,
   "id": "048238d4",
   "metadata": {},
   "outputs": [
    {
     "data": {
      "text/plain": [
       "Pregnancies                   int64\n",
       "Glucose                       int64\n",
       "BloodPressure                 int64\n",
       "SkinThickness                 int64\n",
       "Insulin                       int64\n",
       "BMI                         float64\n",
       "DiabetesPedigreeFunction    float64\n",
       "Age                           int64\n",
       "Outcome                       int64\n",
       "dtype: object"
      ]
     },
     "execution_count": 6,
     "metadata": {},
     "output_type": "execute_result"
    }
   ],
   "source": [
    "df.dtypes"
   ]
  },
  {
   "cell_type": "markdown",
   "id": "837aef1b",
   "metadata": {},
   "source": [
    "Target Variable:outcome"
   ]
  },
  {
   "cell_type": "code",
   "execution_count": 96,
   "id": "dd4d600c",
   "metadata": {},
   "outputs": [
    {
     "name": "stdout",
     "output_type": "stream",
     "text": [
      "<class 'pandas.core.frame.DataFrame'>\n",
      "RangeIndex: 768 entries, 0 to 767\n",
      "Data columns (total 9 columns):\n",
      " #   Column                    Non-Null Count  Dtype  \n",
      "---  ------                    --------------  -----  \n",
      " 0   Pregnancies               768 non-null    int64  \n",
      " 1   Glucose                   768 non-null    int64  \n",
      " 2   BloodPressure             768 non-null    int64  \n",
      " 3   SkinThickness             768 non-null    int64  \n",
      " 4   Insulin                   768 non-null    int64  \n",
      " 5   BMI                       768 non-null    float64\n",
      " 6   DiabetesPedigreeFunction  768 non-null    float64\n",
      " 7   Age                       768 non-null    int64  \n",
      " 8   Outcome                   768 non-null    int64  \n",
      "dtypes: float64(2), int64(7)\n",
      "memory usage: 54.1 KB\n"
     ]
    }
   ],
   "source": [
    "df.info()"
   ]
  },
  {
   "cell_type": "markdown",
   "id": "08dda105",
   "metadata": {},
   "source": [
    "### Feature Engineering"
   ]
  },
  {
   "cell_type": "markdown",
   "id": "05932cae",
   "metadata": {},
   "source": [
    "##### univariate Analysis"
   ]
  },
  {
   "cell_type": "code",
   "execution_count": 7,
   "id": "cfeb1617",
   "metadata": {},
   "outputs": [],
   "source": [
    "def univariate_cat(data,x):\n",
    "    missing=data[x].isnull().sum()\n",
    "    unique_cnt=data[x].nunique()\n",
    "    unique_cat=list(data[x].unique())\n",
    "    \n",
    "    f1=pd.DataFrame(data[x].value_counts())\n",
    "    f1.rename(columns={'ed':'Count'},inplace=True)\n",
    "    \n",
    "    f2=pd.DataFrame(data[x].value_counts(normalize=True))\n",
    "    f2.rename(columns={x:'Percentage'},inplace=True)\n",
    "    f2['Percentage']=(f2['Percentage']*100).round(2).astype(str)+\"%\"\n",
    "    ff=pd.concat([f1,f2],axis=1)    \n",
    "    \n",
    "    print(f\"Total missing values : {missing}\\n\")\n",
    "    print(f\"Total count of unique categories: {unique_cnt}\\n\")\n",
    "    print(f\"Unique categories :\\n{unique_cat}\")\n",
    "    print(\"value counts and %n \",ff)\n",
    "#     plt.figure(figsize=(10,8))\n",
    "#     sns.countplot(data=data,x=x)\n",
    "#     plt.show()"
   ]
  },
  {
   "cell_type": "code",
   "execution_count": 8,
   "id": "b752b774",
   "metadata": {},
   "outputs": [
    {
     "data": {
      "text/plain": [
       "Index(['Pregnancies', 'Glucose', 'BloodPressure', 'SkinThickness', 'Insulin',\n",
       "       'BMI', 'DiabetesPedigreeFunction', 'Age', 'Outcome'],\n",
       "      dtype='object')"
      ]
     },
     "execution_count": 8,
     "metadata": {},
     "output_type": "execute_result"
    }
   ],
   "source": [
    "df.columns"
   ]
  },
  {
   "cell_type": "code",
   "execution_count": 9,
   "id": "eeef4ba7",
   "metadata": {},
   "outputs": [
    {
     "name": "stdout",
     "output_type": "stream",
     "text": [
      "Total missing values : 0\n",
      "\n",
      "Total count of unique categories: 2\n",
      "\n",
      "Unique categories :\n",
      "[1, 0]\n",
      "value counts and %n     Outcome Percentage\n",
      "0      500      65.1%\n",
      "1      268      34.9%\n"
     ]
    }
   ],
   "source": [
    "# 'Pregnancies', 'Glucose', 'BloodPressure', 'SkinThickness', 'Insulin',\n",
    "#        'BMI', 'DiabetesPedigreeFunction', 'Age', 'Outcome'\n",
    "univariate_cat(data=df,x='Outcome')"
   ]
  },
  {
   "cell_type": "code",
   "execution_count": 10,
   "id": "562f9dfc",
   "metadata": {},
   "outputs": [],
   "source": [
    "def univariate_num(data,x):\n",
    "    missing=data[x].isnull().sum()\n",
    "    min1=round(data[x].min(), 2)\n",
    "    max1=round(data[x].max(), 2)\n",
    "    mean=round(data[x].mean(), 2)\n",
    "    var=round(data[x].var(), 2)\n",
    "    std=round(data[x].std(),2)\n",
    "    range1=round(max1-min1, 2)\n",
    "    q1=round(data[x].quantile(.25), 2)\n",
    "    q2=round(data[x].quantile(.5),2)\n",
    "    q3=round(data[x].quantile(.75), 2)\n",
    "    skew=round( data[x].skew(), 2)\n",
    "    kurt=round(data[x].kurt(), 2)\n",
    "    myvalue={\"missing\":missing, \"min\":min1, \"max\":max1, \"mean\":mean,\n",
    "             \"var\":var,\"std\":std, \"range\":range1,\"q1\":q1, \"q2\":q2,\"q3\":q3,\n",
    "            \"skewness\":skew, \"kurtosis\":kurt}\n",
    "    sns.histplot(data[x])\n",
    "    plt.show()\n",
    "    sns.boxplot(data=data, y=data[x])\n",
    "    plt.show()\n",
    "    return myvalue"
   ]
  },
  {
   "cell_type": "code",
   "execution_count": 11,
   "id": "6cffcbc1",
   "metadata": {},
   "outputs": [
    {
     "data": {
      "text/plain": [
       "Index(['Pregnancies', 'Glucose', 'BloodPressure', 'SkinThickness', 'Insulin',\n",
       "       'BMI', 'DiabetesPedigreeFunction', 'Age', 'Outcome'],\n",
       "      dtype='object')"
      ]
     },
     "execution_count": 11,
     "metadata": {},
     "output_type": "execute_result"
    }
   ],
   "source": [
    "df.columns"
   ]
  },
  {
   "cell_type": "code",
   "execution_count": 12,
   "id": "793e9c5a",
   "metadata": {},
   "outputs": [
    {
     "data": {
      "image/png": "[encoded data removed]",
      "text/plain": [
       "<Figure size 432x288 with 1 Axes>"
      ]
     },
     "metadata": {
      "needs_background": "light"
     },
     "output_type": "display_data"
    },
    {
     "data": {
      "image/png": "[encoded data removed]",
      "text/plain": [
       "<Figure size 432x288 with 1 Axes>"
      ]
     },
     "metadata": {
      "needs_background": "light"
     },
     "output_type": "display_data"
    },
    {
     "data": {
      "text/plain": [
       "{'missing': 0,\n",
       " 'min': 0,\n",
       " 'max': 17,\n",
       " 'mean': 3.85,\n",
       " 'var': 11.35,\n",
       " 'std': 3.37,\n",
       " 'range': 17,\n",
       " 'q1': 1.0,\n",
       " 'q2': 3.0,\n",
       " 'q3': 6.0,\n",
       " 'skewness': 0.9,\n",
       " 'kurtosis': 0.16}"
      ]
     },
     "execution_count": 12,
     "metadata": {},
     "output_type": "execute_result"
    }
   ],
   "source": [
    "# 'Pregnancies', 'Glucose', 'BloodPressure', 'SkinThickness', 'Insulin',\n",
    "#        'BMI', 'DiabetesPedigreeFunction', 'Age'\n",
    "univariate_num(data=df,x='Pregnancies')"
   ]
  },
  {
   "cell_type": "code",
   "execution_count": 102,
   "id": "fffb20f5",
   "metadata": {},
   "outputs": [
    {
     "data": {
      "image/png": "[encoded data removed]",
      "text/plain": [
       "<Figure size 432x288 with 1 Axes>"
      ]
     },
     "metadata": {
      "needs_background": "light"
     },
     "output_type": "display_data"
    },
    {
     "data": {
      "image/png": "[encoded data removed]",
      "text/plain": [
       "<Figure size 432x288 with 1 Axes>"
      ]
     },
     "metadata": {
      "needs_background": "light"
     },
     "output_type": "display_data"
    },
    {
     "data": {
      "text/plain": [
       "{'missing': 0,\n",
       " 'min': 0,\n",
       " 'max': 17,\n",
       " 'mean': 3.85,\n",
       " 'var': 11.35,\n",
       " 'std': 3.37,\n",
       " 'range': 17,\n",
       " 'q1': 1.0,\n",
       " 'q2': 3.0,\n",
       " 'q3': 6.0,\n",
       " 'skewness': 0.9,\n",
       " 'kurtosis': 0.16}"
      ]
     },
     "execution_count": 102,
     "metadata": {},
     "output_type": "execute_result"
    }
   ],
   "source": [
    "# 'Pregnancies', 'Glucose', 'BloodPressure', 'SkinThickness', 'Insulin',\n",
    "#        'BMI', 'DiabetesPedigreeFunction', 'Age'\n",
    "univariate_num(data=df,x='Pregnancies')"
   ]
  },
  {
   "cell_type": "code",
   "execution_count": 13,
   "id": "62a8c95d",
   "metadata": {},
   "outputs": [
    {
     "data": {
      "image/png": "[encoded data removed]",
      "text/plain": [
       "<Figure size 432x288 with 1 Axes>"
      ]
     },
     "metadata": {
      "needs_background": "light"
     },
     "output_type": "display_data"
    },
    {
     "data": {
      "image/png": "[encoded data removed]",
      "text/plain": [
       "<Figure size 432x288 with 1 Axes>"
      ]
     },
     "metadata": {
      "needs_background": "light"
     },
     "output_type": "display_data"
    },
    {
     "data": {
      "text/plain": [
       "{'missing': 0,\n",
       " 'min': 0,\n",
       " 'max': 199,\n",
       " 'mean': 120.89,\n",
       " 'var': 1022.25,\n",
       " 'std': 31.97,\n",
       " 'range': 199,\n",
       " 'q1': 99.0,\n",
       " 'q2': 117.0,\n",
       " 'q3': 140.25,\n",
       " 'skewness': 0.17,\n",
       " 'kurtosis': 0.64}"
      ]
     },
     "execution_count": 13,
     "metadata": {},
     "output_type": "execute_result"
    }
   ],
   "source": [
    "# 'Pregnancies', 'Glucose', 'BloodPressure', 'SkinThickness', 'Insulin',\n",
    "#        'BMI', 'DiabetesPedigreeFunction', 'Age'\n",
    "univariate_num(data=df,x='Glucose')"
   ]
  },
  {
   "cell_type": "code",
   "execution_count": 104,
   "id": "a241a039",
   "metadata": {},
   "outputs": [
    {
     "data": {
      "image/png": "[encoded data removed]",
      "text/plain": [
       "<Figure size 432x288 with 1 Axes>"
      ]
     },
     "metadata": {
      "needs_background": "light"
     },
     "output_type": "display_data"
    },
    {
     "data": {
      "image/png": "[encoded data removed]",
      "text/plain": [
       "<Figure size 432x288 with 1 Axes>"
      ]
     },
     "metadata": {
      "needs_background": "light"
     },
     "output_type": "display_data"
    },
    {
     "data": {
      "text/plain": [
       "{'missing': 0,\n",
       " 'min': 0,\n",
       " 'max': 122,\n",
       " 'mean': 69.11,\n",
       " 'var': 374.65,\n",
       " 'std': 19.36,\n",
       " 'range': 122,\n",
       " 'q1': 62.0,\n",
       " 'q2': 72.0,\n",
       " 'q3': 80.0,\n",
       " 'skewness': -1.84,\n",
       " 'kurtosis': 5.18}"
      ]
     },
     "execution_count": 104,
     "metadata": {},
     "output_type": "execute_result"
    }
   ],
   "source": [
    "# 'Pregnancies', 'Glucose', 'BloodPressure', 'SkinThickness', 'Insulin',\n",
    "#        'BMI', 'DiabetesPedigreeFunction', 'Age'\n",
    "univariate_num(data=df,x='BloodPressure')"
   ]
  },
  {
   "cell_type": "code",
   "execution_count": 105,
   "id": "58266512",
   "metadata": {},
   "outputs": [
    {
     "data": {
      "image/png": "[encoded data removed]",
      "text/plain": [
       "<Figure size 432x288 with 1 Axes>"
      ]
     },
     "metadata": {
      "needs_background": "light"
     },
     "output_type": "display_data"
    },
    {
     "data": {
      "image/png": "[encoded data removed]",
      "text/plain": [
       "<Figure size 432x288 with 1 Axes>"
      ]
     },
     "metadata": {
      "needs_background": "light"
     },
     "output_type": "display_data"
    },
    {
     "data": {
      "text/plain": [
       "{'missing': 0,\n",
       " 'min': 0,\n",
       " 'max': 99,\n",
       " 'mean': 20.54,\n",
       " 'var': 254.47,\n",
       " 'std': 15.95,\n",
       " 'range': 99,\n",
       " 'q1': 0.0,\n",
       " 'q2': 23.0,\n",
       " 'q3': 32.0,\n",
       " 'skewness': 0.11,\n",
       " 'kurtosis': -0.52}"
      ]
     },
     "execution_count": 105,
     "metadata": {},
     "output_type": "execute_result"
    }
   ],
   "source": [
    "# 'Pregnancies', 'Glucose', 'BloodPressure', 'SkinThickness', 'Insulin',\n",
    "#        'BMI', 'DiabetesPedigreeFunction', 'Age'\n",
    "univariate_num(data=df,x='SkinThickness')"
   ]
  },
  {
   "cell_type": "code",
   "execution_count": 106,
   "id": "32fcc892",
   "metadata": {},
   "outputs": [
    {
     "data": {
      "image/png": "[encoded data removed]",
      "text/plain": [
       "<Figure size 432x288 with 1 Axes>"
      ]
     },
     "metadata": {
      "needs_background": "light"
     },
     "output_type": "display_data"
    },
    {
     "data": {
      "image/png": "[encoded data removed]",
      "text/plain": [
       "<Figure size 432x288 with 1 Axes>"
      ]
     },
     "metadata": {
      "needs_background": "light"
     },
     "output_type": "display_data"
    },
    {
     "data": {
      "text/plain": [
       "{'missing': 0,\n",
       " 'min': 0,\n",
       " 'max': 846,\n",
       " 'mean': 79.8,\n",
       " 'var': 13281.18,\n",
       " 'std': 115.24,\n",
       " 'range': 846,\n",
       " 'q1': 0.0,\n",
       " 'q2': 30.5,\n",
       " 'q3': 127.25,\n",
       " 'skewness': 2.27,\n",
       " 'kurtosis': 7.21}"
      ]
     },
     "execution_count": 106,
     "metadata": {},
     "output_type": "execute_result"
    }
   ],
   "source": [
    "# 'Pregnancies', 'Glucose', 'BloodPressure', 'SkinThickness', 'Insulin',\n",
    "#        'BMI', 'DiabetesPedigreeFunction', 'Age'\n",
    "univariate_num(data=df,x='Insulin')"
   ]
  },
  {
   "cell_type": "code",
   "execution_count": 107,
   "id": "d870cd0f",
   "metadata": {},
   "outputs": [
    {
     "data": {
      "image/png": "[encoded data removed]",
      "text/plain": [
       "<Figure size 432x288 with 1 Axes>"
      ]
     },
     "metadata": {
      "needs_background": "light"
     },
     "output_type": "display_data"
    },
    {
     "data": {
      "image/png": "[encoded data removed]",
      "text/plain": [
       "<Figure size 432x288 with 1 Axes>"
      ]
     },
     "metadata": {
      "needs_background": "light"
     },
     "output_type": "display_data"
    },
    {
     "data": {
      "text/plain": [
       "{'missing': 0,\n",
       " 'min': 0.0,\n",
       " 'max': 67.1,\n",
       " 'mean': 31.99,\n",
       " 'var': 62.16,\n",
       " 'std': 7.88,\n",
       " 'range': 67.1,\n",
       " 'q1': 27.3,\n",
       " 'q2': 32.0,\n",
       " 'q3': 36.6,\n",
       " 'skewness': -0.43,\n",
       " 'kurtosis': 3.29}"
      ]
     },
     "execution_count": 107,
     "metadata": {},
     "output_type": "execute_result"
    }
   ],
   "source": [
    "# 'Pregnancies', 'Glucose', 'BloodPressure', 'SkinThickness', 'Insulin',\n",
    "#        'BMI', 'DiabetesPedigreeFunction', 'Age'\n",
    "univariate_num(data=df,x='BMI')"
   ]
  },
  {
   "cell_type": "code",
   "execution_count": 108,
   "id": "7cafbb65",
   "metadata": {},
   "outputs": [
    {
     "data": {
      "image/png": "[encoded data removed]",
      "text/plain": [
       "<Figure size 432x288 with 1 Axes>"
      ]
     },
     "metadata": {
      "needs_background": "light"
     },
     "output_type": "display_data"
    },
    {
     "data": {
      "image/png": "[encoded data removed]",
      "text/plain": [
       "<Figure size 432x288 with 1 Axes>"
      ]
     },
     "metadata": {
      "needs_background": "light"
     },
     "output_type": "display_data"
    },
    {
     "data": {
      "text/plain": [
       "{'missing': 0,\n",
       " 'min': 0.08,\n",
       " 'max': 2.42,\n",
       " 'mean': 0.47,\n",
       " 'var': 0.11,\n",
       " 'std': 0.33,\n",
       " 'range': 2.34,\n",
       " 'q1': 0.24,\n",
       " 'q2': 0.37,\n",
       " 'q3': 0.63,\n",
       " 'skewness': 1.92,\n",
       " 'kurtosis': 5.59}"
      ]
     },
     "execution_count": 108,
     "metadata": {},
     "output_type": "execute_result"
    }
   ],
   "source": [
    "# 'Pregnancies', 'Glucose', 'BloodPressure', 'SkinThickness', 'Insulin',\n",
    "#        'BMI', 'DiabetesPedigreeFunction', 'Age'\n",
    "univariate_num(data=df,x='DiabetesPedigreeFunction')"
   ]
  },
  {
   "cell_type": "code",
   "execution_count": 14,
   "id": "7150524a",
   "metadata": {},
   "outputs": [
    {
     "ename": "SyntaxError",
     "evalue": "invalid syntax (2007445899.py, line 1)",
     "output_type": "error",
     "traceback": [
      "\u001b[1;36m  Input \u001b[1;32mIn [14]\u001b[1;36m\u001b[0m\n\u001b[1;33m    def outvar='balance'\u001b[0m\n\u001b[1;37m              ^\u001b[0m\n\u001b[1;31mSyntaxError\u001b[0m\u001b[1;31m:\u001b[0m invalid syntax\n"
     ]
    }
   ],
   "source": [
    "def outvar='balance'\n",
    "q1=bank[var].quantile(.25)\n",
    "q3=bank[var].quantile(.75)\n",
    "lower_cap=q1-1.5*(q3-q1)\n",
    "upper_cap=q3+1.5*(q3-q1)\n",
    "\n",
    "bank[var]=np.where(bank[var]>=upper_cap,upper_cap,bank[var])\n",
    "bank[var]=np.where(bank[var]<=lower_cap,lower_cap,bank[var])"
   ]
  },
  {
   "cell_type": "code",
   "execution_count": null,
   "id": "cbe431db",
   "metadata": {},
   "outputs": [],
   "source": []
  },
  {
   "cell_type": "code",
   "execution_count": null,
   "id": "82105861",
   "metadata": {},
   "outputs": [],
   "source": []
  },
  {
   "cell_type": "code",
   "execution_count": null,
   "id": "94a99d54",
   "metadata": {},
   "outputs": [],
   "source": []
  },
  {
   "cell_type": "code",
   "execution_count": null,
   "id": "1b0c5c6f",
   "metadata": {},
   "outputs": [],
   "source": []
  },
  {
   "cell_type": "code",
   "execution_count": null,
   "id": "8a7c5ac5",
   "metadata": {},
   "outputs": [],
   "source": []
  },
  {
   "cell_type": "code",
   "execution_count": 110,
   "id": "56dea1e1",
   "metadata": {},
   "outputs": [
    {
     "data": {
      "text/plain": [
       "Pregnancies                 0\n",
       "Glucose                     0\n",
       "BloodPressure               0\n",
       "SkinThickness               0\n",
       "Insulin                     0\n",
       "BMI                         0\n",
       "DiabetesPedigreeFunction    0\n",
       "Age                         0\n",
       "Outcome                     0\n",
       "dtype: int64"
      ]
     },
     "execution_count": 110,
     "metadata": {},
     "output_type": "execute_result"
    }
   ],
   "source": [
    "df.isnull().sum()"
   ]
  },
  {
   "cell_type": "code",
   "execution_count": 52,
   "id": "207c4047",
   "metadata": {},
   "outputs": [],
   "source": [
    "df[['Glucose','BloodPressure','SkinThickness','Insulin','BMI']]=df[['Glucose','BloodPressure','SkinThickness','Insulin','BMI']].replace({0:np.nan})"
   ]
  },
  {
   "cell_type": "code",
   "execution_count": 111,
   "id": "1060aeea",
   "metadata": {},
   "outputs": [
    {
     "data": {
      "text/plain": [
       "Pregnancies                 0\n",
       "Glucose                     0\n",
       "BloodPressure               0\n",
       "SkinThickness               0\n",
       "Insulin                     0\n",
       "BMI                         0\n",
       "DiabetesPedigreeFunction    0\n",
       "Age                         0\n",
       "Outcome                     0\n",
       "dtype: int64"
      ]
     },
     "execution_count": 111,
     "metadata": {},
     "output_type": "execute_result"
    }
   ],
   "source": [
    "df.isnull().sum()"
   ]
  },
  {
   "cell_type": "code",
   "execution_count": 113,
   "id": "0f38c988",
   "metadata": {},
   "outputs": [
    {
     "data": {
      "text/plain": [
       "Pregnancies                   int64\n",
       "Glucose                       int64\n",
       "BloodPressure                 int64\n",
       "SkinThickness                 int64\n",
       "Insulin                       int64\n",
       "BMI                         float64\n",
       "DiabetesPedigreeFunction    float64\n",
       "Age                           int64\n",
       "Outcome                       int64\n",
       "dtype: object"
      ]
     },
     "execution_count": 113,
     "metadata": {},
     "output_type": "execute_result"
    }
   ],
   "source": [
    "df.dtypes"
   ]
  },
  {
   "cell_type": "code",
   "execution_count": 55,
   "id": "7d03d411",
   "metadata": {},
   "outputs": [],
   "source": [
    "df[\"Glucose\"].fillna(\"Median\",inplace = True)"
   ]
  },
  {
   "cell_type": "code",
   "execution_count": 76,
   "id": "7e91525e",
   "metadata": {},
   "outputs": [],
   "source": [
    "df[\"BloodPressure\"].fillna(\"Median\",inplace = True)"
   ]
  },
  {
   "cell_type": "code",
   "execution_count": 77,
   "id": "f7396883",
   "metadata": {},
   "outputs": [],
   "source": [
    "df[\"SkinThickness\"].fillna(\"Median\",inplace = True)"
   ]
  },
  {
   "cell_type": "code",
   "execution_count": 78,
   "id": "a35ccbc4",
   "metadata": {},
   "outputs": [],
   "source": [
    "df[\"Insulin\"].fillna(\"Median\",inplace = True)"
   ]
  },
  {
   "cell_type": "code",
   "execution_count": 79,
   "id": "85bc0912",
   "metadata": {},
   "outputs": [],
   "source": [
    "df[\"BMI\"].fillna(\"Median\",inplace = True)"
   ]
  },
  {
   "cell_type": "code",
   "execution_count": 80,
   "id": "0d03e09d",
   "metadata": {},
   "outputs": [
    {
     "data": {
      "text/plain": [
       "Pregnancies                 0\n",
       "Glucose                     0\n",
       "BloodPressure               0\n",
       "SkinThickness               0\n",
       "Insulin                     0\n",
       "BMI                         0\n",
       "DiabetesPedigreeFunction    0\n",
       "Age                         0\n",
       "Outcome                     0\n",
       "dtype: int64"
      ]
     },
     "execution_count": 80,
     "metadata": {},
     "output_type": "execute_result"
    }
   ],
   "source": [
    "df.isnull().sum()"
   ]
  },
  {
   "cell_type": "code",
   "execution_count": 67,
   "id": "9eb5ffa6",
   "metadata": {},
   "outputs": [
    {
     "name": "stderr",
     "output_type": "stream",
     "text": [
      "C:\\Users\\sony\\AppData\\Local\\Temp\\ipykernel_12492\\193616569.py:1: SettingWithCopyWarning: \n",
      "A value is trying to be set on a copy of a slice from a DataFrame\n",
      "\n",
      "See the caveats in the documentation: https://pandas.pydata.org/pandas-docs/stable/user_guide/indexing.html#returning-a-view-versus-a-copy\n",
      "  df[['BloodPressure','SkinThickness','Insulin','BMI']].fillna(\"Median\",inplace = True)\n"
     ]
    }
   ],
   "source": [
    "df[['BloodPressure','SkinThickness','Insulin','BMI']].fillna(\"Median\",inplace = True)"
   ]
  },
  {
   "cell_type": "code",
   "execution_count": 114,
   "id": "fd921586",
   "metadata": {},
   "outputs": [],
   "source": [
    "from sklearn.impute import SimpleImputer"
   ]
  },
  {
   "cell_type": "code",
   "execution_count": 115,
   "id": "1c104541",
   "metadata": {},
   "outputs": [
    {
     "data": {
      "text/html": [
       "<div>\n",
       "<style scoped>\n",
       "    .dataframe tbody tr th:only-of-type {\n",
       "        vertical-align: middle;\n",
       "    }\n",
       "\n",
       "    .dataframe tbody tr th {\n",
       "        vertical-align: top;\n",
       "    }\n",
       "\n",
       "    .dataframe thead th {\n",
       "        text-align: right;\n",
       "    }\n",
       "</style>\n",
       "<table border=\"1\" class=\"dataframe\">\n",
       "  <thead>\n",
       "    <tr style=\"text-align: right;\">\n",
       "      <th></th>\n",
       "      <th>Pregnancies</th>\n",
       "      <th>Glucose</th>\n",
       "      <th>BloodPressure</th>\n",
       "      <th>SkinThickness</th>\n",
       "      <th>Insulin</th>\n",
       "      <th>BMI</th>\n",
       "      <th>DiabetesPedigreeFunction</th>\n",
       "      <th>Age</th>\n",
       "      <th>Outcome</th>\n",
       "    </tr>\n",
       "  </thead>\n",
       "  <tbody>\n",
       "    <tr>\n",
       "      <th>0</th>\n",
       "      <td>6.0</td>\n",
       "      <td>148.0</td>\n",
       "      <td>72.0</td>\n",
       "      <td>35.0</td>\n",
       "      <td>0.0</td>\n",
       "      <td>33.6</td>\n",
       "      <td>0.627</td>\n",
       "      <td>50.0</td>\n",
       "      <td>1.0</td>\n",
       "    </tr>\n",
       "    <tr>\n",
       "      <th>1</th>\n",
       "      <td>1.0</td>\n",
       "      <td>85.0</td>\n",
       "      <td>66.0</td>\n",
       "      <td>29.0</td>\n",
       "      <td>0.0</td>\n",
       "      <td>26.6</td>\n",
       "      <td>0.351</td>\n",
       "      <td>31.0</td>\n",
       "      <td>0.0</td>\n",
       "    </tr>\n",
       "    <tr>\n",
       "      <th>2</th>\n",
       "      <td>8.0</td>\n",
       "      <td>183.0</td>\n",
       "      <td>64.0</td>\n",
       "      <td>0.0</td>\n",
       "      <td>0.0</td>\n",
       "      <td>23.3</td>\n",
       "      <td>0.672</td>\n",
       "      <td>32.0</td>\n",
       "      <td>1.0</td>\n",
       "    </tr>\n",
       "    <tr>\n",
       "      <th>3</th>\n",
       "      <td>1.0</td>\n",
       "      <td>89.0</td>\n",
       "      <td>66.0</td>\n",
       "      <td>23.0</td>\n",
       "      <td>94.0</td>\n",
       "      <td>28.1</td>\n",
       "      <td>0.167</td>\n",
       "      <td>21.0</td>\n",
       "      <td>0.0</td>\n",
       "    </tr>\n",
       "    <tr>\n",
       "      <th>4</th>\n",
       "      <td>0.0</td>\n",
       "      <td>137.0</td>\n",
       "      <td>40.0</td>\n",
       "      <td>35.0</td>\n",
       "      <td>168.0</td>\n",
       "      <td>43.1</td>\n",
       "      <td>2.288</td>\n",
       "      <td>33.0</td>\n",
       "      <td>1.0</td>\n",
       "    </tr>\n",
       "  </tbody>\n",
       "</table>\n",
       "</div>"
      ],
      "text/plain": [
       "   Pregnancies  Glucose  BloodPressure  SkinThickness  Insulin   BMI  \\\n",
       "0          6.0    148.0           72.0           35.0      0.0  33.6   \n",
       "1          1.0     85.0           66.0           29.0      0.0  26.6   \n",
       "2          8.0    183.0           64.0            0.0      0.0  23.3   \n",
       "3          1.0     89.0           66.0           23.0     94.0  28.1   \n",
       "4          0.0    137.0           40.0           35.0    168.0  43.1   \n",
       "\n",
       "   DiabetesPedigreeFunction   Age  Outcome  \n",
       "0                     0.627  50.0      1.0  \n",
       "1                     0.351  31.0      0.0  \n",
       "2                     0.672  32.0      1.0  \n",
       "3                     0.167  21.0      0.0  \n",
       "4                     2.288  33.0      1.0  "
      ]
     },
     "execution_count": 115,
     "metadata": {},
     "output_type": "execute_result"
    }
   ],
   "source": [
    "sm=SimpleImputer(strategy=\"median\") \n",
    "df1=sm.fit_transform(df) \n",
    "df2=pd.DataFrame(df1, columns=df.columns) \n",
    "df2.head()"
   ]
  },
  {
   "cell_type": "code",
   "execution_count": null,
   "id": "00ad5e5e",
   "metadata": {},
   "outputs": [],
   "source": []
  },
  {
   "cell_type": "code",
   "execution_count": 116,
   "id": "134cb3a1",
   "metadata": {},
   "outputs": [
    {
     "data": {
      "text/plain": [
       "Pregnancies                 0\n",
       "Glucose                     0\n",
       "BloodPressure               0\n",
       "SkinThickness               0\n",
       "Insulin                     0\n",
       "BMI                         0\n",
       "DiabetesPedigreeFunction    0\n",
       "Age                         0\n",
       "Outcome                     0\n",
       "dtype: int64"
      ]
     },
     "execution_count": 116,
     "metadata": {},
     "output_type": "execute_result"
    }
   ],
   "source": [
    "df.isnull().sum()"
   ]
  },
  {
   "cell_type": "code",
   "execution_count": null,
   "id": "bd15487d",
   "metadata": {},
   "outputs": [],
   "source": []
  },
  {
   "cell_type": "code",
   "execution_count": null,
   "id": "61877daa",
   "metadata": {},
   "outputs": [],
   "source": []
  },
  {
   "cell_type": "code",
   "execution_count": 50,
   "id": "9d86f7fd",
   "metadata": {},
   "outputs": [
    {
     "data": {
      "text/html": [
       "<div>\n",
       "<style scoped>\n",
       "    .dataframe tbody tr th:only-of-type {\n",
       "        vertical-align: middle;\n",
       "    }\n",
       "\n",
       "    .dataframe tbody tr th {\n",
       "        vertical-align: top;\n",
       "    }\n",
       "\n",
       "    .dataframe thead th {\n",
       "        text-align: right;\n",
       "    }\n",
       "</style>\n",
       "<table border=\"1\" class=\"dataframe\">\n",
       "  <thead>\n",
       "    <tr style=\"text-align: right;\">\n",
       "      <th></th>\n",
       "      <th>count</th>\n",
       "      <th>mean</th>\n",
       "      <th>std</th>\n",
       "      <th>min</th>\n",
       "      <th>25%</th>\n",
       "      <th>50%</th>\n",
       "      <th>75%</th>\n",
       "      <th>max</th>\n",
       "    </tr>\n",
       "  </thead>\n",
       "  <tbody>\n",
       "    <tr>\n",
       "      <th>Pregnancies</th>\n",
       "      <td>768.0</td>\n",
       "      <td>3.845052</td>\n",
       "      <td>3.369578</td>\n",
       "      <td>0.000</td>\n",
       "      <td>1.00000</td>\n",
       "      <td>3.0000</td>\n",
       "      <td>6.00000</td>\n",
       "      <td>17.00</td>\n",
       "    </tr>\n",
       "    <tr>\n",
       "      <th>Glucose</th>\n",
       "      <td>768.0</td>\n",
       "      <td>120.894531</td>\n",
       "      <td>31.972618</td>\n",
       "      <td>0.000</td>\n",
       "      <td>99.00000</td>\n",
       "      <td>117.0000</td>\n",
       "      <td>140.25000</td>\n",
       "      <td>199.00</td>\n",
       "    </tr>\n",
       "    <tr>\n",
       "      <th>BloodPressure</th>\n",
       "      <td>768.0</td>\n",
       "      <td>69.105469</td>\n",
       "      <td>19.355807</td>\n",
       "      <td>0.000</td>\n",
       "      <td>62.00000</td>\n",
       "      <td>72.0000</td>\n",
       "      <td>80.00000</td>\n",
       "      <td>122.00</td>\n",
       "    </tr>\n",
       "    <tr>\n",
       "      <th>SkinThickness</th>\n",
       "      <td>768.0</td>\n",
       "      <td>20.536458</td>\n",
       "      <td>15.952218</td>\n",
       "      <td>0.000</td>\n",
       "      <td>0.00000</td>\n",
       "      <td>23.0000</td>\n",
       "      <td>32.00000</td>\n",
       "      <td>99.00</td>\n",
       "    </tr>\n",
       "    <tr>\n",
       "      <th>Insulin</th>\n",
       "      <td>768.0</td>\n",
       "      <td>79.799479</td>\n",
       "      <td>115.244002</td>\n",
       "      <td>0.000</td>\n",
       "      <td>0.00000</td>\n",
       "      <td>30.5000</td>\n",
       "      <td>127.25000</td>\n",
       "      <td>846.00</td>\n",
       "    </tr>\n",
       "    <tr>\n",
       "      <th>BMI</th>\n",
       "      <td>768.0</td>\n",
       "      <td>31.992578</td>\n",
       "      <td>7.884160</td>\n",
       "      <td>0.000</td>\n",
       "      <td>27.30000</td>\n",
       "      <td>32.0000</td>\n",
       "      <td>36.60000</td>\n",
       "      <td>67.10</td>\n",
       "    </tr>\n",
       "    <tr>\n",
       "      <th>DiabetesPedigreeFunction</th>\n",
       "      <td>768.0</td>\n",
       "      <td>0.471876</td>\n",
       "      <td>0.331329</td>\n",
       "      <td>0.078</td>\n",
       "      <td>0.24375</td>\n",
       "      <td>0.3725</td>\n",
       "      <td>0.62625</td>\n",
       "      <td>2.42</td>\n",
       "    </tr>\n",
       "    <tr>\n",
       "      <th>Age</th>\n",
       "      <td>768.0</td>\n",
       "      <td>33.240885</td>\n",
       "      <td>11.760232</td>\n",
       "      <td>21.000</td>\n",
       "      <td>24.00000</td>\n",
       "      <td>29.0000</td>\n",
       "      <td>41.00000</td>\n",
       "      <td>81.00</td>\n",
       "    </tr>\n",
       "    <tr>\n",
       "      <th>Outcome</th>\n",
       "      <td>768.0</td>\n",
       "      <td>0.348958</td>\n",
       "      <td>0.476951</td>\n",
       "      <td>0.000</td>\n",
       "      <td>0.00000</td>\n",
       "      <td>0.0000</td>\n",
       "      <td>1.00000</td>\n",
       "      <td>1.00</td>\n",
       "    </tr>\n",
       "  </tbody>\n",
       "</table>\n",
       "</div>"
      ],
      "text/plain": [
       "                          count        mean         std     min       25%  \\\n",
       "Pregnancies               768.0    3.845052    3.369578   0.000   1.00000   \n",
       "Glucose                   768.0  120.894531   31.972618   0.000  99.00000   \n",
       "BloodPressure             768.0   69.105469   19.355807   0.000  62.00000   \n",
       "SkinThickness             768.0   20.536458   15.952218   0.000   0.00000   \n",
       "Insulin                   768.0   79.799479  115.244002   0.000   0.00000   \n",
       "BMI                       768.0   31.992578    7.884160   0.000  27.30000   \n",
       "DiabetesPedigreeFunction  768.0    0.471876    0.331329   0.078   0.24375   \n",
       "Age                       768.0   33.240885   11.760232  21.000  24.00000   \n",
       "Outcome                   768.0    0.348958    0.476951   0.000   0.00000   \n",
       "\n",
       "                               50%        75%     max  \n",
       "Pregnancies                 3.0000    6.00000   17.00  \n",
       "Glucose                   117.0000  140.25000  199.00  \n",
       "BloodPressure              72.0000   80.00000  122.00  \n",
       "SkinThickness              23.0000   32.00000   99.00  \n",
       "Insulin                    30.5000  127.25000  846.00  \n",
       "BMI                        32.0000   36.60000   67.10  \n",
       "DiabetesPedigreeFunction    0.3725    0.62625    2.42  \n",
       "Age                        29.0000   41.00000   81.00  \n",
       "Outcome                     0.0000    1.00000    1.00  "
      ]
     },
     "execution_count": 50,
     "metadata": {},
     "output_type": "execute_result"
    }
   ],
   "source": [
    "df.describe().T"
   ]
  },
  {
   "cell_type": "markdown",
   "id": "99a86f5b",
   "metadata": {},
   "source": [
    "#### Outliers"
   ]
  },
  {
   "cell_type": "code",
   "execution_count": 83,
   "id": "c96f3db6",
   "metadata": {},
   "outputs": [],
   "source": [
    "def out(x):\n",
    "    x=x.clip(upper=x.quantile(.99))\n",
    "    x=x.clip(lower=x.quantile(0.1))\n",
    "    return x"
   ]
  },
  {
   "cell_type": "code",
   "execution_count": 118,
   "id": "e8d0e7e6",
   "metadata": {},
   "outputs": [],
   "source": [
    "df3=df2.apply(lambda x:out(x))"
   ]
  },
  {
   "cell_type": "code",
   "execution_count": 119,
   "id": "77095752",
   "metadata": {},
   "outputs": [],
   "source": [
    "y=df3['Outcome']\n",
    "x=df3.drop(columns=['Outcome'])"
   ]
  },
  {
   "cell_type": "markdown",
   "id": "cca31e5b",
   "metadata": {},
   "source": [
    "#### decision Tree"
   ]
  },
  {
   "cell_type": "code",
   "execution_count": 120,
   "id": "a420fc6c",
   "metadata": {},
   "outputs": [],
   "source": [
    "x_train,x_test,y_train,y_test=train_test_split(x,y,test_size=.3,random_state=0)"
   ]
  },
  {
   "cell_type": "code",
   "execution_count": 121,
   "id": "7b7ad0cc",
   "metadata": {},
   "outputs": [
    {
     "data": {
      "text/plain": [
       "DecisionTreeClassifier()"
      ]
     },
     "execution_count": 121,
     "metadata": {},
     "output_type": "execute_result"
    }
   ],
   "source": [
    "dt=DecisionTreeClassifier()\n",
    "dt.fit(x_train,y_train)"
   ]
  },
  {
   "cell_type": "code",
   "execution_count": 122,
   "id": "7cfbaa93",
   "metadata": {},
   "outputs": [
    {
     "name": "stdout",
     "output_type": "stream",
     "text": [
      "Train Accuracy: 1.0\n",
      "Test Accuracy: 0.74\n"
     ]
    }
   ],
   "source": [
    "print('Train Accuracy:',round(dt.score(x_train,y_train),2))\n",
    "print('Test Accuracy:',round(dt.score(x_test,y_test),2))"
   ]
  },
  {
   "cell_type": "code",
   "execution_count": 126,
   "id": "81f9cab8",
   "metadata": {},
   "outputs": [
    {
     "data": {
      "text/plain": [
       "(576, 8)"
      ]
     },
     "execution_count": 126,
     "metadata": {},
     "output_type": "execute_result"
    }
   ],
   "source": [
    "x_train.shape"
   ]
  },
  {
   "cell_type": "code",
   "execution_count": 130,
   "id": "51276b97",
   "metadata": {},
   "outputs": [
    {
     "name": "stdout",
     "output_type": "stream",
     "text": [
      "Fitting 5 folds for each of 480 candidates, totalling 2400 fits\n"
     ]
    },
    {
     "data": {
      "text/plain": [
       "GridSearchCV(cv=5, estimator=DecisionTreeClassifier(), n_jobs=-1,\n",
       "             param_grid={'criterion': ['gini', 'entropy'],\n",
       "                         'max_depth': [3, 5, 7, 9, 11],\n",
       "                         'min_samples_leaf': [1, 3, 5, 7, 9, 12, 15, 20],\n",
       "                         'min_samples_split': [20, 30, 50, 70, 100, 120]},\n",
       "             verbose=1)"
      ]
     },
     "execution_count": 130,
     "metadata": {},
     "output_type": "execute_result"
    }
   ],
   "source": [
    "param={'criterion':['gini','entropy'],\n",
    "      'max_depth':[3,5,7,9,11],\n",
    "      'min_samples_split':[20,30,50,70,100,120],\n",
    "      'min_samples_leaf':[1,3,5,7,9,12,15,20]}\n",
    "dt1=DecisionTreeClassifier()\n",
    "gd_search=GridSearchCV(estimator=dt1,param_grid=param,cv=5,n_jobs=-1,verbose=1)\n",
    "gd_search.fit(x_train,y_train)"
   ]
  },
  {
   "cell_type": "code",
   "execution_count": 131,
   "id": "c177f9e7",
   "metadata": {},
   "outputs": [
    {
     "data": {
      "text/plain": [
       "0.7413493253373314"
      ]
     },
     "execution_count": 131,
     "metadata": {},
     "output_type": "execute_result"
    }
   ],
   "source": [
    "gd_search.best_score_"
   ]
  },
  {
   "cell_type": "code",
   "execution_count": 132,
   "id": "3eae752e",
   "metadata": {},
   "outputs": [
    {
     "data": {
      "text/plain": [
       "DecisionTreeClassifier(criterion='entropy', max_depth=7, min_samples_leaf=9,\n",
       "                       min_samples_split=20)"
      ]
     },
     "execution_count": 132,
     "metadata": {},
     "output_type": "execute_result"
    }
   ],
   "source": [
    "gd_search.best_estimator_"
   ]
  },
  {
   "cell_type": "code",
   "execution_count": 139,
   "id": "7efe361b",
   "metadata": {},
   "outputs": [
    {
     "data": {
      "text/plain": [
       "DecisionTreeClassifier(criterion='entropy', max_depth=9, min_samples_leaf=25,\n",
       "                       min_samples_split=60)"
      ]
     },
     "execution_count": 139,
     "metadata": {},
     "output_type": "execute_result"
    }
   ],
   "source": [
    "dtf=DecisionTreeClassifier(criterion='entropy', max_depth=9, min_samples_leaf=25,\n",
    "                       min_samples_split=60)\n",
    "dtf.fit(x_train,y_train)"
   ]
  },
  {
   "cell_type": "code",
   "execution_count": 141,
   "id": "e568d96b",
   "metadata": {},
   "outputs": [
    {
     "name": "stdout",
     "output_type": "stream",
     "text": [
      "Train Accuracy: 0.79\n",
      "Test Accuracy: 0.77\n"
     ]
    }
   ],
   "source": [
    "print('Train Accuracy:',round(dtf.score(x_train,y_train),2))\n",
    "print('Test Accuracy:',round(dtf.score(x_test,y_test),2))"
   ]
  },
  {
   "cell_type": "code",
   "execution_count": null,
   "id": "bdbd31a1",
   "metadata": {},
   "outputs": [],
   "source": []
  },
  {
   "cell_type": "code",
   "execution_count": null,
   "id": "45fcacb2",
   "metadata": {},
   "outputs": [],
   "source": []
  },
  {
   "cell_type": "markdown",
   "id": "d4db4241",
   "metadata": {},
   "source": [
    "#### logistic Regression"
   ]
  },
  {
   "cell_type": "code",
   "execution_count": 123,
   "id": "c87efd23",
   "metadata": {},
   "outputs": [],
   "source": [
    "x_train,x_test,y_train,y_test=train_test_split(x,y,test_size=.25,\n",
    "                                              random_state=0)"
   ]
  },
  {
   "cell_type": "code",
   "execution_count": 124,
   "id": "db06b102",
   "metadata": {},
   "outputs": [
    {
     "name": "stderr",
     "output_type": "stream",
     "text": [
      "C:\\Users\\sony\\anaconda3\\lib\\site-packages\\sklearn\\linear_model\\_logistic.py:814: ConvergenceWarning: lbfgs failed to converge (status=1):\n",
      "STOP: TOTAL NO. of ITERATIONS REACHED LIMIT.\n",
      "\n",
      "Increase the number of iterations (max_iter) or scale the data as shown in:\n",
      "    https://scikit-learn.org/stable/modules/preprocessing.html\n",
      "Please also refer to the documentation for alternative solver options:\n",
      "    https://scikit-learn.org/stable/modules/linear_model.html#logistic-regression\n",
      "  n_iter_i = _check_optimize_result(\n"
     ]
    },
    {
     "data": {
      "text/plain": [
       "LogisticRegression()"
      ]
     },
     "execution_count": 124,
     "metadata": {},
     "output_type": "execute_result"
    }
   ],
   "source": [
    "logR=LogisticRegression()\n",
    "logR.fit(x_train,y_train)"
   ]
  },
  {
   "cell_type": "code",
   "execution_count": 125,
   "id": "651ee9d8",
   "metadata": {},
   "outputs": [
    {
     "name": "stdout",
     "output_type": "stream",
     "text": [
      "Train Score: 0.7517361111111112\n",
      "Test Score: 0.796875\n"
     ]
    }
   ],
   "source": [
    "print('Train Score:',logR.score(x_train,y_train))\n",
    "print('Test Score:',logR.score(x_test,y_test))"
   ]
  },
  {
   "cell_type": "code",
   "execution_count": 144,
   "id": "ff8a1eb4",
   "metadata": {},
   "outputs": [],
   "source": [
    "from sklearn import metrics\n",
    "def classification_eva(act,pred,probs):\n",
    "    ac1=metrics.accuracy_score(act,pred)\n",
    "    rc1=metrics.recall_score(act,pred)    \n",
    "    pc1=metrics.precision_score(act,pred)\n",
    "    f1=metrics.f1_score(act,pred)\n",
    "    auc1=metrics.roc_auc_score(act,pred)\n",
    "    result={'Accuracy':ac1,'Recall':rc1,'Precision':pc1,'F1 score':f1,\"AUC\":auc1}\n",
    "    \n",
    "    fpr,tpr,threshold=metrics.roc_curve(act,probs)\n",
    "    plt.plot([0,1],[0,1],'k--')\n",
    "    plt.plot(fpr,tpr)\n",
    "    plt.xlabel('fpr')\n",
    "    plt.ylabel('tpr')\n",
    "    plt.show()\n",
    "    return result"
   ]
  },
  {
   "cell_type": "code",
   "execution_count": 143,
   "id": "2876c729",
   "metadata": {},
   "outputs": [],
   "source": [
    "pred_train=logR.predict(x_train)\n",
    "pred_test=logR.predict(x_test)"
   ]
  },
  {
   "cell_type": "code",
   "execution_count": 145,
   "id": "47254bf0",
   "metadata": {},
   "outputs": [],
   "source": [
    "prob_train_1=logR.predict_proba(x_train)[:,1]\n",
    "prob_test_1=logR.predict_proba(x_test)[:,1]"
   ]
  },
  {
   "cell_type": "code",
   "execution_count": 146,
   "id": "075009c1",
   "metadata": {},
   "outputs": [
    {
     "data": {
      "text/plain": [
       "array([0.15214567, 0.23013164, 0.09186375, 0.77812319, 0.77889566,\n",
       "       0.51730566, 0.08229362, 0.26598987, 0.08527488, 0.17056961,\n",
       "       0.32094261, 0.32841966, 0.27658547, 0.35504012, 0.23496286,\n",
       "       0.17066503, 0.40365229, 0.19336077, 0.07167846, 0.09901491,\n",
       "       0.44986766, 0.32691039, 0.19816706, 0.26827757, 0.7270562 ,\n",
       "       0.25162669, 0.42587283, 0.1421591 , 0.13460627, 0.06887435,\n",
       "       0.46707019, 0.50676508, 0.44133781, 0.70139704, 0.30883123,\n",
       "       0.36092353, 0.07119598, 0.12881092, 0.50348598, 0.42619507,\n",
       "       0.07604682, 0.30604565, 0.62436127, 0.21358543, 0.14111535,\n",
       "       0.78493471, 0.13671835, 0.9089518 , 0.37978466, 0.46604678,\n",
       "       0.23527295, 0.20059749, 0.16718378, 0.45492111, 0.12630073,\n",
       "       0.87749447, 0.26294841, 0.46473458, 0.31243334, 0.40229859,\n",
       "       0.04388737, 0.5352259 , 0.40427907, 0.95925519, 0.33832383,\n",
       "       0.36595829, 0.0870292 , 0.19825553, 0.26757768, 0.0950757 ,\n",
       "       0.19019878, 0.2716457 , 0.81096468, 0.07802186, 0.36090623,\n",
       "       0.95136751, 0.25395053, 0.1159767 , 0.24365846, 0.04647629,\n",
       "       0.30062555, 0.3963613 , 0.38259283, 0.40028831, 0.0586174 ,\n",
       "       0.33393702, 0.38164461, 0.18627336, 0.33653898, 0.53275774,\n",
       "       0.32301865, 0.19743965, 0.32607926, 0.12491739, 0.07037729,\n",
       "       0.05396929, 0.1537661 , 0.70805623, 0.68409321, 0.3693752 ,\n",
       "       0.26621558, 0.58525455, 0.21917718, 0.88360181, 0.93511019,\n",
       "       0.11802777, 0.10060248, 0.5163762 , 0.2441928 , 0.58081312,\n",
       "       0.08942502, 0.07958139, 0.66809799, 0.723923  , 0.51793038,\n",
       "       0.57669769, 0.23394578, 0.07687284, 0.47617269, 0.29012093,\n",
       "       0.38259402, 0.70899428, 0.24414352, 0.06542469, 0.14971269,\n",
       "       0.48507407, 0.87897348, 0.55547034, 0.49439583, 0.3107606 ,\n",
       "       0.0656795 , 0.33585689, 0.28437471, 0.70696954, 0.63696082,\n",
       "       0.1500964 , 0.12942837, 0.64787261, 0.85512999, 0.77231924,\n",
       "       0.65133475, 0.48217048, 0.0545965 , 0.12302932, 0.27076791,\n",
       "       0.19816996, 0.85656219, 0.15581649, 0.79397217, 0.35623878,\n",
       "       0.21705125, 0.76264311, 0.47357244, 0.05822581, 0.300422  ,\n",
       "       0.74036268, 0.72684536, 0.83135263, 0.12811041, 0.27123172,\n",
       "       0.22546374, 0.25593355, 0.09619746, 0.69171203, 0.37670564,\n",
       "       0.16194253, 0.41572164, 0.05711136, 0.79842526, 0.51526859,\n",
       "       0.38960055, 0.13288873, 0.47963789, 0.42284725, 0.94631682,\n",
       "       0.17362096, 0.14847379, 0.82737694, 0.41892924, 0.11080569,\n",
       "       0.11787133, 0.53938748, 0.08890405, 0.72505122, 0.44031674,\n",
       "       0.14399401, 0.29968629, 0.95322902, 0.70333726, 0.11254795,\n",
       "       0.50284419, 0.52029872, 0.77093301, 0.3693264 , 0.78967414,\n",
       "       0.18956679, 0.86329057, 0.14547827, 0.08702323, 0.08978319,\n",
       "       0.77020213, 0.1228738 , 0.86042378, 0.07432949, 0.36877432,\n",
       "       0.22778932, 0.48772233, 0.31437083, 0.78823904, 0.87188904,\n",
       "       0.11295819, 0.79930036, 0.53479588, 0.13800403, 0.40525671,\n",
       "       0.19227396, 0.51873605, 0.2440659 , 0.22318322, 0.77918659,\n",
       "       0.37064435, 0.63002695, 0.07344516, 0.14501638, 0.12420626,\n",
       "       0.91667773, 0.47395726, 0.16116197, 0.58779125, 0.2859652 ,\n",
       "       0.82083464, 0.15304698, 0.26534395, 0.34344191, 0.23133657,\n",
       "       0.69134015, 0.19235907, 0.05995234, 0.14918925, 0.94127726,\n",
       "       0.08821592, 0.40762018, 0.55881253, 0.12959391, 0.42278725,\n",
       "       0.33585619, 0.10361678, 0.56913386, 0.07538935, 0.33564904,\n",
       "       0.84297518, 0.10250691, 0.2450699 , 0.90311618, 0.13666124,\n",
       "       0.50722987, 0.09488542, 0.88913327, 0.30076354, 0.16986049,\n",
       "       0.25237288, 0.57892317, 0.25649392, 0.47330349, 0.71554127,\n",
       "       0.33305464, 0.8997948 , 0.52066226, 0.27131886, 0.09724454,\n",
       "       0.76362996, 0.06888826, 0.7810719 , 0.56295815, 0.28867882,\n",
       "       0.82272449, 0.61421361, 0.37648026, 0.35922758, 0.11931251,\n",
       "       0.81452614, 0.06013406, 0.22232785, 0.68292107, 0.13584561,\n",
       "       0.92118442, 0.12837861, 0.13008289, 0.37633407, 0.37419203,\n",
       "       0.8497389 , 0.20239356, 0.12398472, 0.336731  , 0.56176833,\n",
       "       0.82113887, 0.10173175, 0.63216512, 0.52902551, 0.31285532,\n",
       "       0.41905279, 0.21113658, 0.27230278, 0.02209563, 0.28594633,\n",
       "       0.48163003, 0.54303307, 0.12922905, 0.71059753, 0.41291318,\n",
       "       0.4375342 , 0.06692931, 0.218976  , 0.19446972, 0.16375165,\n",
       "       0.54005564, 0.79175816, 0.46578552, 0.30458886, 0.5183012 ,\n",
       "       0.09328956, 0.26970434, 0.20166096, 0.07107306, 0.7781862 ,\n",
       "       0.08869707, 0.42308348, 0.27553984, 0.24741358, 0.65828802,\n",
       "       0.1499584 , 0.89243877, 0.2877556 , 0.11375578, 0.33194758,\n",
       "       0.21913241, 0.58736291, 0.21147446, 0.1585059 , 0.25863499,\n",
       "       0.21749851, 0.82107827, 0.25666742, 0.67249629, 0.12988293,\n",
       "       0.2827936 , 0.17666518, 0.04393714, 0.69637576, 0.60714995,\n",
       "       0.11154791, 0.16051225, 0.38646944, 0.13724692, 0.12027227,\n",
       "       0.20214142, 0.52820002, 0.52436248, 0.06360816, 0.2097939 ,\n",
       "       0.09417668, 0.05967553, 0.05605636, 0.73310673, 0.66175993,\n",
       "       0.10853333, 0.51037561, 0.18726166, 0.41827111, 0.0704613 ,\n",
       "       0.1350265 , 0.71989094, 0.16502536, 0.22172381, 0.19583118,\n",
       "       0.30234865, 0.34983976, 0.52819737, 0.36552884, 0.42418436,\n",
       "       0.41594406, 0.48032369, 0.20827416, 0.11335929, 0.28080119,\n",
       "       0.6993139 , 0.4182431 , 0.21882266, 0.38971306, 0.45845623,\n",
       "       0.08572855, 0.34658125, 0.60467016, 0.06982615, 0.38933777,\n",
       "       0.13360457, 0.17686666, 0.75625727, 0.47186515, 0.46372479,\n",
       "       0.05303125, 0.17404382, 0.51327558, 0.2769841 , 0.17365327,\n",
       "       0.82793071, 0.10113849, 0.40459534, 0.81052159, 0.38412834,\n",
       "       0.33797973, 0.36852638, 0.97514361, 0.68848347, 0.9743593 ,\n",
       "       0.28928331, 0.4487699 , 0.47089743, 0.58323907, 0.06062251,\n",
       "       0.89087516, 0.18707669, 0.06378111, 0.56940938, 0.17451126,\n",
       "       0.75198056, 0.80777038, 0.35308579, 0.44803376, 0.05688797,\n",
       "       0.2974934 , 0.0885554 , 0.25123496, 0.14499732, 0.29754484,\n",
       "       0.40550746, 0.08855666, 0.3599296 , 0.53578693, 0.4144029 ,\n",
       "       0.62014183, 0.05958838, 0.20851976, 0.30096829, 0.33035622,\n",
       "       0.5611846 , 0.80917467, 0.50451058, 0.31444813, 0.29985166,\n",
       "       0.05051543, 0.08397559, 0.16174824, 0.14836001, 0.89691693,\n",
       "       0.86950992, 0.53106419, 0.69328343, 0.85446241, 0.66653388,\n",
       "       0.20568247, 0.12023426, 0.83594163, 0.47969721, 0.51865891,\n",
       "       0.25546326, 0.37781257, 0.22206698, 0.16404835, 0.64814312,\n",
       "       0.34313261, 0.32334564, 0.25179958, 0.93149489, 0.16163978,\n",
       "       0.2572736 , 0.3110334 , 0.04811755, 0.12657826, 0.2018598 ,\n",
       "       0.28025486, 0.70097967, 0.34006547, 0.89881856, 0.22230006,\n",
       "       0.49391102, 0.20804523, 0.79091137, 0.13298178, 0.21843095,\n",
       "       0.24102671, 0.32969186, 0.1927155 , 0.83322764, 0.64353813,\n",
       "       0.41675287, 0.06253126, 0.83608059, 0.10484517, 0.10409563,\n",
       "       0.16437575, 0.07074418, 0.42147587, 0.10729224, 0.20172524,\n",
       "       0.79625078, 0.06717829, 0.26450235, 0.22240308, 0.09222418,\n",
       "       0.0784138 , 0.30717364, 0.32016829, 0.16415398, 0.14178202,\n",
       "       0.27331042, 0.26238887, 0.11542681, 0.05817767, 0.44275264,\n",
       "       0.60573256, 0.07816355, 0.11303889, 0.12513301, 0.76918562,\n",
       "       0.2204362 , 0.14949355, 0.58859181, 0.11148609, 0.54495653,\n",
       "       0.2753181 , 0.85557569, 0.21511876, 0.42939888, 0.10138866,\n",
       "       0.08035201, 0.06962832, 0.0510993 , 0.08532949, 0.38516815,\n",
       "       0.13681155, 0.24340996, 0.52538649, 0.30167945, 0.24424696,\n",
       "       0.28719267, 0.17924417, 0.12415196, 0.23944032, 0.43626101,\n",
       "       0.77623835, 0.10375878, 0.10869249, 0.51950604, 0.09242839,\n",
       "       0.183322  , 0.14163095, 0.47305475, 0.14874908, 0.63494396,\n",
       "       0.28231394, 0.08463127, 0.24002972, 0.28838914, 0.14413784,\n",
       "       0.71584456, 0.11626098, 0.2693361 , 0.19893273, 0.87515535,\n",
       "       0.26837988, 0.27678871, 0.7165756 , 0.09011944, 0.22298691,\n",
       "       0.39361575])"
      ]
     },
     "execution_count": 146,
     "metadata": {},
     "output_type": "execute_result"
    }
   ],
   "source": [
    "prob_train_1"
   ]
  },
  {
   "cell_type": "code",
   "execution_count": 147,
   "id": "e5464a62",
   "metadata": {},
   "outputs": [
    {
     "data": {
      "image/png": "[encoded data removed]",
      "text/plain": [
       "<Figure size 432x288 with 1 Axes>"
      ]
     },
     "metadata": {
      "needs_background": "light"
     },
     "output_type": "display_data"
    },
    {
     "data": {
      "text/plain": [
       "{'Accuracy': 0.7517361111111112,\n",
       " 'Recall': 0.5436893203883495,\n",
       " 'Precision': 0.6956521739130435,\n",
       " 'F1 score': 0.6103542234332425,\n",
       " 'AUC': 0.7056284439779587}"
      ]
     },
     "execution_count": 147,
     "metadata": {},
     "output_type": "execute_result"
    }
   ],
   "source": [
    "classification_eva(y_train,pred_train,probs=prob_train_1)"
   ]
  },
  {
   "cell_type": "code",
   "execution_count": 148,
   "id": "b19d8b3d",
   "metadata": {},
   "outputs": [
    {
     "data": {
      "image/png": "[encoded data removed]",
      "text/plain": [
       "<Figure size 432x288 with 1 Axes>"
      ]
     },
     "metadata": {
      "needs_background": "light"
     },
     "output_type": "display_data"
    },
    {
     "data": {
      "text/plain": [
       "{'Accuracy': 0.796875,\n",
       " 'Recall': 0.5806451612903226,\n",
       " 'Precision': 0.7346938775510204,\n",
       " 'F1 score': 0.6486486486486487,\n",
       " 'AUC': 0.7403225806451613}"
      ]
     },
     "execution_count": 148,
     "metadata": {},
     "output_type": "execute_result"
    }
   ],
   "source": [
    "classification_eva(y_test,pred_test,probs=prob_test_1)"
   ]
  },
  {
   "cell_type": "code",
   "execution_count": 149,
   "id": "ba84aceb",
   "metadata": {},
   "outputs": [],
   "source": [
    "prob_train_1=logR.predict_proba(x_train)[:,1]\n",
    "prob_test_1=logR.predict_proba(x_test)[:,1]"
   ]
  },
  {
   "cell_type": "code",
   "execution_count": 154,
   "id": "6dd66229",
   "metadata": {},
   "outputs": [],
   "source": [
    "new_pred_train=np.where(prob_train_1>=0.2,1,0)\n",
    "new_pred_test=np.where(prob_train_1>=0.2,1,0)"
   ]
  },
  {
   "cell_type": "code",
   "execution_count": 156,
   "id": "a30598c0",
   "metadata": {},
   "outputs": [
    {
     "data": {
      "image/png": "[encoded data removed]",
      "text/plain": [
       "<Figure size 432x288 with 1 Axes>"
      ]
     },
     "metadata": {
      "needs_background": "light"
     },
     "output_type": "display_data"
    },
    {
     "data": {
      "text/plain": [
       "{'Accuracy': 0.6284722222222222,\n",
       " 'Recall': 0.9174757281553398,\n",
       " 'Precision': 0.4896373056994819,\n",
       " 'F1 score': 0.6385135135135136,\n",
       " 'AUC': 0.6925216478614538}"
      ]
     },
     "execution_count": 156,
     "metadata": {},
     "output_type": "execute_result"
    }
   ],
   "source": [
    "classification_eva(act=y_train,pred=new_pred_train,probs=prob_train_1)"
   ]
  },
  {
   "cell_type": "code",
   "execution_count": 159,
   "id": "bf2380b9",
   "metadata": {},
   "outputs": [
    {
     "data": {
      "text/html": [
       "<div>\n",
       "<style scoped>\n",
       "    .dataframe tbody tr th:only-of-type {\n",
       "        vertical-align: middle;\n",
       "    }\n",
       "\n",
       "    .dataframe tbody tr th {\n",
       "        vertical-align: top;\n",
       "    }\n",
       "\n",
       "    .dataframe thead th {\n",
       "        text-align: right;\n",
       "    }\n",
       "</style>\n",
       "<table border=\"1\" class=\"dataframe\">\n",
       "  <thead>\n",
       "    <tr style=\"text-align: right;\">\n",
       "      <th></th>\n",
       "      <th>Pred_0</th>\n",
       "      <th>Pred_1</th>\n",
       "    </tr>\n",
       "  </thead>\n",
       "  <tbody>\n",
       "    <tr>\n",
       "      <th>Act_0</th>\n",
       "      <td>173</td>\n",
       "      <td>197</td>\n",
       "    </tr>\n",
       "    <tr>\n",
       "      <th>Act_1</th>\n",
       "      <td>17</td>\n",
       "      <td>189</td>\n",
       "    </tr>\n",
       "  </tbody>\n",
       "</table>\n",
       "</div>"
      ],
      "text/plain": [
       "       Pred_0  Pred_1\n",
       "Act_0     173     197\n",
       "Act_1      17     189"
      ]
     },
     "execution_count": 159,
     "metadata": {},
     "output_type": "execute_result"
    }
   ],
   "source": [
    "pd.DataFrame(metrics.confusion_matrix(y_train,new_pred_train),columns=['Pred_0','Pred_1'],index=['Act_0','Act_1'])\n"
   ]
  },
  {
   "cell_type": "code",
   "execution_count": null,
   "id": "23bb554c",
   "metadata": {},
   "outputs": [],
   "source": []
  }
 ],
 "metadata": {
  "kernelspec": {
   "display_name": "Python 3 (ipykernel)",
   "language": "python",
   "name": "python3"
  },
  "language_info": {
   "codemirror_mode": {
    "name": "ipython",
    "version": 3
   },
   "file_extension": ".py",
   "mimetype": "text/x-python",
   "name": "python",
   "nbconvert_exporter": "python",
   "pygments_lexer": "ipython3",
   "version": "3.9.12"
  }
 },
 "nbformat": 4,
 "nbformat_minor": 5
}
