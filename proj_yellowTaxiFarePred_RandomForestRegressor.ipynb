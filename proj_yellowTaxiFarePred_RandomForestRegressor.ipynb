{
 "cells": [
  {
   "cell_type": "code",
   "execution_count": 1,
   "id": "267c8dee",
   "metadata": {},
   "outputs": [],
   "source": [
    "import os\n",
    "import pandas as pd\n",
    "import numpy as np\n",
    "import matplotlib.pyplot as plt\n",
    "import seaborn as sns"
   ]
  },
  {
   "cell_type": "code",
   "execution_count": 2,
   "id": "f34c2c87",
   "metadata": {},
   "outputs": [],
   "source": [
    "os.chdir(r'E:\\MLData\\nycDataSet')"
   ]
  },
  {
   "cell_type": "code",
   "execution_count": 3,
   "id": "9f535ae3",
   "metadata": {},
   "outputs": [
    {
     "data": {
      "text/plain": [
       "['data_dictionary_trip_records_yellow.pdf',\n",
       " 'yellow_tripdata_2022-01.parquet',\n",
       " 'yellow_tripdata_2022-06.parquet']"
      ]
     },
     "execution_count": 3,
     "metadata": {},
     "output_type": "execute_result"
    }
   ],
   "source": [
    "os.listdir()"
   ]
  },
  {
   "cell_type": "code",
   "execution_count": 4,
   "id": "abce1fc9",
   "metadata": {},
   "outputs": [],
   "source": [
    "taxi=pd.read_parquet('yellow_tripdata_2022-06.parquet')"
   ]
  },
  {
   "cell_type": "code",
   "execution_count": 5,
   "id": "386be63c",
   "metadata": {},
   "outputs": [
    {
     "data": {
      "text/html": [
       "<div>\n",
       "<style scoped>\n",
       "    .dataframe tbody tr th:only-of-type {\n",
       "        vertical-align: middle;\n",
       "    }\n",
       "\n",
       "    .dataframe tbody tr th {\n",
       "        vertical-align: top;\n",
       "    }\n",
       "\n",
       "    .dataframe thead th {\n",
       "        text-align: right;\n",
       "    }\n",
       "</style>\n",
       "<table border=\"1\" class=\"dataframe\">\n",
       "  <thead>\n",
       "    <tr style=\"text-align: right;\">\n",
       "      <th></th>\n",
       "      <th>VendorID</th>\n",
       "      <th>tpep_pickup_datetime</th>\n",
       "      <th>tpep_dropoff_datetime</th>\n",
       "      <th>passenger_count</th>\n",
       "      <th>trip_distance</th>\n",
       "      <th>RatecodeID</th>\n",
       "      <th>store_and_fwd_flag</th>\n",
       "      <th>PULocationID</th>\n",
       "      <th>DOLocationID</th>\n",
       "      <th>payment_type</th>\n",
       "      <th>fare_amount</th>\n",
       "      <th>extra</th>\n",
       "      <th>mta_tax</th>\n",
       "      <th>tip_amount</th>\n",
       "      <th>tolls_amount</th>\n",
       "      <th>improvement_surcharge</th>\n",
       "      <th>total_amount</th>\n",
       "      <th>congestion_surcharge</th>\n",
       "      <th>airport_fee</th>\n",
       "    </tr>\n",
       "  </thead>\n",
       "  <tbody>\n",
       "    <tr>\n",
       "      <th>0</th>\n",
       "      <td>1</td>\n",
       "      <td>2022-06-01 00:25:41</td>\n",
       "      <td>2022-06-01 00:48:22</td>\n",
       "      <td>1.0</td>\n",
       "      <td>11.00</td>\n",
       "      <td>1.0</td>\n",
       "      <td>N</td>\n",
       "      <td>70</td>\n",
       "      <td>48</td>\n",
       "      <td>1</td>\n",
       "      <td>32.0</td>\n",
       "      <td>3.00</td>\n",
       "      <td>0.5</td>\n",
       "      <td>2.00</td>\n",
       "      <td>6.55</td>\n",
       "      <td>0.3</td>\n",
       "      <td>44.35</td>\n",
       "      <td>2.5</td>\n",
       "      <td>0.00</td>\n",
       "    </tr>\n",
       "    <tr>\n",
       "      <th>1</th>\n",
       "      <td>1</td>\n",
       "      <td>2022-06-01 00:44:40</td>\n",
       "      <td>2022-06-01 01:01:48</td>\n",
       "      <td>1.0</td>\n",
       "      <td>4.20</td>\n",
       "      <td>1.0</td>\n",
       "      <td>N</td>\n",
       "      <td>170</td>\n",
       "      <td>226</td>\n",
       "      <td>1</td>\n",
       "      <td>14.0</td>\n",
       "      <td>3.00</td>\n",
       "      <td>0.5</td>\n",
       "      <td>0.00</td>\n",
       "      <td>0.00</td>\n",
       "      <td>0.3</td>\n",
       "      <td>17.80</td>\n",
       "      <td>2.5</td>\n",
       "      <td>0.00</td>\n",
       "    </tr>\n",
       "    <tr>\n",
       "      <th>2</th>\n",
       "      <td>2</td>\n",
       "      <td>2022-06-01 00:23:07</td>\n",
       "      <td>2022-06-01 00:39:50</td>\n",
       "      <td>1.0</td>\n",
       "      <td>9.49</td>\n",
       "      <td>1.0</td>\n",
       "      <td>N</td>\n",
       "      <td>264</td>\n",
       "      <td>113</td>\n",
       "      <td>1</td>\n",
       "      <td>26.0</td>\n",
       "      <td>0.50</td>\n",
       "      <td>0.5</td>\n",
       "      <td>5.00</td>\n",
       "      <td>6.55</td>\n",
       "      <td>0.3</td>\n",
       "      <td>42.60</td>\n",
       "      <td>2.5</td>\n",
       "      <td>1.25</td>\n",
       "    </tr>\n",
       "    <tr>\n",
       "      <th>3</th>\n",
       "      <td>1</td>\n",
       "      <td>2022-06-01 00:25:53</td>\n",
       "      <td>2022-06-01 00:57:06</td>\n",
       "      <td>2.0</td>\n",
       "      <td>12.10</td>\n",
       "      <td>1.0</td>\n",
       "      <td>N</td>\n",
       "      <td>132</td>\n",
       "      <td>17</td>\n",
       "      <td>2</td>\n",
       "      <td>37.0</td>\n",
       "      <td>1.75</td>\n",
       "      <td>0.5</td>\n",
       "      <td>0.00</td>\n",
       "      <td>0.00</td>\n",
       "      <td>0.3</td>\n",
       "      <td>39.55</td>\n",
       "      <td>0.0</td>\n",
       "      <td>1.25</td>\n",
       "    </tr>\n",
       "    <tr>\n",
       "      <th>4</th>\n",
       "      <td>1</td>\n",
       "      <td>2022-06-01 00:23:58</td>\n",
       "      <td>2022-06-01 00:33:43</td>\n",
       "      <td>0.0</td>\n",
       "      <td>1.80</td>\n",
       "      <td>1.0</td>\n",
       "      <td>N</td>\n",
       "      <td>140</td>\n",
       "      <td>163</td>\n",
       "      <td>1</td>\n",
       "      <td>9.0</td>\n",
       "      <td>3.00</td>\n",
       "      <td>0.5</td>\n",
       "      <td>2.55</td>\n",
       "      <td>0.00</td>\n",
       "      <td>0.3</td>\n",
       "      <td>15.35</td>\n",
       "      <td>2.5</td>\n",
       "      <td>0.00</td>\n",
       "    </tr>\n",
       "  </tbody>\n",
       "</table>\n",
       "</div>"
      ],
      "text/plain": [
       "   VendorID tpep_pickup_datetime tpep_dropoff_datetime  passenger_count  \\\n",
       "0         1  2022-06-01 00:25:41   2022-06-01 00:48:22              1.0   \n",
       "1         1  2022-06-01 00:44:40   2022-06-01 01:01:48              1.0   \n",
       "2         2  2022-06-01 00:23:07   2022-06-01 00:39:50              1.0   \n",
       "3         1  2022-06-01 00:25:53   2022-06-01 00:57:06              2.0   \n",
       "4         1  2022-06-01 00:23:58   2022-06-01 00:33:43              0.0   \n",
       "\n",
       "   trip_distance  RatecodeID store_and_fwd_flag  PULocationID  DOLocationID  \\\n",
       "0          11.00         1.0                  N            70            48   \n",
       "1           4.20         1.0                  N           170           226   \n",
       "2           9.49         1.0                  N           264           113   \n",
       "3          12.10         1.0                  N           132            17   \n",
       "4           1.80         1.0                  N           140           163   \n",
       "\n",
       "   payment_type  fare_amount  extra  mta_tax  tip_amount  tolls_amount  \\\n",
       "0             1         32.0   3.00      0.5        2.00          6.55   \n",
       "1             1         14.0   3.00      0.5        0.00          0.00   \n",
       "2             1         26.0   0.50      0.5        5.00          6.55   \n",
       "3             2         37.0   1.75      0.5        0.00          0.00   \n",
       "4             1          9.0   3.00      0.5        2.55          0.00   \n",
       "\n",
       "   improvement_surcharge  total_amount  congestion_surcharge  airport_fee  \n",
       "0                    0.3         44.35                   2.5         0.00  \n",
       "1                    0.3         17.80                   2.5         0.00  \n",
       "2                    0.3         42.60                   2.5         1.25  \n",
       "3                    0.3         39.55                   0.0         1.25  \n",
       "4                    0.3         15.35                   2.5         0.00  "
      ]
     },
     "execution_count": 5,
     "metadata": {},
     "output_type": "execute_result"
    }
   ],
   "source": [
    "taxi.head()"
   ]
  },
  {
   "cell_type": "code",
   "execution_count": 6,
   "id": "94ea36d8",
   "metadata": {},
   "outputs": [
    {
     "data": {
      "text/plain": [
       "(3558124, 19)"
      ]
     },
     "execution_count": 6,
     "metadata": {},
     "output_type": "execute_result"
    }
   ],
   "source": [
    "taxi.shape"
   ]
  },
  {
   "cell_type": "code",
   "execution_count": 7,
   "id": "97610714",
   "metadata": {},
   "outputs": [],
   "source": [
    "from sklearn.model_selection import train_test_split\n",
    "taxi,_=train_test_split(taxi,test_size=.98,random_state=0)"
   ]
  },
  {
   "cell_type": "code",
   "execution_count": 8,
   "id": "afe6a896",
   "metadata": {},
   "outputs": [
    {
     "data": {
      "text/plain": [
       "(71162, 19)"
      ]
     },
     "execution_count": 8,
     "metadata": {},
     "output_type": "execute_result"
    }
   ],
   "source": [
    "taxi.shape"
   ]
  },
  {
   "cell_type": "code",
   "execution_count": 9,
   "id": "5b6b8459",
   "metadata": {},
   "outputs": [
    {
     "data": {
      "text/html": [
       "<div>\n",
       "<style scoped>\n",
       "    .dataframe tbody tr th:only-of-type {\n",
       "        vertical-align: middle;\n",
       "    }\n",
       "\n",
       "    .dataframe tbody tr th {\n",
       "        vertical-align: top;\n",
       "    }\n",
       "\n",
       "    .dataframe thead th {\n",
       "        text-align: right;\n",
       "    }\n",
       "</style>\n",
       "<table border=\"1\" class=\"dataframe\">\n",
       "  <thead>\n",
       "    <tr style=\"text-align: right;\">\n",
       "      <th></th>\n",
       "      <th>count</th>\n",
       "      <th>mean</th>\n",
       "      <th>std</th>\n",
       "      <th>min</th>\n",
       "      <th>25%</th>\n",
       "      <th>50%</th>\n",
       "      <th>75%</th>\n",
       "      <th>max</th>\n",
       "    </tr>\n",
       "  </thead>\n",
       "  <tbody>\n",
       "    <tr>\n",
       "      <th>VendorID</th>\n",
       "      <td>71162.0</td>\n",
       "      <td>1.715326</td>\n",
       "      <td>0.493790</td>\n",
       "      <td>1.00</td>\n",
       "      <td>1.00</td>\n",
       "      <td>2.00</td>\n",
       "      <td>2.00</td>\n",
       "      <td>6.00</td>\n",
       "    </tr>\n",
       "    <tr>\n",
       "      <th>passenger_count</th>\n",
       "      <td>68502.0</td>\n",
       "      <td>1.397915</td>\n",
       "      <td>0.958426</td>\n",
       "      <td>0.00</td>\n",
       "      <td>1.00</td>\n",
       "      <td>1.00</td>\n",
       "      <td>1.00</td>\n",
       "      <td>6.00</td>\n",
       "    </tr>\n",
       "    <tr>\n",
       "      <th>trip_distance</th>\n",
       "      <td>71162.0</td>\n",
       "      <td>5.139562</td>\n",
       "      <td>417.524139</td>\n",
       "      <td>0.00</td>\n",
       "      <td>1.14</td>\n",
       "      <td>1.94</td>\n",
       "      <td>3.63</td>\n",
       "      <td>111375.90</td>\n",
       "    </tr>\n",
       "    <tr>\n",
       "      <th>RatecodeID</th>\n",
       "      <td>68502.0</td>\n",
       "      <td>1.381887</td>\n",
       "      <td>5.379988</td>\n",
       "      <td>1.00</td>\n",
       "      <td>1.00</td>\n",
       "      <td>1.00</td>\n",
       "      <td>1.00</td>\n",
       "      <td>99.00</td>\n",
       "    </tr>\n",
       "    <tr>\n",
       "      <th>PULocationID</th>\n",
       "      <td>71162.0</td>\n",
       "      <td>164.479497</td>\n",
       "      <td>65.645951</td>\n",
       "      <td>1.00</td>\n",
       "      <td>132.00</td>\n",
       "      <td>162.00</td>\n",
       "      <td>234.00</td>\n",
       "      <td>265.00</td>\n",
       "    </tr>\n",
       "    <tr>\n",
       "      <th>DOLocationID</th>\n",
       "      <td>71162.0</td>\n",
       "      <td>162.143686</td>\n",
       "      <td>70.316140</td>\n",
       "      <td>1.00</td>\n",
       "      <td>113.00</td>\n",
       "      <td>162.00</td>\n",
       "      <td>234.00</td>\n",
       "      <td>265.00</td>\n",
       "    </tr>\n",
       "    <tr>\n",
       "      <th>payment_type</th>\n",
       "      <td>71162.0</td>\n",
       "      <td>1.182316</td>\n",
       "      <td>0.512962</td>\n",
       "      <td>0.00</td>\n",
       "      <td>1.00</td>\n",
       "      <td>1.00</td>\n",
       "      <td>1.00</td>\n",
       "      <td>4.00</td>\n",
       "    </tr>\n",
       "    <tr>\n",
       "      <th>fare_amount</th>\n",
       "      <td>71162.0</td>\n",
       "      <td>15.303329</td>\n",
       "      <td>47.533116</td>\n",
       "      <td>-500.00</td>\n",
       "      <td>7.00</td>\n",
       "      <td>10.50</td>\n",
       "      <td>16.50</td>\n",
       "      <td>6977.00</td>\n",
       "    </tr>\n",
       "    <tr>\n",
       "      <th>extra</th>\n",
       "      <td>71162.0</td>\n",
       "      <td>1.021993</td>\n",
       "      <td>1.257102</td>\n",
       "      <td>-4.50</td>\n",
       "      <td>0.00</td>\n",
       "      <td>0.50</td>\n",
       "      <td>2.50</td>\n",
       "      <td>8.25</td>\n",
       "    </tr>\n",
       "    <tr>\n",
       "      <th>mta_tax</th>\n",
       "      <td>71162.0</td>\n",
       "      <td>0.488028</td>\n",
       "      <td>0.096593</td>\n",
       "      <td>-0.50</td>\n",
       "      <td>0.50</td>\n",
       "      <td>0.50</td>\n",
       "      <td>0.50</td>\n",
       "      <td>2.78</td>\n",
       "    </tr>\n",
       "    <tr>\n",
       "      <th>tip_amount</th>\n",
       "      <td>71162.0</td>\n",
       "      <td>2.796812</td>\n",
       "      <td>3.430315</td>\n",
       "      <td>-1.07</td>\n",
       "      <td>1.00</td>\n",
       "      <td>2.16</td>\n",
       "      <td>3.45</td>\n",
       "      <td>259.70</td>\n",
       "    </tr>\n",
       "    <tr>\n",
       "      <th>tolls_amount</th>\n",
       "      <td>71162.0</td>\n",
       "      <td>0.562220</td>\n",
       "      <td>2.084042</td>\n",
       "      <td>-34.05</td>\n",
       "      <td>0.00</td>\n",
       "      <td>0.00</td>\n",
       "      <td>0.00</td>\n",
       "      <td>52.00</td>\n",
       "    </tr>\n",
       "    <tr>\n",
       "      <th>improvement_surcharge</th>\n",
       "      <td>71162.0</td>\n",
       "      <td>0.295839</td>\n",
       "      <td>0.049499</td>\n",
       "      <td>-0.30</td>\n",
       "      <td>0.30</td>\n",
       "      <td>0.30</td>\n",
       "      <td>0.30</td>\n",
       "      <td>0.30</td>\n",
       "    </tr>\n",
       "    <tr>\n",
       "      <th>total_amount</th>\n",
       "      <td>71162.0</td>\n",
       "      <td>22.167269</td>\n",
       "      <td>48.727549</td>\n",
       "      <td>-400.24</td>\n",
       "      <td>12.35</td>\n",
       "      <td>16.28</td>\n",
       "      <td>23.30</td>\n",
       "      <td>6981.30</td>\n",
       "    </tr>\n",
       "    <tr>\n",
       "      <th>congestion_surcharge</th>\n",
       "      <td>68502.0</td>\n",
       "      <td>2.276758</td>\n",
       "      <td>0.759050</td>\n",
       "      <td>-2.50</td>\n",
       "      <td>2.50</td>\n",
       "      <td>2.50</td>\n",
       "      <td>2.50</td>\n",
       "      <td>2.50</td>\n",
       "    </tr>\n",
       "    <tr>\n",
       "      <th>airport_fee</th>\n",
       "      <td>68502.0</td>\n",
       "      <td>0.095691</td>\n",
       "      <td>0.336174</td>\n",
       "      <td>-1.25</td>\n",
       "      <td>0.00</td>\n",
       "      <td>0.00</td>\n",
       "      <td>0.00</td>\n",
       "      <td>1.25</td>\n",
       "    </tr>\n",
       "  </tbody>\n",
       "</table>\n",
       "</div>"
      ],
      "text/plain": [
       "                         count        mean         std     min     25%  \\\n",
       "VendorID               71162.0    1.715326    0.493790    1.00    1.00   \n",
       "passenger_count        68502.0    1.397915    0.958426    0.00    1.00   \n",
       "trip_distance          71162.0    5.139562  417.524139    0.00    1.14   \n",
       "RatecodeID             68502.0    1.381887    5.379988    1.00    1.00   \n",
       "PULocationID           71162.0  164.479497   65.645951    1.00  132.00   \n",
       "DOLocationID           71162.0  162.143686   70.316140    1.00  113.00   \n",
       "payment_type           71162.0    1.182316    0.512962    0.00    1.00   \n",
       "fare_amount            71162.0   15.303329   47.533116 -500.00    7.00   \n",
       "extra                  71162.0    1.021993    1.257102   -4.50    0.00   \n",
       "mta_tax                71162.0    0.488028    0.096593   -0.50    0.50   \n",
       "tip_amount             71162.0    2.796812    3.430315   -1.07    1.00   \n",
       "tolls_amount           71162.0    0.562220    2.084042  -34.05    0.00   \n",
       "improvement_surcharge  71162.0    0.295839    0.049499   -0.30    0.30   \n",
       "total_amount           71162.0   22.167269   48.727549 -400.24   12.35   \n",
       "congestion_surcharge   68502.0    2.276758    0.759050   -2.50    2.50   \n",
       "airport_fee            68502.0    0.095691    0.336174   -1.25    0.00   \n",
       "\n",
       "                          50%     75%        max  \n",
       "VendorID                 2.00    2.00       6.00  \n",
       "passenger_count          1.00    1.00       6.00  \n",
       "trip_distance            1.94    3.63  111375.90  \n",
       "RatecodeID               1.00    1.00      99.00  \n",
       "PULocationID           162.00  234.00     265.00  \n",
       "DOLocationID           162.00  234.00     265.00  \n",
       "payment_type             1.00    1.00       4.00  \n",
       "fare_amount             10.50   16.50    6977.00  \n",
       "extra                    0.50    2.50       8.25  \n",
       "mta_tax                  0.50    0.50       2.78  \n",
       "tip_amount               2.16    3.45     259.70  \n",
       "tolls_amount             0.00    0.00      52.00  \n",
       "improvement_surcharge    0.30    0.30       0.30  \n",
       "total_amount            16.28   23.30    6981.30  \n",
       "congestion_surcharge     2.50    2.50       2.50  \n",
       "airport_fee              0.00    0.00       1.25  "
      ]
     },
     "execution_count": 9,
     "metadata": {},
     "output_type": "execute_result"
    }
   ],
   "source": [
    "taxi.describe().T"
   ]
  },
  {
   "cell_type": "markdown",
   "id": "07a37fe7",
   "metadata": {},
   "source": [
    "Target Variable is total_amount\n",
    "since total_amount and fare_amount are highly correlated therefore fare_amount has to be dropped"
   ]
  },
  {
   "cell_type": "markdown",
   "id": "2e4b890a",
   "metadata": {},
   "source": [
    "### EDA "
   ]
  },
  {
   "cell_type": "code",
   "execution_count": 10,
   "id": "450ea84d",
   "metadata": {},
   "outputs": [
    {
     "data": {
      "text/plain": [
       "2    50189\n",
       "1    20830\n",
       "6      143\n",
       "Name: VendorID, dtype: int64"
      ]
     },
     "execution_count": 10,
     "metadata": {},
     "output_type": "execute_result"
    }
   ],
   "source": [
    "taxi['VendorID'].value_counts()"
   ]
  },
  {
   "cell_type": "code",
   "execution_count": 11,
   "id": "4a31ec1a",
   "metadata": {},
   "outputs": [],
   "source": [
    "def univariate_cat(data,x):\n",
    "    missing=data[x].isnull().sum()\n",
    "    unique_cnt=data[x].nunique()\n",
    "    unique_cat=list(data[x].unique())\n",
    "    \n",
    "    f1=pd.DataFrame(data[x].value_counts(dropna=False))\n",
    "    f1.rename(columns={'ed':'Count'},inplace=True)\n",
    "    \n",
    "    f2=pd.DataFrame(data[x].value_counts(normalize=True))\n",
    "    f2.rename(columns={x:'Percentage'},inplace=True)\n",
    "    f2['Percentage']=(f2['Percentage']*100).round(2).astype(str)+\"%\"\n",
    "    ff=pd.concat([f1,f2],axis=1)    \n",
    "    \n",
    "    print(f\"Total missing values : {missing}\\n\")\n",
    "    print(f\"Total count of unique categories: {unique_cnt}\\n\")\n",
    "    print(f\"Unique categories :\\n{unique_cat}\")\n",
    "    print(\"value counts and %n \",ff)\n",
    "#     plt.figure(figsize=(10,8))\n",
    "#     sns.countplot(data=data,x=x)\n",
    "#     plt.show()"
   ]
  },
  {
   "cell_type": "code",
   "execution_count": 12,
   "id": "5fbb66de",
   "metadata": {},
   "outputs": [
    {
     "name": "stdout",
     "output_type": "stream",
     "text": [
      "Total missing values : 0\n",
      "\n",
      "Total count of unique categories: 3\n",
      "\n",
      "Unique categories :\n",
      "[2, 1, 6]\n",
      "value counts and %n     VendorID Percentage\n",
      "2     50189     70.53%\n",
      "1     20830     29.27%\n",
      "6       143       0.2%\n"
     ]
    }
   ],
   "source": [
    "univariate_cat(data=taxi,x='VendorID')"
   ]
  },
  {
   "cell_type": "code",
   "execution_count": 13,
   "id": "478191a2",
   "metadata": {},
   "outputs": [],
   "source": [
    "taxi['VendorID']=taxi['VendorID'].replace([6,5],'Others')"
   ]
  },
  {
   "cell_type": "code",
   "execution_count": 14,
   "id": "129b7573",
   "metadata": {},
   "outputs": [
    {
     "data": {
      "text/plain": [
       "2         50189\n",
       "1         20830\n",
       "Others      143\n",
       "Name: VendorID, dtype: int64"
      ]
     },
     "execution_count": 14,
     "metadata": {},
     "output_type": "execute_result"
    }
   ],
   "source": [
    "taxi['VendorID'].value_counts()"
   ]
  },
  {
   "cell_type": "code",
   "execution_count": 15,
   "id": "8ffb0645",
   "metadata": {},
   "outputs": [
    {
     "data": {
      "text/plain": [
       "VendorID              object\n",
       "store_and_fwd_flag    object\n",
       "dtype: object"
      ]
     },
     "execution_count": 15,
     "metadata": {},
     "output_type": "execute_result"
    }
   ],
   "source": [
    "taxi.dtypes[taxi.dtypes=='object']"
   ]
  },
  {
   "cell_type": "code",
   "execution_count": 16,
   "id": "4be0c995",
   "metadata": {},
   "outputs": [
    {
     "name": "stdout",
     "output_type": "stream",
     "text": [
      "Total missing values : 2660\n",
      "\n",
      "Total count of unique categories: 2\n",
      "\n",
      "Unique categories :\n",
      "['N', None, 'Y']\n",
      "value counts and %n        store_and_fwd_flag Percentage\n",
      "N                  67674     98.79%\n",
      "None                2660        NaN\n",
      "Y                    828      1.21%\n"
     ]
    }
   ],
   "source": [
    "univariate_cat(data=taxi, x='store_and_fwd_flag')"
   ]
  },
  {
   "cell_type": "code",
   "execution_count": 17,
   "id": "405a0b87",
   "metadata": {},
   "outputs": [],
   "source": [
    "taxi['store_and_fwd_flag']=taxi['store_and_fwd_flag'].replace(np.nan,'other')"
   ]
  },
  {
   "cell_type": "code",
   "execution_count": 18,
   "id": "22d61c9a",
   "metadata": {},
   "outputs": [
    {
     "data": {
      "text/plain": [
       "0"
      ]
     },
     "execution_count": 18,
     "metadata": {},
     "output_type": "execute_result"
    }
   ],
   "source": [
    "taxi['store_and_fwd_flag'].isnull().sum()"
   ]
  },
  {
   "cell_type": "code",
   "execution_count": 19,
   "id": "936bc410",
   "metadata": {},
   "outputs": [
    {
     "data": {
      "text/plain": [
       "1.0     64553\n",
       "2.0      2826\n",
       "5.0       612\n",
       "3.0       217\n",
       "99.0      206\n",
       "4.0        88\n",
       "Name: RatecodeID, dtype: int64"
      ]
     },
     "execution_count": 19,
     "metadata": {},
     "output_type": "execute_result"
    }
   ],
   "source": [
    "taxi['RatecodeID'].value_counts()"
   ]
  },
  {
   "cell_type": "code",
   "execution_count": 20,
   "id": "7a8c56cf",
   "metadata": {},
   "outputs": [],
   "source": [
    "# 1= Standard rate\n",
    "# 2=JFK\n",
    "# 3=Newark\n",
    "# 4=Nassau or Westchester\n",
    "# 5=Negotiated fare\n",
    "# 6=Group ride"
   ]
  },
  {
   "cell_type": "code",
   "execution_count": 21,
   "id": "b5845df6",
   "metadata": {},
   "outputs": [],
   "source": [
    "taxi['RatecodeID']=taxi['RatecodeID'].map({1:'Standard_rate',\n",
    "                                          2:'JFK',\n",
    "                                          3:'Newark',\n",
    "                                          4:'Nassau_or_Westchester',\n",
    "                                          5:'Negotiated_fare',\n",
    "                                          6:'Group_ride',\n",
    "                                          99:'others'})"
   ]
  },
  {
   "cell_type": "code",
   "execution_count": 22,
   "id": "53c7fe6a",
   "metadata": {},
   "outputs": [
    {
     "name": "stdout",
     "output_type": "stream",
     "text": [
      "Total missing values : 2660\n",
      "\n",
      "Total count of unique categories: 6\n",
      "\n",
      "Unique categories :\n",
      "['Standard_rate', nan, 'Negotiated_fare', 'JFK', 'Newark', 'Nassau_or_Westchester', 'others']\n",
      "value counts and %n                         RatecodeID Percentage\n",
      "Standard_rate               64553     94.24%\n",
      "JFK                          2826      4.13%\n",
      "NaN                          2660        NaN\n",
      "Negotiated_fare               612      0.89%\n",
      "Newark                        217      0.32%\n",
      "others                        206       0.3%\n",
      "Nassau_or_Westchester          88      0.13%\n"
     ]
    }
   ],
   "source": [
    "univariate_cat(data=taxi,x='RatecodeID')"
   ]
  },
  {
   "cell_type": "code",
   "execution_count": 23,
   "id": "e1fcd144",
   "metadata": {},
   "outputs": [],
   "source": [
    "taxi['RatecodeID']=taxi['RatecodeID'].replace(np.nan,'other')"
   ]
  },
  {
   "cell_type": "code",
   "execution_count": 24,
   "id": "e0bc4d6f",
   "metadata": {},
   "outputs": [
    {
     "data": {
      "text/plain": [
       "Standard_rate            64553\n",
       "JFK                       2826\n",
       "other                     2660\n",
       "Negotiated_fare            612\n",
       "Newark                     217\n",
       "others                     206\n",
       "Nassau_or_Westchester       88\n",
       "Name: RatecodeID, dtype: int64"
      ]
     },
     "execution_count": 24,
     "metadata": {},
     "output_type": "execute_result"
    }
   ],
   "source": [
    "taxi['RatecodeID'].value_counts(dropna=False)"
   ]
  },
  {
   "cell_type": "code",
   "execution_count": 25,
   "id": "94c8332f",
   "metadata": {},
   "outputs": [
    {
     "data": {
      "text/plain": [
       "1    53921\n",
       "2    13873\n",
       "0     2660\n",
       "3      363\n",
       "4      345\n",
       "Name: payment_type, dtype: int64"
      ]
     },
     "execution_count": 25,
     "metadata": {},
     "output_type": "execute_result"
    }
   ],
   "source": [
    "taxi['payment_type'].value_counts()"
   ]
  },
  {
   "cell_type": "code",
   "execution_count": 26,
   "id": "23c932cc",
   "metadata": {},
   "outputs": [
    {
     "name": "stdout",
     "output_type": "stream",
     "text": [
      "Total missing values : 0\n",
      "\n",
      "Total count of unique categories: 5\n",
      "\n",
      "Unique categories :\n",
      "[1, 2, 0, 4, 3]\n",
      "value counts and %n     payment_type Percentage\n",
      "1         53921     75.77%\n",
      "2         13873     19.49%\n",
      "0          2660      3.74%\n",
      "3           363      0.51%\n",
      "4           345      0.48%\n"
     ]
    }
   ],
   "source": [
    "univariate_cat(data=taxi,x='payment_type')"
   ]
  },
  {
   "cell_type": "code",
   "execution_count": 27,
   "id": "27cde8c6",
   "metadata": {},
   "outputs": [],
   "source": [
    "taxi['payment_type']=taxi['payment_type'].map({1:'Credit_card',\n",
    "                                              2:'Cash',\n",
    "                                              3:'No_charge',\n",
    "                                              4:'Dispute',\n",
    "                                              0:'Unkown'\n",
    "                                              })"
   ]
  },
  {
   "cell_type": "code",
   "execution_count": 28,
   "id": "1c2f8158",
   "metadata": {},
   "outputs": [],
   "source": [
    "# 1= Credit card\n",
    "# 2= Cash\n",
    "# 3= No charge\n",
    "# 4= Dispute\n",
    "# 5= Unknown\n",
    "# 6= Voided trip"
   ]
  },
  {
   "cell_type": "code",
   "execution_count": 29,
   "id": "1d5e463f",
   "metadata": {},
   "outputs": [
    {
     "data": {
      "text/plain": [
       "Credit_card    53921\n",
       "Cash           13873\n",
       "Unkown          2660\n",
       "No_charge        363\n",
       "Dispute          345\n",
       "Name: payment_type, dtype: int64"
      ]
     },
     "execution_count": 29,
     "metadata": {},
     "output_type": "execute_result"
    }
   ],
   "source": [
    "taxi['payment_type'].value_counts()"
   ]
  },
  {
   "cell_type": "markdown",
   "id": "e4ce21f8",
   "metadata": {},
   "source": [
    "#### Numerical "
   ]
  },
  {
   "cell_type": "code",
   "execution_count": 30,
   "id": "6b0dd255",
   "metadata": {},
   "outputs": [
    {
     "data": {
      "text/html": [
       "<div>\n",
       "<style scoped>\n",
       "    .dataframe tbody tr th:only-of-type {\n",
       "        vertical-align: middle;\n",
       "    }\n",
       "\n",
       "    .dataframe tbody tr th {\n",
       "        vertical-align: top;\n",
       "    }\n",
       "\n",
       "    .dataframe thead th {\n",
       "        text-align: right;\n",
       "    }\n",
       "</style>\n",
       "<table border=\"1\" class=\"dataframe\">\n",
       "  <thead>\n",
       "    <tr style=\"text-align: right;\">\n",
       "      <th></th>\n",
       "      <th>VendorID</th>\n",
       "      <th>tpep_pickup_datetime</th>\n",
       "      <th>tpep_dropoff_datetime</th>\n",
       "      <th>passenger_count</th>\n",
       "      <th>trip_distance</th>\n",
       "      <th>RatecodeID</th>\n",
       "      <th>store_and_fwd_flag</th>\n",
       "      <th>PULocationID</th>\n",
       "      <th>DOLocationID</th>\n",
       "      <th>payment_type</th>\n",
       "      <th>fare_amount</th>\n",
       "      <th>extra</th>\n",
       "      <th>mta_tax</th>\n",
       "      <th>tip_amount</th>\n",
       "      <th>tolls_amount</th>\n",
       "      <th>improvement_surcharge</th>\n",
       "      <th>total_amount</th>\n",
       "      <th>congestion_surcharge</th>\n",
       "      <th>airport_fee</th>\n",
       "    </tr>\n",
       "  </thead>\n",
       "  <tbody>\n",
       "    <tr>\n",
       "      <th>11293</th>\n",
       "      <td>2</td>\n",
       "      <td>2022-06-01 08:48:20</td>\n",
       "      <td>2022-06-01 09:00:30</td>\n",
       "      <td>1.0</td>\n",
       "      <td>1.75</td>\n",
       "      <td>Standard_rate</td>\n",
       "      <td>N</td>\n",
       "      <td>143</td>\n",
       "      <td>48</td>\n",
       "      <td>Credit_card</td>\n",
       "      <td>9.5</td>\n",
       "      <td>0.0</td>\n",
       "      <td>0.5</td>\n",
       "      <td>2.00</td>\n",
       "      <td>0.0</td>\n",
       "      <td>0.3</td>\n",
       "      <td>14.80</td>\n",
       "      <td>2.5</td>\n",
       "      <td>0.0</td>\n",
       "    </tr>\n",
       "    <tr>\n",
       "      <th>3241804</th>\n",
       "      <td>2</td>\n",
       "      <td>2022-06-29 12:30:59</td>\n",
       "      <td>2022-06-29 13:20:10</td>\n",
       "      <td>1.0</td>\n",
       "      <td>9.16</td>\n",
       "      <td>Standard_rate</td>\n",
       "      <td>N</td>\n",
       "      <td>143</td>\n",
       "      <td>95</td>\n",
       "      <td>Cash</td>\n",
       "      <td>36.0</td>\n",
       "      <td>0.0</td>\n",
       "      <td>0.5</td>\n",
       "      <td>0.00</td>\n",
       "      <td>0.0</td>\n",
       "      <td>0.3</td>\n",
       "      <td>39.30</td>\n",
       "      <td>2.5</td>\n",
       "      <td>0.0</td>\n",
       "    </tr>\n",
       "    <tr>\n",
       "      <th>2122208</th>\n",
       "      <td>1</td>\n",
       "      <td>2022-06-19 01:03:50</td>\n",
       "      <td>2022-06-19 01:27:44</td>\n",
       "      <td>1.0</td>\n",
       "      <td>5.00</td>\n",
       "      <td>Standard_rate</td>\n",
       "      <td>N</td>\n",
       "      <td>249</td>\n",
       "      <td>80</td>\n",
       "      <td>Credit_card</td>\n",
       "      <td>20.0</td>\n",
       "      <td>3.0</td>\n",
       "      <td>0.5</td>\n",
       "      <td>2.00</td>\n",
       "      <td>0.0</td>\n",
       "      <td>0.3</td>\n",
       "      <td>25.80</td>\n",
       "      <td>2.5</td>\n",
       "      <td>0.0</td>\n",
       "    </tr>\n",
       "    <tr>\n",
       "      <th>645015</th>\n",
       "      <td>2</td>\n",
       "      <td>2022-06-06 17:16:57</td>\n",
       "      <td>2022-06-06 17:35:51</td>\n",
       "      <td>1.0</td>\n",
       "      <td>3.02</td>\n",
       "      <td>Standard_rate</td>\n",
       "      <td>N</td>\n",
       "      <td>230</td>\n",
       "      <td>113</td>\n",
       "      <td>Credit_card</td>\n",
       "      <td>13.5</td>\n",
       "      <td>1.0</td>\n",
       "      <td>0.5</td>\n",
       "      <td>1.78</td>\n",
       "      <td>0.0</td>\n",
       "      <td>0.3</td>\n",
       "      <td>19.58</td>\n",
       "      <td>2.5</td>\n",
       "      <td>0.0</td>\n",
       "    </tr>\n",
       "    <tr>\n",
       "      <th>1752107</th>\n",
       "      <td>2</td>\n",
       "      <td>2022-06-15 22:09:34</td>\n",
       "      <td>2022-06-15 22:28:03</td>\n",
       "      <td>1.0</td>\n",
       "      <td>3.53</td>\n",
       "      <td>Standard_rate</td>\n",
       "      <td>N</td>\n",
       "      <td>90</td>\n",
       "      <td>237</td>\n",
       "      <td>Credit_card</td>\n",
       "      <td>14.5</td>\n",
       "      <td>0.5</td>\n",
       "      <td>0.5</td>\n",
       "      <td>2.74</td>\n",
       "      <td>0.0</td>\n",
       "      <td>0.3</td>\n",
       "      <td>21.04</td>\n",
       "      <td>2.5</td>\n",
       "      <td>0.0</td>\n",
       "    </tr>\n",
       "  </tbody>\n",
       "</table>\n",
       "</div>"
      ],
      "text/plain": [
       "        VendorID tpep_pickup_datetime tpep_dropoff_datetime  passenger_count  \\\n",
       "11293          2  2022-06-01 08:48:20   2022-06-01 09:00:30              1.0   \n",
       "3241804        2  2022-06-29 12:30:59   2022-06-29 13:20:10              1.0   \n",
       "2122208        1  2022-06-19 01:03:50   2022-06-19 01:27:44              1.0   \n",
       "645015         2  2022-06-06 17:16:57   2022-06-06 17:35:51              1.0   \n",
       "1752107        2  2022-06-15 22:09:34   2022-06-15 22:28:03              1.0   \n",
       "\n",
       "         trip_distance     RatecodeID store_and_fwd_flag  PULocationID  \\\n",
       "11293             1.75  Standard_rate                  N           143   \n",
       "3241804           9.16  Standard_rate                  N           143   \n",
       "2122208           5.00  Standard_rate                  N           249   \n",
       "645015            3.02  Standard_rate                  N           230   \n",
       "1752107           3.53  Standard_rate                  N            90   \n",
       "\n",
       "         DOLocationID payment_type  fare_amount  extra  mta_tax  tip_amount  \\\n",
       "11293              48  Credit_card          9.5    0.0      0.5        2.00   \n",
       "3241804            95         Cash         36.0    0.0      0.5        0.00   \n",
       "2122208            80  Credit_card         20.0    3.0      0.5        2.00   \n",
       "645015            113  Credit_card         13.5    1.0      0.5        1.78   \n",
       "1752107           237  Credit_card         14.5    0.5      0.5        2.74   \n",
       "\n",
       "         tolls_amount  improvement_surcharge  total_amount  \\\n",
       "11293             0.0                    0.3         14.80   \n",
       "3241804           0.0                    0.3         39.30   \n",
       "2122208           0.0                    0.3         25.80   \n",
       "645015            0.0                    0.3         19.58   \n",
       "1752107           0.0                    0.3         21.04   \n",
       "\n",
       "         congestion_surcharge  airport_fee  \n",
       "11293                     2.5          0.0  \n",
       "3241804                   2.5          0.0  \n",
       "2122208                   2.5          0.0  \n",
       "645015                    2.5          0.0  \n",
       "1752107                   2.5          0.0  "
      ]
     },
     "execution_count": 30,
     "metadata": {},
     "output_type": "execute_result"
    }
   ],
   "source": [
    "taxi.head()"
   ]
  },
  {
   "cell_type": "code",
   "execution_count": 31,
   "id": "528448e0",
   "metadata": {},
   "outputs": [],
   "source": [
    "def univariate_num(data,x):\n",
    "    missing=data[x].isnull().sum()\n",
    "    min1=round(data[x].min(), 2)\n",
    "    max1=round(data[x].max(), 2)\n",
    "    mean=round(data[x].mean(), 2)\n",
    "    var=round(data[x].var(), 2)\n",
    "    std=round(data[x].std(),2)\n",
    "    range1=round(max1-min1, 2)\n",
    "    q1=round(data[x].quantile(.25), 2)\n",
    "    q2=round(data[x].quantile(.5),2)\n",
    "    q3=round(data[x].quantile(.75), 2)\n",
    "    skew=round( data[x].skew(), 2)\n",
    "    kurt=round(data[x].kurt(), 2)\n",
    "    myvalue={\"missing\":missing, \"min\":min1, \"max\":max1, \"mean\":mean,\n",
    "             \"var\":var,\"std\":std, \"range\":range1,\"q1\":q1, \"q2\":q2,\"q3\":q3,\n",
    "            \"skewness\":skew, \"kurtosis\":kurt}\n",
    "    sns.histplot(data[x])\n",
    "    plt.show()\n",
    "    sns.boxplot(data=data, y=data[x])\n",
    "    plt.show()\n",
    "    return myvalue"
   ]
  },
  {
   "cell_type": "code",
   "execution_count": 32,
   "id": "31da9454",
   "metadata": {},
   "outputs": [
    {
     "data": {
      "image/png": "[encoded data removed]",
      "text/plain": [
       "<Figure size 432x288 with 1 Axes>"
      ]
     },
     "metadata": {
      "needs_background": "light"
     },
     "output_type": "display_data"
    },
    {
     "data": {
      "image/png": "[encoded data removed]",
      "text/plain": [
       "<Figure size 432x288 with 1 Axes>"
      ]
     },
     "metadata": {
      "needs_background": "light"
     },
     "output_type": "display_data"
    },
    {
     "data": {
      "text/plain": [
       "{'missing': 2660,\n",
       " 'min': 0.0,\n",
       " 'max': 6.0,\n",
       " 'mean': 1.4,\n",
       " 'var': 0.92,\n",
       " 'std': 0.96,\n",
       " 'range': 6.0,\n",
       " 'q1': 1.0,\n",
       " 'q2': 1.0,\n",
       " 'q3': 1.0,\n",
       " 'skewness': 2.74,\n",
       " 'kurtosis': 8.32}"
      ]
     },
     "execution_count": 32,
     "metadata": {},
     "output_type": "execute_result"
    }
   ],
   "source": [
    "univariate_num(data=taxi,x='passenger_count')"
   ]
  },
  {
   "cell_type": "code",
   "execution_count": 1,
   "id": "3b36e2cb",
   "metadata": {},
   "outputs": [],
   "source": [
    "# univariate_num(data=taxi,x='trip_distance')"
   ]
  },
  {
   "cell_type": "code",
   "execution_count": 33,
   "id": "23fd4d4e",
   "metadata": {},
   "outputs": [
    {
     "data": {
      "image/png": "[encoded data removed]",
      "text/plain": [
       "<Figure size 432x288 with 1 Axes>"
      ]
     },
     "metadata": {
      "needs_background": "light"
     },
     "output_type": "display_data"
    },
    {
     "data": {
      "image/png": "[encoded data removed]",
      "text/plain": [
       "<Figure size 432x288 with 1 Axes>"
      ]
     },
     "metadata": {
      "needs_background": "light"
     },
     "output_type": "display_data"
    },
    {
     "data": {
      "text/plain": [
       "{'missing': 0,\n",
       " 'min': 1,\n",
       " 'max': 265,\n",
       " 'mean': 164.48,\n",
       " 'var': 4309.39,\n",
       " 'std': 65.65,\n",
       " 'range': 264,\n",
       " 'q1': 132.0,\n",
       " 'q2': 162.0,\n",
       " 'q3': 234.0,\n",
       " 'skewness': -0.26,\n",
       " 'kurtosis': -0.89}"
      ]
     },
     "execution_count": 33,
     "metadata": {},
     "output_type": "execute_result"
    }
   ],
   "source": [
    "univariate_num(data=taxi,x='PULocationID')"
   ]
  },
  {
   "cell_type": "code",
   "execution_count": 34,
   "id": "2aaaa4c9",
   "metadata": {},
   "outputs": [
    {
     "data": {
      "image/png": "[encoded data removed]",
      "text/plain": [
       "<Figure size 432x288 with 1 Axes>"
      ]
     },
     "metadata": {
      "needs_background": "light"
     },
     "output_type": "display_data"
    },
    {
     "data": {
      "image/png": "[encoded data removed]",
      "text/plain": [
       "<Figure size 432x288 with 1 Axes>"
      ]
     },
     "metadata": {
      "needs_background": "light"
     },
     "output_type": "display_data"
    },
    {
     "data": {
      "text/plain": [
       "{'missing': 0,\n",
       " 'min': 1,\n",
       " 'max': 265,\n",
       " 'mean': 162.14,\n",
       " 'var': 4944.36,\n",
       " 'std': 70.32,\n",
       " 'range': 264,\n",
       " 'q1': 113.0,\n",
       " 'q2': 162.0,\n",
       " 'q3': 234.0,\n",
       " 'skewness': -0.34,\n",
       " 'kurtosis': -0.94}"
      ]
     },
     "execution_count": 34,
     "metadata": {},
     "output_type": "execute_result"
    }
   ],
   "source": [
    "univariate_num(data=taxi,x='DOLocationID')"
   ]
  },
  {
   "cell_type": "code",
   "execution_count": 36,
   "id": "f46a352b",
   "metadata": {},
   "outputs": [],
   "source": [
    "taxi.drop(columns=['PULocationID','DOLocationID'],inplace=True)"
   ]
  },
  {
   "cell_type": "code",
   "execution_count": 37,
   "id": "0b0bf52f",
   "metadata": {},
   "outputs": [
    {
     "data": {
      "image/png": "[encoded data removed]",
      "text/plain": [
       "<Figure size 432x288 with 1 Axes>"
      ]
     },
     "metadata": {
      "needs_background": "light"
     },
     "output_type": "display_data"
    },
    {
     "data": {
      "image/png": "[encoded data removed]",
      "text/plain": [
       "<Figure size 432x288 with 1 Axes>"
      ]
     },
     "metadata": {
      "needs_background": "light"
     },
     "output_type": "display_data"
    },
    {
     "data": {
      "text/plain": [
       "{'missing': 0,\n",
       " 'min': -500.0,\n",
       " 'max': 6977.0,\n",
       " 'mean': 15.3,\n",
       " 'var': 2259.4,\n",
       " 'std': 47.53,\n",
       " 'range': 7477.0,\n",
       " 'q1': 7.0,\n",
       " 'q2': 10.5,\n",
       " 'q3': 16.5,\n",
       " 'skewness': 132.37,\n",
       " 'kurtosis': 19353.71}"
      ]
     },
     "execution_count": 37,
     "metadata": {},
     "output_type": "execute_result"
    }
   ],
   "source": [
    "univariate_num(data=taxi,x='fare_amount')\n"
   ]
  },
  {
   "cell_type": "markdown",
   "id": "ae936e24",
   "metadata": {},
   "source": [
    "upper=16.5+1.5*(16-q1)"
   ]
  },
  {
   "cell_type": "code",
   "execution_count": 38,
   "id": "b0e0491a",
   "metadata": {},
   "outputs": [
    {
     "data": {
      "text/plain": [
       "(474, 17)"
      ]
     },
     "execution_count": 38,
     "metadata": {},
     "output_type": "execute_result"
    }
   ],
   "source": [
    "taxi[taxi['fare_amount']<0].shape"
   ]
  },
  {
   "cell_type": "code",
   "execution_count": 39,
   "id": "c7687327",
   "metadata": {},
   "outputs": [
    {
     "data": {
      "text/plain": [
       "(525, 17)"
      ]
     },
     "execution_count": 39,
     "metadata": {},
     "output_type": "execute_result"
    }
   ],
   "source": [
    "taxi[taxi['fare_amount']<2.5].shape"
   ]
  },
  {
   "cell_type": "code",
   "execution_count": 40,
   "id": "a8791ced",
   "metadata": {},
   "outputs": [
    {
     "data": {
      "text/plain": [
       "(71162, 17)"
      ]
     },
     "execution_count": 40,
     "metadata": {},
     "output_type": "execute_result"
    }
   ],
   "source": [
    "taxi.shape"
   ]
  },
  {
   "cell_type": "code",
   "execution_count": 41,
   "id": "c51daa55",
   "metadata": {},
   "outputs": [
    {
     "data": {
      "text/plain": [
       "0.9295774647887324"
      ]
     },
     "execution_count": 41,
     "metadata": {},
     "output_type": "execute_result"
    }
   ],
   "source": [
    "(71000-5000)/71000"
   ]
  },
  {
   "cell_type": "code",
   "execution_count": 42,
   "id": "9f49b098",
   "metadata": {},
   "outputs": [],
   "source": [
    "taxi1=taxi[taxi['fare_amount']>=2.5]"
   ]
  },
  {
   "cell_type": "code",
   "execution_count": 43,
   "id": "3b9d0f4f",
   "metadata": {},
   "outputs": [
    {
     "data": {
      "text/plain": [
       "(70637, 17)"
      ]
     },
     "execution_count": 43,
     "metadata": {},
     "output_type": "execute_result"
    }
   ],
   "source": [
    "taxi1.shape"
   ]
  },
  {
   "cell_type": "code",
   "execution_count": 44,
   "id": "6e67b48d",
   "metadata": {},
   "outputs": [
    {
     "data": {
      "text/plain": [
       "<AxesSubplot:ylabel='fare_amount'>"
      ]
     },
     "execution_count": 44,
     "metadata": {},
     "output_type": "execute_result"
    },
    {
     "data": {
      "image/png": "[encoded data removed]",
      "text/plain": [
       "<Figure size 432x288 with 1 Axes>"
      ]
     },
     "metadata": {
      "needs_background": "light"
     },
     "output_type": "display_data"
    }
   ],
   "source": [
    "sns.boxplot(data=taxi1,y='fare_amount')"
   ]
  },
  {
   "cell_type": "code",
   "execution_count": null,
   "id": "8d63a295",
   "metadata": {},
   "outputs": [],
   "source": [
    "taxi1[taxi1['fare_amount']>30.75].shape"
   ]
  },
  {
   "cell_type": "code",
   "execution_count": 47,
   "id": "e7074b0d",
   "metadata": {},
   "outputs": [
    {
     "ename": "SyntaxError",
     "evalue": "unexpected EOF while parsing (4020490657.py, line 1)",
     "output_type": "error",
     "traceback": [
      "\u001b[1;36m  Input \u001b[1;32mIn [47]\u001b[1;36m\u001b[0m\n\u001b[1;33m    taxi1[taxi1['fare_amount'].describe(percentiles=[.75,.8,.95,.96,.97,.98,.99])\u001b[0m\n\u001b[1;37m                                                                                 ^\u001b[0m\n\u001b[1;31mSyntaxError\u001b[0m\u001b[1;31m:\u001b[0m unexpected EOF while parsing\n"
     ]
    }
   ],
   "source": [
    "taxi1[taxi1['fare_amount']].describe(percentiles=[.75,.8,.95,.96,.97,.98,.99])"
   ]
  },
  {
   "cell_type": "code",
   "execution_count": 48,
   "id": "a3a98279",
   "metadata": {},
   "outputs": [
    {
     "data": {
      "text/plain": [
       "Index(['tpep_pickup_datetime', 'tpep_dropoff_datetime', 'passenger_count',\n",
       "       'trip_distance', 'fare_amount', 'extra', 'mta_tax', 'tip_amount',\n",
       "       'tolls_amount', 'improvement_surcharge', 'total_amount',\n",
       "       'congestion_surcharge', 'airport_fee'],\n",
       "      dtype='object')"
      ]
     },
     "execution_count": 48,
     "metadata": {},
     "output_type": "execute_result"
    }
   ],
   "source": [
    "taxi1.dtypes[taxi1.dtypes!='object'].index"
   ]
  },
  {
   "cell_type": "markdown",
   "id": "a0acb9aa",
   "metadata": {},
   "source": [
    "type column name here which are not object from the above cell result"
   ]
  },
  {
   "cell_type": "code",
   "execution_count": 49,
   "id": "22f928f0",
   "metadata": {},
   "outputs": [
    {
     "data": {
      "image/png": "[encoded data removed]",
      "text/plain": [
       "<Figure size 432x288 with 1 Axes>"
      ]
     },
     "metadata": {
      "needs_background": "light"
     },
     "output_type": "display_data"
    },
    {
     "data": {
      "image/png": "[encoded data removed]",
      "text/plain": [
       "<Figure size 432x288 with 1 Axes>"
      ]
     },
     "metadata": {
      "needs_background": "light"
     },
     "output_type": "display_data"
    },
    {
     "data": {
      "text/plain": [
       "{'missing': 0,\n",
       " 'min': 0.0,\n",
       " 'max': 8.25,\n",
       " 'mean': 1.03,\n",
       " 'var': 1.58,\n",
       " 'std': 1.26,\n",
       " 'range': 8.25,\n",
       " 'q1': 0.0,\n",
       " 'q2': 0.5,\n",
       " 'q3': 2.5,\n",
       " 'skewness': 1.14,\n",
       " 'kurtosis': 0.75}"
      ]
     },
     "execution_count": 49,
     "metadata": {},
     "output_type": "execute_result"
    }
   ],
   "source": [
    "univariate_num(data=taxi1,x='extra')"
   ]
  },
  {
   "cell_type": "code",
   "execution_count": 50,
   "id": "023d5e22",
   "metadata": {},
   "outputs": [
    {
     "data": {
      "text/plain": [
       "(28530, 17)"
      ]
     },
     "execution_count": 50,
     "metadata": {},
     "output_type": "execute_result"
    }
   ],
   "source": [
    "taxi1[taxi1['extra']==0].shape"
   ]
  },
  {
   "cell_type": "code",
   "execution_count": 51,
   "id": "e3ade495",
   "metadata": {},
   "outputs": [
    {
     "data": {
      "image/png": "[encoded data removed]",
      "text/plain": [
       "<Figure size 432x288 with 1 Axes>"
      ]
     },
     "metadata": {
      "needs_background": "light"
     },
     "output_type": "display_data"
    },
    {
     "data": {
      "image/png": "[encoded data removed]",
      "text/plain": [
       "<Figure size 432x288 with 1 Axes>"
      ]
     },
     "metadata": {
      "needs_background": "light"
     },
     "output_type": "display_data"
    },
    {
     "data": {
      "text/plain": [
       "{'missing': 0,\n",
       " 'min': 0.0,\n",
       " 'max': 2.78,\n",
       " 'mean': 0.49,\n",
       " 'var': 0.0,\n",
       " 'std': 0.05,\n",
       " 'range': 2.78,\n",
       " 'q1': 0.5,\n",
       " 'q2': 0.5,\n",
       " 'q3': 0.5,\n",
       " 'skewness': -6.5,\n",
       " 'kurtosis': 188.41}"
      ]
     },
     "execution_count": 51,
     "metadata": {},
     "output_type": "execute_result"
    }
   ],
   "source": [
    "univariate_num(data=taxi1,x='mta_tax')"
   ]
  },
  {
   "cell_type": "code",
   "execution_count": 52,
   "id": "449371e9",
   "metadata": {},
   "outputs": [
    {
     "data": {
      "image/png": "[encoded data removed]",
      "text/plain": [
       "<Figure size 432x288 with 1 Axes>"
      ]
     },
     "metadata": {
      "needs_background": "light"
     },
     "output_type": "display_data"
    },
    {
     "data": {
      "image/png": "[encoded data removed]",
      "text/plain": [
       "<Figure size 432x288 with 1 Axes>"
      ]
     },
     "metadata": {
      "needs_background": "light"
     },
     "output_type": "display_data"
    },
    {
     "data": {
      "text/plain": [
       "{'missing': 0,\n",
       " 'min': 0.0,\n",
       " 'max': 98.0,\n",
       " 'mean': 2.81,\n",
       " 'var': 10.4,\n",
       " 'std': 3.22,\n",
       " 'range': 98.0,\n",
       " 'q1': 1.0,\n",
       " 'q2': 2.2,\n",
       " 'q3': 3.45,\n",
       " 'skewness': 3.82,\n",
       " 'kurtosis': 44.22}"
      ]
     },
     "execution_count": 52,
     "metadata": {},
     "output_type": "execute_result"
    }
   ],
   "source": [
    "univariate_num(data=taxi1,x='tip_amount')"
   ]
  },
  {
   "cell_type": "code",
   "execution_count": 53,
   "id": "4d67af7e",
   "metadata": {},
   "outputs": [
    {
     "data": {
      "image/png": "[encoded data removed]",
      "text/plain": [
       "<Figure size 432x288 with 1 Axes>"
      ]
     },
     "metadata": {
      "needs_background": "light"
     },
     "output_type": "display_data"
    },
    {
     "data": {
      "image/png": "[encoded data removed]",
      "text/plain": [
       "<Figure size 432x288 with 1 Axes>"
      ]
     },
     "metadata": {
      "needs_background": "light"
     },
     "output_type": "display_data"
    },
    {
     "data": {
      "text/plain": [
       "{'missing': 0,\n",
       " 'min': 0.0,\n",
       " 'max': 52.0,\n",
       " 'mean': 0.57,\n",
       " 'var': 4.33,\n",
       " 'std': 2.08,\n",
       " 'range': 52.0,\n",
       " 'q1': 0.0,\n",
       " 'q2': 0.0,\n",
       " 'q3': 0.0,\n",
       " 'skewness': 4.8,\n",
       " 'kurtosis': 36.86}"
      ]
     },
     "execution_count": 53,
     "metadata": {},
     "output_type": "execute_result"
    }
   ],
   "source": [
    "univariate_num(data=taxi1,x='tolls_amount')"
   ]
  },
  {
   "cell_type": "code",
   "execution_count": 54,
   "id": "4a3123d2",
   "metadata": {},
   "outputs": [
    {
     "data": {
      "text/plain": [
       "<AxesSubplot:xlabel='tolls_amount'>"
      ]
     },
     "execution_count": 54,
     "metadata": {},
     "output_type": "execute_result"
    },
    {
     "data": {
      "image/png": "[encoded data removed]",
      "text/plain": [
       "<Figure size 432x288 with 1 Axes>"
      ]
     },
     "metadata": {
      "needs_background": "light"
     },
     "output_type": "display_data"
    }
   ],
   "source": [
    "sns.boxplot(data=taxi1,x='tolls_amount')"
   ]
  },
  {
   "cell_type": "code",
   "execution_count": 55,
   "id": "ac5bfe28",
   "metadata": {},
   "outputs": [
    {
     "data": {
      "image/png": "[encoded data removed]",
      "text/plain": [
       "<Figure size 432x288 with 1 Axes>"
      ]
     },
     "metadata": {
      "needs_background": "light"
     },
     "output_type": "display_data"
    },
    {
     "data": {
      "image/png": "[encoded data removed]",
      "text/plain": [
       "<Figure size 432x288 with 1 Axes>"
      ]
     },
     "metadata": {
      "needs_background": "light"
     },
     "output_type": "display_data"
    },
    {
     "data": {
      "text/plain": [
       "{'missing': 0,\n",
       " 'min': 0.0,\n",
       " 'max': 0.3,\n",
       " 'mean': 0.3,\n",
       " 'var': 0.0,\n",
       " 'std': 0.0,\n",
       " 'range': 0.3,\n",
       " 'q1': 0.3,\n",
       " 'q2': 0.3,\n",
       " 'q3': 0.3,\n",
       " 'skewness': -76.71,\n",
       " 'kurtosis': 5881.83}"
      ]
     },
     "execution_count": 55,
     "metadata": {},
     "output_type": "execute_result"
    }
   ],
   "source": [
    "univariate_num(data=taxi1,x='improvement_surcharge')"
   ]
  },
  {
   "cell_type": "code",
   "execution_count": 56,
   "id": "2d4150b2",
   "metadata": {},
   "outputs": [
    {
     "data": {
      "text/plain": [
       "(12, 17)"
      ]
     },
     "execution_count": 56,
     "metadata": {},
     "output_type": "execute_result"
    }
   ],
   "source": [
    "taxi1[taxi1['improvement_surcharge']==0].shape"
   ]
  },
  {
   "cell_type": "code",
   "execution_count": 58,
   "id": "adf11eeb",
   "metadata": {},
   "outputs": [
    {
     "name": "stderr",
     "output_type": "stream",
     "text": [
      "C:\\Users\\sony\\AppData\\Local\\Temp\\ipykernel_5868\\4218148775.py:1: SettingWithCopyWarning: \n",
      "A value is trying to be set on a copy of a slice from a DataFrame\n",
      "\n",
      "See the caveats in the documentation: https://pandas.pydata.org/pandas-docs/stable/user_guide/indexing.html#returning-a-view-versus-a-copy\n",
      "  taxi1.drop(columns=['improvement_surcharge'],inplace=True)\n"
     ]
    }
   ],
   "source": [
    "taxi1.drop(columns=['improvement_surcharge'],inplace=True)"
   ]
  },
  {
   "cell_type": "code",
   "execution_count": 59,
   "id": "b8fd6b62",
   "metadata": {},
   "outputs": [
    {
     "data": {
      "text/html": [
       "<div>\n",
       "<style scoped>\n",
       "    .dataframe tbody tr th:only-of-type {\n",
       "        vertical-align: middle;\n",
       "    }\n",
       "\n",
       "    .dataframe tbody tr th {\n",
       "        vertical-align: top;\n",
       "    }\n",
       "\n",
       "    .dataframe thead th {\n",
       "        text-align: right;\n",
       "    }\n",
       "</style>\n",
       "<table border=\"1\" class=\"dataframe\">\n",
       "  <thead>\n",
       "    <tr style=\"text-align: right;\">\n",
       "      <th></th>\n",
       "      <th>VendorID</th>\n",
       "      <th>tpep_pickup_datetime</th>\n",
       "      <th>tpep_dropoff_datetime</th>\n",
       "      <th>passenger_count</th>\n",
       "      <th>trip_distance</th>\n",
       "      <th>RatecodeID</th>\n",
       "      <th>store_and_fwd_flag</th>\n",
       "      <th>payment_type</th>\n",
       "      <th>fare_amount</th>\n",
       "      <th>extra</th>\n",
       "      <th>mta_tax</th>\n",
       "      <th>tip_amount</th>\n",
       "      <th>tolls_amount</th>\n",
       "      <th>total_amount</th>\n",
       "      <th>congestion_surcharge</th>\n",
       "      <th>airport_fee</th>\n",
       "    </tr>\n",
       "  </thead>\n",
       "  <tbody>\n",
       "    <tr>\n",
       "      <th>11293</th>\n",
       "      <td>2</td>\n",
       "      <td>2022-06-01 08:48:20</td>\n",
       "      <td>2022-06-01 09:00:30</td>\n",
       "      <td>1.0</td>\n",
       "      <td>1.75</td>\n",
       "      <td>Standard_rate</td>\n",
       "      <td>N</td>\n",
       "      <td>Credit_card</td>\n",
       "      <td>9.5</td>\n",
       "      <td>0.0</td>\n",
       "      <td>0.5</td>\n",
       "      <td>2.00</td>\n",
       "      <td>0.0</td>\n",
       "      <td>14.80</td>\n",
       "      <td>2.5</td>\n",
       "      <td>0.0</td>\n",
       "    </tr>\n",
       "    <tr>\n",
       "      <th>3241804</th>\n",
       "      <td>2</td>\n",
       "      <td>2022-06-29 12:30:59</td>\n",
       "      <td>2022-06-29 13:20:10</td>\n",
       "      <td>1.0</td>\n",
       "      <td>9.16</td>\n",
       "      <td>Standard_rate</td>\n",
       "      <td>N</td>\n",
       "      <td>Cash</td>\n",
       "      <td>36.0</td>\n",
       "      <td>0.0</td>\n",
       "      <td>0.5</td>\n",
       "      <td>0.00</td>\n",
       "      <td>0.0</td>\n",
       "      <td>39.30</td>\n",
       "      <td>2.5</td>\n",
       "      <td>0.0</td>\n",
       "    </tr>\n",
       "    <tr>\n",
       "      <th>2122208</th>\n",
       "      <td>1</td>\n",
       "      <td>2022-06-19 01:03:50</td>\n",
       "      <td>2022-06-19 01:27:44</td>\n",
       "      <td>1.0</td>\n",
       "      <td>5.00</td>\n",
       "      <td>Standard_rate</td>\n",
       "      <td>N</td>\n",
       "      <td>Credit_card</td>\n",
       "      <td>20.0</td>\n",
       "      <td>3.0</td>\n",
       "      <td>0.5</td>\n",
       "      <td>2.00</td>\n",
       "      <td>0.0</td>\n",
       "      <td>25.80</td>\n",
       "      <td>2.5</td>\n",
       "      <td>0.0</td>\n",
       "    </tr>\n",
       "    <tr>\n",
       "      <th>645015</th>\n",
       "      <td>2</td>\n",
       "      <td>2022-06-06 17:16:57</td>\n",
       "      <td>2022-06-06 17:35:51</td>\n",
       "      <td>1.0</td>\n",
       "      <td>3.02</td>\n",
       "      <td>Standard_rate</td>\n",
       "      <td>N</td>\n",
       "      <td>Credit_card</td>\n",
       "      <td>13.5</td>\n",
       "      <td>1.0</td>\n",
       "      <td>0.5</td>\n",
       "      <td>1.78</td>\n",
       "      <td>0.0</td>\n",
       "      <td>19.58</td>\n",
       "      <td>2.5</td>\n",
       "      <td>0.0</td>\n",
       "    </tr>\n",
       "    <tr>\n",
       "      <th>1752107</th>\n",
       "      <td>2</td>\n",
       "      <td>2022-06-15 22:09:34</td>\n",
       "      <td>2022-06-15 22:28:03</td>\n",
       "      <td>1.0</td>\n",
       "      <td>3.53</td>\n",
       "      <td>Standard_rate</td>\n",
       "      <td>N</td>\n",
       "      <td>Credit_card</td>\n",
       "      <td>14.5</td>\n",
       "      <td>0.5</td>\n",
       "      <td>0.5</td>\n",
       "      <td>2.74</td>\n",
       "      <td>0.0</td>\n",
       "      <td>21.04</td>\n",
       "      <td>2.5</td>\n",
       "      <td>0.0</td>\n",
       "    </tr>\n",
       "  </tbody>\n",
       "</table>\n",
       "</div>"
      ],
      "text/plain": [
       "        VendorID tpep_pickup_datetime tpep_dropoff_datetime  passenger_count  \\\n",
       "11293          2  2022-06-01 08:48:20   2022-06-01 09:00:30              1.0   \n",
       "3241804        2  2022-06-29 12:30:59   2022-06-29 13:20:10              1.0   \n",
       "2122208        1  2022-06-19 01:03:50   2022-06-19 01:27:44              1.0   \n",
       "645015         2  2022-06-06 17:16:57   2022-06-06 17:35:51              1.0   \n",
       "1752107        2  2022-06-15 22:09:34   2022-06-15 22:28:03              1.0   \n",
       "\n",
       "         trip_distance     RatecodeID store_and_fwd_flag payment_type  \\\n",
       "11293             1.75  Standard_rate                  N  Credit_card   \n",
       "3241804           9.16  Standard_rate                  N         Cash   \n",
       "2122208           5.00  Standard_rate                  N  Credit_card   \n",
       "645015            3.02  Standard_rate                  N  Credit_card   \n",
       "1752107           3.53  Standard_rate                  N  Credit_card   \n",
       "\n",
       "         fare_amount  extra  mta_tax  tip_amount  tolls_amount  total_amount  \\\n",
       "11293            9.5    0.0      0.5        2.00           0.0         14.80   \n",
       "3241804         36.0    0.0      0.5        0.00           0.0         39.30   \n",
       "2122208         20.0    3.0      0.5        2.00           0.0         25.80   \n",
       "645015          13.5    1.0      0.5        1.78           0.0         19.58   \n",
       "1752107         14.5    0.5      0.5        2.74           0.0         21.04   \n",
       "\n",
       "         congestion_surcharge  airport_fee  \n",
       "11293                     2.5          0.0  \n",
       "3241804                   2.5          0.0  \n",
       "2122208                   2.5          0.0  \n",
       "645015                    2.5          0.0  \n",
       "1752107                   2.5          0.0  "
      ]
     },
     "execution_count": 59,
     "metadata": {},
     "output_type": "execute_result"
    }
   ],
   "source": [
    "taxi1.head()"
   ]
  },
  {
   "cell_type": "code",
   "execution_count": 60,
   "id": "819c9e90",
   "metadata": {},
   "outputs": [
    {
     "data": {
      "image/png": "[encoded data removed]",
      "text/plain": [
       "<Figure size 432x288 with 1 Axes>"
      ]
     },
     "metadata": {
      "needs_background": "light"
     },
     "output_type": "display_data"
    },
    {
     "data": {
      "image/png": "[encoded data removed]",
      "text/plain": [
       "<Figure size 432x288 with 1 Axes>"
      ]
     },
     "metadata": {
      "needs_background": "light"
     },
     "output_type": "display_data"
    },
    {
     "data": {
      "text/plain": [
       "{'missing': 0,\n",
       " 'min': 3.3,\n",
       " 'max': 6981.3,\n",
       " 'mean': 22.45,\n",
       " 'var': 2374.85,\n",
       " 'std': 48.73,\n",
       " 'range': 6978.0,\n",
       " 'q1': 12.36,\n",
       " 'q2': 16.3,\n",
       " 'q3': 23.3,\n",
       " 'skewness': 123.63,\n",
       " 'kurtosis': 17609.46}"
      ]
     },
     "execution_count": 60,
     "metadata": {},
     "output_type": "execute_result"
    }
   ],
   "source": [
    "univariate_num(data=taxi1,x='total_amount')"
   ]
  },
  {
   "cell_type": "code",
   "execution_count": 61,
   "id": "9660b8f9",
   "metadata": {},
   "outputs": [
    {
     "data": {
      "text/plain": [
       "<AxesSubplot:ylabel='total_amount'>"
      ]
     },
     "execution_count": 61,
     "metadata": {},
     "output_type": "execute_result"
    },
    {
     "data": {
      "image/png": "[encoded data removed]",
      "text/plain": [
       "<Figure size 432x288 with 1 Axes>"
      ]
     },
     "metadata": {
      "needs_background": "light"
     },
     "output_type": "display_data"
    }
   ],
   "source": [
    "sns.boxplot(data=taxi1,y='total_amount')"
   ]
  },
  {
   "cell_type": "code",
   "execution_count": 62,
   "id": "66fb482d",
   "metadata": {},
   "outputs": [
    {
     "data": {
      "image/png": "[encoded data removed]",
      "text/plain": [
       "<Figure size 432x288 with 1 Axes>"
      ]
     },
     "metadata": {
      "needs_background": "light"
     },
     "output_type": "display_data"
    },
    {
     "data": {
      "image/png": "[encoded data removed]",
      "text/plain": [
       "<Figure size 432x288 with 1 Axes>"
      ]
     },
     "metadata": {
      "needs_background": "light"
     },
     "output_type": "display_data"
    },
    {
     "data": {
      "text/plain": [
       "{'missing': 2658,\n",
       " 'min': 0.0,\n",
       " 'max': 2.5,\n",
       " 'mean': 2.31,\n",
       " 'var': 0.44,\n",
       " 'std': 0.67,\n",
       " 'range': 2.5,\n",
       " 'q1': 2.5,\n",
       " 'q2': 2.5,\n",
       " 'q3': 2.5,\n",
       " 'skewness': -3.17,\n",
       " 'kurtosis': 8.08}"
      ]
     },
     "execution_count": 62,
     "metadata": {},
     "output_type": "execute_result"
    }
   ],
   "source": [
    "univariate_num(data=taxi1,x='congestion_surcharge')"
   ]
  },
  {
   "cell_type": "code",
   "execution_count": 63,
   "id": "093cb09a",
   "metadata": {},
   "outputs": [
    {
     "data": {
      "image/png": "[encoded data removed]",
      "text/plain": [
       "<Figure size 432x288 with 1 Axes>"
      ]
     },
     "metadata": {
      "needs_background": "light"
     },
     "output_type": "display_data"
    },
    {
     "data": {
      "image/png": "[encoded data removed]",
      "text/plain": [
       "<Figure size 432x288 with 1 Axes>"
      ]
     },
     "metadata": {
      "needs_background": "light"
     },
     "output_type": "display_data"
    },
    {
     "data": {
      "text/plain": [
       "{'missing': 2658,\n",
       " 'min': 0.0,\n",
       " 'max': 1.25,\n",
       " 'mean': 0.1,\n",
       " 'var': 0.11,\n",
       " 'std': 0.34,\n",
       " 'range': 1.25,\n",
       " 'q1': 0.0,\n",
       " 'q2': 0.0,\n",
       " 'q3': 0.0,\n",
       " 'skewness': 3.15,\n",
       " 'kurtosis': 7.92}"
      ]
     },
     "execution_count": 63,
     "metadata": {},
     "output_type": "execute_result"
    }
   ],
   "source": [
    "univariate_num(data=taxi1,x='airport_fee')"
   ]
  },
  {
   "cell_type": "code",
   "execution_count": 64,
   "id": "1109a884",
   "metadata": {},
   "outputs": [
    {
     "data": {
      "text/plain": [
       "<AxesSubplot:ylabel='airport_fee'>"
      ]
     },
     "execution_count": 64,
     "metadata": {},
     "output_type": "execute_result"
    },
    {
     "data": {
      "image/png": "[encoded data removed]",
      "text/plain": [
       "<Figure size 432x288 with 1 Axes>"
      ]
     },
     "metadata": {
      "needs_background": "light"
     },
     "output_type": "display_data"
    }
   ],
   "source": [
    "sns.boxplot(data=taxi1,y='airport_fee')"
   ]
  },
  {
   "cell_type": "code",
   "execution_count": 65,
   "id": "683e5bc3",
   "metadata": {},
   "outputs": [
    {
     "data": {
      "text/plain": [
       "(62683, 16)"
      ]
     },
     "execution_count": 65,
     "metadata": {},
     "output_type": "execute_result"
    }
   ],
   "source": [
    "taxi1[taxi1['airport_fee']==0].shape"
   ]
  },
  {
   "cell_type": "markdown",
   "id": "bc49fc25",
   "metadata": {},
   "source": [
    "### Feature Engineering"
   ]
  },
  {
   "cell_type": "code",
   "execution_count": 66,
   "id": "868e4251",
   "metadata": {},
   "outputs": [
    {
     "data": {
      "text/plain": [
       "Index(['VendorID', 'tpep_pickup_datetime', 'tpep_dropoff_datetime',\n",
       "       'passenger_count', 'trip_distance', 'RatecodeID', 'store_and_fwd_flag',\n",
       "       'payment_type', 'fare_amount', 'extra', 'mta_tax', 'tip_amount',\n",
       "       'tolls_amount', 'total_amount', 'congestion_surcharge', 'airport_fee'],\n",
       "      dtype='object')"
      ]
     },
     "execution_count": 66,
     "metadata": {},
     "output_type": "execute_result"
    }
   ],
   "source": [
    "taxi1.columns"
   ]
  },
  {
   "cell_type": "code",
   "execution_count": 67,
   "id": "20b8f591",
   "metadata": {},
   "outputs": [
    {
     "data": {
      "text/plain": [
       "Timestamp('2002-10-21 12:53:50')"
      ]
     },
     "execution_count": 67,
     "metadata": {},
     "output_type": "execute_result"
    }
   ],
   "source": [
    "taxi1['tpep_pickup_datetime'].min()"
   ]
  },
  {
   "cell_type": "code",
   "execution_count": 68,
   "id": "0a5aea5b",
   "metadata": {},
   "outputs": [
    {
     "data": {
      "text/plain": [
       "Timestamp('2022-07-01 00:36:12')"
      ]
     },
     "execution_count": 68,
     "metadata": {},
     "output_type": "execute_result"
    }
   ],
   "source": [
    "taxi1['tpep_pickup_datetime'].max()"
   ]
  },
  {
   "cell_type": "markdown",
   "id": "0db72bc3",
   "metadata": {},
   "source": [
    "###### Date: we can extract month,weekend/weekday,public_holiday,time fo pickup (early morning,morning,afternoon,evening,night,late nigth\n",
    "##### two date:duration                                                       "
   ]
  },
  {
   "cell_type": "code",
   "execution_count": 69,
   "id": "73dc37d1",
   "metadata": {},
   "outputs": [
    {
     "name": "stderr",
     "output_type": "stream",
     "text": [
      "C:\\Users\\sony\\AppData\\Local\\Temp\\ipykernel_5868\\941063554.py:1: SettingWithCopyWarning: \n",
      "A value is trying to be set on a copy of a slice from a DataFrame.\n",
      "Try using .loc[row_indexer,col_indexer] = value instead\n",
      "\n",
      "See the caveats in the documentation: https://pandas.pydata.org/pandas-docs/stable/user_guide/indexing.html#returning-a-view-versus-a-copy\n",
      "  taxi1['month']=taxi1['tpep_pickup_datetime'].dt.month\n",
      "C:\\Users\\sony\\AppData\\Local\\Temp\\ipykernel_5868\\941063554.py:2: SettingWithCopyWarning: \n",
      "A value is trying to be set on a copy of a slice from a DataFrame.\n",
      "Try using .loc[row_indexer,col_indexer] = value instead\n",
      "\n",
      "See the caveats in the documentation: https://pandas.pydata.org/pandas-docs/stable/user_guide/indexing.html#returning-a-view-versus-a-copy\n",
      "  taxi1['year']=taxi1['tpep_pickup_datetime'].dt.year\n",
      "C:\\Users\\sony\\AppData\\Local\\Temp\\ipykernel_5868\\941063554.py:3: SettingWithCopyWarning: \n",
      "A value is trying to be set on a copy of a slice from a DataFrame.\n",
      "Try using .loc[row_indexer,col_indexer] = value instead\n",
      "\n",
      "See the caveats in the documentation: https://pandas.pydata.org/pandas-docs/stable/user_guide/indexing.html#returning-a-view-versus-a-copy\n",
      "  taxi1['week_of_day']=taxi1['tpep_pickup_datetime'].dt.dayofweek\n",
      "C:\\Users\\sony\\AppData\\Local\\Temp\\ipykernel_5868\\941063554.py:4: SettingWithCopyWarning: \n",
      "A value is trying to be set on a copy of a slice from a DataFrame.\n",
      "Try using .loc[row_indexer,col_indexer] = value instead\n",
      "\n",
      "See the caveats in the documentation: https://pandas.pydata.org/pandas-docs/stable/user_guide/indexing.html#returning-a-view-versus-a-copy\n",
      "  taxi1['day']=taxi1['tpep_pickup_datetime'].dt.day\n",
      "C:\\Users\\sony\\AppData\\Local\\Temp\\ipykernel_5868\\941063554.py:5: SettingWithCopyWarning: \n",
      "A value is trying to be set on a copy of a slice from a DataFrame.\n",
      "Try using .loc[row_indexer,col_indexer] = value instead\n",
      "\n",
      "See the caveats in the documentation: https://pandas.pydata.org/pandas-docs/stable/user_guide/indexing.html#returning-a-view-versus-a-copy\n",
      "  taxi1['hours']=taxi1['tpep_pickup_datetime'].dt.hour\n"
     ]
    }
   ],
   "source": [
    "taxi1['month']=taxi1['tpep_pickup_datetime'].dt.month\n",
    "taxi1['year']=taxi1['tpep_pickup_datetime'].dt.year\n",
    "taxi1['week_of_day']=taxi1['tpep_pickup_datetime'].dt.dayofweek\n",
    "taxi1['day']=taxi1['tpep_pickup_datetime'].dt.day\n",
    "taxi1['hours']=taxi1['tpep_pickup_datetime'].dt.hour"
   ]
  },
  {
   "cell_type": "code",
   "execution_count": 70,
   "id": "2e625cae",
   "metadata": {},
   "outputs": [
    {
     "data": {
      "text/plain": [
       "6     70627\n",
       "10        7\n",
       "7         2\n",
       "5         1\n",
       "Name: month, dtype: int64"
      ]
     },
     "execution_count": 70,
     "metadata": {},
     "output_type": "execute_result"
    }
   ],
   "source": [
    "taxi1['month'].value_counts()"
   ]
  },
  {
   "cell_type": "code",
   "execution_count": 71,
   "id": "8e2bd147",
   "metadata": {},
   "outputs": [],
   "source": [
    "taxi1=taxi1[taxi1['month']==6]\n",
    "taxi1=taxi1[taxi1['year']==2022]"
   ]
  },
  {
   "cell_type": "code",
   "execution_count": 72,
   "id": "477b3de1",
   "metadata": {},
   "outputs": [
    {
     "data": {
      "text/plain": [
       "2022    70627\n",
       "Name: year, dtype: int64"
      ]
     },
     "execution_count": 72,
     "metadata": {},
     "output_type": "execute_result"
    }
   ],
   "source": [
    "taxi1['year'].value_counts()"
   ]
  },
  {
   "cell_type": "code",
   "execution_count": 73,
   "id": "910ed016",
   "metadata": {},
   "outputs": [
    {
     "data": {
      "text/plain": [
       "3    12775\n",
       "2    12363\n",
       "4    10241\n",
       "1     9482\n",
       "5     9401\n",
       "0     8501\n",
       "6     7864\n",
       "Name: week_of_day, dtype: int64"
      ]
     },
     "execution_count": 73,
     "metadata": {},
     "output_type": "execute_result"
    }
   ],
   "source": [
    "taxi1['week_of_day'].value_counts()"
   ]
  },
  {
   "cell_type": "code",
   "execution_count": 74,
   "id": "8ae7820e",
   "metadata": {},
   "outputs": [],
   "source": [
    "taxi1['isweekend']=np.where(taxi1['week_of_day'].isin([5,6]),1,0)"
   ]
  },
  {
   "cell_type": "code",
   "execution_count": 75,
   "id": "83b2cbaf",
   "metadata": {},
   "outputs": [],
   "source": [
    "def day_cut(x):\n",
    "    if x<=10:\n",
    "        return 'starting_of_month'\n",
    "    elif x>10 and x<=20:\n",
    "        return 'mid_of_month'\n",
    "    else:\n",
    "        return 'End_of_month'\n",
    "taxi1['day_cat']=taxi1['day'].apply(lambda a:day_cut(a))"
   ]
  },
  {
   "cell_type": "code",
   "execution_count": 76,
   "id": "4688330c",
   "metadata": {},
   "outputs": [
    {
     "data": {
      "text/plain": [
       "starting_of_month    24393\n",
       "mid_of_month         23261\n",
       "End_of_month         22973\n",
       "Name: day_cat, dtype: int64"
      ]
     },
     "execution_count": 76,
     "metadata": {},
     "output_type": "execute_result"
    }
   ],
   "source": [
    "taxi1['day_cat'].value_counts()"
   ]
  },
  {
   "cell_type": "code",
   "execution_count": 77,
   "id": "e8d1a4a7",
   "metadata": {},
   "outputs": [
    {
     "data": {
      "text/plain": [
       "18    5002\n",
       "17    4698\n",
       "19    4606\n",
       "15    4322\n",
       "14    4309\n",
       "16    4248\n",
       "13    3966\n",
       "12    3853\n",
       "21    3792\n",
       "20    3765\n",
       "11    3677\n",
       "22    3587\n",
       "10    3333\n",
       "9     3038\n",
       "23    2867\n",
       "8     2746\n",
       "0     2058\n",
       "7     2041\n",
       "1     1313\n",
       "6     1076\n",
       "2      880\n",
       "3      573\n",
       "5      489\n",
       "4      388\n",
       "Name: hours, dtype: int64"
      ]
     },
     "execution_count": 77,
     "metadata": {},
     "output_type": "execute_result"
    }
   ],
   "source": [
    "taxi1['hours'].value_counts()"
   ]
  },
  {
   "cell_type": "markdown",
   "id": "d18e6a19",
   "metadata": {},
   "source": [
    "early morning:4-8\n",
    "morning:8-12\n",
    "afternoon:12-16\n",
    "even:16-20\n",
    "night:20-24\n",
    "mid-night:0-4"
   ]
  },
  {
   "cell_type": "code",
   "execution_count": 78,
   "id": "7bde37d1",
   "metadata": {},
   "outputs": [
    {
     "data": {
      "text/plain": [
       "dtype('int64')"
      ]
     },
     "execution_count": 78,
     "metadata": {},
     "output_type": "execute_result"
    }
   ],
   "source": [
    "taxi1['hours'].dtypes"
   ]
  },
  {
   "cell_type": "code",
   "execution_count": 79,
   "id": "43f40c3a",
   "metadata": {},
   "outputs": [],
   "source": [
    "def hour_category(x):\n",
    "    if x>=4 and x<8:\n",
    "        return \"early morning\"\n",
    "    elif x>=8 and x<12:\n",
    "        return 'morning'\n",
    "    elif x>=12 and x<16:\n",
    "        return 'afternoon'\n",
    "    elif x>=16 and x<20:\n",
    "        return 'evening'\n",
    "    elif x>=20 and x<0:\n",
    "        return 'night'\n",
    "    elif x>=0 and x<4:\n",
    "        return 'midNight'\n",
    "    else:\n",
    "        return 'Unknown'\n",
    "taxi1['hours_cat']=taxi1['hours'].apply(lambda a:hour_category(a))"
   ]
  },
  {
   "cell_type": "code",
   "execution_count": 80,
   "id": "0e1dfe07",
   "metadata": {},
   "outputs": [
    {
     "data": {
      "text/plain": [
       "evening          18554\n",
       "afternoon        16450\n",
       "Unknown          14011\n",
       "morning          12794\n",
       "midNight          4824\n",
       "early morning     3994\n",
       "Name: hours_cat, dtype: int64"
      ]
     },
     "execution_count": 80,
     "metadata": {},
     "output_type": "execute_result"
    }
   ],
   "source": [
    "taxi1['hours_cat'].value_counts()"
   ]
  },
  {
   "cell_type": "code",
   "execution_count": 81,
   "id": "68262d8f",
   "metadata": {},
   "outputs": [],
   "source": [
    "taxi1['duration']=(taxi1['tpep_dropoff_datetime']-taxi1['tpep_pickup_datetime'])*24"
   ]
  },
  {
   "cell_type": "code",
   "execution_count": 82,
   "id": "6eb7d5cd",
   "metadata": {},
   "outputs": [
    {
     "data": {
      "text/plain": [
       "Timedelta('-1 days +23:39:36')"
      ]
     },
     "execution_count": 82,
     "metadata": {},
     "output_type": "execute_result"
    }
   ],
   "source": [
    "taxi1['duration'].min()"
   ]
  },
  {
   "cell_type": "code",
   "execution_count": 83,
   "id": "2ff027bc",
   "metadata": {},
   "outputs": [],
   "source": [
    "taxi1['duration']=((taxi1['tpep_dropoff_datetime']-taxi1['tpep_pickup_datetime'])/pd.Timedelta(minutes=1))"
   ]
  },
  {
   "cell_type": "code",
   "execution_count": 84,
   "id": "c6ab2756",
   "metadata": {},
   "outputs": [
    {
     "data": {
      "text/plain": [
       "-0.85"
      ]
     },
     "execution_count": 84,
     "metadata": {},
     "output_type": "execute_result"
    }
   ],
   "source": [
    "taxi1['duration'].min()"
   ]
  },
  {
   "cell_type": "code",
   "execution_count": 85,
   "id": "3a9e7bbb",
   "metadata": {},
   "outputs": [
    {
     "data": {
      "text/plain": [
       "1439.4166666666667"
      ]
     },
     "execution_count": 85,
     "metadata": {},
     "output_type": "execute_result"
    }
   ],
   "source": [
    "taxi1['duration'].max()"
   ]
  },
  {
   "cell_type": "code",
   "execution_count": 86,
   "id": "ae1bf8eb",
   "metadata": {},
   "outputs": [
    {
     "data": {
      "text/plain": [
       "12.000000    101\n",
       "9.000000     100\n",
       "14.000000     90\n",
       "16.000000     85\n",
       "13.000000     85\n",
       "            ... \n",
       "62.100000      1\n",
       "80.016667      1\n",
       "75.400000      1\n",
       "65.566667      1\n",
       "53.333333      1\n",
       "Name: duration, Length: 4559, dtype: int64"
      ]
     },
     "execution_count": 86,
     "metadata": {},
     "output_type": "execute_result"
    }
   ],
   "source": [
    "taxi1['duration'].value_counts()"
   ]
  },
  {
   "cell_type": "code",
   "execution_count": null,
   "id": "ce974a84",
   "metadata": {},
   "outputs": [],
   "source": []
  },
  {
   "cell_type": "code",
   "execution_count": 87,
   "id": "c3fd6655",
   "metadata": {},
   "outputs": [],
   "source": [
    "def time_category(x):\n",
    "    if x<15:\n",
    "        return 'duration_bt_0_15m'\n",
    "    elif x>=15 and x<30  :\n",
    "        return 'duration_bt_0_30m'\n",
    "    elif x>=30 and x<60:\n",
    "        return 'duration_bt_30_60m'\n",
    "    elif x>=60 and x<120:\n",
    "        return 'duration_bt_60_120m'\n",
    "    else:\n",
    "        return 'duration_morethan_120'"
   ]
  },
  {
   "cell_type": "code",
   "execution_count": 88,
   "id": "8da4141a",
   "metadata": {},
   "outputs": [],
   "source": [
    "taxi1['time_category']=taxi1['duration'].apply(lambda a:time_category(a))"
   ]
  },
  {
   "cell_type": "code",
   "execution_count": 89,
   "id": "98b54602",
   "metadata": {},
   "outputs": [
    {
     "data": {
      "text/plain": [
       "duration_bt_0_15m        41741\n",
       "duration_bt_0_30m        20678\n",
       "duration_bt_30_60m        6757\n",
       "duration_bt_60_120m       1350\n",
       "duration_morethan_120      101\n",
       "Name: time_category, dtype: int64"
      ]
     },
     "execution_count": 89,
     "metadata": {},
     "output_type": "execute_result"
    }
   ],
   "source": [
    "taxi1['time_category'].value_counts()"
   ]
  },
  {
   "cell_type": "code",
   "execution_count": 90,
   "id": "36d1b6ca",
   "metadata": {},
   "outputs": [
    {
     "data": {
      "text/plain": [
       "<AxesSubplot:>"
      ]
     },
     "execution_count": 90,
     "metadata": {},
     "output_type": "execute_result"
    },
    {
     "data": {
      "image/png": "[encoded data removed]",
      "text/plain": [
       "<Figure size 432x288 with 1 Axes>"
      ]
     },
     "metadata": {
      "needs_background": "light"
     },
     "output_type": "display_data"
    }
   ],
   "source": [
    "taxi1['time_category'].value_counts().plot(kind='bar')"
   ]
  },
  {
   "cell_type": "code",
   "execution_count": null,
   "id": "c97d97ba",
   "metadata": {},
   "outputs": [],
   "source": []
  },
  {
   "cell_type": "code",
   "execution_count": 91,
   "id": "b4f30656",
   "metadata": {},
   "outputs": [],
   "source": [
    "taxi1['airport_pick_up']=np.where(taxi1['airport_fee']==0,0,1)"
   ]
  },
  {
   "cell_type": "code",
   "execution_count": 92,
   "id": "6b0eece3",
   "metadata": {},
   "outputs": [
    {
     "data": {
      "text/plain": [
       "0    62675\n",
       "1     7952\n",
       "Name: airport_pick_up, dtype: int64"
      ]
     },
     "execution_count": 92,
     "metadata": {},
     "output_type": "execute_result"
    }
   ],
   "source": [
    "taxi1['airport_pick_up'].value_counts()"
   ]
  },
  {
   "cell_type": "code",
   "execution_count": 93,
   "id": "f62d5521",
   "metadata": {},
   "outputs": [
    {
     "data": {
      "text/html": [
       "<div>\n",
       "<style scoped>\n",
       "    .dataframe tbody tr th:only-of-type {\n",
       "        vertical-align: middle;\n",
       "    }\n",
       "\n",
       "    .dataframe tbody tr th {\n",
       "        vertical-align: top;\n",
       "    }\n",
       "\n",
       "    .dataframe thead th {\n",
       "        text-align: right;\n",
       "    }\n",
       "</style>\n",
       "<table border=\"1\" class=\"dataframe\">\n",
       "  <thead>\n",
       "    <tr style=\"text-align: right;\">\n",
       "      <th></th>\n",
       "      <th>VendorID</th>\n",
       "      <th>tpep_pickup_datetime</th>\n",
       "      <th>tpep_dropoff_datetime</th>\n",
       "      <th>passenger_count</th>\n",
       "      <th>trip_distance</th>\n",
       "      <th>RatecodeID</th>\n",
       "      <th>store_and_fwd_flag</th>\n",
       "      <th>payment_type</th>\n",
       "      <th>fare_amount</th>\n",
       "      <th>extra</th>\n",
       "      <th>...</th>\n",
       "      <th>year</th>\n",
       "      <th>week_of_day</th>\n",
       "      <th>day</th>\n",
       "      <th>hours</th>\n",
       "      <th>isweekend</th>\n",
       "      <th>day_cat</th>\n",
       "      <th>hours_cat</th>\n",
       "      <th>duration</th>\n",
       "      <th>time_category</th>\n",
       "      <th>airport_pick_up</th>\n",
       "    </tr>\n",
       "  </thead>\n",
       "  <tbody>\n",
       "    <tr>\n",
       "      <th>11293</th>\n",
       "      <td>2</td>\n",
       "      <td>2022-06-01 08:48:20</td>\n",
       "      <td>2022-06-01 09:00:30</td>\n",
       "      <td>1.0</td>\n",
       "      <td>1.75</td>\n",
       "      <td>Standard_rate</td>\n",
       "      <td>N</td>\n",
       "      <td>Credit_card</td>\n",
       "      <td>9.5</td>\n",
       "      <td>0.0</td>\n",
       "      <td>...</td>\n",
       "      <td>2022</td>\n",
       "      <td>2</td>\n",
       "      <td>1</td>\n",
       "      <td>8</td>\n",
       "      <td>0</td>\n",
       "      <td>starting_of_month</td>\n",
       "      <td>morning</td>\n",
       "      <td>12.166667</td>\n",
       "      <td>duration_bt_0_15m</td>\n",
       "      <td>0</td>\n",
       "    </tr>\n",
       "    <tr>\n",
       "      <th>3241804</th>\n",
       "      <td>2</td>\n",
       "      <td>2022-06-29 12:30:59</td>\n",
       "      <td>2022-06-29 13:20:10</td>\n",
       "      <td>1.0</td>\n",
       "      <td>9.16</td>\n",
       "      <td>Standard_rate</td>\n",
       "      <td>N</td>\n",
       "      <td>Cash</td>\n",
       "      <td>36.0</td>\n",
       "      <td>0.0</td>\n",
       "      <td>...</td>\n",
       "      <td>2022</td>\n",
       "      <td>2</td>\n",
       "      <td>29</td>\n",
       "      <td>12</td>\n",
       "      <td>0</td>\n",
       "      <td>End_of_month</td>\n",
       "      <td>afternoon</td>\n",
       "      <td>49.183333</td>\n",
       "      <td>duration_bt_30_60m</td>\n",
       "      <td>0</td>\n",
       "    </tr>\n",
       "    <tr>\n",
       "      <th>2122208</th>\n",
       "      <td>1</td>\n",
       "      <td>2022-06-19 01:03:50</td>\n",
       "      <td>2022-06-19 01:27:44</td>\n",
       "      <td>1.0</td>\n",
       "      <td>5.00</td>\n",
       "      <td>Standard_rate</td>\n",
       "      <td>N</td>\n",
       "      <td>Credit_card</td>\n",
       "      <td>20.0</td>\n",
       "      <td>3.0</td>\n",
       "      <td>...</td>\n",
       "      <td>2022</td>\n",
       "      <td>6</td>\n",
       "      <td>19</td>\n",
       "      <td>1</td>\n",
       "      <td>1</td>\n",
       "      <td>mid_of_month</td>\n",
       "      <td>midNight</td>\n",
       "      <td>23.900000</td>\n",
       "      <td>duration_bt_0_30m</td>\n",
       "      <td>0</td>\n",
       "    </tr>\n",
       "    <tr>\n",
       "      <th>645015</th>\n",
       "      <td>2</td>\n",
       "      <td>2022-06-06 17:16:57</td>\n",
       "      <td>2022-06-06 17:35:51</td>\n",
       "      <td>1.0</td>\n",
       "      <td>3.02</td>\n",
       "      <td>Standard_rate</td>\n",
       "      <td>N</td>\n",
       "      <td>Credit_card</td>\n",
       "      <td>13.5</td>\n",
       "      <td>1.0</td>\n",
       "      <td>...</td>\n",
       "      <td>2022</td>\n",
       "      <td>0</td>\n",
       "      <td>6</td>\n",
       "      <td>17</td>\n",
       "      <td>0</td>\n",
       "      <td>starting_of_month</td>\n",
       "      <td>evening</td>\n",
       "      <td>18.900000</td>\n",
       "      <td>duration_bt_0_30m</td>\n",
       "      <td>0</td>\n",
       "    </tr>\n",
       "    <tr>\n",
       "      <th>1752107</th>\n",
       "      <td>2</td>\n",
       "      <td>2022-06-15 22:09:34</td>\n",
       "      <td>2022-06-15 22:28:03</td>\n",
       "      <td>1.0</td>\n",
       "      <td>3.53</td>\n",
       "      <td>Standard_rate</td>\n",
       "      <td>N</td>\n",
       "      <td>Credit_card</td>\n",
       "      <td>14.5</td>\n",
       "      <td>0.5</td>\n",
       "      <td>...</td>\n",
       "      <td>2022</td>\n",
       "      <td>2</td>\n",
       "      <td>15</td>\n",
       "      <td>22</td>\n",
       "      <td>0</td>\n",
       "      <td>mid_of_month</td>\n",
       "      <td>Unknown</td>\n",
       "      <td>18.483333</td>\n",
       "      <td>duration_bt_0_30m</td>\n",
       "      <td>0</td>\n",
       "    </tr>\n",
       "  </tbody>\n",
       "</table>\n",
       "<p>5 rows × 27 columns</p>\n",
       "</div>"
      ],
      "text/plain": [
       "        VendorID tpep_pickup_datetime tpep_dropoff_datetime  passenger_count  \\\n",
       "11293          2  2022-06-01 08:48:20   2022-06-01 09:00:30              1.0   \n",
       "3241804        2  2022-06-29 12:30:59   2022-06-29 13:20:10              1.0   \n",
       "2122208        1  2022-06-19 01:03:50   2022-06-19 01:27:44              1.0   \n",
       "645015         2  2022-06-06 17:16:57   2022-06-06 17:35:51              1.0   \n",
       "1752107        2  2022-06-15 22:09:34   2022-06-15 22:28:03              1.0   \n",
       "\n",
       "         trip_distance     RatecodeID store_and_fwd_flag payment_type  \\\n",
       "11293             1.75  Standard_rate                  N  Credit_card   \n",
       "3241804           9.16  Standard_rate                  N         Cash   \n",
       "2122208           5.00  Standard_rate                  N  Credit_card   \n",
       "645015            3.02  Standard_rate                  N  Credit_card   \n",
       "1752107           3.53  Standard_rate                  N  Credit_card   \n",
       "\n",
       "         fare_amount  extra  ...  year  week_of_day  day  hours  isweekend  \\\n",
       "11293            9.5    0.0  ...  2022            2    1      8          0   \n",
       "3241804         36.0    0.0  ...  2022            2   29     12          0   \n",
       "2122208         20.0    3.0  ...  2022            6   19      1          1   \n",
       "645015          13.5    1.0  ...  2022            0    6     17          0   \n",
       "1752107         14.5    0.5  ...  2022            2   15     22          0   \n",
       "\n",
       "                   day_cat  hours_cat   duration       time_category  \\\n",
       "11293    starting_of_month    morning  12.166667   duration_bt_0_15m   \n",
       "3241804       End_of_month  afternoon  49.183333  duration_bt_30_60m   \n",
       "2122208       mid_of_month   midNight  23.900000   duration_bt_0_30m   \n",
       "645015   starting_of_month    evening  18.900000   duration_bt_0_30m   \n",
       "1752107       mid_of_month    Unknown  18.483333   duration_bt_0_30m   \n",
       "\n",
       "         airport_pick_up  \n",
       "11293                  0  \n",
       "3241804                0  \n",
       "2122208                0  \n",
       "645015                 0  \n",
       "1752107                0  \n",
       "\n",
       "[5 rows x 27 columns]"
      ]
     },
     "execution_count": 93,
     "metadata": {},
     "output_type": "execute_result"
    }
   ],
   "source": [
    "taxi1.head()"
   ]
  },
  {
   "cell_type": "code",
   "execution_count": 94,
   "id": "ea756565",
   "metadata": {},
   "outputs": [
    {
     "data": {
      "text/plain": [
       "Index(['VendorID', 'tpep_pickup_datetime', 'tpep_dropoff_datetime',\n",
       "       'passenger_count', 'trip_distance', 'RatecodeID', 'store_and_fwd_flag',\n",
       "       'payment_type', 'fare_amount', 'extra', 'mta_tax', 'tip_amount',\n",
       "       'tolls_amount', 'improvement_surcharge', 'total_amount',\n",
       "       'congestion_surcharge', 'airport_fee'],\n",
       "      dtype='object')"
      ]
     },
     "execution_count": 94,
     "metadata": {},
     "output_type": "execute_result"
    }
   ],
   "source": [
    "taxi.columns"
   ]
  },
  {
   "cell_type": "code",
   "execution_count": 95,
   "id": "5042e7ea",
   "metadata": {},
   "outputs": [
    {
     "data": {
      "text/plain": [
       "10.80     1028\n",
       "11.80      978\n",
       "12.36      969\n",
       "10.30      965\n",
       "12.80      963\n",
       "          ... \n",
       "75.86        1\n",
       "205.55       1\n",
       "24.22        1\n",
       "42.19        1\n",
       "85.10        1\n",
       "Name: total_amount, Length: 3937, dtype: int64"
      ]
     },
     "execution_count": 95,
     "metadata": {},
     "output_type": "execute_result"
    }
   ],
   "source": [
    "taxi1['total_amount'].value_counts()"
   ]
  },
  {
   "cell_type": "code",
   "execution_count": 96,
   "id": "9c6594d3",
   "metadata": {},
   "outputs": [],
   "source": [
    "def amount_category(x):\n",
    "    if x>=10 and x<15:\n",
    "        return '[10,15)'\n",
    "    elif x>=15 and x<20:\n",
    "        return '[15,20)'\n",
    "    elif x>=20 and x<25:\n",
    "        return '[20,25)'\n",
    "    elif x>=25 and x<30:\n",
    "        return '[25,30)'\n",
    "    elif x>=30 and x<35:\n",
    "        return '[30,35)'\n",
    "    elif x>=35 and x<40:\n",
    "        return '[35,40)'\n",
    "    elif x>=40 and x<45:\n",
    "        return '[40,45)'\n",
    "    elif x>=45 and x<50:\n",
    "        return '[45,50)'\n",
    "    else:\n",
    "        return '50+'"
   ]
  },
  {
   "cell_type": "code",
   "execution_count": 97,
   "id": "b5ffe0f1",
   "metadata": {},
   "outputs": [],
   "source": [
    "taxi1['amount_cat']=taxi1['total_amount'].apply(lambda a:amount_category(a))"
   ]
  },
  {
   "cell_type": "code",
   "execution_count": 98,
   "id": "4547f863",
   "metadata": {},
   "outputs": [
    {
     "data": {
      "text/plain": [
       "<AxesSubplot:>"
      ]
     },
     "execution_count": 98,
     "metadata": {},
     "output_type": "execute_result"
    },
    {
     "data": {
      "image/png": "[encoded data removed]",
      "text/plain": [
       "<Figure size 432x288 with 1 Axes>"
      ]
     },
     "metadata": {
      "needs_background": "light"
     },
     "output_type": "display_data"
    }
   ],
   "source": [
    "taxi1['amount_cat'].value_counts().plot(kind='bar')"
   ]
  },
  {
   "cell_type": "markdown",
   "id": "e3b0523d",
   "metadata": {},
   "source": [
    "### Bivariate analysis(by own )"
   ]
  },
  {
   "cell_type": "code",
   "execution_count": 138,
   "id": "90ed58cb",
   "metadata": {},
   "outputs": [
    {
     "data": {
      "text/html": [
       "<div>\n",
       "<style scoped>\n",
       "    .dataframe tbody tr th:only-of-type {\n",
       "        vertical-align: middle;\n",
       "    }\n",
       "\n",
       "    .dataframe tbody tr th {\n",
       "        vertical-align: top;\n",
       "    }\n",
       "\n",
       "    .dataframe thead th {\n",
       "        text-align: right;\n",
       "    }\n",
       "</style>\n",
       "<table border=\"1\" class=\"dataframe\">\n",
       "  <thead>\n",
       "    <tr style=\"text-align: right;\">\n",
       "      <th>payment_type</th>\n",
       "      <th>Cash</th>\n",
       "      <th>Credit_card</th>\n",
       "      <th>Dispute</th>\n",
       "      <th>No_charge</th>\n",
       "      <th>Unkown</th>\n",
       "    </tr>\n",
       "    <tr>\n",
       "      <th>RatecodeID</th>\n",
       "      <th></th>\n",
       "      <th></th>\n",
       "      <th></th>\n",
       "      <th></th>\n",
       "      <th></th>\n",
       "    </tr>\n",
       "  </thead>\n",
       "  <tbody>\n",
       "    <tr>\n",
       "      <th>JFK</th>\n",
       "      <td>563</td>\n",
       "      <td>2228</td>\n",
       "      <td>18</td>\n",
       "      <td>17</td>\n",
       "      <td>0</td>\n",
       "    </tr>\n",
       "    <tr>\n",
       "      <th>Nassau_or_Westchester</th>\n",
       "      <td>20</td>\n",
       "      <td>67</td>\n",
       "      <td>1</td>\n",
       "      <td>0</td>\n",
       "      <td>0</td>\n",
       "    </tr>\n",
       "    <tr>\n",
       "      <th>Negotiated_fare</th>\n",
       "      <td>83</td>\n",
       "      <td>513</td>\n",
       "      <td>7</td>\n",
       "      <td>9</td>\n",
       "      <td>0</td>\n",
       "    </tr>\n",
       "    <tr>\n",
       "      <th>Newark</th>\n",
       "      <td>41</td>\n",
       "      <td>170</td>\n",
       "      <td>2</td>\n",
       "      <td>4</td>\n",
       "      <td>0</td>\n",
       "    </tr>\n",
       "    <tr>\n",
       "      <th>Standard_rate</th>\n",
       "      <td>13166</td>\n",
       "      <td>50737</td>\n",
       "      <td>317</td>\n",
       "      <td>333</td>\n",
       "      <td>0</td>\n",
       "    </tr>\n",
       "    <tr>\n",
       "      <th>other</th>\n",
       "      <td>0</td>\n",
       "      <td>0</td>\n",
       "      <td>0</td>\n",
       "      <td>0</td>\n",
       "      <td>2660</td>\n",
       "    </tr>\n",
       "    <tr>\n",
       "      <th>others</th>\n",
       "      <td>0</td>\n",
       "      <td>206</td>\n",
       "      <td>0</td>\n",
       "      <td>0</td>\n",
       "      <td>0</td>\n",
       "    </tr>\n",
       "  </tbody>\n",
       "</table>\n",
       "</div>"
      ],
      "text/plain": [
       "payment_type            Cash  Credit_card  Dispute  No_charge  Unkown\n",
       "RatecodeID                                                           \n",
       "JFK                      563         2228       18         17       0\n",
       "Nassau_or_Westchester     20           67        1          0       0\n",
       "Negotiated_fare           83          513        7          9       0\n",
       "Newark                    41          170        2          4       0\n",
       "Standard_rate          13166        50737      317        333       0\n",
       "other                      0            0        0          0    2660\n",
       "others                     0          206        0          0       0"
      ]
     },
     "execution_count": 138,
     "metadata": {},
     "output_type": "execute_result"
    }
   ],
   "source": [
    "pd.crosstab(taxi['RatecodeID'],taxi['payment_type'])"
   ]
  },
  {
   "cell_type": "code",
   "execution_count": 139,
   "id": "1f3556ec",
   "metadata": {},
   "outputs": [
    {
     "data": {
      "text/html": [
       "<div>\n",
       "<style scoped>\n",
       "    .dataframe tbody tr th:only-of-type {\n",
       "        vertical-align: middle;\n",
       "    }\n",
       "\n",
       "    .dataframe tbody tr th {\n",
       "        vertical-align: top;\n",
       "    }\n",
       "\n",
       "    .dataframe thead th {\n",
       "        text-align: right;\n",
       "    }\n",
       "</style>\n",
       "<table border=\"1\" class=\"dataframe\">\n",
       "  <thead>\n",
       "    <tr style=\"text-align: right;\">\n",
       "      <th>store_and_fwd_flag</th>\n",
       "      <th>N</th>\n",
       "      <th>Y</th>\n",
       "      <th>other</th>\n",
       "    </tr>\n",
       "    <tr>\n",
       "      <th>RatecodeID</th>\n",
       "      <th></th>\n",
       "      <th></th>\n",
       "      <th></th>\n",
       "    </tr>\n",
       "  </thead>\n",
       "  <tbody>\n",
       "    <tr>\n",
       "      <th>JFK</th>\n",
       "      <td>2800</td>\n",
       "      <td>26</td>\n",
       "      <td>0</td>\n",
       "    </tr>\n",
       "    <tr>\n",
       "      <th>Nassau_or_Westchester</th>\n",
       "      <td>88</td>\n",
       "      <td>0</td>\n",
       "      <td>0</td>\n",
       "    </tr>\n",
       "    <tr>\n",
       "      <th>Negotiated_fare</th>\n",
       "      <td>605</td>\n",
       "      <td>7</td>\n",
       "      <td>0</td>\n",
       "    </tr>\n",
       "    <tr>\n",
       "      <th>Newark</th>\n",
       "      <td>216</td>\n",
       "      <td>1</td>\n",
       "      <td>0</td>\n",
       "    </tr>\n",
       "    <tr>\n",
       "      <th>Standard_rate</th>\n",
       "      <td>63759</td>\n",
       "      <td>794</td>\n",
       "      <td>0</td>\n",
       "    </tr>\n",
       "    <tr>\n",
       "      <th>other</th>\n",
       "      <td>0</td>\n",
       "      <td>0</td>\n",
       "      <td>2660</td>\n",
       "    </tr>\n",
       "    <tr>\n",
       "      <th>others</th>\n",
       "      <td>206</td>\n",
       "      <td>0</td>\n",
       "      <td>0</td>\n",
       "    </tr>\n",
       "  </tbody>\n",
       "</table>\n",
       "</div>"
      ],
      "text/plain": [
       "store_and_fwd_flag         N    Y  other\n",
       "RatecodeID                              \n",
       "JFK                     2800   26      0\n",
       "Nassau_or_Westchester     88    0      0\n",
       "Negotiated_fare          605    7      0\n",
       "Newark                   216    1      0\n",
       "Standard_rate          63759  794      0\n",
       "other                      0    0   2660\n",
       "others                   206    0      0"
      ]
     },
     "execution_count": 139,
     "metadata": {},
     "output_type": "execute_result"
    }
   ],
   "source": [
    "pd.crosstab(taxi['RatecodeID'],taxi['store_and_fwd_flag'])"
   ]
  },
  {
   "cell_type": "markdown",
   "id": "df012c03",
   "metadata": {},
   "source": [
    "#### cat-num"
   ]
  },
  {
   "cell_type": "code",
   "execution_count": 141,
   "id": "f07f5760",
   "metadata": {},
   "outputs": [
    {
     "data": {
      "text/plain": [
       "<AxesSubplot:xlabel='RatecodeID'>"
      ]
     },
     "execution_count": 141,
     "metadata": {},
     "output_type": "execute_result"
    },
    {
     "data": {
      "image/png": "[encoded data removed]",
      "text/plain": [
       "<Figure size 432x288 with 1 Axes>"
      ]
     },
     "metadata": {
      "needs_background": "light"
     },
     "output_type": "display_data"
    }
   ],
   "source": [
    "taxi2.groupby(['RatecodeID']).agg({'total_amount':['min','max','mean','var']}).plot(kind='bar')"
   ]
  },
  {
   "cell_type": "code",
   "execution_count": 142,
   "id": "770e75ad",
   "metadata": {},
   "outputs": [
    {
     "data": {
      "text/html": [
       "<div>\n",
       "<style scoped>\n",
       "    .dataframe tbody tr th:only-of-type {\n",
       "        vertical-align: middle;\n",
       "    }\n",
       "\n",
       "    .dataframe tbody tr th {\n",
       "        vertical-align: top;\n",
       "    }\n",
       "\n",
       "    .dataframe thead tr th {\n",
       "        text-align: left;\n",
       "    }\n",
       "\n",
       "    .dataframe thead tr:last-of-type th {\n",
       "        text-align: right;\n",
       "    }\n",
       "</style>\n",
       "<table border=\"1\" class=\"dataframe\">\n",
       "  <thead>\n",
       "    <tr>\n",
       "      <th></th>\n",
       "      <th colspan=\"4\" halign=\"left\">trip_distance</th>\n",
       "    </tr>\n",
       "    <tr>\n",
       "      <th></th>\n",
       "      <th>amin</th>\n",
       "      <th>amax</th>\n",
       "      <th>mean</th>\n",
       "      <th>count</th>\n",
       "    </tr>\n",
       "    <tr>\n",
       "      <th>RatecodeID</th>\n",
       "      <th></th>\n",
       "      <th></th>\n",
       "      <th></th>\n",
       "      <th></th>\n",
       "    </tr>\n",
       "  </thead>\n",
       "  <tbody>\n",
       "    <tr>\n",
       "      <th>JFK</th>\n",
       "      <td>0.0</td>\n",
       "      <td>43.02</td>\n",
       "      <td>17.400688</td>\n",
       "      <td>2789</td>\n",
       "    </tr>\n",
       "    <tr>\n",
       "      <th>Nassau_or_Westchester</th>\n",
       "      <td>1.2</td>\n",
       "      <td>75.27</td>\n",
       "      <td>21.332209</td>\n",
       "      <td>86</td>\n",
       "    </tr>\n",
       "    <tr>\n",
       "      <th>Negotiated_fare</th>\n",
       "      <td>0.0</td>\n",
       "      <td>148.09</td>\n",
       "      <td>5.338596</td>\n",
       "      <td>577</td>\n",
       "    </tr>\n",
       "    <tr>\n",
       "      <th>Newark</th>\n",
       "      <td>0.0</td>\n",
       "      <td>38.74</td>\n",
       "      <td>17.718224</td>\n",
       "      <td>214</td>\n",
       "    </tr>\n",
       "    <tr>\n",
       "      <th>Standard_rate</th>\n",
       "      <td>0.0</td>\n",
       "      <td>410.17</td>\n",
       "      <td>2.845812</td>\n",
       "      <td>64097</td>\n",
       "    </tr>\n",
       "    <tr>\n",
       "      <th>others</th>\n",
       "      <td>0.0</td>\n",
       "      <td>25.30</td>\n",
       "      <td>5.060194</td>\n",
       "      <td>206</td>\n",
       "    </tr>\n",
       "  </tbody>\n",
       "</table>\n",
       "</div>"
      ],
      "text/plain": [
       "                      trip_distance                          \n",
       "                               amin    amax       mean  count\n",
       "RatecodeID                                                   \n",
       "JFK                             0.0   43.02  17.400688   2789\n",
       "Nassau_or_Westchester           1.2   75.27  21.332209     86\n",
       "Negotiated_fare                 0.0  148.09   5.338596    577\n",
       "Newark                          0.0   38.74  17.718224    214\n",
       "Standard_rate                   0.0  410.17   2.845812  64097\n",
       "others                          0.0   25.30   5.060194    206"
      ]
     },
     "execution_count": 142,
     "metadata": {},
     "output_type": "execute_result"
    }
   ],
   "source": [
    "taxi2.groupby([\"RatecodeID\"]).agg({\"trip_distance\": [np.min, np.max, np.mean, \"count\"]})"
   ]
  },
  {
   "cell_type": "code",
   "execution_count": null,
   "id": "68944b65",
   "metadata": {},
   "outputs": [],
   "source": [
    "taxi2.groupby([\"RatecodeID\"]).agg({\"trip_distance\": [np.min, np.max, np.mean, \"count\"]})"
   ]
  },
  {
   "cell_type": "code",
   "execution_count": 143,
   "id": "1bc7d005",
   "metadata": {},
   "outputs": [
    {
     "data": {
      "text/plain": [
       "Credit_card    53908\n",
       "Cash           13737\n",
       "No_charge        236\n",
       "Dispute           88\n",
       "Name: payment_type, dtype: int64"
      ]
     },
     "execution_count": 143,
     "metadata": {},
     "output_type": "execute_result"
    }
   ],
   "source": [
    "taxi2['payment_type'].value_counts()"
   ]
  },
  {
   "cell_type": "code",
   "execution_count": 144,
   "id": "d18970e9",
   "metadata": {},
   "outputs": [
    {
     "data": {
      "text/html": [
       "<div>\n",
       "<style scoped>\n",
       "    .dataframe tbody tr th:only-of-type {\n",
       "        vertical-align: middle;\n",
       "    }\n",
       "\n",
       "    .dataframe tbody tr th {\n",
       "        vertical-align: top;\n",
       "    }\n",
       "\n",
       "    .dataframe thead tr th {\n",
       "        text-align: left;\n",
       "    }\n",
       "\n",
       "    .dataframe thead tr:last-of-type th {\n",
       "        text-align: right;\n",
       "    }\n",
       "</style>\n",
       "<table border=\"1\" class=\"dataframe\">\n",
       "  <thead>\n",
       "    <tr>\n",
       "      <th></th>\n",
       "      <th colspan=\"4\" halign=\"left\">trip_distance</th>\n",
       "    </tr>\n",
       "    <tr>\n",
       "      <th></th>\n",
       "      <th>amin</th>\n",
       "      <th>amax</th>\n",
       "      <th>mean</th>\n",
       "      <th>count</th>\n",
       "    </tr>\n",
       "    <tr>\n",
       "      <th>payment_type</th>\n",
       "      <th></th>\n",
       "      <th></th>\n",
       "      <th></th>\n",
       "      <th></th>\n",
       "    </tr>\n",
       "  </thead>\n",
       "  <tbody>\n",
       "    <tr>\n",
       "      <th>Cash</th>\n",
       "      <td>0.0</td>\n",
       "      <td>410.17</td>\n",
       "      <td>3.447887</td>\n",
       "      <td>13737</td>\n",
       "    </tr>\n",
       "    <tr>\n",
       "      <th>Credit_card</th>\n",
       "      <td>0.0</td>\n",
       "      <td>148.09</td>\n",
       "      <td>3.568497</td>\n",
       "      <td>53908</td>\n",
       "    </tr>\n",
       "    <tr>\n",
       "      <th>Dispute</th>\n",
       "      <td>0.0</td>\n",
       "      <td>39.90</td>\n",
       "      <td>3.981818</td>\n",
       "      <td>88</td>\n",
       "    </tr>\n",
       "    <tr>\n",
       "      <th>No_charge</th>\n",
       "      <td>0.0</td>\n",
       "      <td>31.80</td>\n",
       "      <td>2.555085</td>\n",
       "      <td>236</td>\n",
       "    </tr>\n",
       "  </tbody>\n",
       "</table>\n",
       "</div>"
      ],
      "text/plain": [
       "             trip_distance                         \n",
       "                      amin    amax      mean  count\n",
       "payment_type                                       \n",
       "Cash                   0.0  410.17  3.447887  13737\n",
       "Credit_card            0.0  148.09  3.568497  53908\n",
       "Dispute                0.0   39.90  3.981818     88\n",
       "No_charge              0.0   31.80  2.555085    236"
      ]
     },
     "execution_count": 144,
     "metadata": {},
     "output_type": "execute_result"
    }
   ],
   "source": [
    "taxi2.groupby([\"payment_type\"]).agg({\"trip_distance\": [np.min, np.max, np.mean, \"count\"]})"
   ]
  },
  {
   "cell_type": "code",
   "execution_count": 145,
   "id": "36da5eb9",
   "metadata": {},
   "outputs": [
    {
     "data": {
      "text/html": [
       "<div>\n",
       "<style scoped>\n",
       "    .dataframe tbody tr th:only-of-type {\n",
       "        vertical-align: middle;\n",
       "    }\n",
       "\n",
       "    .dataframe tbody tr th {\n",
       "        vertical-align: top;\n",
       "    }\n",
       "\n",
       "    .dataframe thead tr th {\n",
       "        text-align: left;\n",
       "    }\n",
       "\n",
       "    .dataframe thead tr:last-of-type th {\n",
       "        text-align: right;\n",
       "    }\n",
       "</style>\n",
       "<table border=\"1\" class=\"dataframe\">\n",
       "  <thead>\n",
       "    <tr>\n",
       "      <th></th>\n",
       "      <th colspan=\"4\" halign=\"left\">total_amount</th>\n",
       "    </tr>\n",
       "    <tr>\n",
       "      <th></th>\n",
       "      <th>amin</th>\n",
       "      <th>amax</th>\n",
       "      <th>mean</th>\n",
       "      <th>count</th>\n",
       "    </tr>\n",
       "    <tr>\n",
       "      <th>payment_type</th>\n",
       "      <th></th>\n",
       "      <th></th>\n",
       "      <th></th>\n",
       "      <th></th>\n",
       "    </tr>\n",
       "  </thead>\n",
       "  <tbody>\n",
       "    <tr>\n",
       "      <th>Cash</th>\n",
       "      <td>3.3</td>\n",
       "      <td>6981.3</td>\n",
       "      <td>19.937416</td>\n",
       "      <td>13737</td>\n",
       "    </tr>\n",
       "    <tr>\n",
       "      <th>Credit_card</th>\n",
       "      <td>3.3</td>\n",
       "      <td>495.3</td>\n",
       "      <td>22.767365</td>\n",
       "      <td>53908</td>\n",
       "    </tr>\n",
       "    <tr>\n",
       "      <th>Dispute</th>\n",
       "      <td>3.3</td>\n",
       "      <td>80.3</td>\n",
       "      <td>19.007386</td>\n",
       "      <td>88</td>\n",
       "    </tr>\n",
       "    <tr>\n",
       "      <th>No_charge</th>\n",
       "      <td>3.3</td>\n",
       "      <td>115.6</td>\n",
       "      <td>16.638771</td>\n",
       "      <td>236</td>\n",
       "    </tr>\n",
       "  </tbody>\n",
       "</table>\n",
       "</div>"
      ],
      "text/plain": [
       "             total_amount                          \n",
       "                     amin    amax       mean  count\n",
       "payment_type                                       \n",
       "Cash                  3.3  6981.3  19.937416  13737\n",
       "Credit_card           3.3   495.3  22.767365  53908\n",
       "Dispute               3.3    80.3  19.007386     88\n",
       "No_charge             3.3   115.6  16.638771    236"
      ]
     },
     "execution_count": 145,
     "metadata": {},
     "output_type": "execute_result"
    }
   ],
   "source": [
    "taxi2.groupby([\"payment_type\"]).agg({\"total_amount\": [np.min, np.max, np.mean, \"count\"]})"
   ]
  },
  {
   "cell_type": "markdown",
   "id": "bc3dcc54",
   "metadata": {},
   "source": [
    "#### num-num"
   ]
  },
  {
   "cell_type": "code",
   "execution_count": 147,
   "id": "384ae984",
   "metadata": {},
   "outputs": [
    {
     "data": {
      "text/html": [
       "<div>\n",
       "<style scoped>\n",
       "    .dataframe tbody tr th:only-of-type {\n",
       "        vertical-align: middle;\n",
       "    }\n",
       "\n",
       "    .dataframe tbody tr th {\n",
       "        vertical-align: top;\n",
       "    }\n",
       "\n",
       "    .dataframe thead th {\n",
       "        text-align: right;\n",
       "    }\n",
       "</style>\n",
       "<table border=\"1\" class=\"dataframe\">\n",
       "  <thead>\n",
       "    <tr style=\"text-align: right;\">\n",
       "      <th></th>\n",
       "      <th>total_amount</th>\n",
       "      <th>trip_distance</th>\n",
       "    </tr>\n",
       "  </thead>\n",
       "  <tbody>\n",
       "    <tr>\n",
       "      <th>total_amount</th>\n",
       "      <td>1.000000</td>\n",
       "      <td>0.298625</td>\n",
       "    </tr>\n",
       "    <tr>\n",
       "      <th>trip_distance</th>\n",
       "      <td>0.298625</td>\n",
       "      <td>1.000000</td>\n",
       "    </tr>\n",
       "  </tbody>\n",
       "</table>\n",
       "</div>"
      ],
      "text/plain": [
       "               total_amount  trip_distance\n",
       "total_amount       1.000000       0.298625\n",
       "trip_distance      0.298625       1.000000"
      ]
     },
     "execution_count": 147,
     "metadata": {},
     "output_type": "execute_result"
    }
   ],
   "source": [
    "taxi2[[\"total_amount\", \"trip_distance\"]].corr()"
   ]
  },
  {
   "cell_type": "code",
   "execution_count": 149,
   "id": "e1f4f730",
   "metadata": {},
   "outputs": [
    {
     "data": {
      "image/png": "[encoded data removed]",
      "text/plain": [
       "<Figure size 432x288 with 1 Axes>"
      ]
     },
     "metadata": {
      "needs_background": "light"
     },
     "output_type": "display_data"
    }
   ],
   "source": [
    "sns.scatterplot( data=taxi2,x=taxi2[\"total_amount\"],y=taxi2[\"trip_distance\"])\n",
    "plt.show()"
   ]
  },
  {
   "cell_type": "code",
   "execution_count": 35,
   "id": "930defde",
   "metadata": {},
   "outputs": [
    {
     "name": "stdout",
     "output_type": "stream",
     "text": [
      "<class 'pandas.core.frame.DataFrame'>\n",
      "Int64Index: 71162 entries, 11293 to 305711\n",
      "Data columns (total 19 columns):\n",
      " #   Column                 Non-Null Count  Dtype         \n",
      "---  ------                 --------------  -----         \n",
      " 0   VendorID               71162 non-null  object        \n",
      " 1   tpep_pickup_datetime   71162 non-null  datetime64[ns]\n",
      " 2   tpep_dropoff_datetime  71162 non-null  datetime64[ns]\n",
      " 3   passenger_count        68502 non-null  float64       \n",
      " 4   trip_distance          71162 non-null  float64       \n",
      " 5   RatecodeID             71162 non-null  object        \n",
      " 6   store_and_fwd_flag     71162 non-null  object        \n",
      " 7   PULocationID           71162 non-null  int64         \n",
      " 8   DOLocationID           71162 non-null  int64         \n",
      " 9   payment_type           71162 non-null  object        \n",
      " 10  fare_amount            71162 non-null  float64       \n",
      " 11  extra                  71162 non-null  float64       \n",
      " 12  mta_tax                71162 non-null  float64       \n",
      " 13  tip_amount             71162 non-null  float64       \n",
      " 14  tolls_amount           71162 non-null  float64       \n",
      " 15  improvement_surcharge  71162 non-null  float64       \n",
      " 16  total_amount           71162 non-null  float64       \n",
      " 17  congestion_surcharge   68502 non-null  float64       \n",
      " 18  airport_fee            68502 non-null  float64       \n",
      "dtypes: datetime64[ns](2), float64(11), int64(2), object(4)\n",
      "memory usage: 10.9+ MB\n"
     ]
    }
   ],
   "source": [
    "taxi.info()"
   ]
  },
  {
   "cell_type": "code",
   "execution_count": null,
   "id": "dab84133",
   "metadata": {},
   "outputs": [],
   "source": []
  },
  {
   "cell_type": "markdown",
   "id": "67e0beb9",
   "metadata": {},
   "source": [
    "### Missing Value Treatment"
   ]
  },
  {
   "cell_type": "code",
   "execution_count": 100,
   "id": "d7cd8ef3",
   "metadata": {},
   "outputs": [
    {
     "data": {
      "text/plain": [
       "VendorID                    0\n",
       "tpep_pickup_datetime        0\n",
       "tpep_dropoff_datetime       0\n",
       "passenger_count          2658\n",
       "trip_distance               0\n",
       "RatecodeID                  0\n",
       "store_and_fwd_flag          0\n",
       "payment_type                0\n",
       "fare_amount                 0\n",
       "extra                       0\n",
       "mta_tax                     0\n",
       "tip_amount                  0\n",
       "tolls_amount                0\n",
       "total_amount                0\n",
       "congestion_surcharge     2658\n",
       "airport_fee              2658\n",
       "month                       0\n",
       "year                        0\n",
       "week_of_day                 0\n",
       "day                         0\n",
       "hours                       0\n",
       "isweekend                   0\n",
       "day_cat                     0\n",
       "hours_cat                   0\n",
       "duration                    0\n",
       "time_category               0\n",
       "airport_pick_up             0\n",
       "amount_cat                  0\n",
       "dtype: int64"
      ]
     },
     "execution_count": 100,
     "metadata": {},
     "output_type": "execute_result"
    }
   ],
   "source": [
    "taxi1.isnull().sum()"
   ]
  },
  {
   "cell_type": "code",
   "execution_count": 105,
   "id": "e53d1ab8",
   "metadata": {},
   "outputs": [],
   "source": [
    "temp0=taxi1[taxi1['passenger_count'].isnull()]"
   ]
  },
  {
   "cell_type": "code",
   "execution_count": 106,
   "id": "75add1b1",
   "metadata": {},
   "outputs": [
    {
     "data": {
      "text/plain": [
       "VendorID                    0\n",
       "tpep_pickup_datetime        0\n",
       "tpep_dropoff_datetime       0\n",
       "passenger_count          2658\n",
       "trip_distance               0\n",
       "RatecodeID                  0\n",
       "store_and_fwd_flag          0\n",
       "payment_type                0\n",
       "fare_amount                 0\n",
       "extra                       0\n",
       "mta_tax                     0\n",
       "tip_amount                  0\n",
       "tolls_amount                0\n",
       "total_amount                0\n",
       "congestion_surcharge     2658\n",
       "airport_fee              2658\n",
       "month                       0\n",
       "year                        0\n",
       "week_of_day                 0\n",
       "day                         0\n",
       "hours                       0\n",
       "isweekend                   0\n",
       "day_cat                     0\n",
       "hours_cat                   0\n",
       "duration                    0\n",
       "time_category               0\n",
       "airport_pick_up             0\n",
       "amount_cat                  0\n",
       "dtype: int64"
      ]
     },
     "execution_count": 106,
     "metadata": {},
     "output_type": "execute_result"
    }
   ],
   "source": [
    "temp0.isnull().sum()"
   ]
  },
  {
   "cell_type": "code",
   "execution_count": 107,
   "id": "97b4fc63",
   "metadata": {},
   "outputs": [],
   "source": [
    "taxi2=taxi1.dropna()"
   ]
  },
  {
   "cell_type": "code",
   "execution_count": 108,
   "id": "a07fe122",
   "metadata": {},
   "outputs": [
    {
     "name": "stdout",
     "output_type": "stream",
     "text": [
      "<class 'pandas.core.frame.DataFrame'>\n",
      "Int64Index: 70627 entries, 11293 to 305711\n",
      "Data columns (total 28 columns):\n",
      " #   Column                 Non-Null Count  Dtype         \n",
      "---  ------                 --------------  -----         \n",
      " 0   VendorID               70627 non-null  object        \n",
      " 1   tpep_pickup_datetime   70627 non-null  datetime64[ns]\n",
      " 2   tpep_dropoff_datetime  70627 non-null  datetime64[ns]\n",
      " 3   passenger_count        67969 non-null  float64       \n",
      " 4   trip_distance          70627 non-null  float64       \n",
      " 5   RatecodeID             70627 non-null  object        \n",
      " 6   store_and_fwd_flag     70627 non-null  object        \n",
      " 7   payment_type           70627 non-null  object        \n",
      " 8   fare_amount            70627 non-null  float64       \n",
      " 9   extra                  70627 non-null  float64       \n",
      " 10  mta_tax                70627 non-null  float64       \n",
      " 11  tip_amount             70627 non-null  float64       \n",
      " 12  tolls_amount           70627 non-null  float64       \n",
      " 13  total_amount           70627 non-null  float64       \n",
      " 14  congestion_surcharge   67969 non-null  float64       \n",
      " 15  airport_fee            67969 non-null  float64       \n",
      " 16  month                  70627 non-null  int64         \n",
      " 17  year                   70627 non-null  int64         \n",
      " 18  week_of_day            70627 non-null  int64         \n",
      " 19  day                    70627 non-null  int64         \n",
      " 20  hours                  70627 non-null  int64         \n",
      " 21  isweekend              70627 non-null  int32         \n",
      " 22  day_cat                70627 non-null  object        \n",
      " 23  hours_cat              70627 non-null  object        \n",
      " 24  duration               70627 non-null  float64       \n",
      " 25  time_category          70627 non-null  object        \n",
      " 26  airport_pick_up        70627 non-null  int32         \n",
      " 27  amount_cat             70627 non-null  object        \n",
      "dtypes: datetime64[ns](2), float64(11), int32(2), int64(5), object(8)\n",
      "memory usage: 15.1+ MB\n"
     ]
    }
   ],
   "source": [
    "taxi1.info()"
   ]
  },
  {
   "cell_type": "code",
   "execution_count": 109,
   "id": "ae05ee12",
   "metadata": {},
   "outputs": [
    {
     "data": {
      "text/plain": [
       "VendorID                 0\n",
       "tpep_pickup_datetime     0\n",
       "tpep_dropoff_datetime    0\n",
       "passenger_count          0\n",
       "trip_distance            0\n",
       "RatecodeID               0\n",
       "store_and_fwd_flag       0\n",
       "payment_type             0\n",
       "fare_amount              0\n",
       "extra                    0\n",
       "mta_tax                  0\n",
       "tip_amount               0\n",
       "tolls_amount             0\n",
       "total_amount             0\n",
       "congestion_surcharge     0\n",
       "airport_fee              0\n",
       "month                    0\n",
       "year                     0\n",
       "week_of_day              0\n",
       "day                      0\n",
       "hours                    0\n",
       "isweekend                0\n",
       "day_cat                  0\n",
       "hours_cat                0\n",
       "duration                 0\n",
       "time_category            0\n",
       "airport_pick_up          0\n",
       "amount_cat               0\n",
       "dtype: int64"
      ]
     },
     "execution_count": 109,
     "metadata": {},
     "output_type": "execute_result"
    }
   ],
   "source": [
    "taxi2.isnull().sum()"
   ]
  },
  {
   "cell_type": "code",
   "execution_count": null,
   "id": "39c95db0",
   "metadata": {},
   "outputs": [],
   "source": []
  },
  {
   "cell_type": "markdown",
   "id": "be00ec95",
   "metadata": {},
   "source": [
    "#### Outliers"
   ]
  },
  {
   "cell_type": "code",
   "execution_count": 110,
   "id": "db1fb476",
   "metadata": {},
   "outputs": [
    {
     "data": {
      "text/html": [
       "<div>\n",
       "<style scoped>\n",
       "    .dataframe tbody tr th:only-of-type {\n",
       "        vertical-align: middle;\n",
       "    }\n",
       "\n",
       "    .dataframe tbody tr th {\n",
       "        vertical-align: top;\n",
       "    }\n",
       "\n",
       "    .dataframe thead th {\n",
       "        text-align: right;\n",
       "    }\n",
       "</style>\n",
       "<table border=\"1\" class=\"dataframe\">\n",
       "  <thead>\n",
       "    <tr style=\"text-align: right;\">\n",
       "      <th></th>\n",
       "      <th>count</th>\n",
       "      <th>mean</th>\n",
       "      <th>std</th>\n",
       "      <th>min</th>\n",
       "      <th>1%</th>\n",
       "      <th>2%</th>\n",
       "      <th>3%</th>\n",
       "      <th>5%</th>\n",
       "      <th>25%</th>\n",
       "      <th>50%</th>\n",
       "      <th>70%</th>\n",
       "      <th>80%</th>\n",
       "      <th>90%</th>\n",
       "      <th>98%</th>\n",
       "      <th>99%</th>\n",
       "      <th>max</th>\n",
       "    </tr>\n",
       "  </thead>\n",
       "  <tbody>\n",
       "    <tr>\n",
       "      <th>passenger_count</th>\n",
       "      <td>67969.0</td>\n",
       "      <td>1.398682</td>\n",
       "      <td>0.959825</td>\n",
       "      <td>0.0</td>\n",
       "      <td>0.000000</td>\n",
       "      <td>1.000000</td>\n",
       "      <td>1.0</td>\n",
       "      <td>1.000000</td>\n",
       "      <td>1.000000</td>\n",
       "      <td>1.000000</td>\n",
       "      <td>1.000000</td>\n",
       "      <td>2.000000</td>\n",
       "      <td>2.00</td>\n",
       "      <td>5.000000</td>\n",
       "      <td>6.000</td>\n",
       "      <td>6.000000</td>\n",
       "    </tr>\n",
       "    <tr>\n",
       "      <th>trip_distance</th>\n",
       "      <td>67969.0</td>\n",
       "      <td>3.541137</td>\n",
       "      <td>4.782556</td>\n",
       "      <td>0.0</td>\n",
       "      <td>0.000000</td>\n",
       "      <td>0.250000</td>\n",
       "      <td>0.4</td>\n",
       "      <td>0.510000</td>\n",
       "      <td>1.130000</td>\n",
       "      <td>1.900000</td>\n",
       "      <td>3.030000</td>\n",
       "      <td>4.360000</td>\n",
       "      <td>9.02</td>\n",
       "      <td>18.680000</td>\n",
       "      <td>20.260</td>\n",
       "      <td>410.170000</td>\n",
       "    </tr>\n",
       "    <tr>\n",
       "      <th>fare_amount</th>\n",
       "      <td>67969.0</td>\n",
       "      <td>15.271000</td>\n",
       "      <td>48.398615</td>\n",
       "      <td>2.5</td>\n",
       "      <td>3.500000</td>\n",
       "      <td>4.000000</td>\n",
       "      <td>4.0</td>\n",
       "      <td>4.500000</td>\n",
       "      <td>7.000000</td>\n",
       "      <td>10.500000</td>\n",
       "      <td>14.500000</td>\n",
       "      <td>19.000000</td>\n",
       "      <td>31.20</td>\n",
       "      <td>52.000000</td>\n",
       "      <td>62.500</td>\n",
       "      <td>6977.000000</td>\n",
       "    </tr>\n",
       "    <tr>\n",
       "      <th>extra</th>\n",
       "      <td>67969.0</td>\n",
       "      <td>1.069702</td>\n",
       "      <td>1.263564</td>\n",
       "      <td>0.0</td>\n",
       "      <td>0.000000</td>\n",
       "      <td>0.000000</td>\n",
       "      <td>0.0</td>\n",
       "      <td>0.000000</td>\n",
       "      <td>0.000000</td>\n",
       "      <td>0.500000</td>\n",
       "      <td>1.000000</td>\n",
       "      <td>2.500000</td>\n",
       "      <td>3.00</td>\n",
       "      <td>3.500000</td>\n",
       "      <td>3.750</td>\n",
       "      <td>8.250000</td>\n",
       "    </tr>\n",
       "    <tr>\n",
       "      <th>mta_tax</th>\n",
       "      <td>67969.0</td>\n",
       "      <td>0.494910</td>\n",
       "      <td>0.052014</td>\n",
       "      <td>0.0</td>\n",
       "      <td>0.000000</td>\n",
       "      <td>0.500000</td>\n",
       "      <td>0.5</td>\n",
       "      <td>0.500000</td>\n",
       "      <td>0.500000</td>\n",
       "      <td>0.500000</td>\n",
       "      <td>0.500000</td>\n",
       "      <td>0.500000</td>\n",
       "      <td>0.50</td>\n",
       "      <td>0.500000</td>\n",
       "      <td>0.500</td>\n",
       "      <td>2.780000</td>\n",
       "    </tr>\n",
       "    <tr>\n",
       "      <th>tip_amount</th>\n",
       "      <td>67969.0</td>\n",
       "      <td>2.765738</td>\n",
       "      <td>3.209275</td>\n",
       "      <td>0.0</td>\n",
       "      <td>0.000000</td>\n",
       "      <td>0.000000</td>\n",
       "      <td>0.0</td>\n",
       "      <td>0.000000</td>\n",
       "      <td>1.000000</td>\n",
       "      <td>2.160000</td>\n",
       "      <td>3.060000</td>\n",
       "      <td>3.850000</td>\n",
       "      <td>5.66</td>\n",
       "      <td>12.620000</td>\n",
       "      <td>15.000</td>\n",
       "      <td>98.000000</td>\n",
       "    </tr>\n",
       "    <tr>\n",
       "      <th>tolls_amount</th>\n",
       "      <td>67969.0</td>\n",
       "      <td>0.562375</td>\n",
       "      <td>2.062867</td>\n",
       "      <td>0.0</td>\n",
       "      <td>0.000000</td>\n",
       "      <td>0.000000</td>\n",
       "      <td>0.0</td>\n",
       "      <td>0.000000</td>\n",
       "      <td>0.000000</td>\n",
       "      <td>0.000000</td>\n",
       "      <td>0.000000</td>\n",
       "      <td>0.000000</td>\n",
       "      <td>0.00</td>\n",
       "      <td>6.550000</td>\n",
       "      <td>6.550</td>\n",
       "      <td>52.000000</td>\n",
       "    </tr>\n",
       "    <tr>\n",
       "      <th>total_amount</th>\n",
       "      <td>67969.0</td>\n",
       "      <td>22.169266</td>\n",
       "      <td>49.525152</td>\n",
       "      <td>3.3</td>\n",
       "      <td>6.800000</td>\n",
       "      <td>7.800000</td>\n",
       "      <td>8.3</td>\n",
       "      <td>8.800000</td>\n",
       "      <td>12.350000</td>\n",
       "      <td>15.960000</td>\n",
       "      <td>20.800000</td>\n",
       "      <td>25.800000</td>\n",
       "      <td>43.35</td>\n",
       "      <td>75.720000</td>\n",
       "      <td>81.120</td>\n",
       "      <td>6981.300000</td>\n",
       "    </tr>\n",
       "    <tr>\n",
       "      <th>congestion_surcharge</th>\n",
       "      <td>67969.0</td>\n",
       "      <td>2.307670</td>\n",
       "      <td>0.666214</td>\n",
       "      <td>0.0</td>\n",
       "      <td>0.000000</td>\n",
       "      <td>0.000000</td>\n",
       "      <td>0.0</td>\n",
       "      <td>0.000000</td>\n",
       "      <td>2.500000</td>\n",
       "      <td>2.500000</td>\n",
       "      <td>2.500000</td>\n",
       "      <td>2.500000</td>\n",
       "      <td>2.50</td>\n",
       "      <td>2.500000</td>\n",
       "      <td>2.500</td>\n",
       "      <td>2.500000</td>\n",
       "    </tr>\n",
       "    <tr>\n",
       "      <th>airport_fee</th>\n",
       "      <td>67969.0</td>\n",
       "      <td>0.097361</td>\n",
       "      <td>0.334997</td>\n",
       "      <td>0.0</td>\n",
       "      <td>0.000000</td>\n",
       "      <td>0.000000</td>\n",
       "      <td>0.0</td>\n",
       "      <td>0.000000</td>\n",
       "      <td>0.000000</td>\n",
       "      <td>0.000000</td>\n",
       "      <td>0.000000</td>\n",
       "      <td>0.000000</td>\n",
       "      <td>0.00</td>\n",
       "      <td>1.250000</td>\n",
       "      <td>1.250</td>\n",
       "      <td>1.250000</td>\n",
       "    </tr>\n",
       "    <tr>\n",
       "      <th>month</th>\n",
       "      <td>67969.0</td>\n",
       "      <td>6.000000</td>\n",
       "      <td>0.000000</td>\n",
       "      <td>6.0</td>\n",
       "      <td>6.000000</td>\n",
       "      <td>6.000000</td>\n",
       "      <td>6.0</td>\n",
       "      <td>6.000000</td>\n",
       "      <td>6.000000</td>\n",
       "      <td>6.000000</td>\n",
       "      <td>6.000000</td>\n",
       "      <td>6.000000</td>\n",
       "      <td>6.00</td>\n",
       "      <td>6.000000</td>\n",
       "      <td>6.000</td>\n",
       "      <td>6.000000</td>\n",
       "    </tr>\n",
       "    <tr>\n",
       "      <th>year</th>\n",
       "      <td>67969.0</td>\n",
       "      <td>2022.000000</td>\n",
       "      <td>0.000000</td>\n",
       "      <td>2022.0</td>\n",
       "      <td>2022.000000</td>\n",
       "      <td>2022.000000</td>\n",
       "      <td>2022.0</td>\n",
       "      <td>2022.000000</td>\n",
       "      <td>2022.000000</td>\n",
       "      <td>2022.000000</td>\n",
       "      <td>2022.000000</td>\n",
       "      <td>2022.000000</td>\n",
       "      <td>2022.00</td>\n",
       "      <td>2022.000000</td>\n",
       "      <td>2022.000</td>\n",
       "      <td>2022.000000</td>\n",
       "    </tr>\n",
       "    <tr>\n",
       "      <th>week_of_day</th>\n",
       "      <td>67969.0</td>\n",
       "      <td>2.936912</td>\n",
       "      <td>1.863506</td>\n",
       "      <td>0.0</td>\n",
       "      <td>0.000000</td>\n",
       "      <td>0.000000</td>\n",
       "      <td>0.0</td>\n",
       "      <td>0.000000</td>\n",
       "      <td>1.000000</td>\n",
       "      <td>3.000000</td>\n",
       "      <td>4.000000</td>\n",
       "      <td>5.000000</td>\n",
       "      <td>6.00</td>\n",
       "      <td>6.000000</td>\n",
       "      <td>6.000</td>\n",
       "      <td>6.000000</td>\n",
       "    </tr>\n",
       "    <tr>\n",
       "      <th>day</th>\n",
       "      <td>67969.0</td>\n",
       "      <td>15.241846</td>\n",
       "      <td>8.632825</td>\n",
       "      <td>1.0</td>\n",
       "      <td>1.000000</td>\n",
       "      <td>1.000000</td>\n",
       "      <td>1.0</td>\n",
       "      <td>2.000000</td>\n",
       "      <td>8.000000</td>\n",
       "      <td>15.000000</td>\n",
       "      <td>21.000000</td>\n",
       "      <td>24.000000</td>\n",
       "      <td>27.00</td>\n",
       "      <td>30.000000</td>\n",
       "      <td>30.000</td>\n",
       "      <td>30.000000</td>\n",
       "    </tr>\n",
       "    <tr>\n",
       "      <th>hours</th>\n",
       "      <td>67969.0</td>\n",
       "      <td>14.199194</td>\n",
       "      <td>5.788724</td>\n",
       "      <td>0.0</td>\n",
       "      <td>0.000000</td>\n",
       "      <td>0.000000</td>\n",
       "      <td>1.0</td>\n",
       "      <td>2.000000</td>\n",
       "      <td>10.000000</td>\n",
       "      <td>15.000000</td>\n",
       "      <td>18.000000</td>\n",
       "      <td>19.000000</td>\n",
       "      <td>21.00</td>\n",
       "      <td>23.000000</td>\n",
       "      <td>23.000</td>\n",
       "      <td>23.000000</td>\n",
       "    </tr>\n",
       "    <tr>\n",
       "      <th>isweekend</th>\n",
       "      <td>67969.0</td>\n",
       "      <td>0.243920</td>\n",
       "      <td>0.429448</td>\n",
       "      <td>0.0</td>\n",
       "      <td>0.000000</td>\n",
       "      <td>0.000000</td>\n",
       "      <td>0.0</td>\n",
       "      <td>0.000000</td>\n",
       "      <td>0.000000</td>\n",
       "      <td>0.000000</td>\n",
       "      <td>0.000000</td>\n",
       "      <td>1.000000</td>\n",
       "      <td>1.00</td>\n",
       "      <td>1.000000</td>\n",
       "      <td>1.000</td>\n",
       "      <td>1.000000</td>\n",
       "    </tr>\n",
       "    <tr>\n",
       "      <th>duration</th>\n",
       "      <td>67969.0</td>\n",
       "      <td>17.973287</td>\n",
       "      <td>50.867526</td>\n",
       "      <td>0.0</td>\n",
       "      <td>0.366667</td>\n",
       "      <td>1.916667</td>\n",
       "      <td>2.6</td>\n",
       "      <td>3.416667</td>\n",
       "      <td>7.616667</td>\n",
       "      <td>12.533333</td>\n",
       "      <td>18.183333</td>\n",
       "      <td>22.716667</td>\n",
       "      <td>32.00</td>\n",
       "      <td>59.916667</td>\n",
       "      <td>71.472</td>\n",
       "      <td>1439.416667</td>\n",
       "    </tr>\n",
       "    <tr>\n",
       "      <th>airport_pick_up</th>\n",
       "      <td>67969.0</td>\n",
       "      <td>0.077888</td>\n",
       "      <td>0.267998</td>\n",
       "      <td>0.0</td>\n",
       "      <td>0.000000</td>\n",
       "      <td>0.000000</td>\n",
       "      <td>0.0</td>\n",
       "      <td>0.000000</td>\n",
       "      <td>0.000000</td>\n",
       "      <td>0.000000</td>\n",
       "      <td>0.000000</td>\n",
       "      <td>0.000000</td>\n",
       "      <td>0.00</td>\n",
       "      <td>1.000000</td>\n",
       "      <td>1.000</td>\n",
       "      <td>1.000000</td>\n",
       "    </tr>\n",
       "  </tbody>\n",
       "</table>\n",
       "</div>"
      ],
      "text/plain": [
       "                        count         mean        std     min           1%  \\\n",
       "passenger_count       67969.0     1.398682   0.959825     0.0     0.000000   \n",
       "trip_distance         67969.0     3.541137   4.782556     0.0     0.000000   \n",
       "fare_amount           67969.0    15.271000  48.398615     2.5     3.500000   \n",
       "extra                 67969.0     1.069702   1.263564     0.0     0.000000   \n",
       "mta_tax               67969.0     0.494910   0.052014     0.0     0.000000   \n",
       "tip_amount            67969.0     2.765738   3.209275     0.0     0.000000   \n",
       "tolls_amount          67969.0     0.562375   2.062867     0.0     0.000000   \n",
       "total_amount          67969.0    22.169266  49.525152     3.3     6.800000   \n",
       "congestion_surcharge  67969.0     2.307670   0.666214     0.0     0.000000   \n",
       "airport_fee           67969.0     0.097361   0.334997     0.0     0.000000   \n",
       "month                 67969.0     6.000000   0.000000     6.0     6.000000   \n",
       "year                  67969.0  2022.000000   0.000000  2022.0  2022.000000   \n",
       "week_of_day           67969.0     2.936912   1.863506     0.0     0.000000   \n",
       "day                   67969.0    15.241846   8.632825     1.0     1.000000   \n",
       "hours                 67969.0    14.199194   5.788724     0.0     0.000000   \n",
       "isweekend             67969.0     0.243920   0.429448     0.0     0.000000   \n",
       "duration              67969.0    17.973287  50.867526     0.0     0.366667   \n",
       "airport_pick_up       67969.0     0.077888   0.267998     0.0     0.000000   \n",
       "\n",
       "                               2%      3%           5%          25%  \\\n",
       "passenger_count          1.000000     1.0     1.000000     1.000000   \n",
       "trip_distance            0.250000     0.4     0.510000     1.130000   \n",
       "fare_amount              4.000000     4.0     4.500000     7.000000   \n",
       "extra                    0.000000     0.0     0.000000     0.000000   \n",
       "mta_tax                  0.500000     0.5     0.500000     0.500000   \n",
       "tip_amount               0.000000     0.0     0.000000     1.000000   \n",
       "tolls_amount             0.000000     0.0     0.000000     0.000000   \n",
       "total_amount             7.800000     8.3     8.800000    12.350000   \n",
       "congestion_surcharge     0.000000     0.0     0.000000     2.500000   \n",
       "airport_fee              0.000000     0.0     0.000000     0.000000   \n",
       "month                    6.000000     6.0     6.000000     6.000000   \n",
       "year                  2022.000000  2022.0  2022.000000  2022.000000   \n",
       "week_of_day              0.000000     0.0     0.000000     1.000000   \n",
       "day                      1.000000     1.0     2.000000     8.000000   \n",
       "hours                    0.000000     1.0     2.000000    10.000000   \n",
       "isweekend                0.000000     0.0     0.000000     0.000000   \n",
       "duration                 1.916667     2.6     3.416667     7.616667   \n",
       "airport_pick_up          0.000000     0.0     0.000000     0.000000   \n",
       "\n",
       "                              50%          70%          80%      90%  \\\n",
       "passenger_count          1.000000     1.000000     2.000000     2.00   \n",
       "trip_distance            1.900000     3.030000     4.360000     9.02   \n",
       "fare_amount             10.500000    14.500000    19.000000    31.20   \n",
       "extra                    0.500000     1.000000     2.500000     3.00   \n",
       "mta_tax                  0.500000     0.500000     0.500000     0.50   \n",
       "tip_amount               2.160000     3.060000     3.850000     5.66   \n",
       "tolls_amount             0.000000     0.000000     0.000000     0.00   \n",
       "total_amount            15.960000    20.800000    25.800000    43.35   \n",
       "congestion_surcharge     2.500000     2.500000     2.500000     2.50   \n",
       "airport_fee              0.000000     0.000000     0.000000     0.00   \n",
       "month                    6.000000     6.000000     6.000000     6.00   \n",
       "year                  2022.000000  2022.000000  2022.000000  2022.00   \n",
       "week_of_day              3.000000     4.000000     5.000000     6.00   \n",
       "day                     15.000000    21.000000    24.000000    27.00   \n",
       "hours                   15.000000    18.000000    19.000000    21.00   \n",
       "isweekend                0.000000     0.000000     1.000000     1.00   \n",
       "duration                12.533333    18.183333    22.716667    32.00   \n",
       "airport_pick_up          0.000000     0.000000     0.000000     0.00   \n",
       "\n",
       "                              98%       99%          max  \n",
       "passenger_count          5.000000     6.000     6.000000  \n",
       "trip_distance           18.680000    20.260   410.170000  \n",
       "fare_amount             52.000000    62.500  6977.000000  \n",
       "extra                    3.500000     3.750     8.250000  \n",
       "mta_tax                  0.500000     0.500     2.780000  \n",
       "tip_amount              12.620000    15.000    98.000000  \n",
       "tolls_amount             6.550000     6.550    52.000000  \n",
       "total_amount            75.720000    81.120  6981.300000  \n",
       "congestion_surcharge     2.500000     2.500     2.500000  \n",
       "airport_fee              1.250000     1.250     1.250000  \n",
       "month                    6.000000     6.000     6.000000  \n",
       "year                  2022.000000  2022.000  2022.000000  \n",
       "week_of_day              6.000000     6.000     6.000000  \n",
       "day                     30.000000    30.000    30.000000  \n",
       "hours                   23.000000    23.000    23.000000  \n",
       "isweekend                1.000000     1.000     1.000000  \n",
       "duration                59.916667    71.472  1439.416667  \n",
       "airport_pick_up          1.000000     1.000     1.000000  "
      ]
     },
     "execution_count": 110,
     "metadata": {},
     "output_type": "execute_result"
    }
   ],
   "source": [
    "taxi2.describe(percentiles=[.01,.02,.03,.05,.25,.7,.8,.9,.98,.99]).T"
   ]
  },
  {
   "cell_type": "code",
   "execution_count": 111,
   "id": "e8d5a2ac",
   "metadata": {},
   "outputs": [
    {
     "data": {
      "text/plain": [
       "Index(['VendorID', 'tpep_pickup_datetime', 'tpep_dropoff_datetime',\n",
       "       'passenger_count', 'trip_distance', 'RatecodeID', 'store_and_fwd_flag',\n",
       "       'payment_type', 'fare_amount', 'extra', 'mta_tax', 'tip_amount',\n",
       "       'tolls_amount', 'total_amount', 'congestion_surcharge', 'airport_fee',\n",
       "       'month', 'year', 'week_of_day', 'day', 'hours', 'isweekend', 'day_cat',\n",
       "       'hours_cat', 'duration', 'time_category', 'airport_pick_up',\n",
       "       'amount_cat'],\n",
       "      dtype='object')"
      ]
     },
     "execution_count": 111,
     "metadata": {},
     "output_type": "execute_result"
    }
   ],
   "source": [
    "taxi2.columns"
   ]
  },
  {
   "cell_type": "code",
   "execution_count": 112,
   "id": "37613016",
   "metadata": {},
   "outputs": [
    {
     "name": "stderr",
     "output_type": "stream",
     "text": [
      "C:\\Users\\sony\\AppData\\Local\\Temp\\ipykernel_5868\\175399171.py:1: SettingWithCopyWarning: \n",
      "A value is trying to be set on a copy of a slice from a DataFrame\n",
      "\n",
      "See the caveats in the documentation: https://pandas.pydata.org/pandas-docs/stable/user_guide/indexing.html#returning-a-view-versus-a-copy\n",
      "  taxi2.drop(columns=['tpep_pickup_datetime','tpep_dropoff_datetime'],inplace=True)\n"
     ]
    }
   ],
   "source": [
    "taxi2.drop(columns=['tpep_pickup_datetime','tpep_dropoff_datetime'],inplace=True)"
   ]
  },
  {
   "cell_type": "code",
   "execution_count": 113,
   "id": "56c7718a",
   "metadata": {},
   "outputs": [
    {
     "data": {
      "text/html": [
       "<div>\n",
       "<style scoped>\n",
       "    .dataframe tbody tr th:only-of-type {\n",
       "        vertical-align: middle;\n",
       "    }\n",
       "\n",
       "    .dataframe tbody tr th {\n",
       "        vertical-align: top;\n",
       "    }\n",
       "\n",
       "    .dataframe thead th {\n",
       "        text-align: right;\n",
       "    }\n",
       "</style>\n",
       "<table border=\"1\" class=\"dataframe\">\n",
       "  <thead>\n",
       "    <tr style=\"text-align: right;\">\n",
       "      <th></th>\n",
       "      <th>VendorID</th>\n",
       "      <th>passenger_count</th>\n",
       "      <th>trip_distance</th>\n",
       "      <th>RatecodeID</th>\n",
       "      <th>store_and_fwd_flag</th>\n",
       "      <th>payment_type</th>\n",
       "      <th>fare_amount</th>\n",
       "      <th>extra</th>\n",
       "      <th>mta_tax</th>\n",
       "      <th>tip_amount</th>\n",
       "      <th>...</th>\n",
       "      <th>week_of_day</th>\n",
       "      <th>day</th>\n",
       "      <th>hours</th>\n",
       "      <th>isweekend</th>\n",
       "      <th>day_cat</th>\n",
       "      <th>hours_cat</th>\n",
       "      <th>duration</th>\n",
       "      <th>time_category</th>\n",
       "      <th>airport_pick_up</th>\n",
       "      <th>amount_cat</th>\n",
       "    </tr>\n",
       "  </thead>\n",
       "  <tbody>\n",
       "    <tr>\n",
       "      <th>11293</th>\n",
       "      <td>2</td>\n",
       "      <td>1.0</td>\n",
       "      <td>1.75</td>\n",
       "      <td>Standard_rate</td>\n",
       "      <td>N</td>\n",
       "      <td>Credit_card</td>\n",
       "      <td>9.5</td>\n",
       "      <td>0.0</td>\n",
       "      <td>0.5</td>\n",
       "      <td>2.00</td>\n",
       "      <td>...</td>\n",
       "      <td>2</td>\n",
       "      <td>1</td>\n",
       "      <td>8</td>\n",
       "      <td>0</td>\n",
       "      <td>starting_of_month</td>\n",
       "      <td>morning</td>\n",
       "      <td>12.166667</td>\n",
       "      <td>duration_bt_0_15m</td>\n",
       "      <td>0</td>\n",
       "      <td>[10,15)</td>\n",
       "    </tr>\n",
       "    <tr>\n",
       "      <th>3241804</th>\n",
       "      <td>2</td>\n",
       "      <td>1.0</td>\n",
       "      <td>9.16</td>\n",
       "      <td>Standard_rate</td>\n",
       "      <td>N</td>\n",
       "      <td>Cash</td>\n",
       "      <td>36.0</td>\n",
       "      <td>0.0</td>\n",
       "      <td>0.5</td>\n",
       "      <td>0.00</td>\n",
       "      <td>...</td>\n",
       "      <td>2</td>\n",
       "      <td>29</td>\n",
       "      <td>12</td>\n",
       "      <td>0</td>\n",
       "      <td>End_of_month</td>\n",
       "      <td>afternoon</td>\n",
       "      <td>49.183333</td>\n",
       "      <td>duration_bt_30_60m</td>\n",
       "      <td>0</td>\n",
       "      <td>[35,40)</td>\n",
       "    </tr>\n",
       "    <tr>\n",
       "      <th>2122208</th>\n",
       "      <td>1</td>\n",
       "      <td>1.0</td>\n",
       "      <td>5.00</td>\n",
       "      <td>Standard_rate</td>\n",
       "      <td>N</td>\n",
       "      <td>Credit_card</td>\n",
       "      <td>20.0</td>\n",
       "      <td>3.0</td>\n",
       "      <td>0.5</td>\n",
       "      <td>2.00</td>\n",
       "      <td>...</td>\n",
       "      <td>6</td>\n",
       "      <td>19</td>\n",
       "      <td>1</td>\n",
       "      <td>1</td>\n",
       "      <td>mid_of_month</td>\n",
       "      <td>midNight</td>\n",
       "      <td>23.900000</td>\n",
       "      <td>duration_bt_0_30m</td>\n",
       "      <td>0</td>\n",
       "      <td>[25,30)</td>\n",
       "    </tr>\n",
       "    <tr>\n",
       "      <th>645015</th>\n",
       "      <td>2</td>\n",
       "      <td>1.0</td>\n",
       "      <td>3.02</td>\n",
       "      <td>Standard_rate</td>\n",
       "      <td>N</td>\n",
       "      <td>Credit_card</td>\n",
       "      <td>13.5</td>\n",
       "      <td>1.0</td>\n",
       "      <td>0.5</td>\n",
       "      <td>1.78</td>\n",
       "      <td>...</td>\n",
       "      <td>0</td>\n",
       "      <td>6</td>\n",
       "      <td>17</td>\n",
       "      <td>0</td>\n",
       "      <td>starting_of_month</td>\n",
       "      <td>evening</td>\n",
       "      <td>18.900000</td>\n",
       "      <td>duration_bt_0_30m</td>\n",
       "      <td>0</td>\n",
       "      <td>[15,20)</td>\n",
       "    </tr>\n",
       "    <tr>\n",
       "      <th>1752107</th>\n",
       "      <td>2</td>\n",
       "      <td>1.0</td>\n",
       "      <td>3.53</td>\n",
       "      <td>Standard_rate</td>\n",
       "      <td>N</td>\n",
       "      <td>Credit_card</td>\n",
       "      <td>14.5</td>\n",
       "      <td>0.5</td>\n",
       "      <td>0.5</td>\n",
       "      <td>2.74</td>\n",
       "      <td>...</td>\n",
       "      <td>2</td>\n",
       "      <td>15</td>\n",
       "      <td>22</td>\n",
       "      <td>0</td>\n",
       "      <td>mid_of_month</td>\n",
       "      <td>Unknown</td>\n",
       "      <td>18.483333</td>\n",
       "      <td>duration_bt_0_30m</td>\n",
       "      <td>0</td>\n",
       "      <td>[20,25)</td>\n",
       "    </tr>\n",
       "  </tbody>\n",
       "</table>\n",
       "<p>5 rows × 26 columns</p>\n",
       "</div>"
      ],
      "text/plain": [
       "        VendorID  passenger_count  trip_distance     RatecodeID  \\\n",
       "11293          2              1.0           1.75  Standard_rate   \n",
       "3241804        2              1.0           9.16  Standard_rate   \n",
       "2122208        1              1.0           5.00  Standard_rate   \n",
       "645015         2              1.0           3.02  Standard_rate   \n",
       "1752107        2              1.0           3.53  Standard_rate   \n",
       "\n",
       "        store_and_fwd_flag payment_type  fare_amount  extra  mta_tax  \\\n",
       "11293                    N  Credit_card          9.5    0.0      0.5   \n",
       "3241804                  N         Cash         36.0    0.0      0.5   \n",
       "2122208                  N  Credit_card         20.0    3.0      0.5   \n",
       "645015                   N  Credit_card         13.5    1.0      0.5   \n",
       "1752107                  N  Credit_card         14.5    0.5      0.5   \n",
       "\n",
       "         tip_amount  ...  week_of_day  day  hours  isweekend  \\\n",
       "11293          2.00  ...            2    1      8          0   \n",
       "3241804        0.00  ...            2   29     12          0   \n",
       "2122208        2.00  ...            6   19      1          1   \n",
       "645015         1.78  ...            0    6     17          0   \n",
       "1752107        2.74  ...            2   15     22          0   \n",
       "\n",
       "                   day_cat  hours_cat   duration       time_category  \\\n",
       "11293    starting_of_month    morning  12.166667   duration_bt_0_15m   \n",
       "3241804       End_of_month  afternoon  49.183333  duration_bt_30_60m   \n",
       "2122208       mid_of_month   midNight  23.900000   duration_bt_0_30m   \n",
       "645015   starting_of_month    evening  18.900000   duration_bt_0_30m   \n",
       "1752107       mid_of_month    Unknown  18.483333   duration_bt_0_30m   \n",
       "\n",
       "         airport_pick_up  amount_cat  \n",
       "11293                  0     [10,15)  \n",
       "3241804                0     [35,40)  \n",
       "2122208                0     [25,30)  \n",
       "645015                 0     [15,20)  \n",
       "1752107                0     [20,25)  \n",
       "\n",
       "[5 rows x 26 columns]"
      ]
     },
     "execution_count": 113,
     "metadata": {},
     "output_type": "execute_result"
    }
   ],
   "source": [
    "taxi2.head()"
   ]
  },
  {
   "cell_type": "code",
   "execution_count": 114,
   "id": "6865956e",
   "metadata": {},
   "outputs": [],
   "source": [
    "obj_var=taxi2.dtypes[taxi2.dtypes=='object'].index\n",
    "num_var=taxi2.dtypes[taxi2.dtypes!='object'].index"
   ]
  },
  {
   "cell_type": "code",
   "execution_count": 115,
   "id": "4917cd38",
   "metadata": {},
   "outputs": [],
   "source": [
    "taxi_num=taxi2[num_var]\n",
    "taxi_obj=taxi2[obj_var]"
   ]
  },
  {
   "cell_type": "code",
   "execution_count": 116,
   "id": "cd8932da",
   "metadata": {},
   "outputs": [],
   "source": [
    "def outliers(x):\n",
    "    x=x.clip(upper=x.quantile(.99))\n",
    "#     x=x.clip(lower=x.quantile(.01))\n",
    "    return x"
   ]
  },
  {
   "cell_type": "code",
   "execution_count": 117,
   "id": "6cb6787c",
   "metadata": {},
   "outputs": [],
   "source": [
    "taxi_num=taxi_num.apply(lambda x:outliers(x))"
   ]
  },
  {
   "cell_type": "code",
   "execution_count": 118,
   "id": "df34dcda",
   "metadata": {},
   "outputs": [
    {
     "data": {
      "text/html": [
       "<div>\n",
       "<style scoped>\n",
       "    .dataframe tbody tr th:only-of-type {\n",
       "        vertical-align: middle;\n",
       "    }\n",
       "\n",
       "    .dataframe tbody tr th {\n",
       "        vertical-align: top;\n",
       "    }\n",
       "\n",
       "    .dataframe thead th {\n",
       "        text-align: right;\n",
       "    }\n",
       "</style>\n",
       "<table border=\"1\" class=\"dataframe\">\n",
       "  <thead>\n",
       "    <tr style=\"text-align: right;\">\n",
       "      <th></th>\n",
       "      <th>count</th>\n",
       "      <th>mean</th>\n",
       "      <th>std</th>\n",
       "      <th>min</th>\n",
       "      <th>1%</th>\n",
       "      <th>2%</th>\n",
       "      <th>3%</th>\n",
       "      <th>5%</th>\n",
       "      <th>25%</th>\n",
       "      <th>50%</th>\n",
       "      <th>70%</th>\n",
       "      <th>80%</th>\n",
       "      <th>90%</th>\n",
       "      <th>98%</th>\n",
       "      <th>99%</th>\n",
       "      <th>max</th>\n",
       "    </tr>\n",
       "  </thead>\n",
       "  <tbody>\n",
       "    <tr>\n",
       "      <th>passenger_count</th>\n",
       "      <td>67969.0</td>\n",
       "      <td>1.398682</td>\n",
       "      <td>0.959825</td>\n",
       "      <td>0.0</td>\n",
       "      <td>0.000000</td>\n",
       "      <td>1.000000</td>\n",
       "      <td>1.0</td>\n",
       "      <td>1.000000</td>\n",
       "      <td>1.000000</td>\n",
       "      <td>1.000000</td>\n",
       "      <td>1.000000</td>\n",
       "      <td>2.000000</td>\n",
       "      <td>2.00</td>\n",
       "      <td>5.000000</td>\n",
       "      <td>6.000000</td>\n",
       "      <td>6.000</td>\n",
       "    </tr>\n",
       "    <tr>\n",
       "      <th>trip_distance</th>\n",
       "      <td>67969.0</td>\n",
       "      <td>3.496722</td>\n",
       "      <td>4.290757</td>\n",
       "      <td>0.0</td>\n",
       "      <td>0.000000</td>\n",
       "      <td>0.250000</td>\n",
       "      <td>0.4</td>\n",
       "      <td>0.510000</td>\n",
       "      <td>1.130000</td>\n",
       "      <td>1.900000</td>\n",
       "      <td>3.030000</td>\n",
       "      <td>4.360000</td>\n",
       "      <td>9.02</td>\n",
       "      <td>18.680000</td>\n",
       "      <td>20.260000</td>\n",
       "      <td>20.260</td>\n",
       "    </tr>\n",
       "    <tr>\n",
       "      <th>fare_amount</th>\n",
       "      <td>67969.0</td>\n",
       "      <td>14.728502</td>\n",
       "      <td>12.486495</td>\n",
       "      <td>2.5</td>\n",
       "      <td>3.500000</td>\n",
       "      <td>4.000000</td>\n",
       "      <td>4.0</td>\n",
       "      <td>4.500000</td>\n",
       "      <td>7.000000</td>\n",
       "      <td>10.500000</td>\n",
       "      <td>14.500000</td>\n",
       "      <td>19.000000</td>\n",
       "      <td>31.20</td>\n",
       "      <td>52.000000</td>\n",
       "      <td>62.500000</td>\n",
       "      <td>62.500</td>\n",
       "    </tr>\n",
       "    <tr>\n",
       "      <th>extra</th>\n",
       "      <td>67969.0</td>\n",
       "      <td>1.056464</td>\n",
       "      <td>1.221008</td>\n",
       "      <td>0.0</td>\n",
       "      <td>0.000000</td>\n",
       "      <td>0.000000</td>\n",
       "      <td>0.0</td>\n",
       "      <td>0.000000</td>\n",
       "      <td>0.000000</td>\n",
       "      <td>0.500000</td>\n",
       "      <td>1.000000</td>\n",
       "      <td>2.500000</td>\n",
       "      <td>3.00</td>\n",
       "      <td>3.500000</td>\n",
       "      <td>3.750000</td>\n",
       "      <td>3.750</td>\n",
       "    </tr>\n",
       "    <tr>\n",
       "      <th>mta_tax</th>\n",
       "      <td>67969.0</td>\n",
       "      <td>0.494843</td>\n",
       "      <td>0.050516</td>\n",
       "      <td>0.0</td>\n",
       "      <td>0.000000</td>\n",
       "      <td>0.500000</td>\n",
       "      <td>0.5</td>\n",
       "      <td>0.500000</td>\n",
       "      <td>0.500000</td>\n",
       "      <td>0.500000</td>\n",
       "      <td>0.500000</td>\n",
       "      <td>0.500000</td>\n",
       "      <td>0.50</td>\n",
       "      <td>0.500000</td>\n",
       "      <td>0.500000</td>\n",
       "      <td>0.500</td>\n",
       "    </tr>\n",
       "    <tr>\n",
       "      <th>tip_amount</th>\n",
       "      <td>67969.0</td>\n",
       "      <td>2.723008</td>\n",
       "      <td>2.912863</td>\n",
       "      <td>0.0</td>\n",
       "      <td>0.000000</td>\n",
       "      <td>0.000000</td>\n",
       "      <td>0.0</td>\n",
       "      <td>0.000000</td>\n",
       "      <td>1.000000</td>\n",
       "      <td>2.160000</td>\n",
       "      <td>3.060000</td>\n",
       "      <td>3.850000</td>\n",
       "      <td>5.66</td>\n",
       "      <td>12.620000</td>\n",
       "      <td>15.000000</td>\n",
       "      <td>15.000</td>\n",
       "    </tr>\n",
       "    <tr>\n",
       "      <th>tolls_amount</th>\n",
       "      <td>67969.0</td>\n",
       "      <td>0.515365</td>\n",
       "      <td>1.760728</td>\n",
       "      <td>0.0</td>\n",
       "      <td>0.000000</td>\n",
       "      <td>0.000000</td>\n",
       "      <td>0.0</td>\n",
       "      <td>0.000000</td>\n",
       "      <td>0.000000</td>\n",
       "      <td>0.000000</td>\n",
       "      <td>0.000000</td>\n",
       "      <td>0.000000</td>\n",
       "      <td>0.00</td>\n",
       "      <td>6.550000</td>\n",
       "      <td>6.550000</td>\n",
       "      <td>6.550</td>\n",
       "    </tr>\n",
       "    <tr>\n",
       "      <th>total_amount</th>\n",
       "      <td>67969.0</td>\n",
       "      <td>21.584697</td>\n",
       "      <td>15.945232</td>\n",
       "      <td>3.3</td>\n",
       "      <td>6.800000</td>\n",
       "      <td>7.800000</td>\n",
       "      <td>8.3</td>\n",
       "      <td>8.800000</td>\n",
       "      <td>12.350000</td>\n",
       "      <td>15.960000</td>\n",
       "      <td>20.800000</td>\n",
       "      <td>25.800000</td>\n",
       "      <td>43.35</td>\n",
       "      <td>75.720000</td>\n",
       "      <td>81.120000</td>\n",
       "      <td>81.120</td>\n",
       "    </tr>\n",
       "    <tr>\n",
       "      <th>congestion_surcharge</th>\n",
       "      <td>67969.0</td>\n",
       "      <td>2.307670</td>\n",
       "      <td>0.666214</td>\n",
       "      <td>0.0</td>\n",
       "      <td>0.000000</td>\n",
       "      <td>0.000000</td>\n",
       "      <td>0.0</td>\n",
       "      <td>0.000000</td>\n",
       "      <td>2.500000</td>\n",
       "      <td>2.500000</td>\n",
       "      <td>2.500000</td>\n",
       "      <td>2.500000</td>\n",
       "      <td>2.50</td>\n",
       "      <td>2.500000</td>\n",
       "      <td>2.500000</td>\n",
       "      <td>2.500</td>\n",
       "    </tr>\n",
       "    <tr>\n",
       "      <th>airport_fee</th>\n",
       "      <td>67969.0</td>\n",
       "      <td>0.097361</td>\n",
       "      <td>0.334997</td>\n",
       "      <td>0.0</td>\n",
       "      <td>0.000000</td>\n",
       "      <td>0.000000</td>\n",
       "      <td>0.0</td>\n",
       "      <td>0.000000</td>\n",
       "      <td>0.000000</td>\n",
       "      <td>0.000000</td>\n",
       "      <td>0.000000</td>\n",
       "      <td>0.000000</td>\n",
       "      <td>0.00</td>\n",
       "      <td>1.250000</td>\n",
       "      <td>1.250000</td>\n",
       "      <td>1.250</td>\n",
       "    </tr>\n",
       "    <tr>\n",
       "      <th>month</th>\n",
       "      <td>67969.0</td>\n",
       "      <td>6.000000</td>\n",
       "      <td>0.000000</td>\n",
       "      <td>6.0</td>\n",
       "      <td>6.000000</td>\n",
       "      <td>6.000000</td>\n",
       "      <td>6.0</td>\n",
       "      <td>6.000000</td>\n",
       "      <td>6.000000</td>\n",
       "      <td>6.000000</td>\n",
       "      <td>6.000000</td>\n",
       "      <td>6.000000</td>\n",
       "      <td>6.00</td>\n",
       "      <td>6.000000</td>\n",
       "      <td>6.000000</td>\n",
       "      <td>6.000</td>\n",
       "    </tr>\n",
       "    <tr>\n",
       "      <th>year</th>\n",
       "      <td>67969.0</td>\n",
       "      <td>2022.000000</td>\n",
       "      <td>0.000000</td>\n",
       "      <td>2022.0</td>\n",
       "      <td>2022.000000</td>\n",
       "      <td>2022.000000</td>\n",
       "      <td>2022.0</td>\n",
       "      <td>2022.000000</td>\n",
       "      <td>2022.000000</td>\n",
       "      <td>2022.000000</td>\n",
       "      <td>2022.000000</td>\n",
       "      <td>2022.000000</td>\n",
       "      <td>2022.00</td>\n",
       "      <td>2022.000000</td>\n",
       "      <td>2022.000000</td>\n",
       "      <td>2022.000</td>\n",
       "    </tr>\n",
       "    <tr>\n",
       "      <th>week_of_day</th>\n",
       "      <td>67969.0</td>\n",
       "      <td>2.936912</td>\n",
       "      <td>1.863506</td>\n",
       "      <td>0.0</td>\n",
       "      <td>0.000000</td>\n",
       "      <td>0.000000</td>\n",
       "      <td>0.0</td>\n",
       "      <td>0.000000</td>\n",
       "      <td>1.000000</td>\n",
       "      <td>3.000000</td>\n",
       "      <td>4.000000</td>\n",
       "      <td>5.000000</td>\n",
       "      <td>6.00</td>\n",
       "      <td>6.000000</td>\n",
       "      <td>6.000000</td>\n",
       "      <td>6.000</td>\n",
       "    </tr>\n",
       "    <tr>\n",
       "      <th>day</th>\n",
       "      <td>67969.0</td>\n",
       "      <td>15.241846</td>\n",
       "      <td>8.632825</td>\n",
       "      <td>1.0</td>\n",
       "      <td>1.000000</td>\n",
       "      <td>1.000000</td>\n",
       "      <td>1.0</td>\n",
       "      <td>2.000000</td>\n",
       "      <td>8.000000</td>\n",
       "      <td>15.000000</td>\n",
       "      <td>21.000000</td>\n",
       "      <td>24.000000</td>\n",
       "      <td>27.00</td>\n",
       "      <td>30.000000</td>\n",
       "      <td>30.000000</td>\n",
       "      <td>30.000</td>\n",
       "    </tr>\n",
       "    <tr>\n",
       "      <th>hours</th>\n",
       "      <td>67969.0</td>\n",
       "      <td>14.199194</td>\n",
       "      <td>5.788724</td>\n",
       "      <td>0.0</td>\n",
       "      <td>0.000000</td>\n",
       "      <td>0.000000</td>\n",
       "      <td>1.0</td>\n",
       "      <td>2.000000</td>\n",
       "      <td>10.000000</td>\n",
       "      <td>15.000000</td>\n",
       "      <td>18.000000</td>\n",
       "      <td>19.000000</td>\n",
       "      <td>21.00</td>\n",
       "      <td>23.000000</td>\n",
       "      <td>23.000000</td>\n",
       "      <td>23.000</td>\n",
       "    </tr>\n",
       "    <tr>\n",
       "      <th>isweekend</th>\n",
       "      <td>67969.0</td>\n",
       "      <td>0.243920</td>\n",
       "      <td>0.429448</td>\n",
       "      <td>0.0</td>\n",
       "      <td>0.000000</td>\n",
       "      <td>0.000000</td>\n",
       "      <td>0.0</td>\n",
       "      <td>0.000000</td>\n",
       "      <td>0.000000</td>\n",
       "      <td>0.000000</td>\n",
       "      <td>0.000000</td>\n",
       "      <td>1.000000</td>\n",
       "      <td>1.00</td>\n",
       "      <td>1.000000</td>\n",
       "      <td>1.000000</td>\n",
       "      <td>1.000</td>\n",
       "    </tr>\n",
       "    <tr>\n",
       "      <th>duration</th>\n",
       "      <td>67969.0</td>\n",
       "      <td>16.180556</td>\n",
       "      <td>13.028912</td>\n",
       "      <td>0.0</td>\n",
       "      <td>0.366667</td>\n",
       "      <td>1.916667</td>\n",
       "      <td>2.6</td>\n",
       "      <td>3.416667</td>\n",
       "      <td>7.616667</td>\n",
       "      <td>12.533333</td>\n",
       "      <td>18.183333</td>\n",
       "      <td>22.716667</td>\n",
       "      <td>32.00</td>\n",
       "      <td>59.916667</td>\n",
       "      <td>71.468373</td>\n",
       "      <td>71.472</td>\n",
       "    </tr>\n",
       "    <tr>\n",
       "      <th>airport_pick_up</th>\n",
       "      <td>67969.0</td>\n",
       "      <td>0.077888</td>\n",
       "      <td>0.267998</td>\n",
       "      <td>0.0</td>\n",
       "      <td>0.000000</td>\n",
       "      <td>0.000000</td>\n",
       "      <td>0.0</td>\n",
       "      <td>0.000000</td>\n",
       "      <td>0.000000</td>\n",
       "      <td>0.000000</td>\n",
       "      <td>0.000000</td>\n",
       "      <td>0.000000</td>\n",
       "      <td>0.00</td>\n",
       "      <td>1.000000</td>\n",
       "      <td>1.000000</td>\n",
       "      <td>1.000</td>\n",
       "    </tr>\n",
       "  </tbody>\n",
       "</table>\n",
       "</div>"
      ],
      "text/plain": [
       "                        count         mean        std     min           1%  \\\n",
       "passenger_count       67969.0     1.398682   0.959825     0.0     0.000000   \n",
       "trip_distance         67969.0     3.496722   4.290757     0.0     0.000000   \n",
       "fare_amount           67969.0    14.728502  12.486495     2.5     3.500000   \n",
       "extra                 67969.0     1.056464   1.221008     0.0     0.000000   \n",
       "mta_tax               67969.0     0.494843   0.050516     0.0     0.000000   \n",
       "tip_amount            67969.0     2.723008   2.912863     0.0     0.000000   \n",
       "tolls_amount          67969.0     0.515365   1.760728     0.0     0.000000   \n",
       "total_amount          67969.0    21.584697  15.945232     3.3     6.800000   \n",
       "congestion_surcharge  67969.0     2.307670   0.666214     0.0     0.000000   \n",
       "airport_fee           67969.0     0.097361   0.334997     0.0     0.000000   \n",
       "month                 67969.0     6.000000   0.000000     6.0     6.000000   \n",
       "year                  67969.0  2022.000000   0.000000  2022.0  2022.000000   \n",
       "week_of_day           67969.0     2.936912   1.863506     0.0     0.000000   \n",
       "day                   67969.0    15.241846   8.632825     1.0     1.000000   \n",
       "hours                 67969.0    14.199194   5.788724     0.0     0.000000   \n",
       "isweekend             67969.0     0.243920   0.429448     0.0     0.000000   \n",
       "duration              67969.0    16.180556  13.028912     0.0     0.366667   \n",
       "airport_pick_up       67969.0     0.077888   0.267998     0.0     0.000000   \n",
       "\n",
       "                               2%      3%           5%          25%  \\\n",
       "passenger_count          1.000000     1.0     1.000000     1.000000   \n",
       "trip_distance            0.250000     0.4     0.510000     1.130000   \n",
       "fare_amount              4.000000     4.0     4.500000     7.000000   \n",
       "extra                    0.000000     0.0     0.000000     0.000000   \n",
       "mta_tax                  0.500000     0.5     0.500000     0.500000   \n",
       "tip_amount               0.000000     0.0     0.000000     1.000000   \n",
       "tolls_amount             0.000000     0.0     0.000000     0.000000   \n",
       "total_amount             7.800000     8.3     8.800000    12.350000   \n",
       "congestion_surcharge     0.000000     0.0     0.000000     2.500000   \n",
       "airport_fee              0.000000     0.0     0.000000     0.000000   \n",
       "month                    6.000000     6.0     6.000000     6.000000   \n",
       "year                  2022.000000  2022.0  2022.000000  2022.000000   \n",
       "week_of_day              0.000000     0.0     0.000000     1.000000   \n",
       "day                      1.000000     1.0     2.000000     8.000000   \n",
       "hours                    0.000000     1.0     2.000000    10.000000   \n",
       "isweekend                0.000000     0.0     0.000000     0.000000   \n",
       "duration                 1.916667     2.6     3.416667     7.616667   \n",
       "airport_pick_up          0.000000     0.0     0.000000     0.000000   \n",
       "\n",
       "                              50%          70%          80%      90%  \\\n",
       "passenger_count          1.000000     1.000000     2.000000     2.00   \n",
       "trip_distance            1.900000     3.030000     4.360000     9.02   \n",
       "fare_amount             10.500000    14.500000    19.000000    31.20   \n",
       "extra                    0.500000     1.000000     2.500000     3.00   \n",
       "mta_tax                  0.500000     0.500000     0.500000     0.50   \n",
       "tip_amount               2.160000     3.060000     3.850000     5.66   \n",
       "tolls_amount             0.000000     0.000000     0.000000     0.00   \n",
       "total_amount            15.960000    20.800000    25.800000    43.35   \n",
       "congestion_surcharge     2.500000     2.500000     2.500000     2.50   \n",
       "airport_fee              0.000000     0.000000     0.000000     0.00   \n",
       "month                    6.000000     6.000000     6.000000     6.00   \n",
       "year                  2022.000000  2022.000000  2022.000000  2022.00   \n",
       "week_of_day              3.000000     4.000000     5.000000     6.00   \n",
       "day                     15.000000    21.000000    24.000000    27.00   \n",
       "hours                   15.000000    18.000000    19.000000    21.00   \n",
       "isweekend                0.000000     0.000000     1.000000     1.00   \n",
       "duration                12.533333    18.183333    22.716667    32.00   \n",
       "airport_pick_up          0.000000     0.000000     0.000000     0.00   \n",
       "\n",
       "                              98%          99%       max  \n",
       "passenger_count          5.000000     6.000000     6.000  \n",
       "trip_distance           18.680000    20.260000    20.260  \n",
       "fare_amount             52.000000    62.500000    62.500  \n",
       "extra                    3.500000     3.750000     3.750  \n",
       "mta_tax                  0.500000     0.500000     0.500  \n",
       "tip_amount              12.620000    15.000000    15.000  \n",
       "tolls_amount             6.550000     6.550000     6.550  \n",
       "total_amount            75.720000    81.120000    81.120  \n",
       "congestion_surcharge     2.500000     2.500000     2.500  \n",
       "airport_fee              1.250000     1.250000     1.250  \n",
       "month                    6.000000     6.000000     6.000  \n",
       "year                  2022.000000  2022.000000  2022.000  \n",
       "week_of_day              6.000000     6.000000     6.000  \n",
       "day                     30.000000    30.000000    30.000  \n",
       "hours                   23.000000    23.000000    23.000  \n",
       "isweekend                1.000000     1.000000     1.000  \n",
       "duration                59.916667    71.468373    71.472  \n",
       "airport_pick_up          1.000000     1.000000     1.000  "
      ]
     },
     "execution_count": 118,
     "metadata": {},
     "output_type": "execute_result"
    }
   ],
   "source": [
    "taxi_num.describe(percentiles=[.01,.02,.03,.05,.25,.7,.8,.9,.98,.99]).T"
   ]
  },
  {
   "cell_type": "code",
   "execution_count": 119,
   "id": "208d1f3c",
   "metadata": {},
   "outputs": [],
   "source": [
    "taxi_final=pd.concat([taxi_num,taxi_obj],axis=1)"
   ]
  },
  {
   "cell_type": "code",
   "execution_count": 120,
   "id": "208ba512",
   "metadata": {},
   "outputs": [
    {
     "data": {
      "text/html": [
       "<div>\n",
       "<style scoped>\n",
       "    .dataframe tbody tr th:only-of-type {\n",
       "        vertical-align: middle;\n",
       "    }\n",
       "\n",
       "    .dataframe tbody tr th {\n",
       "        vertical-align: top;\n",
       "    }\n",
       "\n",
       "    .dataframe thead th {\n",
       "        text-align: right;\n",
       "    }\n",
       "</style>\n",
       "<table border=\"1\" class=\"dataframe\">\n",
       "  <thead>\n",
       "    <tr style=\"text-align: right;\">\n",
       "      <th></th>\n",
       "      <th>passenger_count</th>\n",
       "      <th>trip_distance</th>\n",
       "      <th>fare_amount</th>\n",
       "      <th>extra</th>\n",
       "      <th>mta_tax</th>\n",
       "      <th>tip_amount</th>\n",
       "      <th>tolls_amount</th>\n",
       "      <th>total_amount</th>\n",
       "      <th>congestion_surcharge</th>\n",
       "      <th>airport_fee</th>\n",
       "      <th>...</th>\n",
       "      <th>duration</th>\n",
       "      <th>airport_pick_up</th>\n",
       "      <th>VendorID</th>\n",
       "      <th>RatecodeID</th>\n",
       "      <th>store_and_fwd_flag</th>\n",
       "      <th>payment_type</th>\n",
       "      <th>day_cat</th>\n",
       "      <th>hours_cat</th>\n",
       "      <th>time_category</th>\n",
       "      <th>amount_cat</th>\n",
       "    </tr>\n",
       "  </thead>\n",
       "  <tbody>\n",
       "    <tr>\n",
       "      <th>11293</th>\n",
       "      <td>1.0</td>\n",
       "      <td>1.75</td>\n",
       "      <td>9.5</td>\n",
       "      <td>0.0</td>\n",
       "      <td>0.5</td>\n",
       "      <td>2.00</td>\n",
       "      <td>0.00</td>\n",
       "      <td>14.80</td>\n",
       "      <td>2.5</td>\n",
       "      <td>0.0</td>\n",
       "      <td>...</td>\n",
       "      <td>12.166667</td>\n",
       "      <td>0</td>\n",
       "      <td>2</td>\n",
       "      <td>Standard_rate</td>\n",
       "      <td>N</td>\n",
       "      <td>Credit_card</td>\n",
       "      <td>starting_of_month</td>\n",
       "      <td>morning</td>\n",
       "      <td>duration_bt_0_15m</td>\n",
       "      <td>[10,15)</td>\n",
       "    </tr>\n",
       "    <tr>\n",
       "      <th>3241804</th>\n",
       "      <td>1.0</td>\n",
       "      <td>9.16</td>\n",
       "      <td>36.0</td>\n",
       "      <td>0.0</td>\n",
       "      <td>0.5</td>\n",
       "      <td>0.00</td>\n",
       "      <td>0.00</td>\n",
       "      <td>39.30</td>\n",
       "      <td>2.5</td>\n",
       "      <td>0.0</td>\n",
       "      <td>...</td>\n",
       "      <td>49.183333</td>\n",
       "      <td>0</td>\n",
       "      <td>2</td>\n",
       "      <td>Standard_rate</td>\n",
       "      <td>N</td>\n",
       "      <td>Cash</td>\n",
       "      <td>End_of_month</td>\n",
       "      <td>afternoon</td>\n",
       "      <td>duration_bt_30_60m</td>\n",
       "      <td>[35,40)</td>\n",
       "    </tr>\n",
       "    <tr>\n",
       "      <th>2122208</th>\n",
       "      <td>1.0</td>\n",
       "      <td>5.00</td>\n",
       "      <td>20.0</td>\n",
       "      <td>3.0</td>\n",
       "      <td>0.5</td>\n",
       "      <td>2.00</td>\n",
       "      <td>0.00</td>\n",
       "      <td>25.80</td>\n",
       "      <td>2.5</td>\n",
       "      <td>0.0</td>\n",
       "      <td>...</td>\n",
       "      <td>23.900000</td>\n",
       "      <td>0</td>\n",
       "      <td>1</td>\n",
       "      <td>Standard_rate</td>\n",
       "      <td>N</td>\n",
       "      <td>Credit_card</td>\n",
       "      <td>mid_of_month</td>\n",
       "      <td>midNight</td>\n",
       "      <td>duration_bt_0_30m</td>\n",
       "      <td>[25,30)</td>\n",
       "    </tr>\n",
       "    <tr>\n",
       "      <th>645015</th>\n",
       "      <td>1.0</td>\n",
       "      <td>3.02</td>\n",
       "      <td>13.5</td>\n",
       "      <td>1.0</td>\n",
       "      <td>0.5</td>\n",
       "      <td>1.78</td>\n",
       "      <td>0.00</td>\n",
       "      <td>19.58</td>\n",
       "      <td>2.5</td>\n",
       "      <td>0.0</td>\n",
       "      <td>...</td>\n",
       "      <td>18.900000</td>\n",
       "      <td>0</td>\n",
       "      <td>2</td>\n",
       "      <td>Standard_rate</td>\n",
       "      <td>N</td>\n",
       "      <td>Credit_card</td>\n",
       "      <td>starting_of_month</td>\n",
       "      <td>evening</td>\n",
       "      <td>duration_bt_0_30m</td>\n",
       "      <td>[15,20)</td>\n",
       "    </tr>\n",
       "    <tr>\n",
       "      <th>1752107</th>\n",
       "      <td>1.0</td>\n",
       "      <td>3.53</td>\n",
       "      <td>14.5</td>\n",
       "      <td>0.5</td>\n",
       "      <td>0.5</td>\n",
       "      <td>2.74</td>\n",
       "      <td>0.00</td>\n",
       "      <td>21.04</td>\n",
       "      <td>2.5</td>\n",
       "      <td>0.0</td>\n",
       "      <td>...</td>\n",
       "      <td>18.483333</td>\n",
       "      <td>0</td>\n",
       "      <td>2</td>\n",
       "      <td>Standard_rate</td>\n",
       "      <td>N</td>\n",
       "      <td>Credit_card</td>\n",
       "      <td>mid_of_month</td>\n",
       "      <td>Unknown</td>\n",
       "      <td>duration_bt_0_30m</td>\n",
       "      <td>[20,25)</td>\n",
       "    </tr>\n",
       "    <tr>\n",
       "      <th>...</th>\n",
       "      <td>...</td>\n",
       "      <td>...</td>\n",
       "      <td>...</td>\n",
       "      <td>...</td>\n",
       "      <td>...</td>\n",
       "      <td>...</td>\n",
       "      <td>...</td>\n",
       "      <td>...</td>\n",
       "      <td>...</td>\n",
       "      <td>...</td>\n",
       "      <td>...</td>\n",
       "      <td>...</td>\n",
       "      <td>...</td>\n",
       "      <td>...</td>\n",
       "      <td>...</td>\n",
       "      <td>...</td>\n",
       "      <td>...</td>\n",
       "      <td>...</td>\n",
       "      <td>...</td>\n",
       "      <td>...</td>\n",
       "      <td>...</td>\n",
       "    </tr>\n",
       "    <tr>\n",
       "      <th>2249467</th>\n",
       "      <td>1.0</td>\n",
       "      <td>4.49</td>\n",
       "      <td>17.0</td>\n",
       "      <td>0.0</td>\n",
       "      <td>0.5</td>\n",
       "      <td>2.00</td>\n",
       "      <td>0.00</td>\n",
       "      <td>22.30</td>\n",
       "      <td>2.5</td>\n",
       "      <td>0.0</td>\n",
       "      <td>...</td>\n",
       "      <td>18.200000</td>\n",
       "      <td>0</td>\n",
       "      <td>2</td>\n",
       "      <td>Standard_rate</td>\n",
       "      <td>N</td>\n",
       "      <td>Credit_card</td>\n",
       "      <td>mid_of_month</td>\n",
       "      <td>afternoon</td>\n",
       "      <td>duration_bt_0_30m</td>\n",
       "      <td>[20,25)</td>\n",
       "    </tr>\n",
       "    <tr>\n",
       "      <th>963395</th>\n",
       "      <td>1.0</td>\n",
       "      <td>1.51</td>\n",
       "      <td>8.5</td>\n",
       "      <td>0.0</td>\n",
       "      <td>0.5</td>\n",
       "      <td>2.36</td>\n",
       "      <td>0.00</td>\n",
       "      <td>14.16</td>\n",
       "      <td>2.5</td>\n",
       "      <td>0.0</td>\n",
       "      <td>...</td>\n",
       "      <td>9.166667</td>\n",
       "      <td>0</td>\n",
       "      <td>2</td>\n",
       "      <td>Standard_rate</td>\n",
       "      <td>N</td>\n",
       "      <td>Credit_card</td>\n",
       "      <td>starting_of_month</td>\n",
       "      <td>morning</td>\n",
       "      <td>duration_bt_0_15m</td>\n",
       "      <td>[10,15)</td>\n",
       "    </tr>\n",
       "    <tr>\n",
       "      <th>2215104</th>\n",
       "      <td>0.0</td>\n",
       "      <td>8.90</td>\n",
       "      <td>25.5</td>\n",
       "      <td>2.5</td>\n",
       "      <td>0.5</td>\n",
       "      <td>5.30</td>\n",
       "      <td>6.55</td>\n",
       "      <td>40.65</td>\n",
       "      <td>2.5</td>\n",
       "      <td>0.0</td>\n",
       "      <td>...</td>\n",
       "      <td>16.250000</td>\n",
       "      <td>0</td>\n",
       "      <td>1</td>\n",
       "      <td>Standard_rate</td>\n",
       "      <td>N</td>\n",
       "      <td>Credit_card</td>\n",
       "      <td>mid_of_month</td>\n",
       "      <td>early morning</td>\n",
       "      <td>duration_bt_0_30m</td>\n",
       "      <td>[40,45)</td>\n",
       "    </tr>\n",
       "    <tr>\n",
       "      <th>1484405</th>\n",
       "      <td>3.0</td>\n",
       "      <td>0.90</td>\n",
       "      <td>5.0</td>\n",
       "      <td>1.0</td>\n",
       "      <td>0.5</td>\n",
       "      <td>0.00</td>\n",
       "      <td>0.00</td>\n",
       "      <td>9.30</td>\n",
       "      <td>2.5</td>\n",
       "      <td>0.0</td>\n",
       "      <td>...</td>\n",
       "      <td>4.183333</td>\n",
       "      <td>0</td>\n",
       "      <td>2</td>\n",
       "      <td>Standard_rate</td>\n",
       "      <td>N</td>\n",
       "      <td>Cash</td>\n",
       "      <td>mid_of_month</td>\n",
       "      <td>evening</td>\n",
       "      <td>duration_bt_0_15m</td>\n",
       "      <td>50+</td>\n",
       "    </tr>\n",
       "    <tr>\n",
       "      <th>305711</th>\n",
       "      <td>1.0</td>\n",
       "      <td>0.87</td>\n",
       "      <td>5.0</td>\n",
       "      <td>1.0</td>\n",
       "      <td>0.5</td>\n",
       "      <td>0.00</td>\n",
       "      <td>0.00</td>\n",
       "      <td>9.30</td>\n",
       "      <td>2.5</td>\n",
       "      <td>0.0</td>\n",
       "      <td>...</td>\n",
       "      <td>4.083333</td>\n",
       "      <td>0</td>\n",
       "      <td>2</td>\n",
       "      <td>Standard_rate</td>\n",
       "      <td>N</td>\n",
       "      <td>Cash</td>\n",
       "      <td>starting_of_month</td>\n",
       "      <td>evening</td>\n",
       "      <td>duration_bt_0_15m</td>\n",
       "      <td>50+</td>\n",
       "    </tr>\n",
       "  </tbody>\n",
       "</table>\n",
       "<p>67969 rows × 26 columns</p>\n",
       "</div>"
      ],
      "text/plain": [
       "         passenger_count  trip_distance  fare_amount  extra  mta_tax  \\\n",
       "11293                1.0           1.75          9.5    0.0      0.5   \n",
       "3241804              1.0           9.16         36.0    0.0      0.5   \n",
       "2122208              1.0           5.00         20.0    3.0      0.5   \n",
       "645015               1.0           3.02         13.5    1.0      0.5   \n",
       "1752107              1.0           3.53         14.5    0.5      0.5   \n",
       "...                  ...            ...          ...    ...      ...   \n",
       "2249467              1.0           4.49         17.0    0.0      0.5   \n",
       "963395               1.0           1.51          8.5    0.0      0.5   \n",
       "2215104              0.0           8.90         25.5    2.5      0.5   \n",
       "1484405              3.0           0.90          5.0    1.0      0.5   \n",
       "305711               1.0           0.87          5.0    1.0      0.5   \n",
       "\n",
       "         tip_amount  tolls_amount  total_amount  congestion_surcharge  \\\n",
       "11293          2.00          0.00         14.80                   2.5   \n",
       "3241804        0.00          0.00         39.30                   2.5   \n",
       "2122208        2.00          0.00         25.80                   2.5   \n",
       "645015         1.78          0.00         19.58                   2.5   \n",
       "1752107        2.74          0.00         21.04                   2.5   \n",
       "...             ...           ...           ...                   ...   \n",
       "2249467        2.00          0.00         22.30                   2.5   \n",
       "963395         2.36          0.00         14.16                   2.5   \n",
       "2215104        5.30          6.55         40.65                   2.5   \n",
       "1484405        0.00          0.00          9.30                   2.5   \n",
       "305711         0.00          0.00          9.30                   2.5   \n",
       "\n",
       "         airport_fee  ...   duration  airport_pick_up  VendorID  \\\n",
       "11293            0.0  ...  12.166667                0         2   \n",
       "3241804          0.0  ...  49.183333                0         2   \n",
       "2122208          0.0  ...  23.900000                0         1   \n",
       "645015           0.0  ...  18.900000                0         2   \n",
       "1752107          0.0  ...  18.483333                0         2   \n",
       "...              ...  ...        ...              ...       ...   \n",
       "2249467          0.0  ...  18.200000                0         2   \n",
       "963395           0.0  ...   9.166667                0         2   \n",
       "2215104          0.0  ...  16.250000                0         1   \n",
       "1484405          0.0  ...   4.183333                0         2   \n",
       "305711           0.0  ...   4.083333                0         2   \n",
       "\n",
       "            RatecodeID  store_and_fwd_flag  payment_type            day_cat  \\\n",
       "11293    Standard_rate                   N   Credit_card  starting_of_month   \n",
       "3241804  Standard_rate                   N          Cash       End_of_month   \n",
       "2122208  Standard_rate                   N   Credit_card       mid_of_month   \n",
       "645015   Standard_rate                   N   Credit_card  starting_of_month   \n",
       "1752107  Standard_rate                   N   Credit_card       mid_of_month   \n",
       "...                ...                 ...           ...                ...   \n",
       "2249467  Standard_rate                   N   Credit_card       mid_of_month   \n",
       "963395   Standard_rate                   N   Credit_card  starting_of_month   \n",
       "2215104  Standard_rate                   N   Credit_card       mid_of_month   \n",
       "1484405  Standard_rate                   N          Cash       mid_of_month   \n",
       "305711   Standard_rate                   N          Cash  starting_of_month   \n",
       "\n",
       "             hours_cat       time_category amount_cat  \n",
       "11293          morning   duration_bt_0_15m    [10,15)  \n",
       "3241804      afternoon  duration_bt_30_60m    [35,40)  \n",
       "2122208       midNight   duration_bt_0_30m    [25,30)  \n",
       "645015         evening   duration_bt_0_30m    [15,20)  \n",
       "1752107        Unknown   duration_bt_0_30m    [20,25)  \n",
       "...                ...                 ...        ...  \n",
       "2249467      afternoon   duration_bt_0_30m    [20,25)  \n",
       "963395         morning   duration_bt_0_15m    [10,15)  \n",
       "2215104  early morning   duration_bt_0_30m    [40,45)  \n",
       "1484405        evening   duration_bt_0_15m        50+  \n",
       "305711         evening   duration_bt_0_15m        50+  \n",
       "\n",
       "[67969 rows x 26 columns]"
      ]
     },
     "execution_count": 120,
     "metadata": {},
     "output_type": "execute_result"
    }
   ],
   "source": [
    "taxi_final"
   ]
  },
  {
   "cell_type": "markdown",
   "id": "cf2e9920",
   "metadata": {},
   "source": [
    "### Multicollinearity"
   ]
  },
  {
   "cell_type": "code",
   "execution_count": 121,
   "id": "d8133d00",
   "metadata": {},
   "outputs": [
    {
     "data": {
      "text/plain": [
       "<AxesSubplot:>"
      ]
     },
     "execution_count": 121,
     "metadata": {},
     "output_type": "execute_result"
    },
    {
     "data": {
      "image/png": "[encoded data removed]",
      "text/plain": [
       "<Figure size 792x432 with 2 Axes>"
      ]
     },
     "metadata": {
      "needs_background": "light"
     },
     "output_type": "display_data"
    }
   ],
   "source": [
    "cr=taxi_final.corr()\n",
    "plt.figure(figsize=(11,6))\n",
    "sns.heatmap(cr,annot=True,cmap='coolwarm')"
   ]
  },
  {
   "cell_type": "code",
   "execution_count": 122,
   "id": "7bcb6bf2",
   "metadata": {},
   "outputs": [],
   "source": [
    "taxi_final.drop(columns=['month','year','fare_amount'],inplace=True)"
   ]
  },
  {
   "cell_type": "code",
   "execution_count": 123,
   "id": "22a05c22",
   "metadata": {},
   "outputs": [
    {
     "data": {
      "text/plain": [
       "<AxesSubplot:>"
      ]
     },
     "execution_count": 123,
     "metadata": {},
     "output_type": "execute_result"
    },
    {
     "data": {
      "image/png": "[encoded data removed]",
      "text/plain": [
       "<Figure size 792x432 with 2 Axes>"
      ]
     },
     "metadata": {
      "needs_background": "light"
     },
     "output_type": "display_data"
    }
   ],
   "source": [
    "cr=taxi_final.corr()\n",
    "cr=cr[abs(cr)>.7]\n",
    "plt.figure(figsize=(11,6))\n",
    "sns.heatmap(cr,annot=True,cmap='coolwarm')"
   ]
  },
  {
   "cell_type": "code",
   "execution_count": null,
   "id": "446ecc7a",
   "metadata": {},
   "outputs": [],
   "source": []
  },
  {
   "cell_type": "code",
   "execution_count": 124,
   "id": "7409b6d7",
   "metadata": {},
   "outputs": [],
   "source": [
    "taxi_final.drop(columns=['airport_fee','week_of_day'],inplace=True)"
   ]
  },
  {
   "cell_type": "code",
   "execution_count": 125,
   "id": "bcdf0117",
   "metadata": {},
   "outputs": [],
   "source": [
    "taxi_final.drop(columns='amount_cat',inplace=True)"
   ]
  },
  {
   "cell_type": "markdown",
   "id": "100c110b",
   "metadata": {},
   "source": [
    "### Dummy creation"
   ]
  },
  {
   "cell_type": "code",
   "execution_count": 126,
   "id": "48993b77",
   "metadata": {},
   "outputs": [
    {
     "name": "stderr",
     "output_type": "stream",
     "text": [
      "C:\\Users\\sony\\anaconda3\\lib\\site-packages\\pandas\\core\\algorithms.py:798: FutureWarning: In a future version, the Index constructor will not infer numeric dtypes when passed object-dtype sequences (matching Series behavior)\n",
      "  uniques = Index(uniques)\n"
     ]
    }
   ],
   "source": [
    "final=pd.get_dummies(data=taxi_final,drop_first=True)"
   ]
  },
  {
   "cell_type": "code",
   "execution_count": 127,
   "id": "b387ab56",
   "metadata": {},
   "outputs": [
    {
     "data": {
      "text/html": [
       "<div>\n",
       "<style scoped>\n",
       "    .dataframe tbody tr th:only-of-type {\n",
       "        vertical-align: middle;\n",
       "    }\n",
       "\n",
       "    .dataframe tbody tr th {\n",
       "        vertical-align: top;\n",
       "    }\n",
       "\n",
       "    .dataframe thead th {\n",
       "        text-align: right;\n",
       "    }\n",
       "</style>\n",
       "<table border=\"1\" class=\"dataframe\">\n",
       "  <thead>\n",
       "    <tr style=\"text-align: right;\">\n",
       "      <th></th>\n",
       "      <th>passenger_count</th>\n",
       "      <th>trip_distance</th>\n",
       "      <th>extra</th>\n",
       "      <th>mta_tax</th>\n",
       "      <th>tip_amount</th>\n",
       "      <th>tolls_amount</th>\n",
       "      <th>total_amount</th>\n",
       "      <th>congestion_surcharge</th>\n",
       "      <th>day</th>\n",
       "      <th>hours</th>\n",
       "      <th>...</th>\n",
       "      <th>day_cat_starting_of_month</th>\n",
       "      <th>hours_cat_afternoon</th>\n",
       "      <th>hours_cat_early morning</th>\n",
       "      <th>hours_cat_evening</th>\n",
       "      <th>hours_cat_midNight</th>\n",
       "      <th>hours_cat_morning</th>\n",
       "      <th>time_category_duration_bt_0_30m</th>\n",
       "      <th>time_category_duration_bt_30_60m</th>\n",
       "      <th>time_category_duration_bt_60_120m</th>\n",
       "      <th>time_category_duration_morethan_120</th>\n",
       "    </tr>\n",
       "  </thead>\n",
       "  <tbody>\n",
       "    <tr>\n",
       "      <th>11293</th>\n",
       "      <td>1.0</td>\n",
       "      <td>1.75</td>\n",
       "      <td>0.0</td>\n",
       "      <td>0.5</td>\n",
       "      <td>2.00</td>\n",
       "      <td>0.0</td>\n",
       "      <td>14.80</td>\n",
       "      <td>2.5</td>\n",
       "      <td>1</td>\n",
       "      <td>8</td>\n",
       "      <td>...</td>\n",
       "      <td>1</td>\n",
       "      <td>0</td>\n",
       "      <td>0</td>\n",
       "      <td>0</td>\n",
       "      <td>0</td>\n",
       "      <td>1</td>\n",
       "      <td>0</td>\n",
       "      <td>0</td>\n",
       "      <td>0</td>\n",
       "      <td>0</td>\n",
       "    </tr>\n",
       "    <tr>\n",
       "      <th>3241804</th>\n",
       "      <td>1.0</td>\n",
       "      <td>9.16</td>\n",
       "      <td>0.0</td>\n",
       "      <td>0.5</td>\n",
       "      <td>0.00</td>\n",
       "      <td>0.0</td>\n",
       "      <td>39.30</td>\n",
       "      <td>2.5</td>\n",
       "      <td>29</td>\n",
       "      <td>12</td>\n",
       "      <td>...</td>\n",
       "      <td>0</td>\n",
       "      <td>1</td>\n",
       "      <td>0</td>\n",
       "      <td>0</td>\n",
       "      <td>0</td>\n",
       "      <td>0</td>\n",
       "      <td>0</td>\n",
       "      <td>1</td>\n",
       "      <td>0</td>\n",
       "      <td>0</td>\n",
       "    </tr>\n",
       "    <tr>\n",
       "      <th>2122208</th>\n",
       "      <td>1.0</td>\n",
       "      <td>5.00</td>\n",
       "      <td>3.0</td>\n",
       "      <td>0.5</td>\n",
       "      <td>2.00</td>\n",
       "      <td>0.0</td>\n",
       "      <td>25.80</td>\n",
       "      <td>2.5</td>\n",
       "      <td>19</td>\n",
       "      <td>1</td>\n",
       "      <td>...</td>\n",
       "      <td>0</td>\n",
       "      <td>0</td>\n",
       "      <td>0</td>\n",
       "      <td>0</td>\n",
       "      <td>1</td>\n",
       "      <td>0</td>\n",
       "      <td>1</td>\n",
       "      <td>0</td>\n",
       "      <td>0</td>\n",
       "      <td>0</td>\n",
       "    </tr>\n",
       "    <tr>\n",
       "      <th>645015</th>\n",
       "      <td>1.0</td>\n",
       "      <td>3.02</td>\n",
       "      <td>1.0</td>\n",
       "      <td>0.5</td>\n",
       "      <td>1.78</td>\n",
       "      <td>0.0</td>\n",
       "      <td>19.58</td>\n",
       "      <td>2.5</td>\n",
       "      <td>6</td>\n",
       "      <td>17</td>\n",
       "      <td>...</td>\n",
       "      <td>1</td>\n",
       "      <td>0</td>\n",
       "      <td>0</td>\n",
       "      <td>1</td>\n",
       "      <td>0</td>\n",
       "      <td>0</td>\n",
       "      <td>1</td>\n",
       "      <td>0</td>\n",
       "      <td>0</td>\n",
       "      <td>0</td>\n",
       "    </tr>\n",
       "    <tr>\n",
       "      <th>1752107</th>\n",
       "      <td>1.0</td>\n",
       "      <td>3.53</td>\n",
       "      <td>0.5</td>\n",
       "      <td>0.5</td>\n",
       "      <td>2.74</td>\n",
       "      <td>0.0</td>\n",
       "      <td>21.04</td>\n",
       "      <td>2.5</td>\n",
       "      <td>15</td>\n",
       "      <td>22</td>\n",
       "      <td>...</td>\n",
       "      <td>0</td>\n",
       "      <td>0</td>\n",
       "      <td>0</td>\n",
       "      <td>0</td>\n",
       "      <td>0</td>\n",
       "      <td>0</td>\n",
       "      <td>1</td>\n",
       "      <td>0</td>\n",
       "      <td>0</td>\n",
       "      <td>0</td>\n",
       "    </tr>\n",
       "  </tbody>\n",
       "</table>\n",
       "<p>5 rows × 34 columns</p>\n",
       "</div>"
      ],
      "text/plain": [
       "         passenger_count  trip_distance  extra  mta_tax  tip_amount  \\\n",
       "11293                1.0           1.75    0.0      0.5        2.00   \n",
       "3241804              1.0           9.16    0.0      0.5        0.00   \n",
       "2122208              1.0           5.00    3.0      0.5        2.00   \n",
       "645015               1.0           3.02    1.0      0.5        1.78   \n",
       "1752107              1.0           3.53    0.5      0.5        2.74   \n",
       "\n",
       "         tolls_amount  total_amount  congestion_surcharge  day  hours  ...  \\\n",
       "11293             0.0         14.80                   2.5    1      8  ...   \n",
       "3241804           0.0         39.30                   2.5   29     12  ...   \n",
       "2122208           0.0         25.80                   2.5   19      1  ...   \n",
       "645015            0.0         19.58                   2.5    6     17  ...   \n",
       "1752107           0.0         21.04                   2.5   15     22  ...   \n",
       "\n",
       "         day_cat_starting_of_month  hours_cat_afternoon  \\\n",
       "11293                            1                    0   \n",
       "3241804                          0                    1   \n",
       "2122208                          0                    0   \n",
       "645015                           1                    0   \n",
       "1752107                          0                    0   \n",
       "\n",
       "         hours_cat_early morning  hours_cat_evening  hours_cat_midNight  \\\n",
       "11293                          0                  0                   0   \n",
       "3241804                        0                  0                   0   \n",
       "2122208                        0                  0                   1   \n",
       "645015                         0                  1                   0   \n",
       "1752107                        0                  0                   0   \n",
       "\n",
       "         hours_cat_morning  time_category_duration_bt_0_30m  \\\n",
       "11293                    1                                0   \n",
       "3241804                  0                                0   \n",
       "2122208                  0                                1   \n",
       "645015                   0                                1   \n",
       "1752107                  0                                1   \n",
       "\n",
       "         time_category_duration_bt_30_60m  time_category_duration_bt_60_120m  \\\n",
       "11293                                   0                                  0   \n",
       "3241804                                 1                                  0   \n",
       "2122208                                 0                                  0   \n",
       "645015                                  0                                  0   \n",
       "1752107                                 0                                  0   \n",
       "\n",
       "         time_category_duration_morethan_120  \n",
       "11293                                      0  \n",
       "3241804                                    0  \n",
       "2122208                                    0  \n",
       "645015                                     0  \n",
       "1752107                                    0  \n",
       "\n",
       "[5 rows x 34 columns]"
      ]
     },
     "execution_count": 127,
     "metadata": {},
     "output_type": "execute_result"
    }
   ],
   "source": [
    "final.head()"
   ]
  },
  {
   "cell_type": "markdown",
   "id": "c00f9d61",
   "metadata": {},
   "source": [
    "#### Model Development"
   ]
  },
  {
   "cell_type": "markdown",
   "id": "5f947c90",
   "metadata": {},
   "source": [
    "##### Here Model is RandomForestRegressor"
   ]
  },
  {
   "cell_type": "code",
   "execution_count": 128,
   "id": "20296f0a",
   "metadata": {},
   "outputs": [],
   "source": [
    "from sklearn.ensemble import RandomForestRegressor\n",
    "from sklearn.model_selection import GridSearchCV , train_test_split, RandomizedSearchCV"
   ]
  },
  {
   "cell_type": "code",
   "execution_count": 129,
   "id": "7dbcc872",
   "metadata": {},
   "outputs": [],
   "source": [
    "y=final['total_amount']\n",
    "x=final.drop(columns=['total_amount','trip_distance'])"
   ]
  },
  {
   "cell_type": "code",
   "execution_count": 130,
   "id": "b93a73fe",
   "metadata": {},
   "outputs": [],
   "source": [
    "x_train,x_test,y_train,y_test=train_test_split(x,y,test_size=0.3,random_state=0)"
   ]
  },
  {
   "cell_type": "code",
   "execution_count": 131,
   "id": "4f1ef737",
   "metadata": {},
   "outputs": [
    {
     "data": {
      "text/plain": [
       "RandomForestRegressor()"
      ]
     },
     "execution_count": 131,
     "metadata": {},
     "output_type": "execute_result"
    }
   ],
   "source": [
    "rfr=RandomForestRegressor()\n",
    "rfr.fit(x_train,y_train)"
   ]
  },
  {
   "cell_type": "code",
   "execution_count": 132,
   "id": "bf4003a4",
   "metadata": {},
   "outputs": [
    {
     "name": "stdout",
     "output_type": "stream",
     "text": [
      "Train_score 0.9953556146867687\n",
      "Test_score 0.9684641907087745\n"
     ]
    }
   ],
   "source": [
    "print('Train_score',rfr.score(x_train,y_train))\n",
    "print('Test_score',rfr.score(x_test,y_test))"
   ]
  },
  {
   "cell_type": "markdown",
   "id": "d74bef3f",
   "metadata": {},
   "source": [
    "this is too good to handle therefore we go for gridSearch"
   ]
  },
  {
   "cell_type": "code",
   "execution_count": 133,
   "id": "9cd78f91",
   "metadata": {},
   "outputs": [
    {
     "data": {
      "text/plain": [
       "array([81.12  , 12.445 , 45.0304, ..., 14.67  , 14.16  , 24.2074])"
      ]
     },
     "execution_count": 133,
     "metadata": {},
     "output_type": "execute_result"
    }
   ],
   "source": [
    "pred_train=rfr.predict(x_train)\n",
    "pred_train"
   ]
  },
  {
   "cell_type": "code",
   "execution_count": 134,
   "id": "f801f582",
   "metadata": {},
   "outputs": [
    {
     "data": {
      "text/plain": [
       "array([13.544 , 79.2896, 12.36  , ..., 77.3759,  9.6493, 16.8161])"
      ]
     },
     "execution_count": 134,
     "metadata": {},
     "output_type": "execute_result"
    }
   ],
   "source": [
    "pred_test=rfr.predict(x_test)\n",
    "pred_test"
   ]
  },
  {
   "cell_type": "code",
   "execution_count": null,
   "id": "b927959d",
   "metadata": {},
   "outputs": [],
   "source": []
  },
  {
   "cell_type": "code",
   "execution_count": null,
   "id": "d0c2c810",
   "metadata": {},
   "outputs": [],
   "source": []
  },
  {
   "cell_type": "code",
   "execution_count": null,
   "id": "88cc462f",
   "metadata": {},
   "outputs": [],
   "source": []
  },
  {
   "cell_type": "code",
   "execution_count": 135,
   "id": "369d795a",
   "metadata": {},
   "outputs": [
    {
     "name": "stdout",
     "output_type": "stream",
     "text": [
      "Train MSE 1.1844320162497348\n",
      "Train rmse 1.0883161380084994\n",
      "Train MAE 0.4221275572043078\n",
      "Train MAPE 0.018848501445363732\n"
     ]
    }
   ],
   "source": [
    "# for train data \n",
    "print(\"Train MSE\", np.mean((pred_train-y_train)**(2)))\n",
    "print(\"Train rmse\", np.sqrt(np.mean((pred_train-y_train)**(2))))\n",
    "print(\"Train MAE\",  np.mean(np.abs(pred_train-y_train)))\n",
    "print(\"Train MAPE\",  np.mean(np.abs((pred_train-y_train)/y_train)))"
   ]
  },
  {
   "cell_type": "code",
   "execution_count": 136,
   "id": "8f7ea37e",
   "metadata": {},
   "outputs": [
    {
     "name": "stdout",
     "output_type": "stream",
     "text": [
      "Test MSE 7.960281081658292\n",
      "Test rmse 2.821397008869594\n",
      "Test MAE 1.1270880428690546\n",
      "Test MAPE 0.049920276056730085\n"
     ]
    }
   ],
   "source": [
    "# for test data \n",
    "print(\"Test MSE\", np.mean((pred_test-y_test)**(2)))\n",
    "print(\"Test rmse\", np.sqrt(np.mean((pred_test-y_test)**(2))))\n",
    "print(\"Test MAE\",  np.mean(np.abs(pred_test-y_test)))\n",
    "print(\"Test MAPE\",  np.mean(np.abs((pred_test-y_test)/y_test)))"
   ]
  },
  {
   "cell_type": "code",
   "execution_count": null,
   "id": "4e3635d3",
   "metadata": {},
   "outputs": [],
   "source": []
  },
  {
   "cell_type": "code",
   "execution_count": null,
   "id": "9d9b7a84",
   "metadata": {},
   "outputs": [],
   "source": []
  },
  {
   "cell_type": "code",
   "execution_count": null,
   "id": "291d7540",
   "metadata": {},
   "outputs": [],
   "source": []
  },
  {
   "cell_type": "code",
   "execution_count": null,
   "id": "c0afca67",
   "metadata": {},
   "outputs": [],
   "source": []
  }
 ],
 "metadata": {
  "kernelspec": {
   "display_name": "Python 3 (ipykernel)",
   "language": "python",
   "name": "python3"
  },
  "language_info": {
   "codemirror_mode": {
    "name": "ipython",
    "version": 3
   },
   "file_extension": ".py",
   "mimetype": "text/x-python",
   "name": "python",
   "nbconvert_exporter": "python",
   "pygments_lexer": "ipython3",
   "version": "3.9.12"
  }
 },
 "nbformat": 4,
 "nbformat_minor": 5
}
