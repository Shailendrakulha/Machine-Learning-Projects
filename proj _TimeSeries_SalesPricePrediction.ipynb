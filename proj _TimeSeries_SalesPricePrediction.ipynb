{
 "cells": [
  {
   "cell_type": "code",
   "execution_count": 1,
   "id": "26695a7d",
   "metadata": {},
   "outputs": [],
   "source": [
    "import os\n",
    "import pandas as pd\n",
    "import numpy as np"
   ]
  },
  {
   "cell_type": "code",
   "execution_count": 2,
   "id": "4616ba2b",
   "metadata": {},
   "outputs": [],
   "source": [
    "df=pd.read_csv(r'E:\\TimeSeriesData\\Data.csv',encoding='latin-1')"
   ]
  },
  {
   "cell_type": "markdown",
   "id": "7cf9c72e",
   "metadata": {},
   "source": [
    "variable ie order id and Sales of furniture are of interest"
   ]
  },
  {
   "cell_type": "code",
   "execution_count": 3,
   "id": "523ffb4b",
   "metadata": {},
   "outputs": [
    {
     "data": {
      "text/html": [
       "<div>\n",
       "<style scoped>\n",
       "    .dataframe tbody tr th:only-of-type {\n",
       "        vertical-align: middle;\n",
       "    }\n",
       "\n",
       "    .dataframe tbody tr th {\n",
       "        vertical-align: top;\n",
       "    }\n",
       "\n",
       "    .dataframe thead th {\n",
       "        text-align: right;\n",
       "    }\n",
       "</style>\n",
       "<table border=\"1\" class=\"dataframe\">\n",
       "  <thead>\n",
       "    <tr style=\"text-align: right;\">\n",
       "      <th></th>\n",
       "      <th>Row ID</th>\n",
       "      <th>Order ID</th>\n",
       "      <th>Order Date</th>\n",
       "      <th>Ship Date</th>\n",
       "      <th>Ship Mode</th>\n",
       "      <th>Customer ID</th>\n",
       "      <th>Customer Name</th>\n",
       "      <th>Segment</th>\n",
       "      <th>Country</th>\n",
       "      <th>City</th>\n",
       "      <th>...</th>\n",
       "      <th>Postal Code</th>\n",
       "      <th>Region</th>\n",
       "      <th>Product ID</th>\n",
       "      <th>Category</th>\n",
       "      <th>Sub-Category</th>\n",
       "      <th>Product Name</th>\n",
       "      <th>Sales</th>\n",
       "      <th>Quantity</th>\n",
       "      <th>Discount</th>\n",
       "      <th>Profit</th>\n",
       "    </tr>\n",
       "  </thead>\n",
       "  <tbody>\n",
       "    <tr>\n",
       "      <th>0</th>\n",
       "      <td>1</td>\n",
       "      <td>CA-2016-152156</td>\n",
       "      <td>11-08-2016</td>\n",
       "      <td>11-11-2016</td>\n",
       "      <td>Second Class</td>\n",
       "      <td>CG-12520</td>\n",
       "      <td>Claire Gute</td>\n",
       "      <td>Consumer</td>\n",
       "      <td>United States</td>\n",
       "      <td>Henderson</td>\n",
       "      <td>...</td>\n",
       "      <td>42420</td>\n",
       "      <td>South</td>\n",
       "      <td>FUR-BO-10001798</td>\n",
       "      <td>Furniture</td>\n",
       "      <td>Bookcases</td>\n",
       "      <td>Bush Somerset Collection Bookcase</td>\n",
       "      <td>261.9600</td>\n",
       "      <td>2</td>\n",
       "      <td>0.00</td>\n",
       "      <td>41.9136</td>\n",
       "    </tr>\n",
       "    <tr>\n",
       "      <th>1</th>\n",
       "      <td>2</td>\n",
       "      <td>CA-2016-152156</td>\n",
       "      <td>11-08-2016</td>\n",
       "      <td>11-11-2016</td>\n",
       "      <td>Second Class</td>\n",
       "      <td>CG-12520</td>\n",
       "      <td>Claire Gute</td>\n",
       "      <td>Consumer</td>\n",
       "      <td>United States</td>\n",
       "      <td>Henderson</td>\n",
       "      <td>...</td>\n",
       "      <td>42420</td>\n",
       "      <td>South</td>\n",
       "      <td>FUR-CH-10000454</td>\n",
       "      <td>Furniture</td>\n",
       "      <td>Chairs</td>\n",
       "      <td>Hon Deluxe Fabric Upholstered Stacking Chairs,...</td>\n",
       "      <td>731.9400</td>\n",
       "      <td>3</td>\n",
       "      <td>0.00</td>\n",
       "      <td>219.5820</td>\n",
       "    </tr>\n",
       "    <tr>\n",
       "      <th>2</th>\n",
       "      <td>4</td>\n",
       "      <td>US-2015-108966</td>\n",
       "      <td>10-11-2015</td>\n",
       "      <td>10/18/2015</td>\n",
       "      <td>Standard Class</td>\n",
       "      <td>SO-20335</td>\n",
       "      <td>Sean O'Donnell</td>\n",
       "      <td>Consumer</td>\n",
       "      <td>United States</td>\n",
       "      <td>Fort Lauderdale</td>\n",
       "      <td>...</td>\n",
       "      <td>33311</td>\n",
       "      <td>South</td>\n",
       "      <td>FUR-TA-10000577</td>\n",
       "      <td>Furniture</td>\n",
       "      <td>Tables</td>\n",
       "      <td>Bretford CR4500 Series Slim Rectangular Table</td>\n",
       "      <td>957.5775</td>\n",
       "      <td>5</td>\n",
       "      <td>0.45</td>\n",
       "      <td>-383.0310</td>\n",
       "    </tr>\n",
       "  </tbody>\n",
       "</table>\n",
       "<p>3 rows × 21 columns</p>\n",
       "</div>"
      ],
      "text/plain": [
       "   Row ID        Order ID  Order Date   Ship Date       Ship Mode Customer ID  \\\n",
       "0       1  CA-2016-152156  11-08-2016  11-11-2016    Second Class    CG-12520   \n",
       "1       2  CA-2016-152156  11-08-2016  11-11-2016    Second Class    CG-12520   \n",
       "2       4  US-2015-108966  10-11-2015  10/18/2015  Standard Class    SO-20335   \n",
       "\n",
       "    Customer Name   Segment        Country             City  ... Postal Code  \\\n",
       "0     Claire Gute  Consumer  United States        Henderson  ...       42420   \n",
       "1     Claire Gute  Consumer  United States        Henderson  ...       42420   \n",
       "2  Sean O'Donnell  Consumer  United States  Fort Lauderdale  ...       33311   \n",
       "\n",
       "   Region       Product ID   Category Sub-Category  \\\n",
       "0   South  FUR-BO-10001798  Furniture    Bookcases   \n",
       "1   South  FUR-CH-10000454  Furniture       Chairs   \n",
       "2   South  FUR-TA-10000577  Furniture       Tables   \n",
       "\n",
       "                                        Product Name     Sales  Quantity  \\\n",
       "0                  Bush Somerset Collection Bookcase  261.9600         2   \n",
       "1  Hon Deluxe Fabric Upholstered Stacking Chairs,...  731.9400         3   \n",
       "2      Bretford CR4500 Series Slim Rectangular Table  957.5775         5   \n",
       "\n",
       "   Discount    Profit  \n",
       "0      0.00   41.9136  \n",
       "1      0.00  219.5820  \n",
       "2      0.45 -383.0310  \n",
       "\n",
       "[3 rows x 21 columns]"
      ]
     },
     "execution_count": 3,
     "metadata": {},
     "output_type": "execute_result"
    }
   ],
   "source": [
    "df.head(3)"
   ]
  },
  {
   "cell_type": "code",
   "execution_count": 4,
   "id": "47e28362",
   "metadata": {},
   "outputs": [],
   "source": [
    "df_furniture=df[df['Category']=='Furniture']"
   ]
  },
  {
   "cell_type": "code",
   "execution_count": 6,
   "id": "95f3e051",
   "metadata": {},
   "outputs": [
    {
     "data": {
      "text/plain": [
       "Furniture    2121\n",
       "Name: Category, dtype: int64"
      ]
     },
     "execution_count": 6,
     "metadata": {},
     "output_type": "execute_result"
    }
   ],
   "source": [
    "df['Category'].value_counts()"
   ]
  },
  {
   "cell_type": "code",
   "execution_count": 7,
   "id": "093e3a6b",
   "metadata": {},
   "outputs": [],
   "source": [
    "Yt_data=df[['Order Date','Sales']]"
   ]
  },
  {
   "cell_type": "code",
   "execution_count": 8,
   "id": "b621e974",
   "metadata": {},
   "outputs": [
    {
     "data": {
      "text/plain": [
       "(2121, 2)"
      ]
     },
     "execution_count": 8,
     "metadata": {},
     "output_type": "execute_result"
    }
   ],
   "source": [
    "Yt_data.shape"
   ]
  },
  {
   "cell_type": "code",
   "execution_count": 9,
   "id": "5ea8ed1d",
   "metadata": {},
   "outputs": [
    {
     "data": {
      "text/html": [
       "<div>\n",
       "<style scoped>\n",
       "    .dataframe tbody tr th:only-of-type {\n",
       "        vertical-align: middle;\n",
       "    }\n",
       "\n",
       "    .dataframe tbody tr th {\n",
       "        vertical-align: top;\n",
       "    }\n",
       "\n",
       "    .dataframe thead th {\n",
       "        text-align: right;\n",
       "    }\n",
       "</style>\n",
       "<table border=\"1\" class=\"dataframe\">\n",
       "  <thead>\n",
       "    <tr style=\"text-align: right;\">\n",
       "      <th></th>\n",
       "      <th>Order Date</th>\n",
       "      <th>Sales</th>\n",
       "    </tr>\n",
       "  </thead>\n",
       "  <tbody>\n",
       "    <tr>\n",
       "      <th>0</th>\n",
       "      <td>11-08-2016</td>\n",
       "      <td>261.9600</td>\n",
       "    </tr>\n",
       "    <tr>\n",
       "      <th>1</th>\n",
       "      <td>11-08-2016</td>\n",
       "      <td>731.9400</td>\n",
       "    </tr>\n",
       "    <tr>\n",
       "      <th>2</th>\n",
       "      <td>10-11-2015</td>\n",
       "      <td>957.5775</td>\n",
       "    </tr>\n",
       "    <tr>\n",
       "      <th>3</th>\n",
       "      <td>06-09-2014</td>\n",
       "      <td>48.8600</td>\n",
       "    </tr>\n",
       "    <tr>\n",
       "      <th>4</th>\n",
       "      <td>06-09-2014</td>\n",
       "      <td>1706.1840</td>\n",
       "    </tr>\n",
       "    <tr>\n",
       "      <th>5</th>\n",
       "      <td>7/16/2017</td>\n",
       "      <td>71.3720</td>\n",
       "    </tr>\n",
       "    <tr>\n",
       "      <th>6</th>\n",
       "      <td>9/25/2015</td>\n",
       "      <td>1044.6300</td>\n",
       "    </tr>\n",
       "    <tr>\n",
       "      <th>7</th>\n",
       "      <td>9/17/2015</td>\n",
       "      <td>3083.4300</td>\n",
       "    </tr>\n",
       "    <tr>\n",
       "      <th>8</th>\n",
       "      <td>9/17/2015</td>\n",
       "      <td>124.2000</td>\n",
       "    </tr>\n",
       "    <tr>\n",
       "      <th>9</th>\n",
       "      <td>12-08-2016</td>\n",
       "      <td>190.9200</td>\n",
       "    </tr>\n",
       "  </tbody>\n",
       "</table>\n",
       "</div>"
      ],
      "text/plain": [
       "   Order Date      Sales\n",
       "0  11-08-2016   261.9600\n",
       "1  11-08-2016   731.9400\n",
       "2  10-11-2015   957.5775\n",
       "3  06-09-2014    48.8600\n",
       "4  06-09-2014  1706.1840\n",
       "5   7/16/2017    71.3720\n",
       "6   9/25/2015  1044.6300\n",
       "7   9/17/2015  3083.4300\n",
       "8   9/17/2015   124.2000\n",
       "9  12-08-2016   190.9200"
      ]
     },
     "execution_count": 9,
     "metadata": {},
     "output_type": "execute_result"
    }
   ],
   "source": [
    "Yt_data.head(10)"
   ]
  },
  {
   "cell_type": "code",
   "execution_count": 10,
   "id": "79a6590b",
   "metadata": {},
   "outputs": [
    {
     "data": {
      "text/plain": [
       "Order Date     object\n",
       "Sales         float64\n",
       "dtype: object"
      ]
     },
     "execution_count": 10,
     "metadata": {},
     "output_type": "execute_result"
    }
   ],
   "source": [
    "Yt_data.dtypes"
   ]
  },
  {
   "cell_type": "code",
   "execution_count": 11,
   "id": "04dee7ed",
   "metadata": {},
   "outputs": [
    {
     "name": "stderr",
     "output_type": "stream",
     "text": [
      "C:\\Users\\sony\\AppData\\Local\\Temp\\ipykernel_8472\\3798879652.py:1: SettingWithCopyWarning: \n",
      "A value is trying to be set on a copy of a slice from a DataFrame.\n",
      "Try using .loc[row_indexer,col_indexer] = value instead\n",
      "\n",
      "See the caveats in the documentation: https://pandas.pydata.org/pandas-docs/stable/user_guide/indexing.html#returning-a-view-versus-a-copy\n",
      "  Yt_data['order_date']=pd.to_datetime(Yt_data['Order Date'])\n"
     ]
    }
   ],
   "source": [
    "Yt_data['order_date']=pd.to_datetime(Yt_data['Order Date'])"
   ]
  },
  {
   "cell_type": "code",
   "execution_count": 12,
   "id": "4a466ca6",
   "metadata": {},
   "outputs": [
    {
     "data": {
      "text/plain": [
       "Order Date            object\n",
       "Sales                float64\n",
       "order_date    datetime64[ns]\n",
       "dtype: object"
      ]
     },
     "execution_count": 12,
     "metadata": {},
     "output_type": "execute_result"
    }
   ],
   "source": [
    "Yt_data.dtypes"
   ]
  },
  {
   "cell_type": "code",
   "execution_count": 13,
   "id": "11696f8a",
   "metadata": {},
   "outputs": [
    {
     "name": "stderr",
     "output_type": "stream",
     "text": [
      "C:\\Users\\sony\\AppData\\Local\\Temp\\ipykernel_8472\\3144707936.py:1: SettingWithCopyWarning: \n",
      "A value is trying to be set on a copy of a slice from a DataFrame\n",
      "\n",
      "See the caveats in the documentation: https://pandas.pydata.org/pandas-docs/stable/user_guide/indexing.html#returning-a-view-versus-a-copy\n",
      "  Yt_data.drop(columns=['Order Date'],inplace=True)\n"
     ]
    }
   ],
   "source": [
    "Yt_data.drop(columns=['Order Date'],inplace=True)"
   ]
  },
  {
   "cell_type": "code",
   "execution_count": 14,
   "id": "12b7725a",
   "metadata": {},
   "outputs": [
    {
     "data": {
      "text/plain": [
       "Sales         0\n",
       "order_date    0\n",
       "dtype: int64"
      ]
     },
     "execution_count": 14,
     "metadata": {},
     "output_type": "execute_result"
    }
   ],
   "source": [
    "Yt_data.isnull().sum()"
   ]
  },
  {
   "cell_type": "markdown",
   "id": "2757ce49",
   "metadata": {},
   "source": [
    "NO repeatation of Date is allowed therefore doing following coding"
   ]
  },
  {
   "cell_type": "code",
   "execution_count": 15,
   "id": "40378fe1",
   "metadata": {},
   "outputs": [],
   "source": [
    "Yt_data1=Yt_data.groupby('order_date')['Sales'].sum().reset_index()"
   ]
  },
  {
   "cell_type": "code",
   "execution_count": 16,
   "id": "4affcc7f",
   "metadata": {},
   "outputs": [
    {
     "data": {
      "text/html": [
       "<div>\n",
       "<style scoped>\n",
       "    .dataframe tbody tr th:only-of-type {\n",
       "        vertical-align: middle;\n",
       "    }\n",
       "\n",
       "    .dataframe tbody tr th {\n",
       "        vertical-align: top;\n",
       "    }\n",
       "\n",
       "    .dataframe thead th {\n",
       "        text-align: right;\n",
       "    }\n",
       "</style>\n",
       "<table border=\"1\" class=\"dataframe\">\n",
       "  <thead>\n",
       "    <tr style=\"text-align: right;\">\n",
       "      <th></th>\n",
       "      <th>Sales</th>\n",
       "      <th>order_date</th>\n",
       "    </tr>\n",
       "  </thead>\n",
       "  <tbody>\n",
       "    <tr>\n",
       "      <th>0</th>\n",
       "      <td>261.96</td>\n",
       "      <td>2016-11-08</td>\n",
       "    </tr>\n",
       "    <tr>\n",
       "      <th>1</th>\n",
       "      <td>731.94</td>\n",
       "      <td>2016-11-08</td>\n",
       "    </tr>\n",
       "  </tbody>\n",
       "</table>\n",
       "</div>"
      ],
      "text/plain": [
       "    Sales order_date\n",
       "0  261.96 2016-11-08\n",
       "1  731.94 2016-11-08"
      ]
     },
     "execution_count": 16,
     "metadata": {},
     "output_type": "execute_result"
    }
   ],
   "source": [
    "Yt_data.head(2)"
   ]
  },
  {
   "cell_type": "code",
   "execution_count": 17,
   "id": "630ba49b",
   "metadata": {},
   "outputs": [
    {
     "data": {
      "text/html": [
       "<div>\n",
       "<style scoped>\n",
       "    .dataframe tbody tr th:only-of-type {\n",
       "        vertical-align: middle;\n",
       "    }\n",
       "\n",
       "    .dataframe tbody tr th {\n",
       "        vertical-align: top;\n",
       "    }\n",
       "\n",
       "    .dataframe thead th {\n",
       "        text-align: right;\n",
       "    }\n",
       "</style>\n",
       "<table border=\"1\" class=\"dataframe\">\n",
       "  <thead>\n",
       "    <tr style=\"text-align: right;\">\n",
       "      <th></th>\n",
       "      <th>order_date</th>\n",
       "      <th>Sales</th>\n",
       "    </tr>\n",
       "  </thead>\n",
       "  <tbody>\n",
       "    <tr>\n",
       "      <th>0</th>\n",
       "      <td>2014-01-06</td>\n",
       "      <td>2573.820</td>\n",
       "    </tr>\n",
       "    <tr>\n",
       "      <th>1</th>\n",
       "      <td>2014-01-07</td>\n",
       "      <td>76.728</td>\n",
       "    </tr>\n",
       "  </tbody>\n",
       "</table>\n",
       "</div>"
      ],
      "text/plain": [
       "  order_date     Sales\n",
       "0 2014-01-06  2573.820\n",
       "1 2014-01-07    76.728"
      ]
     },
     "execution_count": 17,
     "metadata": {},
     "output_type": "execute_result"
    }
   ],
   "source": [
    "Yt_data1.head(2)"
   ]
  },
  {
   "cell_type": "code",
   "execution_count": 18,
   "id": "a0969d43",
   "metadata": {},
   "outputs": [],
   "source": [
    "Yt_data1.sort_values(by='order_date',inplace=True)"
   ]
  },
  {
   "cell_type": "code",
   "execution_count": 19,
   "id": "390b5b8e",
   "metadata": {},
   "outputs": [
    {
     "data": {
      "text/plain": [
       "(889, 2)"
      ]
     },
     "execution_count": 19,
     "metadata": {},
     "output_type": "execute_result"
    }
   ],
   "source": [
    "Yt_data1.shape"
   ]
  },
  {
   "cell_type": "code",
   "execution_count": 20,
   "id": "744c8aeb",
   "metadata": {},
   "outputs": [
    {
     "data": {
      "text/plain": [
       "order_date    2017-12-30 00:00:00\n",
       "Sales                   10006.174\n",
       "dtype: object"
      ]
     },
     "execution_count": 20,
     "metadata": {},
     "output_type": "execute_result"
    }
   ],
   "source": [
    "Yt_data1.max()"
   ]
  },
  {
   "cell_type": "code",
   "execution_count": 21,
   "id": "828edde1",
   "metadata": {},
   "outputs": [
    {
     "data": {
      "text/plain": [
       "order_date    2014-01-06 00:00:00\n",
       "Sales                       1.988\n",
       "dtype: object"
      ]
     },
     "execution_count": 21,
     "metadata": {},
     "output_type": "execute_result"
    }
   ],
   "source": [
    "Yt_data1.min()"
   ]
  },
  {
   "cell_type": "code",
   "execution_count": 21,
   "id": "4234ffc0",
   "metadata": {},
   "outputs": [
    {
     "data": {
      "text/plain": [
       "1460"
      ]
     },
     "execution_count": 21,
     "metadata": {},
     "output_type": "execute_result"
    }
   ],
   "source": [
    "4*365"
   ]
  },
  {
   "cell_type": "code",
   "execution_count": 22,
   "id": "0922ac97",
   "metadata": {},
   "outputs": [
    {
     "data": {
      "text/plain": [
       "571"
      ]
     },
     "execution_count": 22,
     "metadata": {},
     "output_type": "execute_result"
    }
   ],
   "source": [
    "1460-889"
   ]
  },
  {
   "cell_type": "code",
   "execution_count": 24,
   "id": "4a190fd4",
   "metadata": {},
   "outputs": [
    {
     "data": {
      "text/html": [
       "<div>\n",
       "<style scoped>\n",
       "    .dataframe tbody tr th:only-of-type {\n",
       "        vertical-align: middle;\n",
       "    }\n",
       "\n",
       "    .dataframe tbody tr th {\n",
       "        vertical-align: top;\n",
       "    }\n",
       "\n",
       "    .dataframe thead th {\n",
       "        text-align: right;\n",
       "    }\n",
       "</style>\n",
       "<table border=\"1\" class=\"dataframe\">\n",
       "  <thead>\n",
       "    <tr style=\"text-align: right;\">\n",
       "      <th></th>\n",
       "      <th>order_date</th>\n",
       "      <th>Sales</th>\n",
       "    </tr>\n",
       "  </thead>\n",
       "  <tbody>\n",
       "    <tr>\n",
       "      <th>0</th>\n",
       "      <td>2014-01-06</td>\n",
       "      <td>2573.8200</td>\n",
       "    </tr>\n",
       "    <tr>\n",
       "      <th>1</th>\n",
       "      <td>2014-01-07</td>\n",
       "      <td>76.7280</td>\n",
       "    </tr>\n",
       "    <tr>\n",
       "      <th>2</th>\n",
       "      <td>2014-01-10</td>\n",
       "      <td>51.9400</td>\n",
       "    </tr>\n",
       "    <tr>\n",
       "      <th>3</th>\n",
       "      <td>2014-01-11</td>\n",
       "      <td>9.9400</td>\n",
       "    </tr>\n",
       "    <tr>\n",
       "      <th>4</th>\n",
       "      <td>2014-01-13</td>\n",
       "      <td>879.9390</td>\n",
       "    </tr>\n",
       "    <tr>\n",
       "      <th>...</th>\n",
       "      <td>...</td>\n",
       "      <td>...</td>\n",
       "    </tr>\n",
       "    <tr>\n",
       "      <th>884</th>\n",
       "      <td>2017-12-24</td>\n",
       "      <td>1393.4940</td>\n",
       "    </tr>\n",
       "    <tr>\n",
       "      <th>885</th>\n",
       "      <td>2017-12-25</td>\n",
       "      <td>832.4540</td>\n",
       "    </tr>\n",
       "    <tr>\n",
       "      <th>886</th>\n",
       "      <td>2017-12-28</td>\n",
       "      <td>551.2568</td>\n",
       "    </tr>\n",
       "    <tr>\n",
       "      <th>887</th>\n",
       "      <td>2017-12-29</td>\n",
       "      <td>2330.7180</td>\n",
       "    </tr>\n",
       "    <tr>\n",
       "      <th>888</th>\n",
       "      <td>2017-12-30</td>\n",
       "      <td>323.1360</td>\n",
       "    </tr>\n",
       "  </tbody>\n",
       "</table>\n",
       "<p>889 rows × 2 columns</p>\n",
       "</div>"
      ],
      "text/plain": [
       "    order_date      Sales\n",
       "0   2014-01-06  2573.8200\n",
       "1   2014-01-07    76.7280\n",
       "2   2014-01-10    51.9400\n",
       "3   2014-01-11     9.9400\n",
       "4   2014-01-13   879.9390\n",
       "..         ...        ...\n",
       "884 2017-12-24  1393.4940\n",
       "885 2017-12-25   832.4540\n",
       "886 2017-12-28   551.2568\n",
       "887 2017-12-29  2330.7180\n",
       "888 2017-12-30   323.1360\n",
       "\n",
       "[889 rows x 2 columns]"
      ]
     },
     "execution_count": 24,
     "metadata": {},
     "output_type": "execute_result"
    }
   ],
   "source": [
    "Yt_data1"
   ]
  },
  {
   "cell_type": "markdown",
   "id": "a13c5080",
   "metadata": {},
   "source": [
    "since there are missing sales Dates therefore we would fill it by taking average of weekly sales or monthly sales and then filling the misssing values \n",
    "* for Stock market data we will take weekly average"
   ]
  },
  {
   "cell_type": "code",
   "execution_count": 25,
   "id": "976edf2b",
   "metadata": {},
   "outputs": [],
   "source": [
    "Yt_data1.set_index(['order_date'],inplace=True)"
   ]
  },
  {
   "cell_type": "code",
   "execution_count": 26,
   "id": "6adeee80",
   "metadata": {},
   "outputs": [
    {
     "data": {
      "text/plain": [
       "Sales    float64\n",
       "dtype: object"
      ]
     },
     "execution_count": 26,
     "metadata": {},
     "output_type": "execute_result"
    }
   ],
   "source": [
    "Yt_data1.dtypes"
   ]
  },
  {
   "cell_type": "code",
   "execution_count": 27,
   "id": "922a6dc8",
   "metadata": {},
   "outputs": [],
   "source": [
    "Yt_data2= Yt_data1['Sales'].resample('MS').mean()"
   ]
  },
  {
   "cell_type": "code",
   "execution_count": 28,
   "id": "7669107d",
   "metadata": {},
   "outputs": [
    {
     "data": {
      "text/plain": [
       "(48,)"
      ]
     },
     "execution_count": 28,
     "metadata": {},
     "output_type": "execute_result"
    }
   ],
   "source": [
    "Yt_data2.shape"
   ]
  },
  {
   "cell_type": "markdown",
   "id": "2ae6a38e",
   "metadata": {},
   "source": [
    "### Model Develoment"
   ]
  },
  {
   "cell_type": "markdown",
   "id": "2b5deddc",
   "metadata": {},
   "source": [
    "#### Visualization"
   ]
  },
  {
   "cell_type": "code",
   "execution_count": 29,
   "id": "6902d7d3",
   "metadata": {},
   "outputs": [
    {
     "data": {
      "text/plain": [
       "<AxesSubplot:xlabel='order_date'>"
      ]
     },
     "execution_count": 29,
     "metadata": {},
     "output_type": "execute_result"
    },
    {
     "data": {
      "image/png": "[encoded data removed]",
      "text/plain": [
       "<Figure size 432x288 with 1 Axes>"
      ]
     },
     "metadata": {
      "needs_background": "light"
     },
     "output_type": "display_data"
    }
   ],
   "source": [
    "Yt_data2.plot()"
   ]
  },
  {
   "cell_type": "code",
   "execution_count": 30,
   "id": "e31d006c",
   "metadata": {},
   "outputs": [],
   "source": [
    "import matplotlib.pyplot as plt"
   ]
  },
  {
   "cell_type": "code",
   "execution_count": 31,
   "id": "e5c8310e",
   "metadata": {},
   "outputs": [
    {
     "data": {
      "text/plain": [
       "<AxesSubplot:xlabel='order_date'>"
      ]
     },
     "execution_count": 31,
     "metadata": {},
     "output_type": "execute_result"
    },
    {
     "data": {
      "image/png": "[encoded data removed]",
      "text/plain": [
       "<Figure size 1152x576 with 1 Axes>"
      ]
     },
     "metadata": {
      "needs_background": "light"
     },
     "output_type": "display_data"
    }
   ],
   "source": [
    "plt.figure(figsize=(16,8))\n",
    "Yt_data2.plot()"
   ]
  },
  {
   "cell_type": "code",
   "execution_count": 32,
   "id": "c6c080ea",
   "metadata": {},
   "outputs": [
    {
     "data": {
      "image/png": "[encoded data removed]",
      "text/plain": [
       "<Figure size 864x360 with 1 Axes>"
      ]
     },
     "metadata": {
      "needs_background": "light"
     },
     "output_type": "display_data"
    }
   ],
   "source": [
    "import matplotlib.pyplot as plt\n",
    "Yt_data2.plot(figsize=(12,5))\n",
    "\n",
    "from statsmodels.tsa.seasonal import seasonal_decompose\n",
    "decompose = seasonal_decompose(Yt_data2, model ='multiplicative',two_sided=False,extrapolate_trend=4)"
   ]
  },
  {
   "cell_type": "code",
   "execution_count": 33,
   "id": "ed9baf80",
   "metadata": {},
   "outputs": [
    {
     "data": {
      "image/png": "[encoded data removed]",
      "text/plain": [
       "<Figure size 432x288 with 4 Axes>"
      ]
     },
     "metadata": {
      "needs_background": "light"
     },
     "output_type": "display_data"
    }
   ],
   "source": [
    "decompose.plot()\n",
    "plt.show()"
   ]
  },
  {
   "cell_type": "code",
   "execution_count": 34,
   "id": "e5d60c1a",
   "metadata": {},
   "outputs": [],
   "source": [
    "# decompose.resid"
   ]
  },
  {
   "cell_type": "code",
   "execution_count": 35,
   "id": "72d70b27",
   "metadata": {},
   "outputs": [],
   "source": [
    "# decompose.trend"
   ]
  },
  {
   "cell_type": "code",
   "execution_count": 36,
   "id": "f93bfce8",
   "metadata": {},
   "outputs": [],
   "source": [
    "# decompose.seasonal"
   ]
  },
  {
   "cell_type": "code",
   "execution_count": 37,
   "id": "25e9f9dc",
   "metadata": {},
   "outputs": [
    {
     "data": {
      "text/plain": [
       "480.1942244994695"
      ]
     },
     "execution_count": 37,
     "metadata": {},
     "output_type": "execute_result"
    }
   ],
   "source": [
    "0.785191*609.910729*1.002710 # Actual=SI*Trend*It"
   ]
  },
  {
   "cell_type": "code",
   "execution_count": 38,
   "id": "576bda55",
   "metadata": {},
   "outputs": [
    {
     "data": {
      "text/html": [
       "<div>\n",
       "<style scoped>\n",
       "    .dataframe tbody tr th:only-of-type {\n",
       "        vertical-align: middle;\n",
       "    }\n",
       "\n",
       "    .dataframe tbody tr th {\n",
       "        vertical-align: top;\n",
       "    }\n",
       "\n",
       "    .dataframe thead th {\n",
       "        text-align: right;\n",
       "    }\n",
       "</style>\n",
       "<table border=\"1\" class=\"dataframe\">\n",
       "  <thead>\n",
       "    <tr style=\"text-align: right;\">\n",
       "      <th></th>\n",
       "      <th>Actual</th>\n",
       "      <th>SI</th>\n",
       "      <th>Trend</th>\n",
       "      <th>It</th>\n",
       "    </tr>\n",
       "    <tr>\n",
       "      <th>order_date</th>\n",
       "      <th></th>\n",
       "      <th></th>\n",
       "      <th></th>\n",
       "      <th></th>\n",
       "    </tr>\n",
       "  </thead>\n",
       "  <tbody>\n",
       "    <tr>\n",
       "      <th>2014-01-01</th>\n",
       "      <td>480.194231</td>\n",
       "      <td>0.785191</td>\n",
       "      <td>609.910729</td>\n",
       "      <td>1.002710</td>\n",
       "    </tr>\n",
       "    <tr>\n",
       "      <th>2014-02-01</th>\n",
       "      <td>367.931600</td>\n",
       "      <td>0.580535</td>\n",
       "      <td>621.951672</td>\n",
       "      <td>1.019019</td>\n",
       "    </tr>\n",
       "    <tr>\n",
       "      <th>2014-03-01</th>\n",
       "      <td>857.291529</td>\n",
       "      <td>0.932805</td>\n",
       "      <td>633.992615</td>\n",
       "      <td>1.449618</td>\n",
       "    </tr>\n",
       "    <tr>\n",
       "      <th>2014-04-01</th>\n",
       "      <td>567.488357</td>\n",
       "      <td>0.828757</td>\n",
       "      <td>646.033558</td>\n",
       "      <td>1.059923</td>\n",
       "    </tr>\n",
       "    <tr>\n",
       "      <th>2014-05-01</th>\n",
       "      <td>432.049188</td>\n",
       "      <td>0.784427</td>\n",
       "      <td>658.074501</td>\n",
       "      <td>0.836962</td>\n",
       "    </tr>\n",
       "    <tr>\n",
       "      <th>2014-06-01</th>\n",
       "      <td>695.059242</td>\n",
       "      <td>0.899964</td>\n",
       "      <td>670.115444</td>\n",
       "      <td>1.152516</td>\n",
       "    </tr>\n",
       "    <tr>\n",
       "      <th>2014-07-01</th>\n",
       "      <td>601.169500</td>\n",
       "      <td>0.850767</td>\n",
       "      <td>682.156387</td>\n",
       "      <td>1.035863</td>\n",
       "    </tr>\n",
       "    <tr>\n",
       "      <th>2014-08-01</th>\n",
       "      <td>457.521656</td>\n",
       "      <td>0.839583</td>\n",
       "      <td>694.197330</td>\n",
       "      <td>0.784992</td>\n",
       "    </tr>\n",
       "    <tr>\n",
       "      <th>2014-09-01</th>\n",
       "      <td>992.353367</td>\n",
       "      <td>1.478321</td>\n",
       "      <td>706.238273</td>\n",
       "      <td>0.950487</td>\n",
       "    </tr>\n",
       "    <tr>\n",
       "      <th>2014-10-01</th>\n",
       "      <td>769.015437</td>\n",
       "      <td>0.909398</td>\n",
       "      <td>718.279216</td>\n",
       "      <td>1.177302</td>\n",
       "    </tr>\n",
       "    <tr>\n",
       "      <th>2014-11-01</th>\n",
       "      <td>980.221486</td>\n",
       "      <td>1.484094</td>\n",
       "      <td>730.320159</td>\n",
       "      <td>0.904377</td>\n",
       "    </tr>\n",
       "    <tr>\n",
       "      <th>2014-12-01</th>\n",
       "      <td>1532.298325</td>\n",
       "      <td>1.626158</td>\n",
       "      <td>742.361102</td>\n",
       "      <td>1.269304</td>\n",
       "    </tr>\n",
       "    <tr>\n",
       "      <th>2015-01-01</th>\n",
       "      <td>978.328467</td>\n",
       "      <td>0.785191</td>\n",
       "      <td>748.471753</td>\n",
       "      <td>1.664691</td>\n",
       "    </tr>\n",
       "    <tr>\n",
       "      <th>2015-02-01</th>\n",
       "      <td>522.395667</td>\n",
       "      <td>0.580535</td>\n",
       "      <td>775.663349</td>\n",
       "      <td>1.160107</td>\n",
       "    </tr>\n",
       "    <tr>\n",
       "      <th>2015-03-01</th>\n",
       "      <td>781.236437</td>\n",
       "      <td>0.932805</td>\n",
       "      <td>778.930390</td>\n",
       "      <td>1.075209</td>\n",
       "    </tr>\n",
       "    <tr>\n",
       "      <th>2015-04-01</th>\n",
       "      <td>805.822962</td>\n",
       "      <td>0.828757</td>\n",
       "      <td>785.692036</td>\n",
       "      <td>1.237542</td>\n",
       "    </tr>\n",
       "    <tr>\n",
       "      <th>2015-05-01</th>\n",
       "      <td>624.996700</td>\n",
       "      <td>0.784427</td>\n",
       "      <td>803.662124</td>\n",
       "      <td>0.991407</td>\n",
       "    </tr>\n",
       "    <tr>\n",
       "      <th>2015-06-01</th>\n",
       "      <td>428.565500</td>\n",
       "      <td>0.899964</td>\n",
       "      <td>800.597698</td>\n",
       "      <td>0.594809</td>\n",
       "    </tr>\n",
       "    <tr>\n",
       "      <th>2015-07-01</th>\n",
       "      <td>719.706316</td>\n",
       "      <td>0.850767</td>\n",
       "      <td>794.432826</td>\n",
       "      <td>1.064848</td>\n",
       "    </tr>\n",
       "    <tr>\n",
       "      <th>2015-08-01</th>\n",
       "      <td>602.412012</td>\n",
       "      <td>0.839583</td>\n",
       "      <td>805.408958</td>\n",
       "      <td>0.890869</td>\n",
       "    </tr>\n",
       "    <tr>\n",
       "      <th>2015-09-01</th>\n",
       "      <td>1382.790684</td>\n",
       "      <td>1.478321</td>\n",
       "      <td>827.714278</td>\n",
       "      <td>1.130075</td>\n",
       "    </tr>\n",
       "    <tr>\n",
       "      <th>2015-10-01</th>\n",
       "      <td>632.980184</td>\n",
       "      <td>0.909398</td>\n",
       "      <td>838.314364</td>\n",
       "      <td>0.830289</td>\n",
       "    </tr>\n",
       "    <tr>\n",
       "      <th>2015-11-01</th>\n",
       "      <td>1286.701354</td>\n",
       "      <td>1.484094</td>\n",
       "      <td>845.416223</td>\n",
       "      <td>1.025524</td>\n",
       "    </tr>\n",
       "    <tr>\n",
       "      <th>2015-12-01</th>\n",
       "      <td>1049.355418</td>\n",
       "      <td>1.626158</td>\n",
       "      <td>838.063596</td>\n",
       "      <td>0.769986</td>\n",
       "    </tr>\n",
       "    <tr>\n",
       "      <th>2016-01-01</th>\n",
       "      <td>508.182867</td>\n",
       "      <td>0.785191</td>\n",
       "      <td>798.351575</td>\n",
       "      <td>0.810682</td>\n",
       "    </tr>\n",
       "    <tr>\n",
       "      <th>2016-02-01</th>\n",
       "      <td>356.868273</td>\n",
       "      <td>0.580535</td>\n",
       "      <td>771.865200</td>\n",
       "      <td>0.796413</td>\n",
       "    </tr>\n",
       "    <tr>\n",
       "      <th>2016-03-01</th>\n",
       "      <td>609.575810</td>\n",
       "      <td>0.932805</td>\n",
       "      <td>757.815699</td>\n",
       "      <td>0.862330</td>\n",
       "    </tr>\n",
       "    <tr>\n",
       "      <th>2016-04-01</th>\n",
       "      <td>695.373158</td>\n",
       "      <td>0.828757</td>\n",
       "      <td>746.061098</td>\n",
       "      <td>1.124647</td>\n",
       "    </tr>\n",
       "    <tr>\n",
       "      <th>2016-05-01</th>\n",
       "      <td>687.265227</td>\n",
       "      <td>0.784427</td>\n",
       "      <td>744.053545</td>\n",
       "      <td>1.177519</td>\n",
       "    </tr>\n",
       "    <tr>\n",
       "      <th>2016-06-01</th>\n",
       "      <td>816.910750</td>\n",
       "      <td>0.899964</td>\n",
       "      <td>762.829119</td>\n",
       "      <td>1.189932</td>\n",
       "    </tr>\n",
       "    <tr>\n",
       "      <th>2016-07-01</th>\n",
       "      <td>768.736412</td>\n",
       "      <td>0.850767</td>\n",
       "      <td>781.053092</td>\n",
       "      <td>1.156875</td>\n",
       "    </tr>\n",
       "    <tr>\n",
       "      <th>2016-08-01</th>\n",
       "      <td>734.307782</td>\n",
       "      <td>0.839583</td>\n",
       "      <td>788.591670</td>\n",
       "      <td>1.109079</td>\n",
       "    </tr>\n",
       "    <tr>\n",
       "      <th>2016-09-01</th>\n",
       "      <td>1135.953371</td>\n",
       "      <td>1.478321</td>\n",
       "      <td>783.802439</td>\n",
       "      <td>0.980359</td>\n",
       "    </tr>\n",
       "    <tr>\n",
       "      <th>2016-10-01</th>\n",
       "      <td>624.872474</td>\n",
       "      <td>0.909398</td>\n",
       "      <td>773.179729</td>\n",
       "      <td>0.888704</td>\n",
       "    </tr>\n",
       "    <tr>\n",
       "      <th>2016-11-01</th>\n",
       "      <td>1271.345152</td>\n",
       "      <td>1.484094</td>\n",
       "      <td>772.202066</td>\n",
       "      <td>1.109356</td>\n",
       "    </tr>\n",
       "    <tr>\n",
       "      <th>2016-12-01</th>\n",
       "      <td>1410.719808</td>\n",
       "      <td>1.626158</td>\n",
       "      <td>786.619074</td>\n",
       "      <td>1.102843</td>\n",
       "    </tr>\n",
       "    <tr>\n",
       "      <th>2017-01-01</th>\n",
       "      <td>397.602133</td>\n",
       "      <td>0.785191</td>\n",
       "      <td>797.068393</td>\n",
       "      <td>0.635298</td>\n",
       "    </tr>\n",
       "    <tr>\n",
       "      <th>2017-02-01</th>\n",
       "      <td>528.179800</td>\n",
       "      <td>0.580535</td>\n",
       "      <td>799.598843</td>\n",
       "      <td>1.137841</td>\n",
       "    </tr>\n",
       "    <tr>\n",
       "      <th>2017-03-01</th>\n",
       "      <td>544.672240</td>\n",
       "      <td>0.932805</td>\n",
       "      <td>804.032508</td>\n",
       "      <td>0.726224</td>\n",
       "    </tr>\n",
       "    <tr>\n",
       "      <th>2017-04-01</th>\n",
       "      <td>453.297905</td>\n",
       "      <td>0.828757</td>\n",
       "      <td>791.241723</td>\n",
       "      <td>0.691269</td>\n",
       "    </tr>\n",
       "    <tr>\n",
       "      <th>2017-05-01</th>\n",
       "      <td>678.302328</td>\n",
       "      <td>0.784427</td>\n",
       "      <td>780.781800</td>\n",
       "      <td>1.107494</td>\n",
       "    </tr>\n",
       "    <tr>\n",
       "      <th>2017-06-01</th>\n",
       "      <td>826.460291</td>\n",
       "      <td>0.899964</td>\n",
       "      <td>780.806244</td>\n",
       "      <td>1.176125</td>\n",
       "    </tr>\n",
       "    <tr>\n",
       "      <th>2017-07-01</th>\n",
       "      <td>562.524857</td>\n",
       "      <td>0.850767</td>\n",
       "      <td>772.611993</td>\n",
       "      <td>0.855795</td>\n",
       "    </tr>\n",
       "    <tr>\n",
       "      <th>2017-08-01</th>\n",
       "      <td>857.881889</td>\n",
       "      <td>0.839583</td>\n",
       "      <td>769.168766</td>\n",
       "      <td>1.328441</td>\n",
       "    </tr>\n",
       "    <tr>\n",
       "      <th>2017-09-01</th>\n",
       "      <td>1209.508583</td>\n",
       "      <td>1.478321</td>\n",
       "      <td>777.382488</td>\n",
       "      <td>1.052460</td>\n",
       "    </tr>\n",
       "    <tr>\n",
       "      <th>2017-10-01</th>\n",
       "      <td>875.362728</td>\n",
       "      <td>0.909398</td>\n",
       "      <td>790.884382</td>\n",
       "      <td>1.217086</td>\n",
       "    </tr>\n",
       "    <tr>\n",
       "      <th>2017-11-01</th>\n",
       "      <td>1277.817759</td>\n",
       "      <td>1.484094</td>\n",
       "      <td>801.591168</td>\n",
       "      <td>1.074124</td>\n",
       "    </tr>\n",
       "    <tr>\n",
       "      <th>2017-12-01</th>\n",
       "      <td>1256.298672</td>\n",
       "      <td>1.626158</td>\n",
       "      <td>795.426646</td>\n",
       "      <td>0.971248</td>\n",
       "    </tr>\n",
       "  </tbody>\n",
       "</table>\n",
       "</div>"
      ],
      "text/plain": [
       "                 Actual        SI       Trend        It\n",
       "order_date                                             \n",
       "2014-01-01   480.194231  0.785191  609.910729  1.002710\n",
       "2014-02-01   367.931600  0.580535  621.951672  1.019019\n",
       "2014-03-01   857.291529  0.932805  633.992615  1.449618\n",
       "2014-04-01   567.488357  0.828757  646.033558  1.059923\n",
       "2014-05-01   432.049188  0.784427  658.074501  0.836962\n",
       "2014-06-01   695.059242  0.899964  670.115444  1.152516\n",
       "2014-07-01   601.169500  0.850767  682.156387  1.035863\n",
       "2014-08-01   457.521656  0.839583  694.197330  0.784992\n",
       "2014-09-01   992.353367  1.478321  706.238273  0.950487\n",
       "2014-10-01   769.015437  0.909398  718.279216  1.177302\n",
       "2014-11-01   980.221486  1.484094  730.320159  0.904377\n",
       "2014-12-01  1532.298325  1.626158  742.361102  1.269304\n",
       "2015-01-01   978.328467  0.785191  748.471753  1.664691\n",
       "2015-02-01   522.395667  0.580535  775.663349  1.160107\n",
       "2015-03-01   781.236437  0.932805  778.930390  1.075209\n",
       "2015-04-01   805.822962  0.828757  785.692036  1.237542\n",
       "2015-05-01   624.996700  0.784427  803.662124  0.991407\n",
       "2015-06-01   428.565500  0.899964  800.597698  0.594809\n",
       "2015-07-01   719.706316  0.850767  794.432826  1.064848\n",
       "2015-08-01   602.412012  0.839583  805.408958  0.890869\n",
       "2015-09-01  1382.790684  1.478321  827.714278  1.130075\n",
       "2015-10-01   632.980184  0.909398  838.314364  0.830289\n",
       "2015-11-01  1286.701354  1.484094  845.416223  1.025524\n",
       "2015-12-01  1049.355418  1.626158  838.063596  0.769986\n",
       "2016-01-01   508.182867  0.785191  798.351575  0.810682\n",
       "2016-02-01   356.868273  0.580535  771.865200  0.796413\n",
       "2016-03-01   609.575810  0.932805  757.815699  0.862330\n",
       "2016-04-01   695.373158  0.828757  746.061098  1.124647\n",
       "2016-05-01   687.265227  0.784427  744.053545  1.177519\n",
       "2016-06-01   816.910750  0.899964  762.829119  1.189932\n",
       "2016-07-01   768.736412  0.850767  781.053092  1.156875\n",
       "2016-08-01   734.307782  0.839583  788.591670  1.109079\n",
       "2016-09-01  1135.953371  1.478321  783.802439  0.980359\n",
       "2016-10-01   624.872474  0.909398  773.179729  0.888704\n",
       "2016-11-01  1271.345152  1.484094  772.202066  1.109356\n",
       "2016-12-01  1410.719808  1.626158  786.619074  1.102843\n",
       "2017-01-01   397.602133  0.785191  797.068393  0.635298\n",
       "2017-02-01   528.179800  0.580535  799.598843  1.137841\n",
       "2017-03-01   544.672240  0.932805  804.032508  0.726224\n",
       "2017-04-01   453.297905  0.828757  791.241723  0.691269\n",
       "2017-05-01   678.302328  0.784427  780.781800  1.107494\n",
       "2017-06-01   826.460291  0.899964  780.806244  1.176125\n",
       "2017-07-01   562.524857  0.850767  772.611993  0.855795\n",
       "2017-08-01   857.881889  0.839583  769.168766  1.328441\n",
       "2017-09-01  1209.508583  1.478321  777.382488  1.052460\n",
       "2017-10-01   875.362728  0.909398  790.884382  1.217086\n",
       "2017-11-01  1277.817759  1.484094  801.591168  1.074124\n",
       "2017-12-01  1256.298672  1.626158  795.426646  0.971248"
      ]
     },
     "execution_count": 38,
     "metadata": {},
     "output_type": "execute_result"
    }
   ],
   "source": [
    "pd.DataFrame({'Actual':decompose.observed,'SI':decompose.seasonal,\n",
    "             'Trend':decompose.trend,'It':decompose.resid})"
   ]
  },
  {
   "cell_type": "markdown",
   "id": "81ad580f",
   "metadata": {},
   "source": [
    "for temporal data we can't take random values of split"
   ]
  },
  {
   "cell_type": "code",
   "execution_count": 39,
   "id": "00d42a8a",
   "metadata": {},
   "outputs": [],
   "source": [
    "train=Yt_data2['2014-01-01':'2017-06-01']\n",
    "test=Yt_data2['2017-06-01':]"
   ]
  },
  {
   "cell_type": "markdown",
   "id": "4c2f4201",
   "metadata": {},
   "source": [
    "#### ETS:"
   ]
  },
  {
   "cell_type": "code",
   "execution_count": 40,
   "id": "18ad1369",
   "metadata": {},
   "outputs": [
    {
     "name": "stderr",
     "output_type": "stream",
     "text": [
      "C:\\Users\\sony\\AppData\\Local\\Temp\\ipykernel_8472\\3357053358.py:10: FutureWarning: the 'smoothing_slope'' keyword is deprecated, use 'smoothing_trend' instead.\n",
      "  ets_fit=ets_model.fit(smoothing_level=alpha,smoothing_slope=beta,smoothing_seasonal=gamma)\n"
     ]
    }
   ],
   "source": [
    "# our guessed parametes\n",
    "from statsmodels.tsa.holtwinters import ExponentialSmoothing\n",
    "alpha=0.6\n",
    "beta=0.2\n",
    "gamma=0.4\n",
    "\n",
    "ets_model=ExponentialSmoothing(train,trend='mul',seasonal_periods=12)\n",
    "\n",
    "\n",
    "ets_fit=ets_model.fit(smoothing_level=alpha,smoothing_slope=beta,smoothing_seasonal=gamma)"
   ]
  },
  {
   "cell_type": "code",
   "execution_count": 41,
   "id": "f6d32010",
   "metadata": {},
   "outputs": [],
   "source": [
    "pred_y=ets_fit.forecast(6)"
   ]
  },
  {
   "cell_type": "code",
   "execution_count": 42,
   "id": "998253d2",
   "metadata": {},
   "outputs": [
    {
     "data": {
      "text/plain": [
       "2017-07-01    755.745542\n",
       "2017-08-01    783.020986\n",
       "2017-09-01    811.280823\n",
       "2017-10-01    840.560580\n",
       "2017-11-01    870.897065\n",
       "2017-12-01    902.328418\n",
       "Freq: MS, dtype: float64"
      ]
     },
     "execution_count": 42,
     "metadata": {},
     "output_type": "execute_result"
    }
   ],
   "source": [
    "pred_y"
   ]
  },
  {
   "cell_type": "code",
   "execution_count": 43,
   "id": "a1df4c7d",
   "metadata": {},
   "outputs": [
    {
     "data": {
      "text/plain": [
       "order_date\n",
       "2017-06-01     826.460291\n",
       "2017-07-01     562.524857\n",
       "2017-08-01     857.881889\n",
       "2017-09-01    1209.508583\n",
       "2017-10-01     875.362728\n",
       "2017-11-01    1277.817759\n",
       "2017-12-01    1256.298672\n",
       "Freq: MS, Name: Sales, dtype: float64"
      ]
     },
     "execution_count": 43,
     "metadata": {},
     "output_type": "execute_result"
    }
   ],
   "source": [
    "test"
   ]
  },
  {
   "cell_type": "code",
   "execution_count": 44,
   "id": "c4b798bc",
   "metadata": {},
   "outputs": [
    {
     "name": "stdout",
     "output_type": "stream",
     "text": [
      "Test MAE 0.2333269785795472\n"
     ]
    }
   ],
   "source": [
    "print('Test MAE',np.mean(abs((test-pred_y))/test)) # 2nd iteration with differnt values of beta"
   ]
  },
  {
   "cell_type": "code",
   "execution_count": 45,
   "id": "e2c490c8",
   "metadata": {},
   "outputs": [
    {
     "name": "stdout",
     "output_type": "stream",
     "text": [
      "Test MAE 0.2333269785795472\n"
     ]
    }
   ],
   "source": [
    "print('Test MAE',np.mean(abs((test-pred_y))/test)) # 1st iteration "
   ]
  },
  {
   "cell_type": "markdown",
   "id": "2d56d4f2",
   "metadata": {},
   "source": [
    "### loop for selecting best alpha,beta and gamma to get optimal MAE for ETS method"
   ]
  },
  {
   "cell_type": "code",
   "execution_count": 46,
   "id": "f555a429",
   "metadata": {
    "scrolled": true
   },
   "outputs": [
    {
     "name": "stderr",
     "output_type": "stream",
     "text": [
      "C:\\Users\\sony\\AppData\\Local\\Temp\\ipykernel_8472\\2542097125.py:15: FutureWarning: the 'smoothing_slope'' keyword is deprecated, use 'smoothing_trend' instead.\n",
      "  ets_fit=ets_model.fit(smoothing_level=a,smoothing_slope=b,smoothing_seasonal=g)\n",
      "C:\\Users\\sony\\anaconda3\\lib\\site-packages\\statsmodels\\tsa\\holtwinters\\model.py:915: ConvergenceWarning: Optimization failed to converge. Check mle_retvals.\n",
      "  warnings.warn(\n",
      "C:\\Users\\sony\\AppData\\Local\\Temp\\ipykernel_8472\\2542097125.py:15: FutureWarning: the 'smoothing_slope'' keyword is deprecated, use 'smoothing_trend' instead.\n",
      "  ets_fit=ets_model.fit(smoothing_level=a,smoothing_slope=b,smoothing_seasonal=g)\n",
      "C:\\Users\\sony\\anaconda3\\lib\\site-packages\\statsmodels\\tsa\\holtwinters\\model.py:915: ConvergenceWarning: Optimization failed to converge. Check mle_retvals.\n",
      "  warnings.warn(\n",
      "C:\\Users\\sony\\AppData\\Local\\Temp\\ipykernel_8472\\2542097125.py:15: FutureWarning: the 'smoothing_slope'' keyword is deprecated, use 'smoothing_trend' instead.\n",
      "  ets_fit=ets_model.fit(smoothing_level=a,smoothing_slope=b,smoothing_seasonal=g)\n",
      "C:\\Users\\sony\\anaconda3\\lib\\site-packages\\statsmodels\\tsa\\holtwinters\\model.py:915: ConvergenceWarning: Optimization failed to converge. Check mle_retvals.\n",
      "  warnings.warn(\n",
      "C:\\Users\\sony\\AppData\\Local\\Temp\\ipykernel_8472\\2542097125.py:15: FutureWarning: the 'smoothing_slope'' keyword is deprecated, use 'smoothing_trend' instead.\n",
      "  ets_fit=ets_model.fit(smoothing_level=a,smoothing_slope=b,smoothing_seasonal=g)\n",
      "C:\\Users\\sony\\anaconda3\\lib\\site-packages\\statsmodels\\tsa\\holtwinters\\model.py:915: ConvergenceWarning: Optimization failed to converge. Check mle_retvals.\n",
      "  warnings.warn(\n",
      "C:\\Users\\sony\\AppData\\Local\\Temp\\ipykernel_8472\\2542097125.py:15: FutureWarning: the 'smoothing_slope'' keyword is deprecated, use 'smoothing_trend' instead.\n",
      "  ets_fit=ets_model.fit(smoothing_level=a,smoothing_slope=b,smoothing_seasonal=g)\n",
      "C:\\Users\\sony\\anaconda3\\lib\\site-packages\\statsmodels\\tsa\\holtwinters\\model.py:915: ConvergenceWarning: Optimization failed to converge. Check mle_retvals.\n",
      "  warnings.warn(\n",
      "C:\\Users\\sony\\AppData\\Local\\Temp\\ipykernel_8472\\2542097125.py:15: FutureWarning: the 'smoothing_slope'' keyword is deprecated, use 'smoothing_trend' instead.\n",
      "  ets_fit=ets_model.fit(smoothing_level=a,smoothing_slope=b,smoothing_seasonal=g)\n",
      "C:\\Users\\sony\\anaconda3\\lib\\site-packages\\statsmodels\\tsa\\holtwinters\\model.py:915: ConvergenceWarning: Optimization failed to converge. Check mle_retvals.\n",
      "  warnings.warn(\n",
      "C:\\Users\\sony\\AppData\\Local\\Temp\\ipykernel_8472\\2542097125.py:15: FutureWarning: the 'smoothing_slope'' keyword is deprecated, use 'smoothing_trend' instead.\n",
      "  ets_fit=ets_model.fit(smoothing_level=a,smoothing_slope=b,smoothing_seasonal=g)\n",
      "C:\\Users\\sony\\anaconda3\\lib\\site-packages\\statsmodels\\tsa\\holtwinters\\model.py:915: ConvergenceWarning: Optimization failed to converge. Check mle_retvals.\n",
      "  warnings.warn(\n",
      "C:\\Users\\sony\\AppData\\Local\\Temp\\ipykernel_8472\\2542097125.py:15: FutureWarning: the 'smoothing_slope'' keyword is deprecated, use 'smoothing_trend' instead.\n",
      "  ets_fit=ets_model.fit(smoothing_level=a,smoothing_slope=b,smoothing_seasonal=g)\n",
      "C:\\Users\\sony\\anaconda3\\lib\\site-packages\\statsmodels\\tsa\\holtwinters\\model.py:915: ConvergenceWarning: Optimization failed to converge. Check mle_retvals.\n",
      "  warnings.warn(\n",
      "C:\\Users\\sony\\AppData\\Local\\Temp\\ipykernel_8472\\2542097125.py:15: FutureWarning: the 'smoothing_slope'' keyword is deprecated, use 'smoothing_trend' instead.\n",
      "  ets_fit=ets_model.fit(smoothing_level=a,smoothing_slope=b,smoothing_seasonal=g)\n",
      "C:\\Users\\sony\\anaconda3\\lib\\site-packages\\statsmodels\\tsa\\holtwinters\\model.py:915: ConvergenceWarning: Optimization failed to converge. Check mle_retvals.\n",
      "  warnings.warn(\n",
      "C:\\Users\\sony\\AppData\\Local\\Temp\\ipykernel_8472\\2542097125.py:15: FutureWarning: the 'smoothing_slope'' keyword is deprecated, use 'smoothing_trend' instead.\n",
      "  ets_fit=ets_model.fit(smoothing_level=a,smoothing_slope=b,smoothing_seasonal=g)\n",
      "C:\\Users\\sony\\anaconda3\\lib\\site-packages\\statsmodels\\tsa\\holtwinters\\model.py:915: ConvergenceWarning: Optimization failed to converge. Check mle_retvals.\n",
      "  warnings.warn(\n",
      "C:\\Users\\sony\\AppData\\Local\\Temp\\ipykernel_8472\\2542097125.py:15: FutureWarning: the 'smoothing_slope'' keyword is deprecated, use 'smoothing_trend' instead.\n",
      "  ets_fit=ets_model.fit(smoothing_level=a,smoothing_slope=b,smoothing_seasonal=g)\n",
      "C:\\Users\\sony\\anaconda3\\lib\\site-packages\\statsmodels\\tsa\\holtwinters\\model.py:915: ConvergenceWarning: Optimization failed to converge. Check mle_retvals.\n",
      "  warnings.warn(\n",
      "C:\\Users\\sony\\AppData\\Local\\Temp\\ipykernel_8472\\2542097125.py:15: FutureWarning: the 'smoothing_slope'' keyword is deprecated, use 'smoothing_trend' instead.\n",
      "  ets_fit=ets_model.fit(smoothing_level=a,smoothing_slope=b,smoothing_seasonal=g)\n",
      "C:\\Users\\sony\\anaconda3\\lib\\site-packages\\statsmodels\\tsa\\holtwinters\\model.py:915: ConvergenceWarning: Optimization failed to converge. Check mle_retvals.\n",
      "  warnings.warn(\n",
      "C:\\Users\\sony\\AppData\\Local\\Temp\\ipykernel_8472\\2542097125.py:15: FutureWarning: the 'smoothing_slope'' keyword is deprecated, use 'smoothing_trend' instead.\n",
      "  ets_fit=ets_model.fit(smoothing_level=a,smoothing_slope=b,smoothing_seasonal=g)\n",
      "C:\\Users\\sony\\anaconda3\\lib\\site-packages\\statsmodels\\tsa\\holtwinters\\model.py:915: ConvergenceWarning: Optimization failed to converge. Check mle_retvals.\n",
      "  warnings.warn(\n",
      "C:\\Users\\sony\\AppData\\Local\\Temp\\ipykernel_8472\\2542097125.py:15: FutureWarning: the 'smoothing_slope'' keyword is deprecated, use 'smoothing_trend' instead.\n",
      "  ets_fit=ets_model.fit(smoothing_level=a,smoothing_slope=b,smoothing_seasonal=g)\n",
      "C:\\Users\\sony\\anaconda3\\lib\\site-packages\\statsmodels\\tsa\\holtwinters\\model.py:915: ConvergenceWarning: Optimization failed to converge. Check mle_retvals.\n",
      "  warnings.warn(\n",
      "C:\\Users\\sony\\AppData\\Local\\Temp\\ipykernel_8472\\2542097125.py:15: FutureWarning: the 'smoothing_slope'' keyword is deprecated, use 'smoothing_trend' instead.\n",
      "  ets_fit=ets_model.fit(smoothing_level=a,smoothing_slope=b,smoothing_seasonal=g)\n",
      "C:\\Users\\sony\\anaconda3\\lib\\site-packages\\statsmodels\\tsa\\holtwinters\\model.py:915: ConvergenceWarning: Optimization failed to converge. Check mle_retvals.\n",
      "  warnings.warn(\n"
     ]
    },
    {
     "name": "stdout",
     "output_type": "stream",
     "text": [
      "MAE=10.486325993586986 for alpha=0.0,beta=0.0,gamm=0.01\n",
      "MAE=10.486325993586986 for alpha=0.0,beta=0.0,gamm=0.4\n",
      "MAE=10.486325993586986 for alpha=0.0,beta=0.0,gamm=0.3\n",
      "MAE=10.486325993586986 for alpha=0.0,beta=0.0,gamm=0.23\n",
      "MAE=10.486325993586986 for alpha=0.0,beta=0.2475,gamm=0.01\n",
      "MAE=10.486325993586986 for alpha=0.0,beta=0.2475,gamm=0.4\n",
      "MAE=10.486325993586986 for alpha=0.0,beta=0.2475,gamm=0.3\n",
      "MAE=10.486325993586986 for alpha=0.0,beta=0.2475,gamm=0.23\n",
      "MAE=10.486325993586986 for alpha=0.0,beta=0.495,gamm=0.01\n",
      "MAE=10.486325993586986 for alpha=0.0,beta=0.495,gamm=0.4\n",
      "MAE=10.486325993586986 for alpha=0.0,beta=0.495,gamm=0.3\n",
      "MAE=10.486325993586986 for alpha=0.0,beta=0.495,gamm=0.23\n",
      "MAE=10.486325993586986 for alpha=0.0,beta=0.7424999999999999,gamm=0.01\n",
      "MAE=10.486325993586986 for alpha=0.0,beta=0.7424999999999999,gamm=0.4\n",
      "MAE=10.486325993586986 for alpha=0.0,beta=0.7424999999999999,gamm=0.3\n",
      "MAE=10.486325993586986 for alpha=0.0,beta=0.7424999999999999,gamm=0.23\n"
     ]
    },
    {
     "name": "stderr",
     "output_type": "stream",
     "text": [
      "C:\\Users\\sony\\AppData\\Local\\Temp\\ipykernel_8472\\2542097125.py:15: FutureWarning: the 'smoothing_slope'' keyword is deprecated, use 'smoothing_trend' instead.\n",
      "  ets_fit=ets_model.fit(smoothing_level=a,smoothing_slope=b,smoothing_seasonal=g)\n",
      "C:\\Users\\sony\\anaconda3\\lib\\site-packages\\statsmodels\\tsa\\holtwinters\\model.py:915: ConvergenceWarning: Optimization failed to converge. Check mle_retvals.\n",
      "  warnings.warn(\n",
      "C:\\Users\\sony\\AppData\\Local\\Temp\\ipykernel_8472\\2542097125.py:15: FutureWarning: the 'smoothing_slope'' keyword is deprecated, use 'smoothing_trend' instead.\n",
      "  ets_fit=ets_model.fit(smoothing_level=a,smoothing_slope=b,smoothing_seasonal=g)\n",
      "C:\\Users\\sony\\anaconda3\\lib\\site-packages\\statsmodels\\tsa\\holtwinters\\model.py:915: ConvergenceWarning: Optimization failed to converge. Check mle_retvals.\n",
      "  warnings.warn(\n",
      "C:\\Users\\sony\\AppData\\Local\\Temp\\ipykernel_8472\\2542097125.py:15: FutureWarning: the 'smoothing_slope'' keyword is deprecated, use 'smoothing_trend' instead.\n",
      "  ets_fit=ets_model.fit(smoothing_level=a,smoothing_slope=b,smoothing_seasonal=g)\n",
      "C:\\Users\\sony\\anaconda3\\lib\\site-packages\\statsmodels\\tsa\\holtwinters\\model.py:915: ConvergenceWarning: Optimization failed to converge. Check mle_retvals.\n",
      "  warnings.warn(\n",
      "C:\\Users\\sony\\AppData\\Local\\Temp\\ipykernel_8472\\2542097125.py:15: FutureWarning: the 'smoothing_slope'' keyword is deprecated, use 'smoothing_trend' instead.\n",
      "  ets_fit=ets_model.fit(smoothing_level=a,smoothing_slope=b,smoothing_seasonal=g)\n",
      "C:\\Users\\sony\\anaconda3\\lib\\site-packages\\statsmodels\\tsa\\holtwinters\\model.py:915: ConvergenceWarning: Optimization failed to converge. Check mle_retvals.\n",
      "  warnings.warn(\n",
      "C:\\Users\\sony\\AppData\\Local\\Temp\\ipykernel_8472\\2542097125.py:15: FutureWarning: the 'smoothing_slope'' keyword is deprecated, use 'smoothing_trend' instead.\n",
      "  ets_fit=ets_model.fit(smoothing_level=a,smoothing_slope=b,smoothing_seasonal=g)\n",
      "C:\\Users\\sony\\anaconda3\\lib\\site-packages\\statsmodels\\tsa\\holtwinters\\model.py:915: ConvergenceWarning: Optimization failed to converge. Check mle_retvals.\n",
      "  warnings.warn(\n",
      "C:\\Users\\sony\\AppData\\Local\\Temp\\ipykernel_8472\\2542097125.py:15: FutureWarning: the 'smoothing_slope'' keyword is deprecated, use 'smoothing_trend' instead.\n",
      "  ets_fit=ets_model.fit(smoothing_level=a,smoothing_slope=b,smoothing_seasonal=g)\n",
      "C:\\Users\\sony\\anaconda3\\lib\\site-packages\\statsmodels\\tsa\\holtwinters\\model.py:915: ConvergenceWarning: Optimization failed to converge. Check mle_retvals.\n",
      "  warnings.warn(\n",
      "C:\\Users\\sony\\AppData\\Local\\Temp\\ipykernel_8472\\2542097125.py:15: FutureWarning: the 'smoothing_slope'' keyword is deprecated, use 'smoothing_trend' instead.\n",
      "  ets_fit=ets_model.fit(smoothing_level=a,smoothing_slope=b,smoothing_seasonal=g)\n",
      "C:\\Users\\sony\\anaconda3\\lib\\site-packages\\statsmodels\\tsa\\holtwinters\\model.py:915: ConvergenceWarning: Optimization failed to converge. Check mle_retvals.\n",
      "  warnings.warn(\n",
      "C:\\Users\\sony\\AppData\\Local\\Temp\\ipykernel_8472\\2542097125.py:15: FutureWarning: the 'smoothing_slope'' keyword is deprecated, use 'smoothing_trend' instead.\n",
      "  ets_fit=ets_model.fit(smoothing_level=a,smoothing_slope=b,smoothing_seasonal=g)\n",
      "C:\\Users\\sony\\anaconda3\\lib\\site-packages\\statsmodels\\tsa\\holtwinters\\model.py:915: ConvergenceWarning: Optimization failed to converge. Check mle_retvals.\n",
      "  warnings.warn(\n",
      "C:\\Users\\sony\\AppData\\Local\\Temp\\ipykernel_8472\\2542097125.py:15: FutureWarning: the 'smoothing_slope'' keyword is deprecated, use 'smoothing_trend' instead.\n",
      "  ets_fit=ets_model.fit(smoothing_level=a,smoothing_slope=b,smoothing_seasonal=g)\n",
      "C:\\Users\\sony\\anaconda3\\lib\\site-packages\\statsmodels\\tsa\\holtwinters\\model.py:915: ConvergenceWarning: Optimization failed to converge. Check mle_retvals.\n",
      "  warnings.warn(\n",
      "C:\\Users\\sony\\AppData\\Local\\Temp\\ipykernel_8472\\2542097125.py:15: FutureWarning: the 'smoothing_slope'' keyword is deprecated, use 'smoothing_trend' instead.\n",
      "  ets_fit=ets_model.fit(smoothing_level=a,smoothing_slope=b,smoothing_seasonal=g)\n",
      "C:\\Users\\sony\\anaconda3\\lib\\site-packages\\statsmodels\\tsa\\holtwinters\\model.py:83: RuntimeWarning: overflow encountered in matmul\n",
      "  return err.T @ err\n",
      "C:\\Users\\sony\\AppData\\Local\\Temp\\ipykernel_8472\\2542097125.py:15: FutureWarning: the 'smoothing_slope'' keyword is deprecated, use 'smoothing_trend' instead.\n",
      "  ets_fit=ets_model.fit(smoothing_level=a,smoothing_slope=b,smoothing_seasonal=g)\n",
      "C:\\Users\\sony\\anaconda3\\lib\\site-packages\\statsmodels\\tsa\\holtwinters\\model.py:83: RuntimeWarning: overflow encountered in matmul\n",
      "  return err.T @ err\n",
      "C:\\Users\\sony\\AppData\\Local\\Temp\\ipykernel_8472\\2542097125.py:15: FutureWarning: the 'smoothing_slope'' keyword is deprecated, use 'smoothing_trend' instead.\n",
      "  ets_fit=ets_model.fit(smoothing_level=a,smoothing_slope=b,smoothing_seasonal=g)\n",
      "C:\\Users\\sony\\anaconda3\\lib\\site-packages\\statsmodels\\tsa\\holtwinters\\model.py:83: RuntimeWarning: overflow encountered in matmul\n",
      "  return err.T @ err\n",
      "C:\\Users\\sony\\AppData\\Local\\Temp\\ipykernel_8472\\2542097125.py:15: FutureWarning: the 'smoothing_slope'' keyword is deprecated, use 'smoothing_trend' instead.\n",
      "  ets_fit=ets_model.fit(smoothing_level=a,smoothing_slope=b,smoothing_seasonal=g)\n",
      "C:\\Users\\sony\\anaconda3\\lib\\site-packages\\statsmodels\\tsa\\holtwinters\\model.py:83: RuntimeWarning: overflow encountered in matmul\n",
      "  return err.T @ err\n",
      "C:\\Users\\sony\\AppData\\Local\\Temp\\ipykernel_8472\\2542097125.py:15: FutureWarning: the 'smoothing_slope'' keyword is deprecated, use 'smoothing_trend' instead.\n",
      "  ets_fit=ets_model.fit(smoothing_level=a,smoothing_slope=b,smoothing_seasonal=g)\n",
      "C:\\Users\\sony\\anaconda3\\lib\\site-packages\\statsmodels\\tsa\\holtwinters\\model.py:83: RuntimeWarning: overflow encountered in matmul\n",
      "  return err.T @ err\n"
     ]
    },
    {
     "name": "stdout",
     "output_type": "stream",
     "text": [
      "MAE=10.486325993586986 for alpha=0.0,beta=0.99,gamm=0.01\n",
      "MAE=10.486325993586986 for alpha=0.0,beta=0.99,gamm=0.4\n",
      "MAE=10.486325993586986 for alpha=0.0,beta=0.99,gamm=0.3\n",
      "MAE=10.486325993586986 for alpha=0.0,beta=0.99,gamm=0.23\n",
      "MAE=0.26393109935534925 for alpha=0.2475,beta=0.0,gamm=0.01\n",
      "MAE=0.26393109935534925 for alpha=0.2475,beta=0.0,gamm=0.4\n",
      "MAE=0.26393109935534925 for alpha=0.2475,beta=0.0,gamm=0.3\n",
      "MAE=0.26393109935534925 for alpha=0.2475,beta=0.0,gamm=0.23\n",
      "MAE=0.37230854090608784 for alpha=0.2475,beta=0.2475,gamm=0.01\n",
      "MAE=0.37230854090608784 for alpha=0.2475,beta=0.2475,gamm=0.4\n",
      "MAE=0.37230854090608784 for alpha=0.2475,beta=0.2475,gamm=0.3\n",
      "MAE=0.37230854090608784 for alpha=0.2475,beta=0.2475,gamm=0.23\n",
      "MAE=0.4518079625238817 for alpha=0.2475,beta=0.495,gamm=0.01\n"
     ]
    },
    {
     "name": "stderr",
     "output_type": "stream",
     "text": [
      "C:\\Users\\sony\\AppData\\Local\\Temp\\ipykernel_8472\\2542097125.py:15: FutureWarning: the 'smoothing_slope'' keyword is deprecated, use 'smoothing_trend' instead.\n",
      "  ets_fit=ets_model.fit(smoothing_level=a,smoothing_slope=b,smoothing_seasonal=g)\n",
      "C:\\Users\\sony\\anaconda3\\lib\\site-packages\\statsmodels\\tsa\\holtwinters\\model.py:83: RuntimeWarning: overflow encountered in matmul\n",
      "  return err.T @ err\n",
      "C:\\Users\\sony\\AppData\\Local\\Temp\\ipykernel_8472\\2542097125.py:15: FutureWarning: the 'smoothing_slope'' keyword is deprecated, use 'smoothing_trend' instead.\n",
      "  ets_fit=ets_model.fit(smoothing_level=a,smoothing_slope=b,smoothing_seasonal=g)\n",
      "C:\\Users\\sony\\anaconda3\\lib\\site-packages\\statsmodels\\tsa\\holtwinters\\model.py:83: RuntimeWarning: overflow encountered in matmul\n",
      "  return err.T @ err\n",
      "C:\\Users\\sony\\AppData\\Local\\Temp\\ipykernel_8472\\2542097125.py:15: FutureWarning: the 'smoothing_slope'' keyword is deprecated, use 'smoothing_trend' instead.\n",
      "  ets_fit=ets_model.fit(smoothing_level=a,smoothing_slope=b,smoothing_seasonal=g)\n",
      "C:\\Users\\sony\\anaconda3\\lib\\site-packages\\statsmodels\\tsa\\holtwinters\\model.py:83: RuntimeWarning: overflow encountered in matmul\n",
      "  return err.T @ err\n",
      "C:\\Users\\sony\\AppData\\Local\\Temp\\ipykernel_8472\\2542097125.py:15: FutureWarning: the 'smoothing_slope'' keyword is deprecated, use 'smoothing_trend' instead.\n",
      "  ets_fit=ets_model.fit(smoothing_level=a,smoothing_slope=b,smoothing_seasonal=g)\n",
      "C:\\Users\\sony\\AppData\\Local\\Temp\\ipykernel_8472\\2542097125.py:15: FutureWarning: the 'smoothing_slope'' keyword is deprecated, use 'smoothing_trend' instead.\n",
      "  ets_fit=ets_model.fit(smoothing_level=a,smoothing_slope=b,smoothing_seasonal=g)\n",
      "C:\\Users\\sony\\AppData\\Local\\Temp\\ipykernel_8472\\2542097125.py:15: FutureWarning: the 'smoothing_slope'' keyword is deprecated, use 'smoothing_trend' instead.\n",
      "  ets_fit=ets_model.fit(smoothing_level=a,smoothing_slope=b,smoothing_seasonal=g)\n",
      "C:\\Users\\sony\\AppData\\Local\\Temp\\ipykernel_8472\\2542097125.py:15: FutureWarning: the 'smoothing_slope'' keyword is deprecated, use 'smoothing_trend' instead.\n",
      "  ets_fit=ets_model.fit(smoothing_level=a,smoothing_slope=b,smoothing_seasonal=g)\n",
      "C:\\Users\\sony\\AppData\\Local\\Temp\\ipykernel_8472\\2542097125.py:15: FutureWarning: the 'smoothing_slope'' keyword is deprecated, use 'smoothing_trend' instead.\n",
      "  ets_fit=ets_model.fit(smoothing_level=a,smoothing_slope=b,smoothing_seasonal=g)\n",
      "C:\\Users\\sony\\AppData\\Local\\Temp\\ipykernel_8472\\2542097125.py:15: FutureWarning: the 'smoothing_slope'' keyword is deprecated, use 'smoothing_trend' instead.\n",
      "  ets_fit=ets_model.fit(smoothing_level=a,smoothing_slope=b,smoothing_seasonal=g)\n",
      "C:\\Users\\sony\\AppData\\Local\\Temp\\ipykernel_8472\\2542097125.py:15: FutureWarning: the 'smoothing_slope'' keyword is deprecated, use 'smoothing_trend' instead.\n",
      "  ets_fit=ets_model.fit(smoothing_level=a,smoothing_slope=b,smoothing_seasonal=g)\n",
      "C:\\Users\\sony\\AppData\\Local\\Temp\\ipykernel_8472\\2542097125.py:15: FutureWarning: the 'smoothing_slope'' keyword is deprecated, use 'smoothing_trend' instead.\n",
      "  ets_fit=ets_model.fit(smoothing_level=a,smoothing_slope=b,smoothing_seasonal=g)\n",
      "C:\\Users\\sony\\AppData\\Local\\Temp\\ipykernel_8472\\2542097125.py:15: FutureWarning: the 'smoothing_slope'' keyword is deprecated, use 'smoothing_trend' instead.\n",
      "  ets_fit=ets_model.fit(smoothing_level=a,smoothing_slope=b,smoothing_seasonal=g)\n",
      "C:\\Users\\sony\\AppData\\Local\\Temp\\ipykernel_8472\\2542097125.py:15: FutureWarning: the 'smoothing_slope'' keyword is deprecated, use 'smoothing_trend' instead.\n",
      "  ets_fit=ets_model.fit(smoothing_level=a,smoothing_slope=b,smoothing_seasonal=g)\n",
      "C:\\Users\\sony\\AppData\\Local\\Temp\\ipykernel_8472\\2542097125.py:15: FutureWarning: the 'smoothing_slope'' keyword is deprecated, use 'smoothing_trend' instead.\n",
      "  ets_fit=ets_model.fit(smoothing_level=a,smoothing_slope=b,smoothing_seasonal=g)\n",
      "C:\\Users\\sony\\AppData\\Local\\Temp\\ipykernel_8472\\2542097125.py:15: FutureWarning: the 'smoothing_slope'' keyword is deprecated, use 'smoothing_trend' instead.\n",
      "  ets_fit=ets_model.fit(smoothing_level=a,smoothing_slope=b,smoothing_seasonal=g)\n"
     ]
    },
    {
     "name": "stdout",
     "output_type": "stream",
     "text": [
      "MAE=0.4518079625238817 for alpha=0.2475,beta=0.495,gamm=0.4\n",
      "MAE=0.4518079625238817 for alpha=0.2475,beta=0.495,gamm=0.3\n",
      "MAE=0.4518079625238817 for alpha=0.2475,beta=0.495,gamm=0.23\n",
      "MAE=0.5019145269296117 for alpha=0.2475,beta=0.7424999999999999,gamm=0.01\n",
      "MAE=0.5019145269296117 for alpha=0.2475,beta=0.7424999999999999,gamm=0.4\n",
      "MAE=0.5019145269296117 for alpha=0.2475,beta=0.7424999999999999,gamm=0.3\n",
      "MAE=0.5019145269296117 for alpha=0.2475,beta=0.7424999999999999,gamm=0.23\n",
      "MAE=0.3936962701696259 for alpha=0.2475,beta=0.99,gamm=0.01\n",
      "MAE=0.3936962701696259 for alpha=0.2475,beta=0.99,gamm=0.4\n",
      "MAE=0.3936962701696259 for alpha=0.2475,beta=0.99,gamm=0.3\n",
      "MAE=0.3936962701696259 for alpha=0.2475,beta=0.99,gamm=0.23\n",
      "MAE=0.18024701566595527 for alpha=0.495,beta=0.0,gamm=0.01\n",
      "MAE=0.18024701566595527 for alpha=0.495,beta=0.0,gamm=0.4\n",
      "MAE=0.18024701566595527 for alpha=0.495,beta=0.0,gamm=0.3\n",
      "MAE=0.18024701566595527 for alpha=0.495,beta=0.0,gamm=0.23\n",
      "MAE=0.29671307521432827 for alpha=0.495,beta=0.2475,gamm=0.01\n",
      "MAE=0.29671307521432827 for alpha=0.495,beta=0.2475,gamm=0.4\n"
     ]
    },
    {
     "name": "stderr",
     "output_type": "stream",
     "text": [
      "C:\\Users\\sony\\AppData\\Local\\Temp\\ipykernel_8472\\2542097125.py:15: FutureWarning: the 'smoothing_slope'' keyword is deprecated, use 'smoothing_trend' instead.\n",
      "  ets_fit=ets_model.fit(smoothing_level=a,smoothing_slope=b,smoothing_seasonal=g)\n",
      "C:\\Users\\sony\\AppData\\Local\\Temp\\ipykernel_8472\\2542097125.py:15: FutureWarning: the 'smoothing_slope'' keyword is deprecated, use 'smoothing_trend' instead.\n",
      "  ets_fit=ets_model.fit(smoothing_level=a,smoothing_slope=b,smoothing_seasonal=g)\n",
      "C:\\Users\\sony\\AppData\\Local\\Temp\\ipykernel_8472\\2542097125.py:15: FutureWarning: the 'smoothing_slope'' keyword is deprecated, use 'smoothing_trend' instead.\n",
      "  ets_fit=ets_model.fit(smoothing_level=a,smoothing_slope=b,smoothing_seasonal=g)\n",
      "C:\\Users\\sony\\AppData\\Local\\Temp\\ipykernel_8472\\2542097125.py:15: FutureWarning: the 'smoothing_slope'' keyword is deprecated, use 'smoothing_trend' instead.\n",
      "  ets_fit=ets_model.fit(smoothing_level=a,smoothing_slope=b,smoothing_seasonal=g)\n",
      "C:\\Users\\sony\\AppData\\Local\\Temp\\ipykernel_8472\\2542097125.py:15: FutureWarning: the 'smoothing_slope'' keyword is deprecated, use 'smoothing_trend' instead.\n",
      "  ets_fit=ets_model.fit(smoothing_level=a,smoothing_slope=b,smoothing_seasonal=g)\n",
      "C:\\Users\\sony\\AppData\\Local\\Temp\\ipykernel_8472\\2542097125.py:15: FutureWarning: the 'smoothing_slope'' keyword is deprecated, use 'smoothing_trend' instead.\n",
      "  ets_fit=ets_model.fit(smoothing_level=a,smoothing_slope=b,smoothing_seasonal=g)\n",
      "C:\\Users\\sony\\AppData\\Local\\Temp\\ipykernel_8472\\2542097125.py:15: FutureWarning: the 'smoothing_slope'' keyword is deprecated, use 'smoothing_trend' instead.\n",
      "  ets_fit=ets_model.fit(smoothing_level=a,smoothing_slope=b,smoothing_seasonal=g)\n",
      "C:\\Users\\sony\\AppData\\Local\\Temp\\ipykernel_8472\\2542097125.py:15: FutureWarning: the 'smoothing_slope'' keyword is deprecated, use 'smoothing_trend' instead.\n",
      "  ets_fit=ets_model.fit(smoothing_level=a,smoothing_slope=b,smoothing_seasonal=g)\n",
      "C:\\Users\\sony\\AppData\\Local\\Temp\\ipykernel_8472\\2542097125.py:15: FutureWarning: the 'smoothing_slope'' keyword is deprecated, use 'smoothing_trend' instead.\n",
      "  ets_fit=ets_model.fit(smoothing_level=a,smoothing_slope=b,smoothing_seasonal=g)\n",
      "C:\\Users\\sony\\AppData\\Local\\Temp\\ipykernel_8472\\2542097125.py:15: FutureWarning: the 'smoothing_slope'' keyword is deprecated, use 'smoothing_trend' instead.\n",
      "  ets_fit=ets_model.fit(smoothing_level=a,smoothing_slope=b,smoothing_seasonal=g)\n",
      "C:\\Users\\sony\\AppData\\Local\\Temp\\ipykernel_8472\\2542097125.py:15: FutureWarning: the 'smoothing_slope'' keyword is deprecated, use 'smoothing_trend' instead.\n",
      "  ets_fit=ets_model.fit(smoothing_level=a,smoothing_slope=b,smoothing_seasonal=g)\n",
      "C:\\Users\\sony\\AppData\\Local\\Temp\\ipykernel_8472\\2542097125.py:15: FutureWarning: the 'smoothing_slope'' keyword is deprecated, use 'smoothing_trend' instead.\n",
      "  ets_fit=ets_model.fit(smoothing_level=a,smoothing_slope=b,smoothing_seasonal=g)\n",
      "C:\\Users\\sony\\AppData\\Local\\Temp\\ipykernel_8472\\2542097125.py:15: FutureWarning: the 'smoothing_slope'' keyword is deprecated, use 'smoothing_trend' instead.\n",
      "  ets_fit=ets_model.fit(smoothing_level=a,smoothing_slope=b,smoothing_seasonal=g)\n"
     ]
    },
    {
     "name": "stdout",
     "output_type": "stream",
     "text": [
      "MAE=0.29671307521432827 for alpha=0.495,beta=0.2475,gamm=0.3\n",
      "MAE=0.29671307521432827 for alpha=0.495,beta=0.2475,gamm=0.23\n",
      "MAE=0.14806293320428326 for alpha=0.495,beta=0.495,gamm=0.01\n",
      "MAE=0.14806293320428326 for alpha=0.495,beta=0.495,gamm=0.4\n",
      "MAE=0.14806293320428326 for alpha=0.495,beta=0.495,gamm=0.3\n",
      "MAE=0.14806293320428326 for alpha=0.495,beta=0.495,gamm=0.23\n",
      "MAE=0.7521502658865872 for alpha=0.495,beta=0.7424999999999999,gamm=0.01\n",
      "MAE=0.7521502658865872 for alpha=0.495,beta=0.7424999999999999,gamm=0.4\n",
      "MAE=0.7521502658865872 for alpha=0.495,beta=0.7424999999999999,gamm=0.3\n",
      "MAE=0.7521502658865872 for alpha=0.495,beta=0.7424999999999999,gamm=0.23\n",
      "MAE=1.8781956980639245 for alpha=0.495,beta=0.99,gamm=0.01\n",
      "MAE=1.8781956980639245 for alpha=0.495,beta=0.99,gamm=0.4\n",
      "MAE=1.8781956980639245 for alpha=0.495,beta=0.99,gamm=0.3\n",
      "MAE=1.8781956980639245 for alpha=0.495,beta=0.99,gamm=0.23\n"
     ]
    },
    {
     "name": "stderr",
     "output_type": "stream",
     "text": [
      "C:\\Users\\sony\\AppData\\Local\\Temp\\ipykernel_8472\\2542097125.py:15: FutureWarning: the 'smoothing_slope'' keyword is deprecated, use 'smoothing_trend' instead.\n",
      "  ets_fit=ets_model.fit(smoothing_level=a,smoothing_slope=b,smoothing_seasonal=g)\n",
      "C:\\Users\\sony\\AppData\\Local\\Temp\\ipykernel_8472\\2542097125.py:15: FutureWarning: the 'smoothing_slope'' keyword is deprecated, use 'smoothing_trend' instead.\n",
      "  ets_fit=ets_model.fit(smoothing_level=a,smoothing_slope=b,smoothing_seasonal=g)\n",
      "C:\\Users\\sony\\AppData\\Local\\Temp\\ipykernel_8472\\2542097125.py:15: FutureWarning: the 'smoothing_slope'' keyword is deprecated, use 'smoothing_trend' instead.\n",
      "  ets_fit=ets_model.fit(smoothing_level=a,smoothing_slope=b,smoothing_seasonal=g)\n",
      "C:\\Users\\sony\\AppData\\Local\\Temp\\ipykernel_8472\\2542097125.py:15: FutureWarning: the 'smoothing_slope'' keyword is deprecated, use 'smoothing_trend' instead.\n",
      "  ets_fit=ets_model.fit(smoothing_level=a,smoothing_slope=b,smoothing_seasonal=g)\n",
      "C:\\Users\\sony\\AppData\\Local\\Temp\\ipykernel_8472\\2542097125.py:15: FutureWarning: the 'smoothing_slope'' keyword is deprecated, use 'smoothing_trend' instead.\n",
      "  ets_fit=ets_model.fit(smoothing_level=a,smoothing_slope=b,smoothing_seasonal=g)\n",
      "C:\\Users\\sony\\AppData\\Local\\Temp\\ipykernel_8472\\2542097125.py:15: FutureWarning: the 'smoothing_slope'' keyword is deprecated, use 'smoothing_trend' instead.\n",
      "  ets_fit=ets_model.fit(smoothing_level=a,smoothing_slope=b,smoothing_seasonal=g)\n",
      "C:\\Users\\sony\\AppData\\Local\\Temp\\ipykernel_8472\\2542097125.py:15: FutureWarning: the 'smoothing_slope'' keyword is deprecated, use 'smoothing_trend' instead.\n",
      "  ets_fit=ets_model.fit(smoothing_level=a,smoothing_slope=b,smoothing_seasonal=g)\n",
      "C:\\Users\\sony\\AppData\\Local\\Temp\\ipykernel_8472\\2542097125.py:15: FutureWarning: the 'smoothing_slope'' keyword is deprecated, use 'smoothing_trend' instead.\n",
      "  ets_fit=ets_model.fit(smoothing_level=a,smoothing_slope=b,smoothing_seasonal=g)\n",
      "C:\\Users\\sony\\AppData\\Local\\Temp\\ipykernel_8472\\2542097125.py:15: FutureWarning: the 'smoothing_slope'' keyword is deprecated, use 'smoothing_trend' instead.\n",
      "  ets_fit=ets_model.fit(smoothing_level=a,smoothing_slope=b,smoothing_seasonal=g)\n",
      "C:\\Users\\sony\\AppData\\Local\\Temp\\ipykernel_8472\\2542097125.py:15: FutureWarning: the 'smoothing_slope'' keyword is deprecated, use 'smoothing_trend' instead.\n",
      "  ets_fit=ets_model.fit(smoothing_level=a,smoothing_slope=b,smoothing_seasonal=g)\n",
      "C:\\Users\\sony\\AppData\\Local\\Temp\\ipykernel_8472\\2542097125.py:15: FutureWarning: the 'smoothing_slope'' keyword is deprecated, use 'smoothing_trend' instead.\n",
      "  ets_fit=ets_model.fit(smoothing_level=a,smoothing_slope=b,smoothing_seasonal=g)\n",
      "C:\\Users\\sony\\AppData\\Local\\Temp\\ipykernel_8472\\2542097125.py:15: FutureWarning: the 'smoothing_slope'' keyword is deprecated, use 'smoothing_trend' instead.\n",
      "  ets_fit=ets_model.fit(smoothing_level=a,smoothing_slope=b,smoothing_seasonal=g)\n",
      "C:\\Users\\sony\\AppData\\Local\\Temp\\ipykernel_8472\\2542097125.py:15: FutureWarning: the 'smoothing_slope'' keyword is deprecated, use 'smoothing_trend' instead.\n",
      "  ets_fit=ets_model.fit(smoothing_level=a,smoothing_slope=b,smoothing_seasonal=g)\n",
      "C:\\Users\\sony\\AppData\\Local\\Temp\\ipykernel_8472\\2542097125.py:15: FutureWarning: the 'smoothing_slope'' keyword is deprecated, use 'smoothing_trend' instead.\n",
      "  ets_fit=ets_model.fit(smoothing_level=a,smoothing_slope=b,smoothing_seasonal=g)\n",
      "C:\\Users\\sony\\AppData\\Local\\Temp\\ipykernel_8472\\2542097125.py:15: FutureWarning: the 'smoothing_slope'' keyword is deprecated, use 'smoothing_trend' instead.\n",
      "  ets_fit=ets_model.fit(smoothing_level=a,smoothing_slope=b,smoothing_seasonal=g)\n"
     ]
    },
    {
     "name": "stdout",
     "output_type": "stream",
     "text": [
      "MAE=0.18645835027947566 for alpha=0.7424999999999999,beta=0.0,gamm=0.01\n",
      "MAE=0.18645835027947566 for alpha=0.7424999999999999,beta=0.0,gamm=0.4\n",
      "MAE=0.18645835027947566 for alpha=0.7424999999999999,beta=0.0,gamm=0.3\n",
      "MAE=0.18645835027947566 for alpha=0.7424999999999999,beta=0.0,gamm=0.23\n",
      "MAE=0.1771998812304814 for alpha=0.7424999999999999,beta=0.2475,gamm=0.01\n",
      "MAE=0.1771998812304814 for alpha=0.7424999999999999,beta=0.2475,gamm=0.4\n",
      "MAE=0.1771998812304814 for alpha=0.7424999999999999,beta=0.2475,gamm=0.3\n",
      "MAE=0.1771998812304814 for alpha=0.7424999999999999,beta=0.2475,gamm=0.23\n",
      "MAE=0.5514529179203501 for alpha=0.7424999999999999,beta=0.495,gamm=0.01\n",
      "MAE=0.5514529179203501 for alpha=0.7424999999999999,beta=0.495,gamm=0.4\n",
      "MAE=0.5514529179203501 for alpha=0.7424999999999999,beta=0.495,gamm=0.3\n",
      "MAE=0.5514529179203501 for alpha=0.7424999999999999,beta=0.495,gamm=0.23\n",
      "MAE=1.1819870070403573 for alpha=0.7424999999999999,beta=0.7424999999999999,gamm=0.01\n",
      "MAE=1.1819870070403573 for alpha=0.7424999999999999,beta=0.7424999999999999,gamm=0.4\n",
      "MAE=1.1819870070403573 for alpha=0.7424999999999999,beta=0.7424999999999999,gamm=0.3\n"
     ]
    },
    {
     "name": "stderr",
     "output_type": "stream",
     "text": [
      "C:\\Users\\sony\\AppData\\Local\\Temp\\ipykernel_8472\\2542097125.py:15: FutureWarning: the 'smoothing_slope'' keyword is deprecated, use 'smoothing_trend' instead.\n",
      "  ets_fit=ets_model.fit(smoothing_level=a,smoothing_slope=b,smoothing_seasonal=g)\n",
      "C:\\Users\\sony\\AppData\\Local\\Temp\\ipykernel_8472\\2542097125.py:15: FutureWarning: the 'smoothing_slope'' keyword is deprecated, use 'smoothing_trend' instead.\n",
      "  ets_fit=ets_model.fit(smoothing_level=a,smoothing_slope=b,smoothing_seasonal=g)\n",
      "C:\\Users\\sony\\AppData\\Local\\Temp\\ipykernel_8472\\2542097125.py:15: FutureWarning: the 'smoothing_slope'' keyword is deprecated, use 'smoothing_trend' instead.\n",
      "  ets_fit=ets_model.fit(smoothing_level=a,smoothing_slope=b,smoothing_seasonal=g)\n",
      "C:\\Users\\sony\\AppData\\Local\\Temp\\ipykernel_8472\\2542097125.py:15: FutureWarning: the 'smoothing_slope'' keyword is deprecated, use 'smoothing_trend' instead.\n",
      "  ets_fit=ets_model.fit(smoothing_level=a,smoothing_slope=b,smoothing_seasonal=g)\n",
      "C:\\Users\\sony\\AppData\\Local\\Temp\\ipykernel_8472\\2542097125.py:15: FutureWarning: the 'smoothing_slope'' keyword is deprecated, use 'smoothing_trend' instead.\n",
      "  ets_fit=ets_model.fit(smoothing_level=a,smoothing_slope=b,smoothing_seasonal=g)\n",
      "C:\\Users\\sony\\AppData\\Local\\Temp\\ipykernel_8472\\2542097125.py:15: FutureWarning: the 'smoothing_slope'' keyword is deprecated, use 'smoothing_trend' instead.\n",
      "  ets_fit=ets_model.fit(smoothing_level=a,smoothing_slope=b,smoothing_seasonal=g)\n",
      "C:\\Users\\sony\\AppData\\Local\\Temp\\ipykernel_8472\\2542097125.py:15: FutureWarning: the 'smoothing_slope'' keyword is deprecated, use 'smoothing_trend' instead.\n",
      "  ets_fit=ets_model.fit(smoothing_level=a,smoothing_slope=b,smoothing_seasonal=g)\n",
      "C:\\Users\\sony\\AppData\\Local\\Temp\\ipykernel_8472\\2542097125.py:15: FutureWarning: the 'smoothing_slope'' keyword is deprecated, use 'smoothing_trend' instead.\n",
      "  ets_fit=ets_model.fit(smoothing_level=a,smoothing_slope=b,smoothing_seasonal=g)\n",
      "C:\\Users\\sony\\AppData\\Local\\Temp\\ipykernel_8472\\2542097125.py:15: FutureWarning: the 'smoothing_slope'' keyword is deprecated, use 'smoothing_trend' instead.\n",
      "  ets_fit=ets_model.fit(smoothing_level=a,smoothing_slope=b,smoothing_seasonal=g)\n",
      "C:\\Users\\sony\\AppData\\Local\\Temp\\ipykernel_8472\\2542097125.py:15: FutureWarning: the 'smoothing_slope'' keyword is deprecated, use 'smoothing_trend' instead.\n",
      "  ets_fit=ets_model.fit(smoothing_level=a,smoothing_slope=b,smoothing_seasonal=g)\n",
      "C:\\Users\\sony\\AppData\\Local\\Temp\\ipykernel_8472\\2542097125.py:15: FutureWarning: the 'smoothing_slope'' keyword is deprecated, use 'smoothing_trend' instead.\n",
      "  ets_fit=ets_model.fit(smoothing_level=a,smoothing_slope=b,smoothing_seasonal=g)\n"
     ]
    },
    {
     "name": "stdout",
     "output_type": "stream",
     "text": [
      "MAE=1.1819870070403573 for alpha=0.7424999999999999,beta=0.7424999999999999,gamm=0.23\n",
      "MAE=1.5109158581179603 for alpha=0.7424999999999999,beta=0.99,gamm=0.01\n",
      "MAE=1.5109158581179603 for alpha=0.7424999999999999,beta=0.99,gamm=0.4\n",
      "MAE=1.5109158581179603 for alpha=0.7424999999999999,beta=0.99,gamm=0.3\n",
      "MAE=1.5109158581179603 for alpha=0.7424999999999999,beta=0.99,gamm=0.23\n",
      "MAE=0.44826388106500087 for alpha=0.99,beta=0.0,gamm=0.01\n",
      "MAE=0.44826388106500087 for alpha=0.99,beta=0.0,gamm=0.4\n",
      "MAE=0.44826388106500087 for alpha=0.99,beta=0.0,gamm=0.3\n",
      "MAE=0.44826388106500087 for alpha=0.99,beta=0.0,gamm=0.23\n",
      "MAE=0.3986754123613945 for alpha=0.99,beta=0.2475,gamm=0.01\n",
      "MAE=0.3986754123613945 for alpha=0.99,beta=0.2475,gamm=0.4\n",
      "MAE=0.3986754123613945 for alpha=0.99,beta=0.2475,gamm=0.3\n",
      "MAE=0.3986754123613945 for alpha=0.99,beta=0.2475,gamm=0.23\n",
      "MAE=0.7226767345168509 for alpha=0.99,beta=0.495,gamm=0.01\n"
     ]
    },
    {
     "name": "stderr",
     "output_type": "stream",
     "text": [
      "C:\\Users\\sony\\AppData\\Local\\Temp\\ipykernel_8472\\2542097125.py:15: FutureWarning: the 'smoothing_slope'' keyword is deprecated, use 'smoothing_trend' instead.\n",
      "  ets_fit=ets_model.fit(smoothing_level=a,smoothing_slope=b,smoothing_seasonal=g)\n",
      "C:\\Users\\sony\\AppData\\Local\\Temp\\ipykernel_8472\\2542097125.py:15: FutureWarning: the 'smoothing_slope'' keyword is deprecated, use 'smoothing_trend' instead.\n",
      "  ets_fit=ets_model.fit(smoothing_level=a,smoothing_slope=b,smoothing_seasonal=g)\n",
      "C:\\Users\\sony\\AppData\\Local\\Temp\\ipykernel_8472\\2542097125.py:15: FutureWarning: the 'smoothing_slope'' keyword is deprecated, use 'smoothing_trend' instead.\n",
      "  ets_fit=ets_model.fit(smoothing_level=a,smoothing_slope=b,smoothing_seasonal=g)\n",
      "C:\\Users\\sony\\AppData\\Local\\Temp\\ipykernel_8472\\2542097125.py:15: FutureWarning: the 'smoothing_slope'' keyword is deprecated, use 'smoothing_trend' instead.\n",
      "  ets_fit=ets_model.fit(smoothing_level=a,smoothing_slope=b,smoothing_seasonal=g)\n",
      "C:\\Users\\sony\\AppData\\Local\\Temp\\ipykernel_8472\\2542097125.py:15: FutureWarning: the 'smoothing_slope'' keyword is deprecated, use 'smoothing_trend' instead.\n",
      "  ets_fit=ets_model.fit(smoothing_level=a,smoothing_slope=b,smoothing_seasonal=g)\n",
      "C:\\Users\\sony\\AppData\\Local\\Temp\\ipykernel_8472\\2542097125.py:15: FutureWarning: the 'smoothing_slope'' keyword is deprecated, use 'smoothing_trend' instead.\n",
      "  ets_fit=ets_model.fit(smoothing_level=a,smoothing_slope=b,smoothing_seasonal=g)\n",
      "C:\\Users\\sony\\AppData\\Local\\Temp\\ipykernel_8472\\2542097125.py:15: FutureWarning: the 'smoothing_slope'' keyword is deprecated, use 'smoothing_trend' instead.\n",
      "  ets_fit=ets_model.fit(smoothing_level=a,smoothing_slope=b,smoothing_seasonal=g)\n",
      "C:\\Users\\sony\\AppData\\Local\\Temp\\ipykernel_8472\\2542097125.py:15: FutureWarning: the 'smoothing_slope'' keyword is deprecated, use 'smoothing_trend' instead.\n",
      "  ets_fit=ets_model.fit(smoothing_level=a,smoothing_slope=b,smoothing_seasonal=g)\n",
      "C:\\Users\\sony\\AppData\\Local\\Temp\\ipykernel_8472\\2542097125.py:15: FutureWarning: the 'smoothing_slope'' keyword is deprecated, use 'smoothing_trend' instead.\n",
      "  ets_fit=ets_model.fit(smoothing_level=a,smoothing_slope=b,smoothing_seasonal=g)\n",
      "C:\\Users\\sony\\AppData\\Local\\Temp\\ipykernel_8472\\2542097125.py:15: FutureWarning: the 'smoothing_slope'' keyword is deprecated, use 'smoothing_trend' instead.\n",
      "  ets_fit=ets_model.fit(smoothing_level=a,smoothing_slope=b,smoothing_seasonal=g)\n",
      "C:\\Users\\sony\\AppData\\Local\\Temp\\ipykernel_8472\\2542097125.py:15: FutureWarning: the 'smoothing_slope'' keyword is deprecated, use 'smoothing_trend' instead.\n",
      "  ets_fit=ets_model.fit(smoothing_level=a,smoothing_slope=b,smoothing_seasonal=g)\n",
      "C:\\Users\\sony\\AppData\\Local\\Temp\\ipykernel_8472\\2542097125.py:15: FutureWarning: the 'smoothing_slope'' keyword is deprecated, use 'smoothing_trend' instead.\n",
      "  ets_fit=ets_model.fit(smoothing_level=a,smoothing_slope=b,smoothing_seasonal=g)\n",
      "C:\\Users\\sony\\AppData\\Local\\Temp\\ipykernel_8472\\2542097125.py:15: FutureWarning: the 'smoothing_slope'' keyword is deprecated, use 'smoothing_trend' instead.\n",
      "  ets_fit=ets_model.fit(smoothing_level=a,smoothing_slope=b,smoothing_seasonal=g)\n"
     ]
    },
    {
     "name": "stdout",
     "output_type": "stream",
     "text": [
      "MAE=0.7226767345168509 for alpha=0.99,beta=0.495,gamm=0.4\n",
      "MAE=0.7226767345168509 for alpha=0.99,beta=0.495,gamm=0.3\n",
      "MAE=0.7226767345168509 for alpha=0.99,beta=0.495,gamm=0.23\n",
      "MAE=0.9260215417987542 for alpha=0.99,beta=0.7424999999999999,gamm=0.01\n",
      "MAE=0.9260215417987542 for alpha=0.99,beta=0.7424999999999999,gamm=0.4\n",
      "MAE=0.9260215417987542 for alpha=0.99,beta=0.7424999999999999,gamm=0.3\n",
      "MAE=0.9260215417987542 for alpha=0.99,beta=0.7424999999999999,gamm=0.23\n",
      "MAE=0.7971719009505766 for alpha=0.99,beta=0.99,gamm=0.01\n",
      "MAE=0.7971719009505766 for alpha=0.99,beta=0.99,gamm=0.4\n",
      "MAE=0.7971719009505766 for alpha=0.99,beta=0.99,gamm=0.3\n",
      "MAE=0.7971719009505766 for alpha=0.99,beta=0.99,gamm=0.23\n"
     ]
    },
    {
     "name": "stderr",
     "output_type": "stream",
     "text": [
      "C:\\Users\\sony\\AppData\\Local\\Temp\\ipykernel_8472\\2542097125.py:15: FutureWarning: the 'smoothing_slope'' keyword is deprecated, use 'smoothing_trend' instead.\n",
      "  ets_fit=ets_model.fit(smoothing_level=a,smoothing_slope=b,smoothing_seasonal=g)\n",
      "C:\\Users\\sony\\AppData\\Local\\Temp\\ipykernel_8472\\2542097125.py:15: FutureWarning: the 'smoothing_slope'' keyword is deprecated, use 'smoothing_trend' instead.\n",
      "  ets_fit=ets_model.fit(smoothing_level=a,smoothing_slope=b,smoothing_seasonal=g)\n",
      "C:\\Users\\sony\\AppData\\Local\\Temp\\ipykernel_8472\\2542097125.py:15: FutureWarning: the 'smoothing_slope'' keyword is deprecated, use 'smoothing_trend' instead.\n",
      "  ets_fit=ets_model.fit(smoothing_level=a,smoothing_slope=b,smoothing_seasonal=g)\n",
      "C:\\Users\\sony\\AppData\\Local\\Temp\\ipykernel_8472\\2542097125.py:15: FutureWarning: the 'smoothing_slope'' keyword is deprecated, use 'smoothing_trend' instead.\n",
      "  ets_fit=ets_model.fit(smoothing_level=a,smoothing_slope=b,smoothing_seasonal=g)\n"
     ]
    }
   ],
   "source": [
    "alpha=np.linspace(0,.99,5)\n",
    "beta=np.linspace(0,.99,5)\n",
    "gamma=[0.01,.4,.3,.23]\n",
    "\n",
    "min_mae=987654321987654\n",
    "\n",
    "al1=0\n",
    "bet1=0\n",
    "gam1=0\n",
    "\n",
    "for a in alpha:\n",
    "    for b in beta:\n",
    "        for g in gamma:\n",
    "            ets_model=ExponentialSmoothing(train,trend='mul',seasonal_periods=12)\n",
    "            ets_fit=ets_model.fit(smoothing_level=a,smoothing_slope=b,smoothing_seasonal=g)  \n",
    "            pred_y=ets_fit.forecast(6)\n",
    "            mae=np.mean(abs(test-pred_y)/test)\n",
    "            print(f'MAE={mae} for alpha={a},beta={b},gamm={g}')\n",
    "            if min_mae>mae:\n",
    "                min_mae=mae\n",
    "                al1=a\n",
    "                bet1=b\n",
    "                gam1=g\n",
    "mypara={'alpha':al1,'beta':bet1,'gamma':gam1}"
   ]
  },
  {
   "cell_type": "code",
   "execution_count": 47,
   "id": "c8e350a9",
   "metadata": {},
   "outputs": [
    {
     "data": {
      "text/plain": [
       "0.14806293320428326"
      ]
     },
     "execution_count": 47,
     "metadata": {},
     "output_type": "execute_result"
    }
   ],
   "source": [
    "min_mae"
   ]
  },
  {
   "cell_type": "code",
   "execution_count": 48,
   "id": "7be65c3c",
   "metadata": {},
   "outputs": [
    {
     "data": {
      "text/plain": [
       "0.495"
      ]
     },
     "execution_count": 48,
     "metadata": {},
     "output_type": "execute_result"
    }
   ],
   "source": [
    "al1"
   ]
  },
  {
   "cell_type": "code",
   "execution_count": 49,
   "id": "816e04c0",
   "metadata": {},
   "outputs": [
    {
     "data": {
      "text/plain": [
       "0.495"
      ]
     },
     "execution_count": 49,
     "metadata": {},
     "output_type": "execute_result"
    }
   ],
   "source": [
    "bet1"
   ]
  },
  {
   "cell_type": "code",
   "execution_count": 50,
   "id": "dd4b7578",
   "metadata": {},
   "outputs": [
    {
     "data": {
      "text/plain": [
       "0.01"
      ]
     },
     "execution_count": 50,
     "metadata": {},
     "output_type": "execute_result"
    }
   ],
   "source": [
    "gam1"
   ]
  },
  {
   "cell_type": "code",
   "execution_count": 51,
   "id": "f0d66c22",
   "metadata": {},
   "outputs": [
    {
     "data": {
      "text/plain": [
       "{'alpha': 0.495, 'beta': 0.495, 'gamma': 0.01}"
      ]
     },
     "execution_count": 51,
     "metadata": {},
     "output_type": "execute_result"
    }
   ],
   "source": [
    "mypara"
   ]
  },
  {
   "cell_type": "code",
   "execution_count": 52,
   "id": "781fc78b",
   "metadata": {},
   "outputs": [
    {
     "name": "stderr",
     "output_type": "stream",
     "text": [
      "C:\\Users\\sony\\AppData\\Local\\Temp\\ipykernel_8472\\3595548207.py:10: FutureWarning: the 'smoothing_slope'' keyword is deprecated, use 'smoothing_trend' instead.\n",
      "  ets_fit=ets_model.fit(smoothing_level=alpha,smoothing_slope=beta,smoothing_seasonal=gamma)\n"
     ]
    }
   ],
   "source": [
    "# our guessed parametes\n",
    "from statsmodels.tsa.holtwinters import ExponentialSmoothing\n",
    "alpha=0.2475\n",
    "beta=0\n",
    "gamma=0.23\n",
    "\n",
    "ets_model=ExponentialSmoothing(Yt_data2,trend='mul',seasonal=\"mul\",seasonal_periods=12)\n",
    "\n",
    "\n",
    "ets_fit=ets_model.fit(smoothing_level=alpha,smoothing_slope=beta,smoothing_seasonal=gamma)"
   ]
  },
  {
   "cell_type": "code",
   "execution_count": 53,
   "id": "1829a9ef",
   "metadata": {},
   "outputs": [
    {
     "data": {
      "text/plain": [
       "2018-01-01    659.209770\n",
       "2018-02-01    525.011352\n",
       "2018-03-01    755.425492\n",
       "2018-04-01    722.843300\n",
       "2018-05-01    756.146048\n",
       "2018-06-01    839.886239\n",
       "Freq: MS, dtype: float64"
      ]
     },
     "execution_count": 53,
     "metadata": {},
     "output_type": "execute_result"
    }
   ],
   "source": [
    "# Forecast for next 6 month\n",
    "ets_fit.forecast(6)"
   ]
  },
  {
   "cell_type": "code",
   "execution_count": 54,
   "id": "a287f868",
   "metadata": {},
   "outputs": [
    {
     "data": {
      "text/plain": [
       "<AxesSubplot:>"
      ]
     },
     "execution_count": 54,
     "metadata": {},
     "output_type": "execute_result"
    },
    {
     "data": {
      "image/png": "[encoded data removed]",
      "text/plain": [
       "<Figure size 432x288 with 1 Axes>"
      ]
     },
     "metadata": {
      "needs_background": "light"
     },
     "output_type": "display_data"
    }
   ],
   "source": [
    "ets_fit.forecast(12).plot()"
   ]
  },
  {
   "cell_type": "code",
   "execution_count": 55,
   "id": "4fe1e32e",
   "metadata": {},
   "outputs": [
    {
     "data": {
      "text/plain": [
       "<AxesSubplot:xlabel='order_date'>"
      ]
     },
     "execution_count": 55,
     "metadata": {},
     "output_type": "execute_result"
    },
    {
     "data": {
      "image/png": "[encoded data removed]",
      "text/plain": [
       "<Figure size 432x288 with 1 Axes>"
      ]
     },
     "metadata": {
      "needs_background": "light"
     },
     "output_type": "display_data"
    }
   ],
   "source": [
    "train.plot()"
   ]
  },
  {
   "cell_type": "markdown",
   "id": "1302b303",
   "metadata": {},
   "source": [
    "### ARIMA"
   ]
  },
  {
   "cell_type": "code",
   "execution_count": null,
   "id": "34ce379f",
   "metadata": {},
   "outputs": [],
   "source": [
    "from statsmodels.tsa.stattools import adfuller\n",
    "# Null-Series is not stationery\n",
    "# Alternate-Series is stationery"
   ]
  },
  {
   "cell_type": "code",
   "execution_count": null,
   "id": "38c79188",
   "metadata": {},
   "outputs": [],
   "source": []
  },
  {
   "cell_type": "markdown",
   "id": "ee95b430",
   "metadata": {},
   "source": [
    "#### as my series is stationery with any diff so my d would be 0"
   ]
  },
  {
   "cell_type": "code",
   "execution_count": null,
   "id": "77226878",
   "metadata": {},
   "outputs": [],
   "source": [
    "plt.subplot(12,)"
   ]
  },
  {
   "cell_type": "code",
   "execution_count": 62,
   "id": "974f161b",
   "metadata": {},
   "outputs": [
    {
     "data": {
      "image/png": "[encoded data removed]",
      "text/plain": [
       "<Figure size 864x288 with 2 Axes>"
      ]
     },
     "metadata": {
      "needs_background": "light"
     },
     "output_type": "display_data"
    }
   ],
   "source": [
    "import statsmodels.tsa.api as smt\n",
    "fig,axes=plt.subplots(1,2,sharey=False,sharex=False)\n",
    "fig.set_figwidth(12)\n",
    "fig.set_figheight(4)\n",
    "smt.graphics.plot_acf(Yt_data2,lags=10,ax=axes[0],alpha=0.2)\n",
    "smt.graphics.plot_pacf(Yt_data2,lags=10,ax=axes[1],alpha=0.5,method='ols')\n",
    "plt.tight_layout()"
   ]
  },
  {
   "cell_type": "code",
   "execution_count": null,
   "id": "0f76618d",
   "metadata": {},
   "outputs": [],
   "source": [
    "# p=3,q=3,d=0\n",
    "# P,D,Q,period,\n",
    "# in general , P=p,D=0,Q=q,period=12"
   ]
  },
  {
   "cell_type": "code",
   "execution_count": 68,
   "id": "3b678bd3",
   "metadata": {},
   "outputs": [],
   "source": [
    "import statsmodels.api as sm\n",
    "# here in function order=(p,d,q)\n",
    "# seasonal_order=(P,D,Q,period)\n",
    "\n",
    "model=sm.tsa.statespace.SARIMAX(train,order=(3,0,1),seasonal_order=(1,0,1,12),\n",
    "                                                   enforce_stationarity=False,\n",
    "                                                   enforce_invertibility=False).fit()"
   ]
  },
  {
   "cell_type": "code",
   "execution_count": 72,
   "id": "fe9158dc",
   "metadata": {},
   "outputs": [
    {
     "name": "stdout",
     "output_type": "stream",
     "text": [
      "                                     SARIMAX Results                                      \n",
      "==========================================================================================\n",
      "Dep. Variable:                              Sales   No. Observations:                   42\n",
      "Model:             SARIMAX(3, 0, 1)x(1, 0, 1, 12)   Log Likelihood                -183.848\n",
      "Date:                            Mon, 21 Nov 2022   AIC                            381.697\n",
      "Time:                                    10:20:55   BIC                            390.768\n",
      "Sample:                                01-01-2014   HQIC                           384.394\n",
      "                                     - 06-01-2017                                         \n",
      "Covariance Type:                              opg                                         \n",
      "==============================================================================\n",
      "                 coef    std err          z      P>|z|      [0.025      0.975]\n",
      "------------------------------------------------------------------------------\n",
      "ar.L1         -0.0238      1.696     -0.014      0.989      -3.348       3.301\n",
      "ar.L2          0.0817      0.323      0.253      0.800      -0.552       0.715\n",
      "ar.L3          0.0333      0.246      0.135      0.892      -0.448       0.515\n",
      "ma.L1          0.1239      1.712      0.072      0.942      -3.232       3.480\n",
      "ar.S.L12       0.9988      0.072     13.957      0.000       0.859       1.139\n",
      "ma.S.L12      -0.5178      0.485     -1.068      0.285      -1.468       0.432\n",
      "sigma2      4.207e+04    2.1e+04      2.006      0.045     972.655    8.32e+04\n",
      "===================================================================================\n",
      "Ljung-Box (L1) (Q):                   0.00   Jarque-Bera (JB):                 1.80\n",
      "Prob(Q):                              0.97   Prob(JB):                         0.41\n",
      "Heteroskedasticity (H):               0.46   Skew:                            -0.54\n",
      "Prob(H) (two-sided):                  0.26   Kurtosis:                         2.34\n",
      "===================================================================================\n",
      "\n",
      "Warnings:\n",
      "[1] Covariance matrix calculated using the outer product of gradients (complex-step).\n"
     ]
    }
   ],
   "source": [
    "print(model.summary())"
   ]
  },
  {
   "cell_type": "code",
   "execution_count": 69,
   "id": "1454dd04",
   "metadata": {},
   "outputs": [
    {
     "data": {
      "text/plain": [
       "2017-07-01     730.153448\n",
       "2017-08-01     650.207879\n",
       "2017-09-01    1176.701371\n",
       "2017-10-01     652.081142\n",
       "2017-11-01    1210.042494\n",
       "2017-12-01    1321.302417\n",
       "Freq: MS, Name: predicted_mean, dtype: float64"
      ]
     },
     "execution_count": 69,
     "metadata": {},
     "output_type": "execute_result"
    }
   ],
   "source": [
    "forecasterima=model.forecast(6)\n",
    "forecasterima"
   ]
  },
  {
   "cell_type": "code",
   "execution_count": 70,
   "id": "4221f3e6",
   "metadata": {},
   "outputs": [
    {
     "data": {
      "text/plain": [
       "order_date\n",
       "2017-06-01     826.460291\n",
       "2017-07-01     562.524857\n",
       "2017-08-01     857.881889\n",
       "2017-09-01    1209.508583\n",
       "2017-10-01     875.362728\n",
       "2017-11-01    1277.817759\n",
       "2017-12-01    1256.298672\n",
       "Freq: MS, Name: Sales, dtype: float64"
      ]
     },
     "execution_count": 70,
     "metadata": {},
     "output_type": "execute_result"
    }
   ],
   "source": [
    "test"
   ]
  },
  {
   "cell_type": "code",
   "execution_count": 71,
   "id": "ce045dee",
   "metadata": {},
   "outputs": [
    {
     "name": "stdout",
     "output_type": "stream",
     "text": [
      "MAE 0.15450843197769967\n"
     ]
    }
   ],
   "source": [
    "print('MAE',np.mean(abs(test-forecasterima)/test))"
   ]
  },
  {
   "cell_type": "code",
   "execution_count": 73,
   "id": "8a9f7672",
   "metadata": {},
   "outputs": [],
   "source": [
    "# For calculating combination of different values of variable\n",
    "import itertools"
   ]
  },
  {
   "cell_type": "code",
   "execution_count": 76,
   "id": "0437a72d",
   "metadata": {},
   "outputs": [
    {
     "data": {
      "text/plain": [
       "[(0, 0), (0, 1), (1, 0), (1, 1), (2, 0), (2, 1)]"
      ]
     },
     "execution_count": 76,
     "metadata": {},
     "output_type": "execute_result"
    }
   ],
   "source": [
    "p=[0,1,2]\n",
    "d=[0,1]\n",
    "list(itertools.product(p,d))"
   ]
  },
  {
   "cell_type": "code",
   "execution_count": 77,
   "id": "696657ab",
   "metadata": {},
   "outputs": [
    {
     "name": "stdout",
     "output_type": "stream",
     "text": [
      "(0, 0)\n",
      "(0, 1)\n",
      "(1, 0)\n",
      "(1, 1)\n",
      "(2, 0)\n",
      "(2, 1)\n"
     ]
    }
   ],
   "source": [
    "for i in list(itertools.product(p,d)):\n",
    "    print(i)"
   ]
  },
  {
   "cell_type": "code",
   "execution_count": 88,
   "id": "8432c274",
   "metadata": {},
   "outputs": [
    {
     "data": {
      "text/plain": [
       "288"
      ]
     },
     "execution_count": 88,
     "metadata": {},
     "output_type": "execute_result"
    }
   ],
   "source": [
    "4*2*4*3*1*3"
   ]
  },
  {
   "cell_type": "code",
   "execution_count": 95,
   "id": "f0868214",
   "metadata": {
    "scrolled": true
   },
   "outputs": [
    {
     "name": "stdout",
     "output_type": "stream",
     "text": [
      "Completed for 0/288 MAE=1.0,pdq=(0, 0, 0),seasonal PDQ=(0, 0, 0, 12)\n",
      "Completed for 0/288 MAE=0.9999999999999982,pdq=(0, 0, 0),seasonal PDQ=(0, 0, 1, 12)\n"
     ]
    },
    {
     "name": "stderr",
     "output_type": "stream",
     "text": [
      "C:\\Users\\sony\\anaconda3\\lib\\site-packages\\statsmodels\\base\\model.py:604: ConvergenceWarning: Maximum Likelihood optimization failed to converge. Check mle_retvals\n",
      "  warnings.warn(\"Maximum Likelihood optimization failed to \"\n",
      "C:\\Users\\sony\\anaconda3\\lib\\site-packages\\statsmodels\\tsa\\statespace\\sarimax.py:866: UserWarning: Too few observations to estimate starting parameters for seasonal ARMA. All parameters except for variances will be set to zeros.\n",
      "  warn('Too few observations to estimate starting parameters%s.'\n"
     ]
    },
    {
     "name": "stdout",
     "output_type": "stream",
     "text": [
      "Completed for 0/288 MAE=0.38547189184838326,pdq=(0, 0, 0),seasonal PDQ=(0, 0, 2, 12)\n",
      "Completed for 0/288 MAE=0.16776890082509155,pdq=(0, 0, 0),seasonal PDQ=(1, 0, 0, 12)\n",
      "Completed for 0/288 MAE=0.15442725705171254,pdq=(0, 0, 0),seasonal PDQ=(1, 0, 1, 12)\n"
     ]
    },
    {
     "name": "stderr",
     "output_type": "stream",
     "text": [
      "C:\\Users\\sony\\anaconda3\\lib\\site-packages\\statsmodels\\tsa\\statespace\\sarimax.py:866: UserWarning: Too few observations to estimate starting parameters for seasonal ARMA. All parameters except for variances will be set to zeros.\n",
      "  warn('Too few observations to estimate starting parameters%s.'\n",
      "C:\\Users\\sony\\anaconda3\\lib\\site-packages\\statsmodels\\base\\model.py:604: ConvergenceWarning: Maximum Likelihood optimization failed to converge. Check mle_retvals\n",
      "  warnings.warn(\"Maximum Likelihood optimization failed to \"\n"
     ]
    },
    {
     "name": "stdout",
     "output_type": "stream",
     "text": [
      "Completed for 0/288 MAE=0.16876193429186595,pdq=(0, 0, 0),seasonal PDQ=(1, 0, 2, 12)\n",
      "Completed for 0/288 MAE=0.14217933481760853,pdq=(0, 0, 0),seasonal PDQ=(2, 0, 0, 12)\n",
      "Completed for 0/288 MAE=0.15829190683106023,pdq=(0, 0, 0),seasonal PDQ=(2, 0, 1, 12)\n"
     ]
    },
    {
     "name": "stderr",
     "output_type": "stream",
     "text": [
      "C:\\Users\\sony\\anaconda3\\lib\\site-packages\\statsmodels\\tsa\\statespace\\sarimax.py:866: UserWarning: Too few observations to estimate starting parameters for seasonal ARMA. All parameters except for variances will be set to zeros.\n",
      "  warn('Too few observations to estimate starting parameters%s.'\n"
     ]
    },
    {
     "name": "stdout",
     "output_type": "stream",
     "text": [
      "Completed for 0/288 MAE=0.16282534731433143,pdq=(0, 0, 0),seasonal PDQ=(2, 0, 2, 12)\n",
      "Completed for 0/288 MAE=0.8952122087369405,pdq=(0, 0, 1),seasonal PDQ=(0, 0, 0, 12)\n",
      "Completed for 0/288 MAE=0.9999999999999969,pdq=(0, 0, 1),seasonal PDQ=(0, 0, 1, 12)\n"
     ]
    },
    {
     "name": "stderr",
     "output_type": "stream",
     "text": [
      "C:\\Users\\sony\\anaconda3\\lib\\site-packages\\statsmodels\\base\\model.py:604: ConvergenceWarning: Maximum Likelihood optimization failed to converge. Check mle_retvals\n",
      "  warnings.warn(\"Maximum Likelihood optimization failed to \"\n",
      "C:\\Users\\sony\\anaconda3\\lib\\site-packages\\statsmodels\\tsa\\statespace\\sarimax.py:866: UserWarning: Too few observations to estimate starting parameters for seasonal ARMA. All parameters except for variances will be set to zeros.\n",
      "  warn('Too few observations to estimate starting parameters%s.'\n"
     ]
    },
    {
     "name": "stdout",
     "output_type": "stream",
     "text": [
      "Completed for 0/288 MAE=0.41522414385992024,pdq=(0, 0, 1),seasonal PDQ=(0, 0, 2, 12)\n",
      "Completed for 0/288 MAE=0.16952031391211067,pdq=(0, 0, 1),seasonal PDQ=(1, 0, 0, 12)\n"
     ]
    },
    {
     "name": "stderr",
     "output_type": "stream",
     "text": [
      "C:\\Users\\sony\\anaconda3\\lib\\site-packages\\statsmodels\\base\\model.py:604: ConvergenceWarning: Maximum Likelihood optimization failed to converge. Check mle_retvals\n",
      "  warnings.warn(\"Maximum Likelihood optimization failed to \"\n",
      "C:\\Users\\sony\\anaconda3\\lib\\site-packages\\statsmodels\\tsa\\statespace\\sarimax.py:866: UserWarning: Too few observations to estimate starting parameters for seasonal ARMA. All parameters except for variances will be set to zeros.\n",
      "  warn('Too few observations to estimate starting parameters%s.'\n"
     ]
    },
    {
     "name": "stdout",
     "output_type": "stream",
     "text": [
      "Completed for 0/288 MAE=0.17459718477374594,pdq=(0, 0, 1),seasonal PDQ=(1, 0, 1, 12)\n"
     ]
    },
    {
     "name": "stderr",
     "output_type": "stream",
     "text": [
      "C:\\Users\\sony\\anaconda3\\lib\\site-packages\\statsmodels\\base\\model.py:604: ConvergenceWarning: Maximum Likelihood optimization failed to converge. Check mle_retvals\n",
      "  warnings.warn(\"Maximum Likelihood optimization failed to \"\n"
     ]
    },
    {
     "name": "stdout",
     "output_type": "stream",
     "text": [
      "Completed for 0/288 MAE=0.18623884841737284,pdq=(0, 0, 1),seasonal PDQ=(1, 0, 2, 12)\n",
      "Completed for 0/288 MAE=0.15348590976458656,pdq=(0, 0, 1),seasonal PDQ=(2, 0, 0, 12)\n",
      "Completed for 0/288 MAE=0.16109125029610064,pdq=(0, 0, 1),seasonal PDQ=(2, 0, 1, 12)\n"
     ]
    },
    {
     "name": "stderr",
     "output_type": "stream",
     "text": [
      "C:\\Users\\sony\\anaconda3\\lib\\site-packages\\statsmodels\\tsa\\statespace\\sarimax.py:866: UserWarning: Too few observations to estimate starting parameters for seasonal ARMA. All parameters except for variances will be set to zeros.\n",
      "  warn('Too few observations to estimate starting parameters%s.'\n",
      "C:\\Users\\sony\\anaconda3\\lib\\site-packages\\statsmodels\\base\\model.py:604: ConvergenceWarning: Maximum Likelihood optimization failed to converge. Check mle_retvals\n",
      "  warnings.warn(\"Maximum Likelihood optimization failed to \"\n"
     ]
    },
    {
     "name": "stdout",
     "output_type": "stream",
     "text": [
      "Completed for 0/288 MAE=0.17354300395733813,pdq=(0, 0, 1),seasonal PDQ=(2, 0, 2, 12)\n",
      "Completed for 0/288 MAE=0.8364179379156239,pdq=(0, 0, 2),seasonal PDQ=(0, 0, 0, 12)\n",
      "Completed for 0/288 MAE=48539362.946339756,pdq=(0, 0, 2),seasonal PDQ=(0, 0, 1, 12)\n"
     ]
    },
    {
     "name": "stderr",
     "output_type": "stream",
     "text": [
      "C:\\Users\\sony\\anaconda3\\lib\\site-packages\\statsmodels\\tsa\\statespace\\sarimax.py:866: UserWarning: Too few observations to estimate starting parameters for seasonal ARMA. All parameters except for variances will be set to zeros.\n",
      "  warn('Too few observations to estimate starting parameters%s.'\n"
     ]
    },
    {
     "name": "stdout",
     "output_type": "stream",
     "text": [
      "Completed for 0/288 MAE=0.4243756173566078,pdq=(0, 0, 2),seasonal PDQ=(0, 0, 2, 12)\n",
      "Completed for 0/288 MAE=0.17358436280035425,pdq=(0, 0, 2),seasonal PDQ=(1, 0, 0, 12)\n",
      "Completed for 0/288 MAE=0.16442854413288485,pdq=(0, 0, 2),seasonal PDQ=(1, 0, 1, 12)\n"
     ]
    },
    {
     "name": "stderr",
     "output_type": "stream",
     "text": [
      "C:\\Users\\sony\\anaconda3\\lib\\site-packages\\statsmodels\\tsa\\statespace\\sarimax.py:866: UserWarning: Too few observations to estimate starting parameters for seasonal ARMA. All parameters except for variances will be set to zeros.\n",
      "  warn('Too few observations to estimate starting parameters%s.'\n",
      "C:\\Users\\sony\\anaconda3\\lib\\site-packages\\statsmodels\\base\\model.py:604: ConvergenceWarning: Maximum Likelihood optimization failed to converge. Check mle_retvals\n",
      "  warnings.warn(\"Maximum Likelihood optimization failed to \"\n"
     ]
    },
    {
     "name": "stdout",
     "output_type": "stream",
     "text": [
      "Completed for 0/288 MAE=0.19808422868405873,pdq=(0, 0, 2),seasonal PDQ=(1, 0, 2, 12)\n",
      "Completed for 0/288 MAE=0.15353318249788336,pdq=(0, 0, 2),seasonal PDQ=(2, 0, 0, 12)\n"
     ]
    },
    {
     "name": "stderr",
     "output_type": "stream",
     "text": [
      "C:\\Users\\sony\\anaconda3\\lib\\site-packages\\statsmodels\\base\\model.py:604: ConvergenceWarning: Maximum Likelihood optimization failed to converge. Check mle_retvals\n",
      "  warnings.warn(\"Maximum Likelihood optimization failed to \"\n",
      "C:\\Users\\sony\\anaconda3\\lib\\site-packages\\statsmodels\\tsa\\statespace\\sarimax.py:866: UserWarning: Too few observations to estimate starting parameters for seasonal ARMA. All parameters except for variances will be set to zeros.\n",
      "  warn('Too few observations to estimate starting parameters%s.'\n"
     ]
    },
    {
     "name": "stdout",
     "output_type": "stream",
     "text": [
      "Completed for 0/288 MAE=0.15863188412440019,pdq=(0, 0, 2),seasonal PDQ=(2, 0, 1, 12)\n"
     ]
    },
    {
     "name": "stderr",
     "output_type": "stream",
     "text": [
      "C:\\Users\\sony\\anaconda3\\lib\\site-packages\\statsmodels\\base\\model.py:604: ConvergenceWarning: Maximum Likelihood optimization failed to converge. Check mle_retvals\n",
      "  warnings.warn(\"Maximum Likelihood optimization failed to \"\n"
     ]
    },
    {
     "name": "stdout",
     "output_type": "stream",
     "text": [
      "Completed for 0/288 MAE=0.20222068448417926,pdq=(0, 0, 2),seasonal PDQ=(2, 0, 2, 12)\n",
      "Completed for 0/288 MAE=0.7767220910455249,pdq=(0, 0, 3),seasonal PDQ=(0, 0, 0, 12)\n",
      "Completed for 0/288 MAE=267650.38046746544,pdq=(0, 0, 3),seasonal PDQ=(0, 0, 1, 12)\n"
     ]
    },
    {
     "name": "stderr",
     "output_type": "stream",
     "text": [
      "C:\\Users\\sony\\anaconda3\\lib\\site-packages\\statsmodels\\base\\model.py:604: ConvergenceWarning: Maximum Likelihood optimization failed to converge. Check mle_retvals\n",
      "  warnings.warn(\"Maximum Likelihood optimization failed to \"\n",
      "C:\\Users\\sony\\anaconda3\\lib\\site-packages\\statsmodels\\tsa\\statespace\\sarimax.py:866: UserWarning: Too few observations to estimate starting parameters for seasonal ARMA. All parameters except for variances will be set to zeros.\n",
      "  warn('Too few observations to estimate starting parameters%s.'\n"
     ]
    },
    {
     "name": "stdout",
     "output_type": "stream",
     "text": [
      "Completed for 0/288 MAE=0.40217850207800826,pdq=(0, 0, 3),seasonal PDQ=(0, 0, 2, 12)\n",
      "Completed for 0/288 MAE=0.16516546240302016,pdq=(0, 0, 3),seasonal PDQ=(1, 0, 0, 12)\n"
     ]
    },
    {
     "name": "stderr",
     "output_type": "stream",
     "text": [
      "C:\\Users\\sony\\anaconda3\\lib\\site-packages\\statsmodels\\base\\model.py:604: ConvergenceWarning: Maximum Likelihood optimization failed to converge. Check mle_retvals\n",
      "  warnings.warn(\"Maximum Likelihood optimization failed to \"\n",
      "C:\\Users\\sony\\anaconda3\\lib\\site-packages\\statsmodels\\tsa\\statespace\\sarimax.py:866: UserWarning: Too few observations to estimate starting parameters for seasonal ARMA. All parameters except for variances will be set to zeros.\n",
      "  warn('Too few observations to estimate starting parameters%s.'\n"
     ]
    },
    {
     "name": "stdout",
     "output_type": "stream",
     "text": [
      "Completed for 0/288 MAE=0.18643644458503858,pdq=(0, 0, 3),seasonal PDQ=(1, 0, 1, 12)\n"
     ]
    },
    {
     "name": "stderr",
     "output_type": "stream",
     "text": [
      "C:\\Users\\sony\\anaconda3\\lib\\site-packages\\statsmodels\\base\\model.py:604: ConvergenceWarning: Maximum Likelihood optimization failed to converge. Check mle_retvals\n",
      "  warnings.warn(\"Maximum Likelihood optimization failed to \"\n"
     ]
    },
    {
     "name": "stdout",
     "output_type": "stream",
     "text": [
      "Completed for 0/288 MAE=0.20995719437793783,pdq=(0, 0, 3),seasonal PDQ=(1, 0, 2, 12)\n"
     ]
    },
    {
     "name": "stderr",
     "output_type": "stream",
     "text": [
      "C:\\Users\\sony\\anaconda3\\lib\\site-packages\\statsmodels\\base\\model.py:604: ConvergenceWarning: Maximum Likelihood optimization failed to converge. Check mle_retvals\n",
      "  warnings.warn(\"Maximum Likelihood optimization failed to \"\n"
     ]
    },
    {
     "name": "stdout",
     "output_type": "stream",
     "text": [
      "Completed for 0/288 MAE=0.15621745092754055,pdq=(0, 0, 3),seasonal PDQ=(2, 0, 0, 12)\n",
      "Completed for 0/288 MAE=0.12628730728076262,pdq=(0, 0, 3),seasonal PDQ=(2, 0, 1, 12)\n"
     ]
    },
    {
     "name": "stderr",
     "output_type": "stream",
     "text": [
      "C:\\Users\\sony\\anaconda3\\lib\\site-packages\\statsmodels\\tsa\\statespace\\sarimax.py:866: UserWarning: Too few observations to estimate starting parameters for seasonal ARMA. All parameters except for variances will be set to zeros.\n",
      "  warn('Too few observations to estimate starting parameters%s.'\n",
      "C:\\Users\\sony\\anaconda3\\lib\\site-packages\\statsmodels\\base\\model.py:604: ConvergenceWarning: Maximum Likelihood optimization failed to converge. Check mle_retvals\n",
      "  warnings.warn(\"Maximum Likelihood optimization failed to \"\n"
     ]
    },
    {
     "name": "stdout",
     "output_type": "stream",
     "text": [
      "Completed for 0/288 MAE=0.17812866461339835,pdq=(0, 0, 3),seasonal PDQ=(2, 0, 2, 12)\n",
      "Completed for 0/288 MAE=0.26229323976029423,pdq=(0, 1, 0),seasonal PDQ=(0, 0, 0, 12)\n"
     ]
    },
    {
     "name": "stderr",
     "output_type": "stream",
     "text": [
      "C:\\Users\\sony\\anaconda3\\lib\\site-packages\\statsmodels\\base\\model.py:604: ConvergenceWarning: Maximum Likelihood optimization failed to converge. Check mle_retvals\n",
      "  warnings.warn(\"Maximum Likelihood optimization failed to \"\n",
      "C:\\Users\\sony\\anaconda3\\lib\\site-packages\\statsmodels\\tsa\\statespace\\sarimax.py:866: UserWarning: Too few observations to estimate starting parameters for seasonal ARMA. All parameters except for variances will be set to zeros.\n",
      "  warn('Too few observations to estimate starting parameters%s.'\n"
     ]
    },
    {
     "name": "stdout",
     "output_type": "stream",
     "text": [
      "Completed for 0/288 MAE=0.2622932397602899,pdq=(0, 1, 0),seasonal PDQ=(0, 0, 1, 12)\n",
      "Completed for 0/288 MAE=0.17184313958359676,pdq=(0, 1, 0),seasonal PDQ=(0, 0, 2, 12)\n",
      "Completed for 0/288 MAE=0.16204210151019643,pdq=(0, 1, 0),seasonal PDQ=(1, 0, 0, 12)\n"
     ]
    },
    {
     "name": "stderr",
     "output_type": "stream",
     "text": [
      "C:\\Users\\sony\\anaconda3\\lib\\site-packages\\statsmodels\\base\\model.py:604: ConvergenceWarning: Maximum Likelihood optimization failed to converge. Check mle_retvals\n",
      "  warnings.warn(\"Maximum Likelihood optimization failed to \"\n",
      "C:\\Users\\sony\\anaconda3\\lib\\site-packages\\statsmodels\\tsa\\statespace\\sarimax.py:866: UserWarning: Too few observations to estimate starting parameters for seasonal ARMA. All parameters except for variances will be set to zeros.\n",
      "  warn('Too few observations to estimate starting parameters%s.'\n"
     ]
    },
    {
     "name": "stdout",
     "output_type": "stream",
     "text": [
      "Completed for 0/288 MAE=0.5950188569463103,pdq=(0, 1, 0),seasonal PDQ=(1, 0, 1, 12)\n",
      "Completed for 0/288 MAE=0.23548283507314527,pdq=(0, 1, 0),seasonal PDQ=(1, 0, 2, 12)\n",
      "Completed for 0/288 MAE=0.14304250557016804,pdq=(0, 1, 0),seasonal PDQ=(2, 0, 0, 12)\n"
     ]
    },
    {
     "name": "stderr",
     "output_type": "stream",
     "text": [
      "C:\\Users\\sony\\anaconda3\\lib\\site-packages\\statsmodels\\base\\model.py:604: ConvergenceWarning: Maximum Likelihood optimization failed to converge. Check mle_retvals\n",
      "  warnings.warn(\"Maximum Likelihood optimization failed to \"\n",
      "C:\\Users\\sony\\anaconda3\\lib\\site-packages\\statsmodels\\tsa\\statespace\\sarimax.py:866: UserWarning: Too few observations to estimate starting parameters for seasonal ARMA. All parameters except for variances will be set to zeros.\n",
      "  warn('Too few observations to estimate starting parameters%s.'\n"
     ]
    },
    {
     "name": "stdout",
     "output_type": "stream",
     "text": [
      "Completed for 0/288 MAE=0.3554209215644717,pdq=(0, 1, 0),seasonal PDQ=(2, 0, 1, 12)\n"
     ]
    },
    {
     "name": "stderr",
     "output_type": "stream",
     "text": [
      "C:\\Users\\sony\\anaconda3\\lib\\site-packages\\statsmodels\\base\\model.py:604: ConvergenceWarning: Maximum Likelihood optimization failed to converge. Check mle_retvals\n",
      "  warnings.warn(\"Maximum Likelihood optimization failed to \"\n"
     ]
    },
    {
     "name": "stdout",
     "output_type": "stream",
     "text": [
      "Completed for 0/288 MAE=0.1575652259165197,pdq=(0, 1, 0),seasonal PDQ=(2, 0, 2, 12)\n",
      "Completed for 0/288 MAE=0.2956287243038298,pdq=(0, 1, 1),seasonal PDQ=(0, 0, 0, 12)\n"
     ]
    },
    {
     "name": "stderr",
     "output_type": "stream",
     "text": [
      "C:\\Users\\sony\\anaconda3\\lib\\site-packages\\statsmodels\\base\\model.py:604: ConvergenceWarning: Maximum Likelihood optimization failed to converge. Check mle_retvals\n",
      "  warnings.warn(\"Maximum Likelihood optimization failed to \"\n",
      "C:\\Users\\sony\\anaconda3\\lib\\site-packages\\statsmodels\\tsa\\statespace\\sarimax.py:866: UserWarning: Too few observations to estimate starting parameters for seasonal ARMA. All parameters except for variances will be set to zeros.\n",
      "  warn('Too few observations to estimate starting parameters%s.'\n"
     ]
    },
    {
     "name": "stdout",
     "output_type": "stream",
     "text": [
      "Completed for 0/288 MAE=3111233055.534187,pdq=(0, 1, 1),seasonal PDQ=(0, 0, 1, 12)\n",
      "Completed for 0/288 MAE=0.1667257629673399,pdq=(0, 1, 1),seasonal PDQ=(0, 0, 2, 12)\n",
      "Completed for 0/288 MAE=0.1678404119200343,pdq=(0, 1, 1),seasonal PDQ=(1, 0, 0, 12)\n"
     ]
    },
    {
     "name": "stderr",
     "output_type": "stream",
     "text": [
      "C:\\Users\\sony\\anaconda3\\lib\\site-packages\\statsmodels\\base\\model.py:604: ConvergenceWarning: Maximum Likelihood optimization failed to converge. Check mle_retvals\n",
      "  warnings.warn(\"Maximum Likelihood optimization failed to \"\n",
      "C:\\Users\\sony\\anaconda3\\lib\\site-packages\\statsmodels\\tsa\\statespace\\sarimax.py:866: UserWarning: Too few observations to estimate starting parameters for seasonal ARMA. All parameters except for variances will be set to zeros.\n",
      "  warn('Too few observations to estimate starting parameters%s.'\n"
     ]
    },
    {
     "name": "stdout",
     "output_type": "stream",
     "text": [
      "Completed for 0/288 MAE=3416652623.8611774,pdq=(0, 1, 1),seasonal PDQ=(1, 0, 1, 12)\n",
      "Completed for 0/288 MAE=0.17978351052845812,pdq=(0, 1, 1),seasonal PDQ=(1, 0, 2, 12)\n",
      "Completed for 0/288 MAE=0.15514908145962994,pdq=(0, 1, 1),seasonal PDQ=(2, 0, 0, 12)\n",
      "Completed for 0/288 MAE=0.3549325195870831,pdq=(0, 1, 1),seasonal PDQ=(2, 0, 1, 12)\n"
     ]
    },
    {
     "name": "stderr",
     "output_type": "stream",
     "text": [
      "C:\\Users\\sony\\anaconda3\\lib\\site-packages\\statsmodels\\tsa\\statespace\\sarimax.py:866: UserWarning: Too few observations to estimate starting parameters for seasonal ARMA. All parameters except for variances will be set to zeros.\n",
      "  warn('Too few observations to estimate starting parameters%s.'\n",
      "C:\\Users\\sony\\anaconda3\\lib\\site-packages\\statsmodels\\base\\model.py:604: ConvergenceWarning: Maximum Likelihood optimization failed to converge. Check mle_retvals\n",
      "  warnings.warn(\"Maximum Likelihood optimization failed to \"\n"
     ]
    },
    {
     "name": "stdout",
     "output_type": "stream",
     "text": [
      "Completed for 0/288 MAE=0.1627147899222928,pdq=(0, 1, 1),seasonal PDQ=(2, 0, 2, 12)\n",
      "Completed for 0/288 MAE=0.2944486958580507,pdq=(0, 1, 2),seasonal PDQ=(0, 0, 0, 12)\n",
      "Completed for 0/288 MAE=514696357.0349903,pdq=(0, 1, 2),seasonal PDQ=(0, 0, 1, 12)\n"
     ]
    },
    {
     "name": "stderr",
     "output_type": "stream",
     "text": [
      "C:\\Users\\sony\\anaconda3\\lib\\site-packages\\statsmodels\\tsa\\statespace\\sarimax.py:866: UserWarning: Too few observations to estimate starting parameters for seasonal ARMA. All parameters except for variances will be set to zeros.\n",
      "  warn('Too few observations to estimate starting parameters%s.'\n"
     ]
    },
    {
     "name": "stdout",
     "output_type": "stream",
     "text": [
      "Completed for 0/288 MAE=0.16936959873785606,pdq=(0, 1, 2),seasonal PDQ=(0, 0, 2, 12)\n",
      "Completed for 0/288 MAE=0.16542354035897355,pdq=(0, 1, 2),seasonal PDQ=(1, 0, 0, 12)\n"
     ]
    },
    {
     "name": "stderr",
     "output_type": "stream",
     "text": [
      "C:\\Users\\sony\\anaconda3\\lib\\site-packages\\statsmodels\\base\\model.py:604: ConvergenceWarning: Maximum Likelihood optimization failed to converge. Check mle_retvals\n",
      "  warnings.warn(\"Maximum Likelihood optimization failed to \"\n",
      "C:\\Users\\sony\\anaconda3\\lib\\site-packages\\statsmodels\\tsa\\statespace\\sarimax.py:866: UserWarning: Too few observations to estimate starting parameters for seasonal ARMA. All parameters except for variances will be set to zeros.\n",
      "  warn('Too few observations to estimate starting parameters%s.'\n"
     ]
    },
    {
     "name": "stdout",
     "output_type": "stream",
     "text": [
      "Completed for 0/288 MAE=281123936.61684304,pdq=(0, 1, 2),seasonal PDQ=(1, 0, 1, 12)\n",
      "Completed for 0/288 MAE=0.18685229471709255,pdq=(0, 1, 2),seasonal PDQ=(1, 0, 2, 12)\n",
      "Completed for 0/288 MAE=0.17322889882593503,pdq=(0, 1, 2),seasonal PDQ=(2, 0, 0, 12)\n"
     ]
    },
    {
     "name": "stderr",
     "output_type": "stream",
     "text": [
      "C:\\Users\\sony\\anaconda3\\lib\\site-packages\\statsmodels\\base\\model.py:604: ConvergenceWarning: Maximum Likelihood optimization failed to converge. Check mle_retvals\n",
      "  warnings.warn(\"Maximum Likelihood optimization failed to \"\n",
      "C:\\Users\\sony\\anaconda3\\lib\\site-packages\\statsmodels\\tsa\\statespace\\sarimax.py:866: UserWarning: Too few observations to estimate starting parameters for seasonal ARMA. All parameters except for variances will be set to zeros.\n",
      "  warn('Too few observations to estimate starting parameters%s.'\n"
     ]
    },
    {
     "name": "stdout",
     "output_type": "stream",
     "text": [
      "Completed for 0/288 MAE=0.3390121011824592,pdq=(0, 1, 2),seasonal PDQ=(2, 0, 1, 12)\n",
      "Completed for 0/288 MAE=0.17450134348820276,pdq=(0, 1, 2),seasonal PDQ=(2, 0, 2, 12)\n",
      "Completed for 0/288 MAE=0.2958095695365642,pdq=(0, 1, 3),seasonal PDQ=(0, 0, 0, 12)\n"
     ]
    },
    {
     "name": "stderr",
     "output_type": "stream",
     "text": [
      "C:\\Users\\sony\\anaconda3\\lib\\site-packages\\statsmodels\\base\\model.py:604: ConvergenceWarning: Maximum Likelihood optimization failed to converge. Check mle_retvals\n",
      "  warnings.warn(\"Maximum Likelihood optimization failed to \"\n",
      "C:\\Users\\sony\\anaconda3\\lib\\site-packages\\statsmodels\\tsa\\statespace\\sarimax.py:866: UserWarning: Too few observations to estimate starting parameters for seasonal ARMA. All parameters except for variances will be set to zeros.\n",
      "  warn('Too few observations to estimate starting parameters%s.'\n"
     ]
    },
    {
     "name": "stdout",
     "output_type": "stream",
     "text": [
      "Completed for 0/288 MAE=9904034.446331302,pdq=(0, 1, 3),seasonal PDQ=(0, 0, 1, 12)\n",
      "Completed for 0/288 MAE=0.15719269460056076,pdq=(0, 1, 3),seasonal PDQ=(0, 0, 2, 12)\n",
      "Completed for 0/288 MAE=0.16204956053371006,pdq=(0, 1, 3),seasonal PDQ=(1, 0, 0, 12)\n"
     ]
    },
    {
     "name": "stderr",
     "output_type": "stream",
     "text": [
      "C:\\Users\\sony\\anaconda3\\lib\\site-packages\\statsmodels\\base\\model.py:604: ConvergenceWarning: Maximum Likelihood optimization failed to converge. Check mle_retvals\n",
      "  warnings.warn(\"Maximum Likelihood optimization failed to \"\n",
      "C:\\Users\\sony\\anaconda3\\lib\\site-packages\\statsmodels\\tsa\\statespace\\sarimax.py:866: UserWarning: Too few observations to estimate starting parameters for seasonal ARMA. All parameters except for variances will be set to zeros.\n",
      "  warn('Too few observations to estimate starting parameters%s.'\n"
     ]
    },
    {
     "name": "stdout",
     "output_type": "stream",
     "text": [
      "Completed for 0/288 MAE=232278105603406.6,pdq=(0, 1, 3),seasonal PDQ=(1, 0, 1, 12)\n",
      "Completed for 0/288 MAE=0.22255400265380418,pdq=(0, 1, 3),seasonal PDQ=(1, 0, 2, 12)\n",
      "Completed for 0/288 MAE=0.17337407138551944,pdq=(0, 1, 3),seasonal PDQ=(2, 0, 0, 12)\n"
     ]
    },
    {
     "name": "stderr",
     "output_type": "stream",
     "text": [
      "C:\\Users\\sony\\anaconda3\\lib\\site-packages\\statsmodels\\base\\model.py:604: ConvergenceWarning: Maximum Likelihood optimization failed to converge. Check mle_retvals\n",
      "  warnings.warn(\"Maximum Likelihood optimization failed to \"\n",
      "C:\\Users\\sony\\anaconda3\\lib\\site-packages\\statsmodels\\tsa\\statespace\\sarimax.py:866: UserWarning: Too few observations to estimate starting parameters for seasonal ARMA. All parameters except for variances will be set to zeros.\n",
      "  warn('Too few observations to estimate starting parameters%s.'\n"
     ]
    },
    {
     "name": "stdout",
     "output_type": "stream",
     "text": [
      "Completed for 0/288 MAE=0.3237700500927709,pdq=(0, 1, 3),seasonal PDQ=(2, 0, 1, 12)\n"
     ]
    },
    {
     "name": "stderr",
     "output_type": "stream",
     "text": [
      "C:\\Users\\sony\\anaconda3\\lib\\site-packages\\statsmodels\\base\\model.py:604: ConvergenceWarning: Maximum Likelihood optimization failed to converge. Check mle_retvals\n",
      "  warnings.warn(\"Maximum Likelihood optimization failed to \"\n"
     ]
    },
    {
     "name": "stdout",
     "output_type": "stream",
     "text": [
      "Completed for 0/288 MAE=0.20532729151542198,pdq=(0, 1, 3),seasonal PDQ=(2, 0, 2, 12)\n",
      "Completed for 0/288 MAE=0.4525668132989166,pdq=(1, 0, 0),seasonal PDQ=(0, 0, 0, 12)\n"
     ]
    },
    {
     "name": "stderr",
     "output_type": "stream",
     "text": [
      "C:\\Users\\sony\\anaconda3\\lib\\site-packages\\statsmodels\\base\\model.py:604: ConvergenceWarning: Maximum Likelihood optimization failed to converge. Check mle_retvals\n",
      "  warnings.warn(\"Maximum Likelihood optimization failed to \"\n",
      "C:\\Users\\sony\\anaconda3\\lib\\site-packages\\statsmodels\\tsa\\statespace\\sarimax.py:866: UserWarning: Too few observations to estimate starting parameters for seasonal ARMA. All parameters except for variances will be set to zeros.\n",
      "  warn('Too few observations to estimate starting parameters%s.'\n"
     ]
    },
    {
     "name": "stdout",
     "output_type": "stream",
     "text": [
      "Completed for 0/288 MAE=0.9220395248408,pdq=(1, 0, 0),seasonal PDQ=(0, 0, 1, 12)\n",
      "Completed for 0/288 MAE=0.24198942399228596,pdq=(1, 0, 0),seasonal PDQ=(0, 0, 2, 12)\n",
      "Completed for 0/288 MAE=0.17272135940693212,pdq=(1, 0, 0),seasonal PDQ=(1, 0, 0, 12)\n",
      "Completed for 0/288 MAE=0.16009087564932734,pdq=(1, 0, 0),seasonal PDQ=(1, 0, 1, 12)\n"
     ]
    },
    {
     "name": "stderr",
     "output_type": "stream",
     "text": [
      "C:\\Users\\sony\\anaconda3\\lib\\site-packages\\statsmodels\\tsa\\statespace\\sarimax.py:866: UserWarning: Too few observations to estimate starting parameters for seasonal ARMA. All parameters except for variances will be set to zeros.\n",
      "  warn('Too few observations to estimate starting parameters%s.'\n",
      "C:\\Users\\sony\\anaconda3\\lib\\site-packages\\statsmodels\\base\\model.py:604: ConvergenceWarning: Maximum Likelihood optimization failed to converge. Check mle_retvals\n",
      "  warnings.warn(\"Maximum Likelihood optimization failed to \"\n"
     ]
    },
    {
     "name": "stdout",
     "output_type": "stream",
     "text": [
      "Completed for 0/288 MAE=0.1781344915578874,pdq=(1, 0, 0),seasonal PDQ=(1, 0, 2, 12)\n",
      "Completed for 0/288 MAE=0.14814547503637743,pdq=(1, 0, 0),seasonal PDQ=(2, 0, 0, 12)\n",
      "Completed for 0/288 MAE=0.16525071537905978,pdq=(1, 0, 0),seasonal PDQ=(2, 0, 1, 12)\n"
     ]
    },
    {
     "name": "stderr",
     "output_type": "stream",
     "text": [
      "C:\\Users\\sony\\anaconda3\\lib\\site-packages\\statsmodels\\tsa\\statespace\\sarimax.py:866: UserWarning: Too few observations to estimate starting parameters for seasonal ARMA. All parameters except for variances will be set to zeros.\n",
      "  warn('Too few observations to estimate starting parameters%s.'\n",
      "C:\\Users\\sony\\anaconda3\\lib\\site-packages\\statsmodels\\base\\model.py:604: ConvergenceWarning: Maximum Likelihood optimization failed to converge. Check mle_retvals\n",
      "  warnings.warn(\"Maximum Likelihood optimization failed to \"\n"
     ]
    },
    {
     "name": "stdout",
     "output_type": "stream",
     "text": [
      "Completed for 0/288 MAE=0.16258908165260544,pdq=(1, 0, 0),seasonal PDQ=(2, 0, 2, 12)\n",
      "Completed for 0/288 MAE=0.2840616380718571,pdq=(1, 0, 1),seasonal PDQ=(0, 0, 0, 12)\n"
     ]
    },
    {
     "name": "stderr",
     "output_type": "stream",
     "text": [
      "C:\\Users\\sony\\anaconda3\\lib\\site-packages\\statsmodels\\base\\model.py:604: ConvergenceWarning: Maximum Likelihood optimization failed to converge. Check mle_retvals\n",
      "  warnings.warn(\"Maximum Likelihood optimization failed to \"\n",
      "C:\\Users\\sony\\anaconda3\\lib\\site-packages\\statsmodels\\tsa\\statespace\\sarimax.py:866: UserWarning: Too few observations to estimate starting parameters for seasonal ARMA. All parameters except for variances will be set to zeros.\n",
      "  warn('Too few observations to estimate starting parameters%s.'\n"
     ]
    },
    {
     "name": "stdout",
     "output_type": "stream",
     "text": [
      "Completed for 0/288 MAE=1.1446339581620217,pdq=(1, 0, 1),seasonal PDQ=(0, 0, 1, 12)\n",
      "Completed for 0/288 MAE=0.1778844969710176,pdq=(1, 0, 1),seasonal PDQ=(0, 0, 2, 12)\n",
      "Completed for 0/288 MAE=0.1729696216309711,pdq=(1, 0, 1),seasonal PDQ=(1, 0, 0, 12)\n",
      "Completed for 0/288 MAE=0.15884458655767833,pdq=(1, 0, 1),seasonal PDQ=(1, 0, 1, 12)\n"
     ]
    },
    {
     "name": "stderr",
     "output_type": "stream",
     "text": [
      "C:\\Users\\sony\\anaconda3\\lib\\site-packages\\statsmodels\\tsa\\statespace\\sarimax.py:866: UserWarning: Too few observations to estimate starting parameters for seasonal ARMA. All parameters except for variances will be set to zeros.\n",
      "  warn('Too few observations to estimate starting parameters%s.'\n",
      "C:\\Users\\sony\\anaconda3\\lib\\site-packages\\statsmodels\\base\\model.py:604: ConvergenceWarning: Maximum Likelihood optimization failed to converge. Check mle_retvals\n",
      "  warnings.warn(\"Maximum Likelihood optimization failed to \"\n"
     ]
    },
    {
     "name": "stdout",
     "output_type": "stream",
     "text": [
      "Completed for 0/288 MAE=0.19298282855446947,pdq=(1, 0, 1),seasonal PDQ=(1, 0, 2, 12)\n",
      "Completed for 0/288 MAE=0.14725626985735615,pdq=(1, 0, 1),seasonal PDQ=(2, 0, 0, 12)\n",
      "Completed for 0/288 MAE=0.17565478660352027,pdq=(1, 0, 1),seasonal PDQ=(2, 0, 1, 12)\n"
     ]
    },
    {
     "name": "stderr",
     "output_type": "stream",
     "text": [
      "C:\\Users\\sony\\anaconda3\\lib\\site-packages\\statsmodels\\tsa\\statespace\\sarimax.py:866: UserWarning: Too few observations to estimate starting parameters for seasonal ARMA. All parameters except for variances will be set to zeros.\n",
      "  warn('Too few observations to estimate starting parameters%s.'\n",
      "C:\\Users\\sony\\anaconda3\\lib\\site-packages\\statsmodels\\base\\model.py:604: ConvergenceWarning: Maximum Likelihood optimization failed to converge. Check mle_retvals\n",
      "  warnings.warn(\"Maximum Likelihood optimization failed to \"\n"
     ]
    },
    {
     "name": "stdout",
     "output_type": "stream",
     "text": [
      "Completed for 0/288 MAE=0.1724266122026046,pdq=(1, 0, 1),seasonal PDQ=(2, 0, 2, 12)\n",
      "Completed for 0/288 MAE=0.3009314063474942,pdq=(1, 0, 2),seasonal PDQ=(0, 0, 0, 12)\n",
      "Completed for 0/288 MAE=1.0752889855081127,pdq=(1, 0, 2),seasonal PDQ=(0, 0, 1, 12)\n"
     ]
    },
    {
     "name": "stderr",
     "output_type": "stream",
     "text": [
      "C:\\Users\\sony\\anaconda3\\lib\\site-packages\\statsmodels\\base\\model.py:604: ConvergenceWarning: Maximum Likelihood optimization failed to converge. Check mle_retvals\n",
      "  warnings.warn(\"Maximum Likelihood optimization failed to \"\n",
      "C:\\Users\\sony\\anaconda3\\lib\\site-packages\\statsmodels\\tsa\\statespace\\sarimax.py:866: UserWarning: Too few observations to estimate starting parameters for seasonal ARMA. All parameters except for variances will be set to zeros.\n",
      "  warn('Too few observations to estimate starting parameters%s.'\n",
      "C:\\Users\\sony\\anaconda3\\lib\\site-packages\\statsmodels\\base\\model.py:604: ConvergenceWarning: Maximum Likelihood optimization failed to converge. Check mle_retvals\n",
      "  warnings.warn(\"Maximum Likelihood optimization failed to \"\n"
     ]
    },
    {
     "name": "stdout",
     "output_type": "stream",
     "text": [
      "Completed for 0/288 MAE=0.20734531055104874,pdq=(1, 0, 2),seasonal PDQ=(0, 0, 2, 12)\n",
      "Completed for 0/288 MAE=0.17370819245262317,pdq=(1, 0, 2),seasonal PDQ=(1, 0, 0, 12)\n",
      "Completed for 0/288 MAE=0.157745782948951,pdq=(1, 0, 2),seasonal PDQ=(1, 0, 1, 12)\n"
     ]
    },
    {
     "name": "stderr",
     "output_type": "stream",
     "text": [
      "C:\\Users\\sony\\anaconda3\\lib\\site-packages\\statsmodels\\tsa\\statespace\\sarimax.py:866: UserWarning: Too few observations to estimate starting parameters for seasonal ARMA. All parameters except for variances will be set to zeros.\n",
      "  warn('Too few observations to estimate starting parameters%s.'\n",
      "C:\\Users\\sony\\anaconda3\\lib\\site-packages\\statsmodels\\base\\model.py:604: ConvergenceWarning: Maximum Likelihood optimization failed to converge. Check mle_retvals\n",
      "  warnings.warn(\"Maximum Likelihood optimization failed to \"\n"
     ]
    },
    {
     "name": "stdout",
     "output_type": "stream",
     "text": [
      "Completed for 0/288 MAE=0.215440441002593,pdq=(1, 0, 2),seasonal PDQ=(1, 0, 2, 12)\n",
      "Completed for 0/288 MAE=0.1735865529448016,pdq=(1, 0, 2),seasonal PDQ=(2, 0, 0, 12)\n",
      "Completed for 0/288 MAE=0.16815223859341058,pdq=(1, 0, 2),seasonal PDQ=(2, 0, 1, 12)\n"
     ]
    },
    {
     "name": "stderr",
     "output_type": "stream",
     "text": [
      "C:\\Users\\sony\\anaconda3\\lib\\site-packages\\statsmodels\\tsa\\statespace\\sarimax.py:866: UserWarning: Too few observations to estimate starting parameters for seasonal ARMA. All parameters except for variances will be set to zeros.\n",
      "  warn('Too few observations to estimate starting parameters%s.'\n",
      "C:\\Users\\sony\\anaconda3\\lib\\site-packages\\statsmodels\\base\\model.py:604: ConvergenceWarning: Maximum Likelihood optimization failed to converge. Check mle_retvals\n",
      "  warnings.warn(\"Maximum Likelihood optimization failed to \"\n"
     ]
    },
    {
     "name": "stdout",
     "output_type": "stream",
     "text": [
      "Completed for 0/288 MAE=0.2050266167913456,pdq=(1, 0, 2),seasonal PDQ=(2, 0, 2, 12)\n",
      "Completed for 0/288 MAE=0.2978141395724799,pdq=(1, 0, 3),seasonal PDQ=(0, 0, 0, 12)\n"
     ]
    },
    {
     "name": "stderr",
     "output_type": "stream",
     "text": [
      "C:\\Users\\sony\\anaconda3\\lib\\site-packages\\statsmodels\\base\\model.py:604: ConvergenceWarning: Maximum Likelihood optimization failed to converge. Check mle_retvals\n",
      "  warnings.warn(\"Maximum Likelihood optimization failed to \"\n",
      "C:\\Users\\sony\\anaconda3\\lib\\site-packages\\statsmodels\\tsa\\statespace\\sarimax.py:866: UserWarning: Too few observations to estimate starting parameters for seasonal ARMA. All parameters except for variances will be set to zeros.\n",
      "  warn('Too few observations to estimate starting parameters%s.'\n"
     ]
    },
    {
     "name": "stdout",
     "output_type": "stream",
     "text": [
      "Completed for 0/288 MAE=1.1504512841358955e+28,pdq=(1, 0, 3),seasonal PDQ=(0, 0, 1, 12)\n"
     ]
    },
    {
     "name": "stderr",
     "output_type": "stream",
     "text": [
      "C:\\Users\\sony\\anaconda3\\lib\\site-packages\\statsmodels\\base\\model.py:604: ConvergenceWarning: Maximum Likelihood optimization failed to converge. Check mle_retvals\n",
      "  warnings.warn(\"Maximum Likelihood optimization failed to \"\n"
     ]
    },
    {
     "name": "stdout",
     "output_type": "stream",
     "text": [
      "Completed for 0/288 MAE=0.23005292750644993,pdq=(1, 0, 3),seasonal PDQ=(0, 0, 2, 12)\n",
      "Completed for 0/288 MAE=0.18020918978838474,pdq=(1, 0, 3),seasonal PDQ=(1, 0, 0, 12)\n"
     ]
    },
    {
     "name": "stderr",
     "output_type": "stream",
     "text": [
      "C:\\Users\\sony\\anaconda3\\lib\\site-packages\\statsmodels\\base\\model.py:604: ConvergenceWarning: Maximum Likelihood optimization failed to converge. Check mle_retvals\n",
      "  warnings.warn(\"Maximum Likelihood optimization failed to \"\n",
      "C:\\Users\\sony\\anaconda3\\lib\\site-packages\\statsmodels\\tsa\\statespace\\sarimax.py:866: UserWarning: Too few observations to estimate starting parameters for seasonal ARMA. All parameters except for variances will be set to zeros.\n",
      "  warn('Too few observations to estimate starting parameters%s.'\n"
     ]
    },
    {
     "name": "stdout",
     "output_type": "stream",
     "text": [
      "Completed for 0/288 MAE=0.17361981891481937,pdq=(1, 0, 3),seasonal PDQ=(1, 0, 1, 12)\n"
     ]
    },
    {
     "name": "stderr",
     "output_type": "stream",
     "text": [
      "C:\\Users\\sony\\anaconda3\\lib\\site-packages\\statsmodels\\base\\model.py:604: ConvergenceWarning: Maximum Likelihood optimization failed to converge. Check mle_retvals\n",
      "  warnings.warn(\"Maximum Likelihood optimization failed to \"\n"
     ]
    },
    {
     "name": "stdout",
     "output_type": "stream",
     "text": [
      "Completed for 0/288 MAE=0.21285905514657344,pdq=(1, 0, 3),seasonal PDQ=(1, 0, 2, 12)\n"
     ]
    },
    {
     "name": "stderr",
     "output_type": "stream",
     "text": [
      "C:\\Users\\sony\\anaconda3\\lib\\site-packages\\statsmodels\\base\\model.py:604: ConvergenceWarning: Maximum Likelihood optimization failed to converge. Check mle_retvals\n",
      "  warnings.warn(\"Maximum Likelihood optimization failed to \"\n"
     ]
    },
    {
     "name": "stdout",
     "output_type": "stream",
     "text": [
      "Completed for 0/288 MAE=0.18501794087999282,pdq=(1, 0, 3),seasonal PDQ=(2, 0, 0, 12)\n"
     ]
    },
    {
     "name": "stderr",
     "output_type": "stream",
     "text": [
      "C:\\Users\\sony\\anaconda3\\lib\\site-packages\\statsmodels\\base\\model.py:604: ConvergenceWarning: Maximum Likelihood optimization failed to converge. Check mle_retvals\n",
      "  warnings.warn(\"Maximum Likelihood optimization failed to \"\n",
      "C:\\Users\\sony\\anaconda3\\lib\\site-packages\\statsmodels\\tsa\\statespace\\sarimax.py:866: UserWarning: Too few observations to estimate starting parameters for seasonal ARMA. All parameters except for variances will be set to zeros.\n",
      "  warn('Too few observations to estimate starting parameters%s.'\n"
     ]
    },
    {
     "name": "stdout",
     "output_type": "stream",
     "text": [
      "Completed for 0/288 MAE=0.14738548348245378,pdq=(1, 0, 3),seasonal PDQ=(2, 0, 1, 12)\n"
     ]
    },
    {
     "name": "stderr",
     "output_type": "stream",
     "text": [
      "C:\\Users\\sony\\anaconda3\\lib\\site-packages\\statsmodels\\base\\model.py:604: ConvergenceWarning: Maximum Likelihood optimization failed to converge. Check mle_retvals\n",
      "  warnings.warn(\"Maximum Likelihood optimization failed to \"\n"
     ]
    },
    {
     "name": "stdout",
     "output_type": "stream",
     "text": [
      "Completed for 0/288 MAE=0.21762281755070342,pdq=(1, 0, 3),seasonal PDQ=(2, 0, 2, 12)\n",
      "Completed for 0/288 MAE=0.2769296158839647,pdq=(1, 1, 0),seasonal PDQ=(0, 0, 0, 12)\n"
     ]
    },
    {
     "name": "stderr",
     "output_type": "stream",
     "text": [
      "C:\\Users\\sony\\anaconda3\\lib\\site-packages\\statsmodels\\base\\model.py:604: ConvergenceWarning: Maximum Likelihood optimization failed to converge. Check mle_retvals\n",
      "  warnings.warn(\"Maximum Likelihood optimization failed to \"\n",
      "C:\\Users\\sony\\anaconda3\\lib\\site-packages\\statsmodels\\tsa\\statespace\\sarimax.py:866: UserWarning: Too few observations to estimate starting parameters for seasonal ARMA. All parameters except for variances will be set to zeros.\n",
      "  warn('Too few observations to estimate starting parameters%s.'\n"
     ]
    },
    {
     "name": "stdout",
     "output_type": "stream",
     "text": [
      "Completed for 0/288 MAE=5582300.237606612,pdq=(1, 1, 0),seasonal PDQ=(0, 0, 1, 12)\n",
      "Completed for 0/288 MAE=0.17497219048758908,pdq=(1, 1, 0),seasonal PDQ=(0, 0, 2, 12)\n",
      "Completed for 0/288 MAE=0.16809050199934297,pdq=(1, 1, 0),seasonal PDQ=(1, 0, 0, 12)\n"
     ]
    },
    {
     "name": "stderr",
     "output_type": "stream",
     "text": [
      "C:\\Users\\sony\\anaconda3\\lib\\site-packages\\statsmodels\\base\\model.py:604: ConvergenceWarning: Maximum Likelihood optimization failed to converge. Check mle_retvals\n",
      "  warnings.warn(\"Maximum Likelihood optimization failed to \"\n",
      "C:\\Users\\sony\\anaconda3\\lib\\site-packages\\statsmodels\\tsa\\statespace\\sarimax.py:866: UserWarning: Too few observations to estimate starting parameters for seasonal ARMA. All parameters except for variances will be set to zeros.\n",
      "  warn('Too few observations to estimate starting parameters%s.'\n"
     ]
    },
    {
     "name": "stdout",
     "output_type": "stream",
     "text": [
      "Completed for 0/288 MAE=102030732.67039438,pdq=(1, 1, 0),seasonal PDQ=(1, 0, 1, 12)\n",
      "Completed for 0/288 MAE=0.20812090495637334,pdq=(1, 1, 0),seasonal PDQ=(1, 0, 2, 12)\n",
      "Completed for 0/288 MAE=0.14041726126688525,pdq=(1, 1, 0),seasonal PDQ=(2, 0, 0, 12)\n",
      "Completed for 0/288 MAE=0.35397975485855,pdq=(1, 1, 0),seasonal PDQ=(2, 0, 1, 12)\n"
     ]
    },
    {
     "name": "stderr",
     "output_type": "stream",
     "text": [
      "C:\\Users\\sony\\anaconda3\\lib\\site-packages\\statsmodels\\tsa\\statespace\\sarimax.py:866: UserWarning: Too few observations to estimate starting parameters for seasonal ARMA. All parameters except for variances will be set to zeros.\n",
      "  warn('Too few observations to estimate starting parameters%s.'\n",
      "C:\\Users\\sony\\anaconda3\\lib\\site-packages\\statsmodels\\base\\model.py:604: ConvergenceWarning: Maximum Likelihood optimization failed to converge. Check mle_retvals\n",
      "  warnings.warn(\"Maximum Likelihood optimization failed to \"\n"
     ]
    },
    {
     "name": "stdout",
     "output_type": "stream",
     "text": [
      "Completed for 0/288 MAE=0.18804446461807323,pdq=(1, 1, 0),seasonal PDQ=(2, 0, 2, 12)\n",
      "Completed for 0/288 MAE=0.29776517243813844,pdq=(1, 1, 1),seasonal PDQ=(0, 0, 0, 12)\n"
     ]
    },
    {
     "name": "stderr",
     "output_type": "stream",
     "text": [
      "C:\\Users\\sony\\anaconda3\\lib\\site-packages\\statsmodels\\base\\model.py:604: ConvergenceWarning: Maximum Likelihood optimization failed to converge. Check mle_retvals\n",
      "  warnings.warn(\"Maximum Likelihood optimization failed to \"\n",
      "C:\\Users\\sony\\anaconda3\\lib\\site-packages\\statsmodels\\tsa\\statespace\\sarimax.py:866: UserWarning: Too few observations to estimate starting parameters for seasonal ARMA. All parameters except for variances will be set to zeros.\n",
      "  warn('Too few observations to estimate starting parameters%s.'\n"
     ]
    },
    {
     "name": "stdout",
     "output_type": "stream",
     "text": [
      "Completed for 0/288 MAE=1.6261539945630958e+19,pdq=(1, 1, 1),seasonal PDQ=(0, 0, 1, 12)\n",
      "Completed for 0/288 MAE=0.16767418960982058,pdq=(1, 1, 1),seasonal PDQ=(0, 0, 2, 12)\n",
      "Completed for 0/288 MAE=0.1762382933996681,pdq=(1, 1, 1),seasonal PDQ=(1, 0, 0, 12)\n"
     ]
    },
    {
     "name": "stderr",
     "output_type": "stream",
     "text": [
      "C:\\Users\\sony\\anaconda3\\lib\\site-packages\\statsmodels\\base\\model.py:604: ConvergenceWarning: Maximum Likelihood optimization failed to converge. Check mle_retvals\n",
      "  warnings.warn(\"Maximum Likelihood optimization failed to \"\n",
      "C:\\Users\\sony\\anaconda3\\lib\\site-packages\\statsmodels\\tsa\\statespace\\sarimax.py:866: UserWarning: Too few observations to estimate starting parameters for seasonal ARMA. All parameters except for variances will be set to zeros.\n",
      "  warn('Too few observations to estimate starting parameters%s.'\n"
     ]
    },
    {
     "name": "stdout",
     "output_type": "stream",
     "text": [
      "Completed for 0/288 MAE=234894111.86736977,pdq=(1, 1, 1),seasonal PDQ=(1, 0, 1, 12)\n",
      "Completed for 0/288 MAE=0.1773082393857881,pdq=(1, 1, 1),seasonal PDQ=(1, 0, 2, 12)\n",
      "Completed for 0/288 MAE=0.1533221337942261,pdq=(1, 1, 1),seasonal PDQ=(2, 0, 0, 12)\n"
     ]
    },
    {
     "name": "stderr",
     "output_type": "stream",
     "text": [
      "C:\\Users\\sony\\anaconda3\\lib\\site-packages\\statsmodels\\base\\model.py:604: ConvergenceWarning: Maximum Likelihood optimization failed to converge. Check mle_retvals\n",
      "  warnings.warn(\"Maximum Likelihood optimization failed to \"\n",
      "C:\\Users\\sony\\anaconda3\\lib\\site-packages\\statsmodels\\tsa\\statespace\\sarimax.py:866: UserWarning: Too few observations to estimate starting parameters for seasonal ARMA. All parameters except for variances will be set to zeros.\n",
      "  warn('Too few observations to estimate starting parameters%s.'\n"
     ]
    },
    {
     "name": "stdout",
     "output_type": "stream",
     "text": [
      "Completed for 0/288 MAE=0.35573768292157393,pdq=(1, 1, 1),seasonal PDQ=(2, 0, 1, 12)\n"
     ]
    },
    {
     "name": "stderr",
     "output_type": "stream",
     "text": [
      "C:\\Users\\sony\\anaconda3\\lib\\site-packages\\statsmodels\\base\\model.py:604: ConvergenceWarning: Maximum Likelihood optimization failed to converge. Check mle_retvals\n",
      "  warnings.warn(\"Maximum Likelihood optimization failed to \"\n"
     ]
    },
    {
     "name": "stdout",
     "output_type": "stream",
     "text": [
      "Completed for 0/288 MAE=0.16208959927029506,pdq=(1, 1, 1),seasonal PDQ=(2, 0, 2, 12)\n",
      "Completed for 0/288 MAE=0.29530783046512865,pdq=(1, 1, 2),seasonal PDQ=(0, 0, 0, 12)\n",
      "Completed for 0/288 MAE=455966093.71346927,pdq=(1, 1, 2),seasonal PDQ=(0, 0, 1, 12)\n"
     ]
    },
    {
     "name": "stderr",
     "output_type": "stream",
     "text": [
      "C:\\Users\\sony\\anaconda3\\lib\\site-packages\\statsmodels\\tsa\\statespace\\sarimax.py:866: UserWarning: Too few observations to estimate starting parameters for seasonal ARMA. All parameters except for variances will be set to zeros.\n",
      "  warn('Too few observations to estimate starting parameters%s.'\n"
     ]
    },
    {
     "name": "stdout",
     "output_type": "stream",
     "text": [
      "Completed for 0/288 MAE=0.1505008544757078,pdq=(1, 1, 2),seasonal PDQ=(0, 0, 2, 12)\n",
      "Completed for 0/288 MAE=0.17603899135400816,pdq=(1, 1, 2),seasonal PDQ=(1, 0, 0, 12)\n",
      "Completed for 0/288 MAE=1301806863040277.2,pdq=(1, 1, 2),seasonal PDQ=(1, 0, 1, 12)\n"
     ]
    },
    {
     "name": "stderr",
     "output_type": "stream",
     "text": [
      "C:\\Users\\sony\\anaconda3\\lib\\site-packages\\statsmodels\\base\\model.py:604: ConvergenceWarning: Maximum Likelihood optimization failed to converge. Check mle_retvals\n",
      "  warnings.warn(\"Maximum Likelihood optimization failed to \"\n",
      "C:\\Users\\sony\\anaconda3\\lib\\site-packages\\statsmodels\\tsa\\statespace\\sarimax.py:866: UserWarning: Too few observations to estimate starting parameters for seasonal ARMA. All parameters except for variances will be set to zeros.\n",
      "  warn('Too few observations to estimate starting parameters%s.'\n",
      "C:\\Users\\sony\\anaconda3\\lib\\site-packages\\statsmodels\\base\\model.py:604: ConvergenceWarning: Maximum Likelihood optimization failed to converge. Check mle_retvals\n",
      "  warnings.warn(\"Maximum Likelihood optimization failed to \"\n"
     ]
    },
    {
     "name": "stdout",
     "output_type": "stream",
     "text": [
      "Completed for 0/288 MAE=0.25454893768213016,pdq=(1, 1, 2),seasonal PDQ=(1, 0, 2, 12)\n",
      "Completed for 0/288 MAE=0.16030523402438343,pdq=(1, 1, 2),seasonal PDQ=(2, 0, 0, 12)\n"
     ]
    },
    {
     "name": "stderr",
     "output_type": "stream",
     "text": [
      "C:\\Users\\sony\\anaconda3\\lib\\site-packages\\statsmodels\\base\\model.py:604: ConvergenceWarning: Maximum Likelihood optimization failed to converge. Check mle_retvals\n",
      "  warnings.warn(\"Maximum Likelihood optimization failed to \"\n",
      "C:\\Users\\sony\\anaconda3\\lib\\site-packages\\statsmodels\\tsa\\statespace\\sarimax.py:866: UserWarning: Too few observations to estimate starting parameters for seasonal ARMA. All parameters except for variances will be set to zeros.\n",
      "  warn('Too few observations to estimate starting parameters%s.'\n"
     ]
    },
    {
     "name": "stdout",
     "output_type": "stream",
     "text": [
      "Completed for 0/288 MAE=0.345836423954011,pdq=(1, 1, 2),seasonal PDQ=(2, 0, 1, 12)\n"
     ]
    },
    {
     "name": "stderr",
     "output_type": "stream",
     "text": [
      "C:\\Users\\sony\\anaconda3\\lib\\site-packages\\statsmodels\\base\\model.py:604: ConvergenceWarning: Maximum Likelihood optimization failed to converge. Check mle_retvals\n",
      "  warnings.warn(\"Maximum Likelihood optimization failed to \"\n"
     ]
    },
    {
     "name": "stdout",
     "output_type": "stream",
     "text": [
      "Completed for 0/288 MAE=0.2131037676863808,pdq=(1, 1, 2),seasonal PDQ=(2, 0, 2, 12)\n",
      "Completed for 0/288 MAE=0.2952299600878319,pdq=(1, 1, 3),seasonal PDQ=(0, 0, 0, 12)\n",
      "Completed for 0/288 MAE=173244.9854419152,pdq=(1, 1, 3),seasonal PDQ=(0, 0, 1, 12)\n"
     ]
    },
    {
     "name": "stderr",
     "output_type": "stream",
     "text": [
      "C:\\Users\\sony\\anaconda3\\lib\\site-packages\\statsmodels\\tsa\\statespace\\sarimax.py:866: UserWarning: Too few observations to estimate starting parameters for seasonal ARMA. All parameters except for variances will be set to zeros.\n",
      "  warn('Too few observations to estimate starting parameters%s.'\n"
     ]
    },
    {
     "name": "stdout",
     "output_type": "stream",
     "text": [
      "Completed for 0/288 MAE=0.14910637539228125,pdq=(1, 1, 3),seasonal PDQ=(0, 0, 2, 12)\n",
      "Completed for 0/288 MAE=0.16965833326612476,pdq=(1, 1, 3),seasonal PDQ=(1, 0, 0, 12)\n"
     ]
    },
    {
     "name": "stderr",
     "output_type": "stream",
     "text": [
      "C:\\Users\\sony\\anaconda3\\lib\\site-packages\\statsmodels\\base\\model.py:604: ConvergenceWarning: Maximum Likelihood optimization failed to converge. Check mle_retvals\n",
      "  warnings.warn(\"Maximum Likelihood optimization failed to \"\n",
      "C:\\Users\\sony\\anaconda3\\lib\\site-packages\\statsmodels\\tsa\\statespace\\sarimax.py:866: UserWarning: Too few observations to estimate starting parameters for seasonal ARMA. All parameters except for variances will be set to zeros.\n",
      "  warn('Too few observations to estimate starting parameters%s.'\n"
     ]
    },
    {
     "name": "stdout",
     "output_type": "stream",
     "text": [
      "Completed for 0/288 MAE=2793723087.8904214,pdq=(1, 1, 3),seasonal PDQ=(1, 0, 1, 12)\n"
     ]
    },
    {
     "name": "stderr",
     "output_type": "stream",
     "text": [
      "C:\\Users\\sony\\anaconda3\\lib\\site-packages\\statsmodels\\base\\model.py:604: ConvergenceWarning: Maximum Likelihood optimization failed to converge. Check mle_retvals\n",
      "  warnings.warn(\"Maximum Likelihood optimization failed to \"\n"
     ]
    },
    {
     "name": "stdout",
     "output_type": "stream",
     "text": [
      "Completed for 0/288 MAE=0.22489912575312965,pdq=(1, 1, 3),seasonal PDQ=(1, 0, 2, 12)\n",
      "Completed for 0/288 MAE=0.11268570103269739,pdq=(1, 1, 3),seasonal PDQ=(2, 0, 0, 12)\n"
     ]
    },
    {
     "name": "stderr",
     "output_type": "stream",
     "text": [
      "C:\\Users\\sony\\anaconda3\\lib\\site-packages\\statsmodels\\base\\model.py:604: ConvergenceWarning: Maximum Likelihood optimization failed to converge. Check mle_retvals\n",
      "  warnings.warn(\"Maximum Likelihood optimization failed to \"\n",
      "C:\\Users\\sony\\anaconda3\\lib\\site-packages\\statsmodels\\tsa\\statespace\\sarimax.py:866: UserWarning: Too few observations to estimate starting parameters for seasonal ARMA. All parameters except for variances will be set to zeros.\n",
      "  warn('Too few observations to estimate starting parameters%s.'\n"
     ]
    },
    {
     "name": "stdout",
     "output_type": "stream",
     "text": [
      "Completed for 0/288 MAE=0.3281983352933997,pdq=(1, 1, 3),seasonal PDQ=(2, 0, 1, 12)\n"
     ]
    },
    {
     "name": "stderr",
     "output_type": "stream",
     "text": [
      "C:\\Users\\sony\\anaconda3\\lib\\site-packages\\statsmodels\\base\\model.py:604: ConvergenceWarning: Maximum Likelihood optimization failed to converge. Check mle_retvals\n",
      "  warnings.warn(\"Maximum Likelihood optimization failed to \"\n"
     ]
    },
    {
     "name": "stdout",
     "output_type": "stream",
     "text": [
      "Completed for 0/288 MAE=0.20522669513859415,pdq=(1, 1, 3),seasonal PDQ=(2, 0, 2, 12)\n",
      "Completed for 0/288 MAE=0.3606840664542014,pdq=(2, 0, 0),seasonal PDQ=(0, 0, 0, 12)\n"
     ]
    },
    {
     "name": "stderr",
     "output_type": "stream",
     "text": [
      "C:\\Users\\sony\\anaconda3\\lib\\site-packages\\statsmodels\\base\\model.py:604: ConvergenceWarning: Maximum Likelihood optimization failed to converge. Check mle_retvals\n",
      "  warnings.warn(\"Maximum Likelihood optimization failed to \"\n",
      "C:\\Users\\sony\\anaconda3\\lib\\site-packages\\statsmodels\\tsa\\statespace\\sarimax.py:866: UserWarning: Too few observations to estimate starting parameters for seasonal ARMA. All parameters except for variances will be set to zeros.\n",
      "  warn('Too few observations to estimate starting parameters%s.'\n"
     ]
    },
    {
     "name": "stdout",
     "output_type": "stream",
     "text": [
      "Completed for 0/288 MAE=241411.13470945504,pdq=(2, 0, 0),seasonal PDQ=(0, 0, 1, 12)\n",
      "Completed for 0/288 MAE=0.21225361485462604,pdq=(2, 0, 0),seasonal PDQ=(0, 0, 2, 12)\n",
      "Completed for 0/288 MAE=0.17373380137450686,pdq=(2, 0, 0),seasonal PDQ=(1, 0, 0, 12)\n",
      "Completed for 0/288 MAE=0.15907221376851308,pdq=(2, 0, 0),seasonal PDQ=(1, 0, 1, 12)\n"
     ]
    },
    {
     "name": "stderr",
     "output_type": "stream",
     "text": [
      "C:\\Users\\sony\\anaconda3\\lib\\site-packages\\statsmodels\\tsa\\statespace\\sarimax.py:866: UserWarning: Too few observations to estimate starting parameters for seasonal ARMA. All parameters except for variances will be set to zeros.\n",
      "  warn('Too few observations to estimate starting parameters%s.'\n",
      "C:\\Users\\sony\\anaconda3\\lib\\site-packages\\statsmodels\\base\\model.py:604: ConvergenceWarning: Maximum Likelihood optimization failed to converge. Check mle_retvals\n",
      "  warnings.warn(\"Maximum Likelihood optimization failed to \"\n"
     ]
    },
    {
     "name": "stdout",
     "output_type": "stream",
     "text": [
      "Completed for 0/288 MAE=0.19511679746510238,pdq=(2, 0, 0),seasonal PDQ=(1, 0, 2, 12)\n",
      "Completed for 0/288 MAE=0.1461641877901689,pdq=(2, 0, 0),seasonal PDQ=(2, 0, 0, 12)\n",
      "Completed for 0/288 MAE=0.1697930504710465,pdq=(2, 0, 0),seasonal PDQ=(2, 0, 1, 12)\n"
     ]
    },
    {
     "name": "stderr",
     "output_type": "stream",
     "text": [
      "C:\\Users\\sony\\anaconda3\\lib\\site-packages\\statsmodels\\tsa\\statespace\\sarimax.py:866: UserWarning: Too few observations to estimate starting parameters for seasonal ARMA. All parameters except for variances will be set to zeros.\n",
      "  warn('Too few observations to estimate starting parameters%s.'\n",
      "C:\\Users\\sony\\anaconda3\\lib\\site-packages\\statsmodels\\base\\model.py:604: ConvergenceWarning: Maximum Likelihood optimization failed to converge. Check mle_retvals\n",
      "  warnings.warn(\"Maximum Likelihood optimization failed to \"\n"
     ]
    },
    {
     "name": "stdout",
     "output_type": "stream",
     "text": [
      "Completed for 0/288 MAE=0.17174427709734671,pdq=(2, 0, 0),seasonal PDQ=(2, 0, 2, 12)\n",
      "Completed for 0/288 MAE=0.28995078017515835,pdq=(2, 0, 1),seasonal PDQ=(0, 0, 0, 12)\n"
     ]
    },
    {
     "name": "stderr",
     "output_type": "stream",
     "text": [
      "C:\\Users\\sony\\anaconda3\\lib\\site-packages\\statsmodels\\base\\model.py:604: ConvergenceWarning: Maximum Likelihood optimization failed to converge. Check mle_retvals\n",
      "  warnings.warn(\"Maximum Likelihood optimization failed to \"\n",
      "C:\\Users\\sony\\anaconda3\\lib\\site-packages\\statsmodels\\tsa\\statespace\\sarimax.py:866: UserWarning: Too few observations to estimate starting parameters for seasonal ARMA. All parameters except for variances will be set to zeros.\n",
      "  warn('Too few observations to estimate starting parameters%s.'\n"
     ]
    },
    {
     "name": "stdout",
     "output_type": "stream",
     "text": [
      "Completed for 0/288 MAE=9169843.083667222,pdq=(2, 0, 1),seasonal PDQ=(0, 0, 1, 12)\n"
     ]
    },
    {
     "name": "stderr",
     "output_type": "stream",
     "text": [
      "C:\\Users\\sony\\anaconda3\\lib\\site-packages\\statsmodels\\base\\model.py:604: ConvergenceWarning: Maximum Likelihood optimization failed to converge. Check mle_retvals\n",
      "  warnings.warn(\"Maximum Likelihood optimization failed to \"\n"
     ]
    },
    {
     "name": "stdout",
     "output_type": "stream",
     "text": [
      "Completed for 0/288 MAE=0.1891209834584496,pdq=(2, 0, 1),seasonal PDQ=(0, 0, 2, 12)\n",
      "Completed for 0/288 MAE=0.17636714297540312,pdq=(2, 0, 1),seasonal PDQ=(1, 0, 0, 12)\n",
      "Completed for 0/288 MAE=0.16605302134872643,pdq=(2, 0, 1),seasonal PDQ=(1, 0, 1, 12)\n"
     ]
    },
    {
     "name": "stderr",
     "output_type": "stream",
     "text": [
      "C:\\Users\\sony\\anaconda3\\lib\\site-packages\\statsmodels\\tsa\\statespace\\sarimax.py:866: UserWarning: Too few observations to estimate starting parameters for seasonal ARMA. All parameters except for variances will be set to zeros.\n",
      "  warn('Too few observations to estimate starting parameters%s.'\n",
      "C:\\Users\\sony\\anaconda3\\lib\\site-packages\\statsmodels\\base\\model.py:604: ConvergenceWarning: Maximum Likelihood optimization failed to converge. Check mle_retvals\n",
      "  warnings.warn(\"Maximum Likelihood optimization failed to \"\n"
     ]
    },
    {
     "name": "stdout",
     "output_type": "stream",
     "text": [
      "Completed for 0/288 MAE=0.19451343906706642,pdq=(2, 0, 1),seasonal PDQ=(1, 0, 2, 12)\n",
      "Completed for 0/288 MAE=0.1729618124299828,pdq=(2, 0, 1),seasonal PDQ=(2, 0, 0, 12)\n"
     ]
    },
    {
     "name": "stderr",
     "output_type": "stream",
     "text": [
      "C:\\Users\\sony\\anaconda3\\lib\\site-packages\\statsmodels\\base\\model.py:604: ConvergenceWarning: Maximum Likelihood optimization failed to converge. Check mle_retvals\n",
      "  warnings.warn(\"Maximum Likelihood optimization failed to \"\n",
      "C:\\Users\\sony\\anaconda3\\lib\\site-packages\\statsmodels\\tsa\\statespace\\sarimax.py:866: UserWarning: Too few observations to estimate starting parameters for seasonal ARMA. All parameters except for variances will be set to zeros.\n",
      "  warn('Too few observations to estimate starting parameters%s.'\n"
     ]
    },
    {
     "name": "stdout",
     "output_type": "stream",
     "text": [
      "Completed for 0/288 MAE=0.17126055189060407,pdq=(2, 0, 1),seasonal PDQ=(2, 0, 1, 12)\n"
     ]
    },
    {
     "name": "stderr",
     "output_type": "stream",
     "text": [
      "C:\\Users\\sony\\anaconda3\\lib\\site-packages\\statsmodels\\base\\model.py:604: ConvergenceWarning: Maximum Likelihood optimization failed to converge. Check mle_retvals\n",
      "  warnings.warn(\"Maximum Likelihood optimization failed to \"\n"
     ]
    },
    {
     "name": "stdout",
     "output_type": "stream",
     "text": [
      "Completed for 0/288 MAE=0.17383572622261978,pdq=(2, 0, 1),seasonal PDQ=(2, 0, 2, 12)\n",
      "Completed for 0/288 MAE=0.29685601188444327,pdq=(2, 0, 2),seasonal PDQ=(0, 0, 0, 12)\n",
      "Completed for 0/288 MAE=18715568225218.953,pdq=(2, 0, 2),seasonal PDQ=(0, 0, 1, 12)\n"
     ]
    },
    {
     "name": "stderr",
     "output_type": "stream",
     "text": [
      "C:\\Users\\sony\\anaconda3\\lib\\site-packages\\statsmodels\\base\\model.py:604: ConvergenceWarning: Maximum Likelihood optimization failed to converge. Check mle_retvals\n",
      "  warnings.warn(\"Maximum Likelihood optimization failed to \"\n",
      "C:\\Users\\sony\\anaconda3\\lib\\site-packages\\statsmodels\\tsa\\statespace\\sarimax.py:866: UserWarning: Too few observations to estimate starting parameters for seasonal ARMA. All parameters except for variances will be set to zeros.\n",
      "  warn('Too few observations to estimate starting parameters%s.'\n",
      "C:\\Users\\sony\\anaconda3\\lib\\site-packages\\statsmodels\\base\\model.py:604: ConvergenceWarning: Maximum Likelihood optimization failed to converge. Check mle_retvals\n",
      "  warnings.warn(\"Maximum Likelihood optimization failed to \"\n"
     ]
    },
    {
     "name": "stdout",
     "output_type": "stream",
     "text": [
      "Completed for 0/288 MAE=0.17894933397375076,pdq=(2, 0, 2),seasonal PDQ=(0, 0, 2, 12)\n",
      "Completed for 0/288 MAE=0.16003497387143192,pdq=(2, 0, 2),seasonal PDQ=(1, 0, 0, 12)\n"
     ]
    },
    {
     "name": "stderr",
     "output_type": "stream",
     "text": [
      "C:\\Users\\sony\\anaconda3\\lib\\site-packages\\statsmodels\\base\\model.py:604: ConvergenceWarning: Maximum Likelihood optimization failed to converge. Check mle_retvals\n",
      "  warnings.warn(\"Maximum Likelihood optimization failed to \"\n",
      "C:\\Users\\sony\\anaconda3\\lib\\site-packages\\statsmodels\\tsa\\statespace\\sarimax.py:866: UserWarning: Too few observations to estimate starting parameters for seasonal ARMA. All parameters except for variances will be set to zeros.\n",
      "  warn('Too few observations to estimate starting parameters%s.'\n"
     ]
    },
    {
     "name": "stdout",
     "output_type": "stream",
     "text": [
      "Completed for 0/288 MAE=0.15640540275839157,pdq=(2, 0, 2),seasonal PDQ=(1, 0, 1, 12)\n"
     ]
    },
    {
     "name": "stderr",
     "output_type": "stream",
     "text": [
      "C:\\Users\\sony\\anaconda3\\lib\\site-packages\\statsmodels\\base\\model.py:604: ConvergenceWarning: Maximum Likelihood optimization failed to converge. Check mle_retvals\n",
      "  warnings.warn(\"Maximum Likelihood optimization failed to \"\n"
     ]
    },
    {
     "name": "stdout",
     "output_type": "stream",
     "text": [
      "Completed for 0/288 MAE=0.2686291582449367,pdq=(2, 0, 2),seasonal PDQ=(1, 0, 2, 12)\n"
     ]
    },
    {
     "name": "stderr",
     "output_type": "stream",
     "text": [
      "C:\\Users\\sony\\anaconda3\\lib\\site-packages\\statsmodels\\base\\model.py:604: ConvergenceWarning: Maximum Likelihood optimization failed to converge. Check mle_retvals\n",
      "  warnings.warn(\"Maximum Likelihood optimization failed to \"\n"
     ]
    },
    {
     "name": "stdout",
     "output_type": "stream",
     "text": [
      "Completed for 0/288 MAE=0.1780282334385852,pdq=(2, 0, 2),seasonal PDQ=(2, 0, 0, 12)\n"
     ]
    },
    {
     "name": "stderr",
     "output_type": "stream",
     "text": [
      "C:\\Users\\sony\\anaconda3\\lib\\site-packages\\statsmodels\\base\\model.py:604: ConvergenceWarning: Maximum Likelihood optimization failed to converge. Check mle_retvals\n",
      "  warnings.warn(\"Maximum Likelihood optimization failed to \"\n",
      "C:\\Users\\sony\\anaconda3\\lib\\site-packages\\statsmodels\\tsa\\statespace\\sarimax.py:866: UserWarning: Too few observations to estimate starting parameters for seasonal ARMA. All parameters except for variances will be set to zeros.\n",
      "  warn('Too few observations to estimate starting parameters%s.'\n"
     ]
    },
    {
     "name": "stdout",
     "output_type": "stream",
     "text": [
      "Completed for 0/288 MAE=0.19529034224275807,pdq=(2, 0, 2),seasonal PDQ=(2, 0, 1, 12)\n"
     ]
    },
    {
     "name": "stderr",
     "output_type": "stream",
     "text": [
      "C:\\Users\\sony\\anaconda3\\lib\\site-packages\\statsmodels\\base\\model.py:604: ConvergenceWarning: Maximum Likelihood optimization failed to converge. Check mle_retvals\n",
      "  warnings.warn(\"Maximum Likelihood optimization failed to \"\n"
     ]
    },
    {
     "name": "stdout",
     "output_type": "stream",
     "text": [
      "Completed for 0/288 MAE=0.2910973993298799,pdq=(2, 0, 2),seasonal PDQ=(2, 0, 2, 12)\n",
      "Completed for 0/288 MAE=0.29775367332392594,pdq=(2, 0, 3),seasonal PDQ=(0, 0, 0, 12)\n"
     ]
    },
    {
     "name": "stderr",
     "output_type": "stream",
     "text": [
      "C:\\Users\\sony\\anaconda3\\lib\\site-packages\\statsmodels\\base\\model.py:604: ConvergenceWarning: Maximum Likelihood optimization failed to converge. Check mle_retvals\n",
      "  warnings.warn(\"Maximum Likelihood optimization failed to \"\n",
      "C:\\Users\\sony\\anaconda3\\lib\\site-packages\\statsmodels\\tsa\\statespace\\sarimax.py:866: UserWarning: Too few observations to estimate starting parameters for seasonal ARMA. All parameters except for variances will be set to zeros.\n",
      "  warn('Too few observations to estimate starting parameters%s.'\n"
     ]
    },
    {
     "name": "stdout",
     "output_type": "stream",
     "text": [
      "Completed for 0/288 MAE=33006899.27865589,pdq=(2, 0, 3),seasonal PDQ=(0, 0, 1, 12)\n"
     ]
    },
    {
     "name": "stderr",
     "output_type": "stream",
     "text": [
      "C:\\Users\\sony\\anaconda3\\lib\\site-packages\\statsmodels\\base\\model.py:604: ConvergenceWarning: Maximum Likelihood optimization failed to converge. Check mle_retvals\n",
      "  warnings.warn(\"Maximum Likelihood optimization failed to \"\n"
     ]
    },
    {
     "name": "stdout",
     "output_type": "stream",
     "text": [
      "Completed for 0/288 MAE=0.32052792871561603,pdq=(2, 0, 3),seasonal PDQ=(0, 0, 2, 12)\n",
      "Completed for 0/288 MAE=0.19269901537507472,pdq=(2, 0, 3),seasonal PDQ=(1, 0, 0, 12)\n"
     ]
    },
    {
     "name": "stderr",
     "output_type": "stream",
     "text": [
      "C:\\Users\\sony\\anaconda3\\lib\\site-packages\\statsmodels\\base\\model.py:604: ConvergenceWarning: Maximum Likelihood optimization failed to converge. Check mle_retvals\n",
      "  warnings.warn(\"Maximum Likelihood optimization failed to \"\n",
      "C:\\Users\\sony\\anaconda3\\lib\\site-packages\\statsmodels\\tsa\\statespace\\sarimax.py:866: UserWarning: Too few observations to estimate starting parameters for seasonal ARMA. All parameters except for variances will be set to zeros.\n",
      "  warn('Too few observations to estimate starting parameters%s.'\n"
     ]
    },
    {
     "name": "stdout",
     "output_type": "stream",
     "text": [
      "Completed for 0/288 MAE=0.15575061507415774,pdq=(2, 0, 3),seasonal PDQ=(1, 0, 1, 12)\n"
     ]
    },
    {
     "name": "stderr",
     "output_type": "stream",
     "text": [
      "C:\\Users\\sony\\anaconda3\\lib\\site-packages\\statsmodels\\base\\model.py:604: ConvergenceWarning: Maximum Likelihood optimization failed to converge. Check mle_retvals\n",
      "  warnings.warn(\"Maximum Likelihood optimization failed to \"\n"
     ]
    },
    {
     "name": "stdout",
     "output_type": "stream",
     "text": [
      "Completed for 0/288 MAE=0.22299207416856048,pdq=(2, 0, 3),seasonal PDQ=(1, 0, 2, 12)\n"
     ]
    },
    {
     "name": "stderr",
     "output_type": "stream",
     "text": [
      "C:\\Users\\sony\\anaconda3\\lib\\site-packages\\statsmodels\\base\\model.py:604: ConvergenceWarning: Maximum Likelihood optimization failed to converge. Check mle_retvals\n",
      "  warnings.warn(\"Maximum Likelihood optimization failed to \"\n"
     ]
    },
    {
     "name": "stdout",
     "output_type": "stream",
     "text": [
      "Completed for 0/288 MAE=0.20501727614789175,pdq=(2, 0, 3),seasonal PDQ=(2, 0, 0, 12)\n"
     ]
    },
    {
     "name": "stderr",
     "output_type": "stream",
     "text": [
      "C:\\Users\\sony\\anaconda3\\lib\\site-packages\\statsmodels\\base\\model.py:604: ConvergenceWarning: Maximum Likelihood optimization failed to converge. Check mle_retvals\n",
      "  warnings.warn(\"Maximum Likelihood optimization failed to \"\n",
      "C:\\Users\\sony\\anaconda3\\lib\\site-packages\\statsmodels\\tsa\\statespace\\sarimax.py:866: UserWarning: Too few observations to estimate starting parameters for seasonal ARMA. All parameters except for variances will be set to zeros.\n",
      "  warn('Too few observations to estimate starting parameters%s.'\n"
     ]
    },
    {
     "name": "stdout",
     "output_type": "stream",
     "text": [
      "Completed for 0/288 MAE=0.1955250632727438,pdq=(2, 0, 3),seasonal PDQ=(2, 0, 1, 12)\n"
     ]
    },
    {
     "name": "stderr",
     "output_type": "stream",
     "text": [
      "C:\\Users\\sony\\anaconda3\\lib\\site-packages\\statsmodels\\base\\model.py:604: ConvergenceWarning: Maximum Likelihood optimization failed to converge. Check mle_retvals\n",
      "  warnings.warn(\"Maximum Likelihood optimization failed to \"\n"
     ]
    },
    {
     "name": "stdout",
     "output_type": "stream",
     "text": [
      "Completed for 0/288 MAE=0.1863197288722813,pdq=(2, 0, 3),seasonal PDQ=(2, 0, 2, 12)\n",
      "Completed for 0/288 MAE=0.3033083539933383,pdq=(2, 1, 0),seasonal PDQ=(0, 0, 0, 12)\n"
     ]
    },
    {
     "name": "stderr",
     "output_type": "stream",
     "text": [
      "C:\\Users\\sony\\anaconda3\\lib\\site-packages\\statsmodels\\base\\model.py:604: ConvergenceWarning: Maximum Likelihood optimization failed to converge. Check mle_retvals\n",
      "  warnings.warn(\"Maximum Likelihood optimization failed to \"\n",
      "C:\\Users\\sony\\anaconda3\\lib\\site-packages\\statsmodels\\tsa\\statespace\\sarimax.py:866: UserWarning: Too few observations to estimate starting parameters for seasonal ARMA. All parameters except for variances will be set to zeros.\n",
      "  warn('Too few observations to estimate starting parameters%s.'\n"
     ]
    },
    {
     "name": "stdout",
     "output_type": "stream",
     "text": [
      "Completed for 0/288 MAE=16414900.529065365,pdq=(2, 1, 0),seasonal PDQ=(0, 0, 1, 12)\n",
      "Completed for 0/288 MAE=0.18013813122253916,pdq=(2, 1, 0),seasonal PDQ=(0, 0, 2, 12)\n",
      "Completed for 0/288 MAE=0.17137809129637058,pdq=(2, 1, 0),seasonal PDQ=(1, 0, 0, 12)\n"
     ]
    },
    {
     "name": "stderr",
     "output_type": "stream",
     "text": [
      "C:\\Users\\sony\\anaconda3\\lib\\site-packages\\statsmodels\\base\\model.py:604: ConvergenceWarning: Maximum Likelihood optimization failed to converge. Check mle_retvals\n",
      "  warnings.warn(\"Maximum Likelihood optimization failed to \"\n",
      "C:\\Users\\sony\\anaconda3\\lib\\site-packages\\statsmodels\\tsa\\statespace\\sarimax.py:866: UserWarning: Too few observations to estimate starting parameters for seasonal ARMA. All parameters except for variances will be set to zeros.\n",
      "  warn('Too few observations to estimate starting parameters%s.'\n"
     ]
    },
    {
     "name": "stdout",
     "output_type": "stream",
     "text": [
      "Completed for 0/288 MAE=2278661.9588478375,pdq=(2, 1, 0),seasonal PDQ=(1, 0, 1, 12)\n",
      "Completed for 0/288 MAE=0.19971379141881007,pdq=(2, 1, 0),seasonal PDQ=(1, 0, 2, 12)\n",
      "Completed for 0/288 MAE=0.14200022828664946,pdq=(2, 1, 0),seasonal PDQ=(2, 0, 0, 12)\n"
     ]
    },
    {
     "name": "stderr",
     "output_type": "stream",
     "text": [
      "C:\\Users\\sony\\anaconda3\\lib\\site-packages\\statsmodels\\base\\model.py:604: ConvergenceWarning: Maximum Likelihood optimization failed to converge. Check mle_retvals\n",
      "  warnings.warn(\"Maximum Likelihood optimization failed to \"\n",
      "C:\\Users\\sony\\anaconda3\\lib\\site-packages\\statsmodels\\tsa\\statespace\\sarimax.py:866: UserWarning: Too few observations to estimate starting parameters for seasonal ARMA. All parameters except for variances will be set to zeros.\n",
      "  warn('Too few observations to estimate starting parameters%s.'\n"
     ]
    },
    {
     "name": "stdout",
     "output_type": "stream",
     "text": [
      "Completed for 0/288 MAE=0.3569186261895942,pdq=(2, 1, 0),seasonal PDQ=(2, 0, 1, 12)\n",
      "Completed for 0/288 MAE=0.18504453736882298,pdq=(2, 1, 0),seasonal PDQ=(2, 0, 2, 12)\n",
      "Completed for 0/288 MAE=0.30068407242042827,pdq=(2, 1, 1),seasonal PDQ=(0, 0, 0, 12)\n"
     ]
    },
    {
     "name": "stderr",
     "output_type": "stream",
     "text": [
      "C:\\Users\\sony\\anaconda3\\lib\\site-packages\\statsmodels\\base\\model.py:604: ConvergenceWarning: Maximum Likelihood optimization failed to converge. Check mle_retvals\n",
      "  warnings.warn(\"Maximum Likelihood optimization failed to \"\n",
      "C:\\Users\\sony\\anaconda3\\lib\\site-packages\\statsmodels\\tsa\\statespace\\sarimax.py:866: UserWarning: Too few observations to estimate starting parameters for seasonal ARMA. All parameters except for variances will be set to zeros.\n",
      "  warn('Too few observations to estimate starting parameters%s.'\n"
     ]
    },
    {
     "name": "stdout",
     "output_type": "stream",
     "text": [
      "Completed for 0/288 MAE=33767.867506196206,pdq=(2, 1, 1),seasonal PDQ=(0, 0, 1, 12)\n",
      "Completed for 0/288 MAE=0.1902411338915325,pdq=(2, 1, 1),seasonal PDQ=(0, 0, 2, 12)\n",
      "Completed for 0/288 MAE=0.17264653178350306,pdq=(2, 1, 1),seasonal PDQ=(1, 0, 0, 12)\n"
     ]
    },
    {
     "name": "stderr",
     "output_type": "stream",
     "text": [
      "C:\\Users\\sony\\anaconda3\\lib\\site-packages\\statsmodels\\base\\model.py:604: ConvergenceWarning: Maximum Likelihood optimization failed to converge. Check mle_retvals\n",
      "  warnings.warn(\"Maximum Likelihood optimization failed to \"\n",
      "C:\\Users\\sony\\anaconda3\\lib\\site-packages\\statsmodels\\tsa\\statespace\\sarimax.py:866: UserWarning: Too few observations to estimate starting parameters for seasonal ARMA. All parameters except for variances will be set to zeros.\n",
      "  warn('Too few observations to estimate starting parameters%s.'\n"
     ]
    },
    {
     "name": "stdout",
     "output_type": "stream",
     "text": [
      "Completed for 0/288 MAE=68378673142.9696,pdq=(2, 1, 1),seasonal PDQ=(1, 0, 1, 12)\n"
     ]
    },
    {
     "name": "stderr",
     "output_type": "stream",
     "text": [
      "C:\\Users\\sony\\anaconda3\\lib\\site-packages\\statsmodels\\base\\model.py:604: ConvergenceWarning: Maximum Likelihood optimization failed to converge. Check mle_retvals\n",
      "  warnings.warn(\"Maximum Likelihood optimization failed to \"\n"
     ]
    },
    {
     "name": "stdout",
     "output_type": "stream",
     "text": [
      "Completed for 0/288 MAE=0.18547267265658615,pdq=(2, 1, 1),seasonal PDQ=(1, 0, 2, 12)\n",
      "Completed for 0/288 MAE=0.14063667203228572,pdq=(2, 1, 1),seasonal PDQ=(2, 0, 0, 12)\n"
     ]
    },
    {
     "name": "stderr",
     "output_type": "stream",
     "text": [
      "C:\\Users\\sony\\anaconda3\\lib\\site-packages\\statsmodels\\base\\model.py:604: ConvergenceWarning: Maximum Likelihood optimization failed to converge. Check mle_retvals\n",
      "  warnings.warn(\"Maximum Likelihood optimization failed to \"\n",
      "C:\\Users\\sony\\anaconda3\\lib\\site-packages\\statsmodels\\tsa\\statespace\\sarimax.py:866: UserWarning: Too few observations to estimate starting parameters for seasonal ARMA. All parameters except for variances will be set to zeros.\n",
      "  warn('Too few observations to estimate starting parameters%s.'\n"
     ]
    },
    {
     "name": "stdout",
     "output_type": "stream",
     "text": [
      "Completed for 0/288 MAE=0.3565542645458775,pdq=(2, 1, 1),seasonal PDQ=(2, 0, 1, 12)\n",
      "Completed for 0/288 MAE=0.1833692902559827,pdq=(2, 1, 1),seasonal PDQ=(2, 0, 2, 12)\n",
      "Completed for 0/288 MAE=0.29524941116960446,pdq=(2, 1, 2),seasonal PDQ=(0, 0, 0, 12)\n",
      "Completed for 0/288 MAE=513714836.98895097,pdq=(2, 1, 2),seasonal PDQ=(0, 0, 1, 12)\n"
     ]
    },
    {
     "name": "stderr",
     "output_type": "stream",
     "text": [
      "C:\\Users\\sony\\anaconda3\\lib\\site-packages\\statsmodels\\tsa\\statespace\\sarimax.py:866: UserWarning: Too few observations to estimate starting parameters for seasonal ARMA. All parameters except for variances will be set to zeros.\n",
      "  warn('Too few observations to estimate starting parameters%s.'\n"
     ]
    },
    {
     "name": "stdout",
     "output_type": "stream",
     "text": [
      "Completed for 0/288 MAE=0.14724563431974677,pdq=(2, 1, 2),seasonal PDQ=(0, 0, 2, 12)\n",
      "Completed for 0/288 MAE=0.1795159420223932,pdq=(2, 1, 2),seasonal PDQ=(1, 0, 0, 12)\n",
      "Completed for 0/288 MAE=103366744.31533907,pdq=(2, 1, 2),seasonal PDQ=(1, 0, 1, 12)\n"
     ]
    },
    {
     "name": "stderr",
     "output_type": "stream",
     "text": [
      "C:\\Users\\sony\\anaconda3\\lib\\site-packages\\statsmodels\\base\\model.py:604: ConvergenceWarning: Maximum Likelihood optimization failed to converge. Check mle_retvals\n",
      "  warnings.warn(\"Maximum Likelihood optimization failed to \"\n",
      "C:\\Users\\sony\\anaconda3\\lib\\site-packages\\statsmodels\\tsa\\statespace\\sarimax.py:866: UserWarning: Too few observations to estimate starting parameters for seasonal ARMA. All parameters except for variances will be set to zeros.\n",
      "  warn('Too few observations to estimate starting parameters%s.'\n",
      "C:\\Users\\sony\\anaconda3\\lib\\site-packages\\statsmodels\\base\\model.py:604: ConvergenceWarning: Maximum Likelihood optimization failed to converge. Check mle_retvals\n",
      "  warnings.warn(\"Maximum Likelihood optimization failed to \"\n"
     ]
    },
    {
     "name": "stdout",
     "output_type": "stream",
     "text": [
      "Completed for 0/288 MAE=0.18793567587153256,pdq=(2, 1, 2),seasonal PDQ=(1, 0, 2, 12)\n"
     ]
    },
    {
     "name": "stderr",
     "output_type": "stream",
     "text": [
      "C:\\Users\\sony\\anaconda3\\lib\\site-packages\\statsmodels\\base\\model.py:604: ConvergenceWarning: Maximum Likelihood optimization failed to converge. Check mle_retvals\n",
      "  warnings.warn(\"Maximum Likelihood optimization failed to \"\n"
     ]
    },
    {
     "name": "stdout",
     "output_type": "stream",
     "text": [
      "Completed for 0/288 MAE=0.20822128587954236,pdq=(2, 1, 2),seasonal PDQ=(2, 0, 0, 12)\n",
      "Completed for 0/288 MAE=0.35828294107321756,pdq=(2, 1, 2),seasonal PDQ=(2, 0, 1, 12)\n"
     ]
    },
    {
     "name": "stderr",
     "output_type": "stream",
     "text": [
      "C:\\Users\\sony\\anaconda3\\lib\\site-packages\\statsmodels\\tsa\\statespace\\sarimax.py:866: UserWarning: Too few observations to estimate starting parameters for seasonal ARMA. All parameters except for variances will be set to zeros.\n",
      "  warn('Too few observations to estimate starting parameters%s.'\n",
      "C:\\Users\\sony\\anaconda3\\lib\\site-packages\\statsmodels\\base\\model.py:604: ConvergenceWarning: Maximum Likelihood optimization failed to converge. Check mle_retvals\n",
      "  warnings.warn(\"Maximum Likelihood optimization failed to \"\n"
     ]
    },
    {
     "name": "stdout",
     "output_type": "stream",
     "text": [
      "Completed for 0/288 MAE=0.2929260185324069,pdq=(2, 1, 2),seasonal PDQ=(2, 0, 2, 12)\n",
      "Completed for 0/288 MAE=0.2954031755788661,pdq=(2, 1, 3),seasonal PDQ=(0, 0, 0, 12)\n"
     ]
    },
    {
     "name": "stderr",
     "output_type": "stream",
     "text": [
      "C:\\Users\\sony\\anaconda3\\lib\\site-packages\\statsmodels\\base\\model.py:604: ConvergenceWarning: Maximum Likelihood optimization failed to converge. Check mle_retvals\n",
      "  warnings.warn(\"Maximum Likelihood optimization failed to \"\n",
      "C:\\Users\\sony\\anaconda3\\lib\\site-packages\\statsmodels\\tsa\\statespace\\sarimax.py:866: UserWarning: Too few observations to estimate starting parameters for seasonal ARMA. All parameters except for variances will be set to zeros.\n",
      "  warn('Too few observations to estimate starting parameters%s.'\n"
     ]
    },
    {
     "name": "stdout",
     "output_type": "stream",
     "text": [
      "Completed for 0/288 MAE=18991769462.80147,pdq=(2, 1, 3),seasonal PDQ=(0, 0, 1, 12)\n",
      "Completed for 0/288 MAE=0.1683288232086173,pdq=(2, 1, 3),seasonal PDQ=(0, 0, 2, 12)\n",
      "Completed for 0/288 MAE=0.14539673572498032,pdq=(2, 1, 3),seasonal PDQ=(1, 0, 0, 12)\n"
     ]
    },
    {
     "name": "stderr",
     "output_type": "stream",
     "text": [
      "C:\\Users\\sony\\anaconda3\\lib\\site-packages\\statsmodels\\base\\model.py:604: ConvergenceWarning: Maximum Likelihood optimization failed to converge. Check mle_retvals\n",
      "  warnings.warn(\"Maximum Likelihood optimization failed to \"\n",
      "C:\\Users\\sony\\anaconda3\\lib\\site-packages\\statsmodels\\tsa\\statespace\\sarimax.py:866: UserWarning: Too few observations to estimate starting parameters for seasonal ARMA. All parameters except for variances will be set to zeros.\n",
      "  warn('Too few observations to estimate starting parameters%s.'\n"
     ]
    },
    {
     "name": "stdout",
     "output_type": "stream",
     "text": [
      "Completed for 0/288 MAE=6177872651.6580515,pdq=(2, 1, 3),seasonal PDQ=(1, 0, 1, 12)\n"
     ]
    },
    {
     "name": "stderr",
     "output_type": "stream",
     "text": [
      "C:\\Users\\sony\\anaconda3\\lib\\site-packages\\statsmodels\\base\\model.py:604: ConvergenceWarning: Maximum Likelihood optimization failed to converge. Check mle_retvals\n",
      "  warnings.warn(\"Maximum Likelihood optimization failed to \"\n"
     ]
    },
    {
     "name": "stdout",
     "output_type": "stream",
     "text": [
      "Completed for 0/288 MAE=0.23855063676203755,pdq=(2, 1, 3),seasonal PDQ=(1, 0, 2, 12)\n"
     ]
    },
    {
     "name": "stderr",
     "output_type": "stream",
     "text": [
      "C:\\Users\\sony\\anaconda3\\lib\\site-packages\\statsmodels\\base\\model.py:604: ConvergenceWarning: Maximum Likelihood optimization failed to converge. Check mle_retvals\n",
      "  warnings.warn(\"Maximum Likelihood optimization failed to \"\n"
     ]
    },
    {
     "name": "stdout",
     "output_type": "stream",
     "text": [
      "Completed for 0/288 MAE=0.12677673531997155,pdq=(2, 1, 3),seasonal PDQ=(2, 0, 0, 12)\n"
     ]
    },
    {
     "name": "stderr",
     "output_type": "stream",
     "text": [
      "C:\\Users\\sony\\anaconda3\\lib\\site-packages\\statsmodels\\base\\model.py:604: ConvergenceWarning: Maximum Likelihood optimization failed to converge. Check mle_retvals\n",
      "  warnings.warn(\"Maximum Likelihood optimization failed to \"\n",
      "C:\\Users\\sony\\anaconda3\\lib\\site-packages\\statsmodels\\tsa\\statespace\\sarimax.py:866: UserWarning: Too few observations to estimate starting parameters for seasonal ARMA. All parameters except for variances will be set to zeros.\n",
      "  warn('Too few observations to estimate starting parameters%s.'\n"
     ]
    },
    {
     "name": "stdout",
     "output_type": "stream",
     "text": [
      "Completed for 0/288 MAE=0.33059259349141285,pdq=(2, 1, 3),seasonal PDQ=(2, 0, 1, 12)\n"
     ]
    },
    {
     "name": "stderr",
     "output_type": "stream",
     "text": [
      "C:\\Users\\sony\\anaconda3\\lib\\site-packages\\statsmodels\\base\\model.py:604: ConvergenceWarning: Maximum Likelihood optimization failed to converge. Check mle_retvals\n",
      "  warnings.warn(\"Maximum Likelihood optimization failed to \"\n"
     ]
    },
    {
     "name": "stdout",
     "output_type": "stream",
     "text": [
      "Completed for 0/288 MAE=0.21853900710620974,pdq=(2, 1, 3),seasonal PDQ=(2, 0, 2, 12)\n",
      "Completed for 0/288 MAE=0.3486006777562835,pdq=(3, 0, 0),seasonal PDQ=(0, 0, 0, 12)\n"
     ]
    },
    {
     "name": "stderr",
     "output_type": "stream",
     "text": [
      "C:\\Users\\sony\\anaconda3\\lib\\site-packages\\statsmodels\\base\\model.py:604: ConvergenceWarning: Maximum Likelihood optimization failed to converge. Check mle_retvals\n",
      "  warnings.warn(\"Maximum Likelihood optimization failed to \"\n",
      "C:\\Users\\sony\\anaconda3\\lib\\site-packages\\statsmodels\\tsa\\statespace\\sarimax.py:866: UserWarning: Too few observations to estimate starting parameters for seasonal ARMA. All parameters except for variances will be set to zeros.\n",
      "  warn('Too few observations to estimate starting parameters%s.'\n"
     ]
    },
    {
     "name": "stdout",
     "output_type": "stream",
     "text": [
      "Completed for 0/288 MAE=7242148.734885566,pdq=(3, 0, 0),seasonal PDQ=(0, 0, 1, 12)\n",
      "Completed for 0/288 MAE=0.2056612811419709,pdq=(3, 0, 0),seasonal PDQ=(0, 0, 2, 12)\n",
      "Completed for 0/288 MAE=0.17726209551293318,pdq=(3, 0, 0),seasonal PDQ=(1, 0, 0, 12)\n",
      "Completed for 0/288 MAE=0.15431633161439104,pdq=(3, 0, 0),seasonal PDQ=(1, 0, 1, 12)\n"
     ]
    },
    {
     "name": "stderr",
     "output_type": "stream",
     "text": [
      "C:\\Users\\sony\\anaconda3\\lib\\site-packages\\statsmodels\\tsa\\statespace\\sarimax.py:866: UserWarning: Too few observations to estimate starting parameters for seasonal ARMA. All parameters except for variances will be set to zeros.\n",
      "  warn('Too few observations to estimate starting parameters%s.'\n"
     ]
    },
    {
     "name": "stdout",
     "output_type": "stream",
     "text": [
      "Completed for 0/288 MAE=0.20468421910155563,pdq=(3, 0, 0),seasonal PDQ=(1, 0, 2, 12)\n",
      "Completed for 0/288 MAE=0.17645593193560272,pdq=(3, 0, 0),seasonal PDQ=(2, 0, 0, 12)\n",
      "Completed for 0/288 MAE=0.20568424888211456,pdq=(3, 0, 0),seasonal PDQ=(2, 0, 1, 12)\n"
     ]
    },
    {
     "name": "stderr",
     "output_type": "stream",
     "text": [
      "C:\\Users\\sony\\anaconda3\\lib\\site-packages\\statsmodels\\tsa\\statespace\\sarimax.py:866: UserWarning: Too few observations to estimate starting parameters for seasonal ARMA. All parameters except for variances will be set to zeros.\n",
      "  warn('Too few observations to estimate starting parameters%s.'\n",
      "C:\\Users\\sony\\anaconda3\\lib\\site-packages\\statsmodels\\base\\model.py:604: ConvergenceWarning: Maximum Likelihood optimization failed to converge. Check mle_retvals\n",
      "  warnings.warn(\"Maximum Likelihood optimization failed to \"\n"
     ]
    },
    {
     "name": "stdout",
     "output_type": "stream",
     "text": [
      "Completed for 0/288 MAE=0.21050895455456978,pdq=(3, 0, 0),seasonal PDQ=(2, 0, 2, 12)\n",
      "Completed for 0/288 MAE=0.3472011714301775,pdq=(3, 0, 1),seasonal PDQ=(0, 0, 0, 12)\n"
     ]
    },
    {
     "name": "stderr",
     "output_type": "stream",
     "text": [
      "C:\\Users\\sony\\anaconda3\\lib\\site-packages\\statsmodels\\base\\model.py:604: ConvergenceWarning: Maximum Likelihood optimization failed to converge. Check mle_retvals\n",
      "  warnings.warn(\"Maximum Likelihood optimization failed to \"\n",
      "C:\\Users\\sony\\anaconda3\\lib\\site-packages\\statsmodels\\tsa\\statespace\\sarimax.py:866: UserWarning: Too few observations to estimate starting parameters for seasonal ARMA. All parameters except for variances will be set to zeros.\n",
      "  warn('Too few observations to estimate starting parameters%s.'\n"
     ]
    },
    {
     "name": "stdout",
     "output_type": "stream",
     "text": [
      "Completed for 0/288 MAE=36180105378090.01,pdq=(3, 0, 1),seasonal PDQ=(0, 0, 1, 12)\n",
      "Completed for 0/288 MAE=0.21421942561028798,pdq=(3, 0, 1),seasonal PDQ=(0, 0, 2, 12)\n",
      "Completed for 0/288 MAE=0.17842384110477114,pdq=(3, 0, 1),seasonal PDQ=(1, 0, 0, 12)\n",
      "Completed for 0/288 MAE=0.15450843197769967,pdq=(3, 0, 1),seasonal PDQ=(1, 0, 1, 12)\n"
     ]
    },
    {
     "name": "stderr",
     "output_type": "stream",
     "text": [
      "C:\\Users\\sony\\anaconda3\\lib\\site-packages\\statsmodels\\tsa\\statespace\\sarimax.py:866: UserWarning: Too few observations to estimate starting parameters for seasonal ARMA. All parameters except for variances will be set to zeros.\n",
      "  warn('Too few observations to estimate starting parameters%s.'\n",
      "C:\\Users\\sony\\anaconda3\\lib\\site-packages\\statsmodels\\base\\model.py:604: ConvergenceWarning: Maximum Likelihood optimization failed to converge. Check mle_retvals\n",
      "  warnings.warn(\"Maximum Likelihood optimization failed to \"\n"
     ]
    },
    {
     "name": "stdout",
     "output_type": "stream",
     "text": [
      "Completed for 0/288 MAE=0.1835593662425237,pdq=(3, 0, 1),seasonal PDQ=(1, 0, 2, 12)\n"
     ]
    },
    {
     "name": "stderr",
     "output_type": "stream",
     "text": [
      "C:\\Users\\sony\\anaconda3\\lib\\site-packages\\statsmodels\\base\\model.py:604: ConvergenceWarning: Maximum Likelihood optimization failed to converge. Check mle_retvals\n",
      "  warnings.warn(\"Maximum Likelihood optimization failed to \"\n"
     ]
    },
    {
     "name": "stdout",
     "output_type": "stream",
     "text": [
      "Completed for 0/288 MAE=0.2102871972842284,pdq=(3, 0, 1),seasonal PDQ=(2, 0, 0, 12)\n"
     ]
    },
    {
     "name": "stderr",
     "output_type": "stream",
     "text": [
      "C:\\Users\\sony\\anaconda3\\lib\\site-packages\\statsmodels\\base\\model.py:604: ConvergenceWarning: Maximum Likelihood optimization failed to converge. Check mle_retvals\n",
      "  warnings.warn(\"Maximum Likelihood optimization failed to \"\n",
      "C:\\Users\\sony\\anaconda3\\lib\\site-packages\\statsmodels\\tsa\\statespace\\sarimax.py:866: UserWarning: Too few observations to estimate starting parameters for seasonal ARMA. All parameters except for variances will be set to zeros.\n",
      "  warn('Too few observations to estimate starting parameters%s.'\n"
     ]
    },
    {
     "name": "stdout",
     "output_type": "stream",
     "text": [
      "Completed for 0/288 MAE=0.2051458545565494,pdq=(3, 0, 1),seasonal PDQ=(2, 0, 1, 12)\n"
     ]
    },
    {
     "name": "stderr",
     "output_type": "stream",
     "text": [
      "C:\\Users\\sony\\anaconda3\\lib\\site-packages\\statsmodels\\base\\model.py:604: ConvergenceWarning: Maximum Likelihood optimization failed to converge. Check mle_retvals\n",
      "  warnings.warn(\"Maximum Likelihood optimization failed to \"\n"
     ]
    },
    {
     "name": "stdout",
     "output_type": "stream",
     "text": [
      "Completed for 0/288 MAE=0.20093531409383045,pdq=(3, 0, 1),seasonal PDQ=(2, 0, 2, 12)\n",
      "Completed for 0/288 MAE=0.2970226446734006,pdq=(3, 0, 2),seasonal PDQ=(0, 0, 0, 12)\n"
     ]
    },
    {
     "name": "stderr",
     "output_type": "stream",
     "text": [
      "C:\\Users\\sony\\anaconda3\\lib\\site-packages\\statsmodels\\base\\model.py:604: ConvergenceWarning: Maximum Likelihood optimization failed to converge. Check mle_retvals\n",
      "  warnings.warn(\"Maximum Likelihood optimization failed to \"\n",
      "C:\\Users\\sony\\anaconda3\\lib\\site-packages\\statsmodels\\tsa\\statespace\\sarimax.py:866: UserWarning: Too few observations to estimate starting parameters for seasonal ARMA. All parameters except for variances will be set to zeros.\n",
      "  warn('Too few observations to estimate starting parameters%s.'\n"
     ]
    },
    {
     "name": "stdout",
     "output_type": "stream",
     "text": [
      "Completed for 0/288 MAE=2551386.262249742,pdq=(3, 0, 2),seasonal PDQ=(0, 0, 1, 12)\n"
     ]
    },
    {
     "name": "stderr",
     "output_type": "stream",
     "text": [
      "C:\\Users\\sony\\anaconda3\\lib\\site-packages\\statsmodels\\base\\model.py:604: ConvergenceWarning: Maximum Likelihood optimization failed to converge. Check mle_retvals\n",
      "  warnings.warn(\"Maximum Likelihood optimization failed to \"\n"
     ]
    },
    {
     "name": "stdout",
     "output_type": "stream",
     "text": [
      "Completed for 0/288 MAE=0.1733062479991497,pdq=(3, 0, 2),seasonal PDQ=(0, 0, 2, 12)\n"
     ]
    },
    {
     "name": "stderr",
     "output_type": "stream",
     "text": [
      "C:\\Users\\sony\\anaconda3\\lib\\site-packages\\statsmodels\\base\\model.py:604: ConvergenceWarning: Maximum Likelihood optimization failed to converge. Check mle_retvals\n",
      "  warnings.warn(\"Maximum Likelihood optimization failed to \"\n"
     ]
    },
    {
     "name": "stdout",
     "output_type": "stream",
     "text": [
      "Completed for 0/288 MAE=0.17297541724294507,pdq=(3, 0, 2),seasonal PDQ=(1, 0, 0, 12)\n"
     ]
    },
    {
     "name": "stderr",
     "output_type": "stream",
     "text": [
      "C:\\Users\\sony\\anaconda3\\lib\\site-packages\\statsmodels\\base\\model.py:604: ConvergenceWarning: Maximum Likelihood optimization failed to converge. Check mle_retvals\n",
      "  warnings.warn(\"Maximum Likelihood optimization failed to \"\n",
      "C:\\Users\\sony\\anaconda3\\lib\\site-packages\\statsmodels\\tsa\\statespace\\sarimax.py:866: UserWarning: Too few observations to estimate starting parameters for seasonal ARMA. All parameters except for variances will be set to zeros.\n",
      "  warn('Too few observations to estimate starting parameters%s.'\n"
     ]
    },
    {
     "name": "stdout",
     "output_type": "stream",
     "text": [
      "Completed for 0/288 MAE=0.1668764085419668,pdq=(3, 0, 2),seasonal PDQ=(1, 0, 1, 12)\n"
     ]
    },
    {
     "name": "stderr",
     "output_type": "stream",
     "text": [
      "C:\\Users\\sony\\anaconda3\\lib\\site-packages\\statsmodels\\base\\model.py:604: ConvergenceWarning: Maximum Likelihood optimization failed to converge. Check mle_retvals\n",
      "  warnings.warn(\"Maximum Likelihood optimization failed to \"\n"
     ]
    },
    {
     "name": "stdout",
     "output_type": "stream",
     "text": [
      "Completed for 0/288 MAE=0.2071858437119991,pdq=(3, 0, 2),seasonal PDQ=(1, 0, 2, 12)\n"
     ]
    },
    {
     "name": "stderr",
     "output_type": "stream",
     "text": [
      "C:\\Users\\sony\\anaconda3\\lib\\site-packages\\statsmodels\\base\\model.py:604: ConvergenceWarning: Maximum Likelihood optimization failed to converge. Check mle_retvals\n",
      "  warnings.warn(\"Maximum Likelihood optimization failed to \"\n"
     ]
    },
    {
     "name": "stdout",
     "output_type": "stream",
     "text": [
      "Completed for 0/288 MAE=0.18084263023707647,pdq=(3, 0, 2),seasonal PDQ=(2, 0, 0, 12)\n"
     ]
    },
    {
     "name": "stderr",
     "output_type": "stream",
     "text": [
      "C:\\Users\\sony\\anaconda3\\lib\\site-packages\\statsmodels\\base\\model.py:604: ConvergenceWarning: Maximum Likelihood optimization failed to converge. Check mle_retvals\n",
      "  warnings.warn(\"Maximum Likelihood optimization failed to \"\n",
      "C:\\Users\\sony\\anaconda3\\lib\\site-packages\\statsmodels\\tsa\\statespace\\sarimax.py:866: UserWarning: Too few observations to estimate starting parameters for seasonal ARMA. All parameters except for variances will be set to zeros.\n",
      "  warn('Too few observations to estimate starting parameters%s.'\n"
     ]
    },
    {
     "name": "stdout",
     "output_type": "stream",
     "text": [
      "Completed for 0/288 MAE=0.1820772806986357,pdq=(3, 0, 2),seasonal PDQ=(2, 0, 1, 12)\n"
     ]
    },
    {
     "name": "stderr",
     "output_type": "stream",
     "text": [
      "C:\\Users\\sony\\anaconda3\\lib\\site-packages\\statsmodels\\base\\model.py:604: ConvergenceWarning: Maximum Likelihood optimization failed to converge. Check mle_retvals\n",
      "  warnings.warn(\"Maximum Likelihood optimization failed to \"\n"
     ]
    },
    {
     "name": "stdout",
     "output_type": "stream",
     "text": [
      "Completed for 0/288 MAE=0.21412834633626157,pdq=(3, 0, 2),seasonal PDQ=(2, 0, 2, 12)\n"
     ]
    },
    {
     "name": "stderr",
     "output_type": "stream",
     "text": [
      "C:\\Users\\sony\\anaconda3\\lib\\site-packages\\statsmodels\\base\\model.py:604: ConvergenceWarning: Maximum Likelihood optimization failed to converge. Check mle_retvals\n",
      "  warnings.warn(\"Maximum Likelihood optimization failed to \"\n"
     ]
    },
    {
     "name": "stdout",
     "output_type": "stream",
     "text": [
      "Completed for 0/288 MAE=0.246522251194114,pdq=(3, 0, 3),seasonal PDQ=(0, 0, 0, 12)\n"
     ]
    },
    {
     "name": "stderr",
     "output_type": "stream",
     "text": [
      "C:\\Users\\sony\\anaconda3\\lib\\site-packages\\statsmodels\\base\\model.py:604: ConvergenceWarning: Maximum Likelihood optimization failed to converge. Check mle_retvals\n",
      "  warnings.warn(\"Maximum Likelihood optimization failed to \"\n",
      "C:\\Users\\sony\\anaconda3\\lib\\site-packages\\statsmodels\\tsa\\statespace\\sarimax.py:866: UserWarning: Too few observations to estimate starting parameters for seasonal ARMA. All parameters except for variances will be set to zeros.\n",
      "  warn('Too few observations to estimate starting parameters%s.'\n"
     ]
    },
    {
     "name": "stdout",
     "output_type": "stream",
     "text": [
      "Completed for 0/288 MAE=3.394098280056701e+79,pdq=(3, 0, 3),seasonal PDQ=(0, 0, 1, 12)\n"
     ]
    },
    {
     "name": "stderr",
     "output_type": "stream",
     "text": [
      "C:\\Users\\sony\\anaconda3\\lib\\site-packages\\statsmodels\\base\\model.py:604: ConvergenceWarning: Maximum Likelihood optimization failed to converge. Check mle_retvals\n",
      "  warnings.warn(\"Maximum Likelihood optimization failed to \"\n"
     ]
    },
    {
     "name": "stdout",
     "output_type": "stream",
     "text": [
      "Completed for 0/288 MAE=0.22596362403719825,pdq=(3, 0, 3),seasonal PDQ=(0, 0, 2, 12)\n"
     ]
    },
    {
     "name": "stderr",
     "output_type": "stream",
     "text": [
      "C:\\Users\\sony\\anaconda3\\lib\\site-packages\\statsmodels\\base\\model.py:604: ConvergenceWarning: Maximum Likelihood optimization failed to converge. Check mle_retvals\n",
      "  warnings.warn(\"Maximum Likelihood optimization failed to \"\n"
     ]
    },
    {
     "name": "stdout",
     "output_type": "stream",
     "text": [
      "Completed for 0/288 MAE=0.21297275527899315,pdq=(3, 0, 3),seasonal PDQ=(1, 0, 0, 12)\n"
     ]
    },
    {
     "name": "stderr",
     "output_type": "stream",
     "text": [
      "C:\\Users\\sony\\anaconda3\\lib\\site-packages\\statsmodels\\base\\model.py:604: ConvergenceWarning: Maximum Likelihood optimization failed to converge. Check mle_retvals\n",
      "  warnings.warn(\"Maximum Likelihood optimization failed to \"\n",
      "C:\\Users\\sony\\anaconda3\\lib\\site-packages\\statsmodels\\tsa\\statespace\\sarimax.py:866: UserWarning: Too few observations to estimate starting parameters for seasonal ARMA. All parameters except for variances will be set to zeros.\n",
      "  warn('Too few observations to estimate starting parameters%s.'\n"
     ]
    },
    {
     "name": "stdout",
     "output_type": "stream",
     "text": [
      "Completed for 0/288 MAE=0.17207298813412283,pdq=(3, 0, 3),seasonal PDQ=(1, 0, 1, 12)\n"
     ]
    },
    {
     "name": "stderr",
     "output_type": "stream",
     "text": [
      "C:\\Users\\sony\\anaconda3\\lib\\site-packages\\statsmodels\\base\\model.py:604: ConvergenceWarning: Maximum Likelihood optimization failed to converge. Check mle_retvals\n",
      "  warnings.warn(\"Maximum Likelihood optimization failed to \"\n"
     ]
    },
    {
     "name": "stdout",
     "output_type": "stream",
     "text": [
      "Completed for 0/288 MAE=0.2147575332138895,pdq=(3, 0, 3),seasonal PDQ=(1, 0, 2, 12)\n"
     ]
    },
    {
     "name": "stderr",
     "output_type": "stream",
     "text": [
      "C:\\Users\\sony\\anaconda3\\lib\\site-packages\\statsmodels\\base\\model.py:604: ConvergenceWarning: Maximum Likelihood optimization failed to converge. Check mle_retvals\n",
      "  warnings.warn(\"Maximum Likelihood optimization failed to \"\n"
     ]
    },
    {
     "name": "stdout",
     "output_type": "stream",
     "text": [
      "Completed for 0/288 MAE=0.23927036243997515,pdq=(3, 0, 3),seasonal PDQ=(2, 0, 0, 12)\n"
     ]
    },
    {
     "name": "stderr",
     "output_type": "stream",
     "text": [
      "C:\\Users\\sony\\anaconda3\\lib\\site-packages\\statsmodels\\base\\model.py:604: ConvergenceWarning: Maximum Likelihood optimization failed to converge. Check mle_retvals\n",
      "  warnings.warn(\"Maximum Likelihood optimization failed to \"\n",
      "C:\\Users\\sony\\anaconda3\\lib\\site-packages\\statsmodels\\tsa\\statespace\\sarimax.py:866: UserWarning: Too few observations to estimate starting parameters for seasonal ARMA. All parameters except for variances will be set to zeros.\n",
      "  warn('Too few observations to estimate starting parameters%s.'\n"
     ]
    },
    {
     "name": "stdout",
     "output_type": "stream",
     "text": [
      "Completed for 0/288 MAE=0.17947524951187346,pdq=(3, 0, 3),seasonal PDQ=(2, 0, 1, 12)\n"
     ]
    },
    {
     "name": "stderr",
     "output_type": "stream",
     "text": [
      "C:\\Users\\sony\\anaconda3\\lib\\site-packages\\statsmodels\\base\\model.py:604: ConvergenceWarning: Maximum Likelihood optimization failed to converge. Check mle_retvals\n",
      "  warnings.warn(\"Maximum Likelihood optimization failed to \"\n"
     ]
    },
    {
     "name": "stdout",
     "output_type": "stream",
     "text": [
      "Completed for 0/288 MAE=0.25967622895093206,pdq=(3, 0, 3),seasonal PDQ=(2, 0, 2, 12)\n",
      "Completed for 0/288 MAE=0.30191835470450185,pdq=(3, 1, 0),seasonal PDQ=(0, 0, 0, 12)\n"
     ]
    },
    {
     "name": "stderr",
     "output_type": "stream",
     "text": [
      "C:\\Users\\sony\\anaconda3\\lib\\site-packages\\statsmodels\\base\\model.py:604: ConvergenceWarning: Maximum Likelihood optimization failed to converge. Check mle_retvals\n",
      "  warnings.warn(\"Maximum Likelihood optimization failed to \"\n",
      "C:\\Users\\sony\\anaconda3\\lib\\site-packages\\statsmodels\\tsa\\statespace\\sarimax.py:866: UserWarning: Too few observations to estimate starting parameters for seasonal ARMA. All parameters except for variances will be set to zeros.\n",
      "  warn('Too few observations to estimate starting parameters%s.'\n"
     ]
    },
    {
     "name": "stdout",
     "output_type": "stream",
     "text": [
      "Completed for 0/288 MAE=16188.233744801197,pdq=(3, 1, 0),seasonal PDQ=(0, 0, 1, 12)\n",
      "Completed for 0/288 MAE=0.16577294781321358,pdq=(3, 1, 0),seasonal PDQ=(0, 0, 2, 12)\n",
      "Completed for 0/288 MAE=0.1837314579317472,pdq=(3, 1, 0),seasonal PDQ=(1, 0, 0, 12)\n"
     ]
    },
    {
     "name": "stderr",
     "output_type": "stream",
     "text": [
      "C:\\Users\\sony\\anaconda3\\lib\\site-packages\\statsmodels\\base\\model.py:604: ConvergenceWarning: Maximum Likelihood optimization failed to converge. Check mle_retvals\n",
      "  warnings.warn(\"Maximum Likelihood optimization failed to \"\n",
      "C:\\Users\\sony\\anaconda3\\lib\\site-packages\\statsmodels\\tsa\\statespace\\sarimax.py:866: UserWarning: Too few observations to estimate starting parameters for seasonal ARMA. All parameters except for variances will be set to zeros.\n",
      "  warn('Too few observations to estimate starting parameters%s.'\n"
     ]
    },
    {
     "name": "stdout",
     "output_type": "stream",
     "text": [
      "Completed for 0/288 MAE=548378.2295687428,pdq=(3, 1, 0),seasonal PDQ=(1, 0, 1, 12)\n",
      "Completed for 0/288 MAE=0.20571004116354966,pdq=(3, 1, 0),seasonal PDQ=(1, 0, 2, 12)\n",
      "Completed for 0/288 MAE=0.13977910656427098,pdq=(3, 1, 0),seasonal PDQ=(2, 0, 0, 12)\n"
     ]
    },
    {
     "name": "stderr",
     "output_type": "stream",
     "text": [
      "C:\\Users\\sony\\anaconda3\\lib\\site-packages\\statsmodels\\base\\model.py:604: ConvergenceWarning: Maximum Likelihood optimization failed to converge. Check mle_retvals\n",
      "  warnings.warn(\"Maximum Likelihood optimization failed to \"\n",
      "C:\\Users\\sony\\anaconda3\\lib\\site-packages\\statsmodels\\tsa\\statespace\\sarimax.py:866: UserWarning: Too few observations to estimate starting parameters for seasonal ARMA. All parameters except for variances will be set to zeros.\n",
      "  warn('Too few observations to estimate starting parameters%s.'\n"
     ]
    },
    {
     "name": "stdout",
     "output_type": "stream",
     "text": [
      "Completed for 0/288 MAE=0.35654921351488505,pdq=(3, 1, 0),seasonal PDQ=(2, 0, 1, 12)\n",
      "Completed for 0/288 MAE=0.18209016538488385,pdq=(3, 1, 0),seasonal PDQ=(2, 0, 2, 12)\n",
      "Completed for 0/288 MAE=0.2884770919793769,pdq=(3, 1, 1),seasonal PDQ=(0, 0, 0, 12)\n",
      "Completed for 0/288 MAE=2062042284265.2942,pdq=(3, 1, 1),seasonal PDQ=(0, 0, 1, 12)\n"
     ]
    },
    {
     "name": "stderr",
     "output_type": "stream",
     "text": [
      "C:\\Users\\sony\\anaconda3\\lib\\site-packages\\statsmodels\\tsa\\statespace\\sarimax.py:866: UserWarning: Too few observations to estimate starting parameters for seasonal ARMA. All parameters except for variances will be set to zeros.\n",
      "  warn('Too few observations to estimate starting parameters%s.'\n"
     ]
    },
    {
     "name": "stdout",
     "output_type": "stream",
     "text": [
      "Completed for 0/288 MAE=0.18498676177625928,pdq=(3, 1, 1),seasonal PDQ=(0, 0, 2, 12)\n",
      "Completed for 0/288 MAE=0.1724395244985366,pdq=(3, 1, 1),seasonal PDQ=(1, 0, 0, 12)\n"
     ]
    },
    {
     "name": "stderr",
     "output_type": "stream",
     "text": [
      "C:\\Users\\sony\\anaconda3\\lib\\site-packages\\statsmodels\\base\\model.py:604: ConvergenceWarning: Maximum Likelihood optimization failed to converge. Check mle_retvals\n",
      "  warnings.warn(\"Maximum Likelihood optimization failed to \"\n",
      "C:\\Users\\sony\\anaconda3\\lib\\site-packages\\statsmodels\\tsa\\statespace\\sarimax.py:866: UserWarning: Too few observations to estimate starting parameters for seasonal ARMA. All parameters except for variances will be set to zeros.\n",
      "  warn('Too few observations to estimate starting parameters%s.'\n"
     ]
    },
    {
     "name": "stdout",
     "output_type": "stream",
     "text": [
      "Completed for 0/288 MAE=34678161.97665019,pdq=(3, 1, 1),seasonal PDQ=(1, 0, 1, 12)\n",
      "Completed for 0/288 MAE=0.19787889806753203,pdq=(3, 1, 1),seasonal PDQ=(1, 0, 2, 12)\n",
      "Completed for 0/288 MAE=0.14128458306811845,pdq=(3, 1, 1),seasonal PDQ=(2, 0, 0, 12)\n"
     ]
    },
    {
     "name": "stderr",
     "output_type": "stream",
     "text": [
      "C:\\Users\\sony\\anaconda3\\lib\\site-packages\\statsmodels\\base\\model.py:604: ConvergenceWarning: Maximum Likelihood optimization failed to converge. Check mle_retvals\n",
      "  warnings.warn(\"Maximum Likelihood optimization failed to \"\n",
      "C:\\Users\\sony\\anaconda3\\lib\\site-packages\\statsmodels\\tsa\\statespace\\sarimax.py:866: UserWarning: Too few observations to estimate starting parameters for seasonal ARMA. All parameters except for variances will be set to zeros.\n",
      "  warn('Too few observations to estimate starting parameters%s.'\n"
     ]
    },
    {
     "name": "stdout",
     "output_type": "stream",
     "text": [
      "Completed for 0/288 MAE=0.35658553867603465,pdq=(3, 1, 1),seasonal PDQ=(2, 0, 1, 12)\n",
      "Completed for 0/288 MAE=0.16503873738774497,pdq=(3, 1, 1),seasonal PDQ=(2, 0, 2, 12)\n",
      "Completed for 0/288 MAE=0.2858495051856954,pdq=(3, 1, 2),seasonal PDQ=(0, 0, 0, 12)\n"
     ]
    },
    {
     "name": "stderr",
     "output_type": "stream",
     "text": [
      "C:\\Users\\sony\\anaconda3\\lib\\site-packages\\statsmodels\\base\\model.py:604: ConvergenceWarning: Maximum Likelihood optimization failed to converge. Check mle_retvals\n",
      "  warnings.warn(\"Maximum Likelihood optimization failed to \"\n",
      "C:\\Users\\sony\\anaconda3\\lib\\site-packages\\statsmodels\\tsa\\statespace\\sarimax.py:866: UserWarning: Too few observations to estimate starting parameters for seasonal ARMA. All parameters except for variances will be set to zeros.\n",
      "  warn('Too few observations to estimate starting parameters%s.'\n"
     ]
    },
    {
     "name": "stdout",
     "output_type": "stream",
     "text": [
      "Completed for 0/288 MAE=2539793445314953.5,pdq=(3, 1, 2),seasonal PDQ=(0, 0, 1, 12)\n",
      "Completed for 0/288 MAE=0.1601602159575397,pdq=(3, 1, 2),seasonal PDQ=(0, 0, 2, 12)\n",
      "Completed for 0/288 MAE=0.17313831877894434,pdq=(3, 1, 2),seasonal PDQ=(1, 0, 0, 12)\n",
      "Completed for 0/288 MAE=2945832782656283.0,pdq=(3, 1, 2),seasonal PDQ=(1, 0, 1, 12)\n"
     ]
    },
    {
     "name": "stderr",
     "output_type": "stream",
     "text": [
      "C:\\Users\\sony\\anaconda3\\lib\\site-packages\\statsmodels\\tsa\\statespace\\sarimax.py:866: UserWarning: Too few observations to estimate starting parameters for seasonal ARMA. All parameters except for variances will be set to zeros.\n",
      "  warn('Too few observations to estimate starting parameters%s.'\n",
      "C:\\Users\\sony\\anaconda3\\lib\\site-packages\\statsmodels\\base\\model.py:604: ConvergenceWarning: Maximum Likelihood optimization failed to converge. Check mle_retvals\n",
      "  warnings.warn(\"Maximum Likelihood optimization failed to \"\n"
     ]
    },
    {
     "name": "stdout",
     "output_type": "stream",
     "text": [
      "Completed for 0/288 MAE=0.19494358561481873,pdq=(3, 1, 2),seasonal PDQ=(1, 0, 2, 12)\n",
      "Completed for 0/288 MAE=0.14130846766860014,pdq=(3, 1, 2),seasonal PDQ=(2, 0, 0, 12)\n"
     ]
    },
    {
     "name": "stderr",
     "output_type": "stream",
     "text": [
      "C:\\Users\\sony\\anaconda3\\lib\\site-packages\\statsmodels\\base\\model.py:604: ConvergenceWarning: Maximum Likelihood optimization failed to converge. Check mle_retvals\n",
      "  warnings.warn(\"Maximum Likelihood optimization failed to \"\n",
      "C:\\Users\\sony\\anaconda3\\lib\\site-packages\\statsmodels\\tsa\\statespace\\sarimax.py:866: UserWarning: Too few observations to estimate starting parameters for seasonal ARMA. All parameters except for variances will be set to zeros.\n",
      "  warn('Too few observations to estimate starting parameters%s.'\n"
     ]
    },
    {
     "name": "stdout",
     "output_type": "stream",
     "text": [
      "Completed for 0/288 MAE=1807875083612569.0,pdq=(3, 1, 2),seasonal PDQ=(2, 0, 1, 12)\n"
     ]
    },
    {
     "name": "stderr",
     "output_type": "stream",
     "text": [
      "C:\\Users\\sony\\anaconda3\\lib\\site-packages\\statsmodels\\base\\model.py:604: ConvergenceWarning: Maximum Likelihood optimization failed to converge. Check mle_retvals\n",
      "  warnings.warn(\"Maximum Likelihood optimization failed to \"\n"
     ]
    },
    {
     "name": "stdout",
     "output_type": "stream",
     "text": [
      "Completed for 0/288 MAE=0.30776859376747046,pdq=(3, 1, 2),seasonal PDQ=(2, 0, 2, 12)\n",
      "Completed for 0/288 MAE=0.238503959678394,pdq=(3, 1, 3),seasonal PDQ=(0, 0, 0, 12)\n"
     ]
    },
    {
     "name": "stderr",
     "output_type": "stream",
     "text": [
      "C:\\Users\\sony\\anaconda3\\lib\\site-packages\\statsmodels\\base\\model.py:604: ConvergenceWarning: Maximum Likelihood optimization failed to converge. Check mle_retvals\n",
      "  warnings.warn(\"Maximum Likelihood optimization failed to \"\n",
      "C:\\Users\\sony\\anaconda3\\lib\\site-packages\\statsmodels\\tsa\\statespace\\sarimax.py:866: UserWarning: Too few observations to estimate starting parameters for seasonal ARMA. All parameters except for variances will be set to zeros.\n",
      "  warn('Too few observations to estimate starting parameters%s.'\n"
     ]
    },
    {
     "name": "stdout",
     "output_type": "stream",
     "text": [
      "Completed for 0/288 MAE=467965335521.9981,pdq=(3, 1, 3),seasonal PDQ=(0, 0, 1, 12)\n"
     ]
    },
    {
     "name": "stderr",
     "output_type": "stream",
     "text": [
      "C:\\Users\\sony\\anaconda3\\lib\\site-packages\\statsmodels\\base\\model.py:604: ConvergenceWarning: Maximum Likelihood optimization failed to converge. Check mle_retvals\n",
      "  warnings.warn(\"Maximum Likelihood optimization failed to \"\n"
     ]
    },
    {
     "name": "stdout",
     "output_type": "stream",
     "text": [
      "Completed for 0/288 MAE=0.11925797527556899,pdq=(3, 1, 3),seasonal PDQ=(0, 0, 2, 12)\n"
     ]
    },
    {
     "name": "stderr",
     "output_type": "stream",
     "text": [
      "C:\\Users\\sony\\anaconda3\\lib\\site-packages\\statsmodels\\base\\model.py:604: ConvergenceWarning: Maximum Likelihood optimization failed to converge. Check mle_retvals\n",
      "  warnings.warn(\"Maximum Likelihood optimization failed to \"\n",
      "C:\\Users\\sony\\anaconda3\\lib\\site-packages\\statsmodels\\tsa\\statespace\\sarimax.py:866: UserWarning: Too few observations to estimate starting parameters for seasonal ARMA. All parameters except for variances will be set to zeros.\n",
      "  warn('Too few observations to estimate starting parameters%s.'\n"
     ]
    },
    {
     "name": "stdout",
     "output_type": "stream",
     "text": [
      "Completed for 0/288 MAE=0.14739344680455008,pdq=(3, 1, 3),seasonal PDQ=(1, 0, 0, 12)\n",
      "Completed for 0/288 MAE=808425706.6816052,pdq=(3, 1, 3),seasonal PDQ=(1, 0, 1, 12)\n"
     ]
    },
    {
     "name": "stderr",
     "output_type": "stream",
     "text": [
      "C:\\Users\\sony\\anaconda3\\lib\\site-packages\\statsmodels\\base\\model.py:604: ConvergenceWarning: Maximum Likelihood optimization failed to converge. Check mle_retvals\n",
      "  warnings.warn(\"Maximum Likelihood optimization failed to \"\n"
     ]
    },
    {
     "name": "stdout",
     "output_type": "stream",
     "text": [
      "Completed for 0/288 MAE=0.21204029914781172,pdq=(3, 1, 3),seasonal PDQ=(1, 0, 2, 12)\n"
     ]
    },
    {
     "name": "stderr",
     "output_type": "stream",
     "text": [
      "C:\\Users\\sony\\anaconda3\\lib\\site-packages\\statsmodels\\base\\model.py:604: ConvergenceWarning: Maximum Likelihood optimization failed to converge. Check mle_retvals\n",
      "  warnings.warn(\"Maximum Likelihood optimization failed to \"\n"
     ]
    },
    {
     "name": "stdout",
     "output_type": "stream",
     "text": [
      "Completed for 0/288 MAE=0.4637777582777682,pdq=(3, 1, 3),seasonal PDQ=(2, 0, 0, 12)\n"
     ]
    },
    {
     "name": "stderr",
     "output_type": "stream",
     "text": [
      "C:\\Users\\sony\\anaconda3\\lib\\site-packages\\statsmodels\\base\\model.py:604: ConvergenceWarning: Maximum Likelihood optimization failed to converge. Check mle_retvals\n",
      "  warnings.warn(\"Maximum Likelihood optimization failed to \"\n",
      "C:\\Users\\sony\\anaconda3\\lib\\site-packages\\statsmodels\\tsa\\statespace\\sarimax.py:866: UserWarning: Too few observations to estimate starting parameters for seasonal ARMA. All parameters except for variances will be set to zeros.\n",
      "  warn('Too few observations to estimate starting parameters%s.'\n"
     ]
    },
    {
     "name": "stdout",
     "output_type": "stream",
     "text": [
      "Completed for 0/288 MAE=0.5961538298206163,pdq=(3, 1, 3),seasonal PDQ=(2, 0, 1, 12)\n",
      "Completed for 0/288 MAE=0.2591799976267579,pdq=(3, 1, 3),seasonal PDQ=(2, 0, 2, 12)\n"
     ]
    },
    {
     "name": "stderr",
     "output_type": "stream",
     "text": [
      "C:\\Users\\sony\\anaconda3\\lib\\site-packages\\statsmodels\\base\\model.py:604: ConvergenceWarning: Maximum Likelihood optimization failed to converge. Check mle_retvals\n",
      "  warnings.warn(\"Maximum Likelihood optimization failed to \"\n"
     ]
    }
   ],
   "source": [
    "# Generate all different combinations of p,d and q triplets\n",
    "p=[0,1,2,3]\n",
    "d=[0,1]\n",
    "q=[0,1,2,3]\n",
    "P=[0,1,2]\n",
    "D=[0]\n",
    "Q=[0,1,2]\n",
    "\n",
    "pdq = list(itertools.product(p,d,q))\n",
    "# Generate all different combination of seasonal p,d and q triplets\n",
    "seasonal_pdq=[(x[0],x[1],x[2],12) for x in list(itertools.product(P,D,Q))]\n",
    "\n",
    "count=0\n",
    "\n",
    "best_pdq = None\n",
    "best_seasonal_sdq = None\n",
    "best_results = 1651189484316518\n",
    "\n",
    "for i in pdq:\n",
    "    for j in seasonal_pdq:\n",
    "        model1 = sm.tsa.statespace.SARIMAX(train,order=i,seasonal_order=j,\n",
    "                                          enforce_stationarity=False,\n",
    "                                          enforce_invertibility=False).fit()\n",
    "        ftest=model1.forecast(6)\n",
    "        mae=np.mean(abs(test-ftest)/test)\n",
    "        print(f'Completed for {count}/288 MAE={mae},pdq={i},seasonal PDQ={j}')\n",
    "        if best_results > mae :\n",
    "            best_results=mae\n",
    "            best_pdq=i\n",
    "            best_seasonal_pdq=j"
   ]
  },
  {
   "cell_type": "code",
   "execution_count": 90,
   "id": "3e4c1d73",
   "metadata": {
    "scrolled": true
   },
   "outputs": [],
   "source": [
    "# seasonal_pdq"
   ]
  },
  {
   "cell_type": "code",
   "execution_count": 96,
   "id": "f08075e6",
   "metadata": {},
   "outputs": [
    {
     "data": {
      "text/plain": [
       "0.11268570103269739"
      ]
     },
     "execution_count": 96,
     "metadata": {},
     "output_type": "execute_result"
    }
   ],
   "source": [
    "best_results"
   ]
  },
  {
   "cell_type": "code",
   "execution_count": 97,
   "id": "d3ab211e",
   "metadata": {},
   "outputs": [
    {
     "data": {
      "text/plain": [
       "(1, 1, 3)"
      ]
     },
     "execution_count": 97,
     "metadata": {},
     "output_type": "execute_result"
    }
   ],
   "source": [
    "best_pdq"
   ]
  },
  {
   "cell_type": "code",
   "execution_count": 98,
   "id": "96be8ea4",
   "metadata": {},
   "outputs": [
    {
     "data": {
      "text/plain": [
       "(2, 0, 0, 12)"
      ]
     },
     "execution_count": 98,
     "metadata": {},
     "output_type": "execute_result"
    }
   ],
   "source": [
    "best_seasonal_pdq"
   ]
  },
  {
   "cell_type": "code",
   "execution_count": 101,
   "id": "21d950f1",
   "metadata": {},
   "outputs": [],
   "source": [
    "import statsmodels.api as sm\n",
    "# here in function order = (p,d,q)\n",
    "# seasonal_order=(P,D,Q,period)\n",
    "model1 = sm.tsa.statespace.SARIMAX(train,order=(1,1,3),seasonal_order=(2,0,0,12),\n",
    "                                                      enforce_stationarity=False,\n",
    "                                                      enforce_invertibility=False).fit()"
   ]
  },
  {
   "cell_type": "code",
   "execution_count": 102,
   "id": "d61f70b4",
   "metadata": {},
   "outputs": [
    {
     "data": {
      "text/plain": [
       "2017-07-01     649.984110\n",
       "2017-08-01     718.670505\n",
       "2017-09-01    1173.961379\n",
       "2017-10-01     665.116073\n",
       "2017-11-01    1215.908274\n",
       "2017-12-01    1306.981645\n",
       "Freq: MS, Name: predicted_mean, dtype: float64"
      ]
     },
     "execution_count": 102,
     "metadata": {},
     "output_type": "execute_result"
    }
   ],
   "source": [
    "model1.forecast(6)"
   ]
  },
  {
   "cell_type": "code",
   "execution_count": 103,
   "id": "998e5dac",
   "metadata": {},
   "outputs": [
    {
     "data": {
      "text/plain": [
       "order_date\n",
       "2017-06-01     826.460291\n",
       "2017-07-01     562.524857\n",
       "2017-08-01     857.881889\n",
       "2017-09-01    1209.508583\n",
       "2017-10-01     875.362728\n",
       "2017-11-01    1277.817759\n",
       "2017-12-01    1256.298672\n",
       "Freq: MS, Name: Sales, dtype: float64"
      ]
     },
     "execution_count": 103,
     "metadata": {},
     "output_type": "execute_result"
    }
   ],
   "source": [
    "test"
   ]
  },
  {
   "cell_type": "code",
   "execution_count": null,
   "id": "fd502d38",
   "metadata": {},
   "outputs": [],
   "source": [
    "# import sys\n",
    "# import itertools\n",
    "# import warnings\n",
    "\n",
    "# def auto_arima(timeseries=)"
   ]
  },
  {
   "cell_type": "code",
   "execution_count": null,
   "id": "6c37d204",
   "metadata": {},
   "outputs": [],
   "source": [
    "# plot the forecast along with the confidence band\n",
    "axis = train.plot(label='Observed',figsize=(15,6))\n",
    "ftest\n"
   ]
  },
  {
   "cell_type": "code",
   "execution_count": 105,
   "id": "e36d2092",
   "metadata": {},
   "outputs": [
    {
     "name": "stdout",
     "output_type": "stream",
     "text": [
      "Performing stepwise search to minimize aic\n",
      " ARIMA(1,1,1)(1,1,1)[12]             : AIC=inf, Time=0.71 sec\n",
      " ARIMA(0,1,0)(0,1,0)[12]             : AIC=501.192, Time=0.04 sec\n",
      " ARIMA(1,1,0)(1,1,0)[12]             : AIC=491.854, Time=0.15 sec\n",
      " ARIMA(0,1,1)(0,1,1)[12]             : AIC=inf, Time=0.31 sec\n",
      " ARIMA(1,1,0)(0,1,0)[12]             : AIC=494.311, Time=0.03 sec\n",
      " ARIMA(1,1,0)(2,1,0)[12]             : AIC=492.729, Time=0.39 sec\n",
      " ARIMA(1,1,0)(1,1,1)[12]             : AIC=inf, Time=0.51 sec\n",
      " ARIMA(1,1,0)(0,1,1)[12]             : AIC=490.624, Time=0.27 sec\n",
      " ARIMA(1,1,0)(0,1,2)[12]             : AIC=inf, Time=0.93 sec\n",
      " ARIMA(1,1,0)(1,1,2)[12]             : AIC=inf, Time=1.31 sec\n",
      " ARIMA(0,1,0)(0,1,1)[12]             : AIC=498.221, Time=0.21 sec\n",
      " ARIMA(2,1,0)(0,1,1)[12]             : AIC=inf, Time=0.44 sec\n",
      " ARIMA(1,1,1)(0,1,1)[12]             : AIC=inf, Time=0.40 sec\n",
      " ARIMA(2,1,1)(0,1,1)[12]             : AIC=inf, Time=0.64 sec\n",
      " ARIMA(1,1,0)(0,1,1)[12] intercept   : AIC=492.535, Time=0.41 sec\n",
      "\n",
      "Best model:  ARIMA(1,1,0)(0,1,1)[12]          \n",
      "Total fit time: 6.772 seconds\n",
      "490.62427514880056\n"
     ]
    }
   ],
   "source": [
    "# it is auto arima ,it is also faster\n",
    "from pmdarima  import auto_arima\n",
    "\n",
    "stepwise_model =  auto_arima(Yt_data2,\n",
    "                            start_p=1,start_q=1,\n",
    "                            max_p=5,max_q=4,m=12,\n",
    "                            start_P=1,max_P=3,seasonal=True,\n",
    "                            d=1,D=1,max_d=3,max_D=3,trace=True,\n",
    "                            error_action='ignore',\n",
    "                            suppress_warninings=True,\n",
    "                            stepwise=True,scoring='mae')\n",
    "print(stepwise_model.aic())"
   ]
  },
  {
   "cell_type": "code",
   "execution_count": null,
   "id": "785d72be",
   "metadata": {},
   "outputs": [],
   "source": [
    "\n"
   ]
  }
 ],
 "metadata": {
  "kernelspec": {
   "display_name": "Python 3 (ipykernel)",
   "language": "python",
   "name": "python3"
  },
  "language_info": {
   "codemirror_mode": {
    "name": "ipython",
    "version": 3
   },
   "file_extension": ".py",
   "mimetype": "text/x-python",
   "name": "python",
   "nbconvert_exporter": "python",
   "pygments_lexer": "ipython3",
   "version": "3.9.12"
  }
 },
 "nbformat": 4,
 "nbformat_minor": 5
}
